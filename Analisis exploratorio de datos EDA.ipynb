{
 "cells": [
  {
   "cell_type": "markdown",
   "id": "c0486f5f",
   "metadata": {},
   "source": [
    "¡Hola!\n",
    "\n",
    "Mi nombre es Tonatiuh Cruz. Me complace revisar tu proyecto hoy.\n",
    "\n",
    "Al identificar cualquier error inicialmente, simplemente los destacaré. Te animo a localizar y abordar los problemas de forma independiente como parte de tu preparación para un rol como data-scientist. En un entorno profesional, tu líder de equipo seguiría un enfoque similar. Si encuentras la tarea desafiante, proporcionaré una pista más específica en la próxima iteración.\n",
    "\n",
    "Encontrarás mis comentarios a continuación - **por favor no los muevas, modifiques o elimines**.\n",
    "\n",
    "Puedes encontrar mis comentarios en cajas verdes, amarillas o rojas como esta:\n",
    "\n",
    "<div class=\"alert alert-block alert-success\">\n",
    "<b>Comentario del revisor</b> <a class=\"tocSkip\"></a>\n",
    "\n",
    "Éxito. Todo está hecho correctamente.\n",
    "</div>\n",
    "\n",
    "<div class=\"alert alert-block alert-warning\">\n",
    "<b>Comentario del revisor</b> <a class=\"tocSkip\"></a>\n",
    "\n",
    "Observaciones. Algunas recomendaciones.\n",
    "</div>\n",
    "\n",
    "<div class=\"alert alert-block alert-danger\">\n",
    "<b>Comentario del revisor</b> <a class=\"tocSkip\"></a>\n",
    "\n",
    "Necesita corrección. El bloque requiere algunas correcciones. El trabajo no puede ser aceptado con comentarios en rojo.\n",
    "</div>\n",
    "\n",
    "Puedes responderme utilizando esto:\n",
    "\n",
    "<div class=\"alert alert-block alert-info\">\n",
    "<b>Respuesta del estudiante.</b> <a class=\"tocSkip\"></a>\n",
    "</div>"
   ]
  },
  {
   "cell_type": "markdown",
   "id": "3Xg_RQfnafXz",
   "metadata": {
    "id": "3Xg_RQfnafXz"
   },
   "source": [
    "# ¡Llena ese carrito!"
   ]
  },
  {
   "cell_type": "markdown",
   "id": "mhIvmmkW414q",
   "metadata": {
    "id": "mhIvmmkW414q"
   },
   "source": [
    "# Introducción\n",
    "\n",
    "Instacart es una plataforma de entregas de comestibles donde la clientela puede registrar un pedido y hacer que se lo entreguen, similar a Uber Eats y Door Dash.\n",
    "El conjunto de datos que te hemos proporcionado tiene modificaciones del original. Redujimos el tamaño del conjunto para que tus cálculos se hicieran más rápido e introdujimos valores ausentes y duplicados. Tuvimos cuidado de conservar las distribuciones de los datos originales cuando hicimos los cambios.\n",
    "\n",
    "Debes completar tres pasos. Para cada uno de ellos, escribe una breve introducción que refleje con claridad cómo pretendes resolver cada paso, y escribe párrafos explicatorios que justifiquen tus decisiones al tiempo que avanzas en tu solución.  También escribe una conclusión que resuma tus hallazgos y elecciones.\n"
   ]
  },
  {
   "cell_type": "markdown",
   "id": "3MbyzpOQZ5Or",
   "metadata": {
    "id": "3MbyzpOQZ5Or"
   },
   "source": [
    "## Diccionario de datos\n",
    "\n",
    "Hay cinco tablas en el conjunto de datos, y tendrás que usarlas todas para hacer el preprocesamiento de datos y el análisis exploratorio de datos. A continuación se muestra un diccionario de datos que enumera las columnas de cada tabla y describe los datos que contienen.\n",
    "\n",
    "- `instacart_orders.csv`: cada fila corresponde a un pedido en la aplicación Instacart.\n",
    "    - `'order_id'`: número de ID que identifica de manera única cada pedido.\n",
    "    - `'user_id'`: número de ID que identifica de manera única la cuenta de cada cliente.\n",
    "    - `'order_number'`: el número de veces que este cliente ha hecho un pedido.\n",
    "    - `'order_dow'`: día de la semana en que se hizo el pedido (0 si es domingo).\n",
    "    - `'order_hour_of_day'`: hora del día en que se hizo el pedido.\n",
    "    - `'days_since_prior_order'`: número de días transcurridos desde que este cliente hizo su pedido anterior.\n",
    "- `products.csv`: cada fila corresponde a un producto único que pueden comprar los clientes.\n",
    "    - `'product_id'`: número ID que identifica de manera única cada producto.\n",
    "    - `'product_name'`: nombre del producto.\n",
    "    - `'aisle_id'`: número ID que identifica de manera única cada categoría de pasillo de víveres.\n",
    "    - `'department_id'`: número ID que identifica de manera única cada departamento de víveres.\n",
    "- `order_products.csv`: cada fila corresponde a un artículo pedido en un pedido.\n",
    "    - `'order_id'`: número de ID que identifica de manera única cada pedido.\n",
    "    - `'product_id'`: número ID que identifica de manera única cada producto.\n",
    "    - `'add_to_cart_order'`: el orden secuencial en el que se añadió cada artículo en el carrito.\n",
    "    - `'reordered'`: 0 si el cliente nunca ha pedido este producto antes, 1 si lo ha pedido.\n",
    "- `aisles.csv`\n",
    "    - `'aisle_id'`: número ID que identifica de manera única cada categoría de pasillo de víveres.\n",
    "    - `'aisle'`: nombre del pasillo.\n",
    "- `departments.csv`\n",
    "    - `'department_id'`: número ID que identifica de manera única cada departamento de víveres.\n",
    "    - `'department'`: nombre del departamento."
   ]
  },
  {
   "cell_type": "markdown",
   "id": "b5564c6a",
   "metadata": {},
   "source": [
    "<div class=\"alert alert-block alert-success\">\n",
    "<b>Comentario del revisor</b> <a class=\"tocSkip\"></a>\n",
    "\n",
    "¡Hola! Excelente trabajo desarrollando la introducción y el diccionario de datos. Esto es crucial para cualquier proyecto, ya que establece una guía clara sobre los pasos a seguir. Tener estos elementos bien definidos desde el principio nos permite trabajar de manera más organizada y eficiente. En un futuro lo podrías complementar con una tabla de contenido.\n",
    "</div>"
   ]
  },
  {
   "cell_type": "markdown",
   "id": "n3Ha_cNSZ8lK",
   "metadata": {
    "id": "n3Ha_cNSZ8lK"
   },
   "source": [
    "# Paso 1. Descripción de los datos\n",
    "\n",
    "Lee los archivos de datos (`/datasets/instacart_orders.csv`, `/datasets/products.csv`, `/datasets/aisles.csv`, `/datasets/departments.csv` y `/datasets/order_products.csv`) con `pd.read_csv()` usando los parámetros adecuados para leer los datos correctamente. Verifica la información para cada DataFrame creado.\n"
   ]
  },
  {
   "cell_type": "markdown",
   "id": "OmlQPLlyaAfR",
   "metadata": {
    "id": "OmlQPLlyaAfR"
   },
   "source": [
    "## Plan de solución\n",
    "\n",
    "Escribe aquí tu plan de solución para el Paso 1. Descripción de los datos. PARA ESTO IMPORTO PANDAS Y LUEGO LEO LOS 5 ARCHIVOS EN LA LIBRERIA GENERANDO 5 DATAFRAMES Y LLAMO A info() para ver el contenido de cada df."
   ]
  },
  {
   "cell_type": "code",
   "execution_count": 1,
   "id": "fbf1adab",
   "metadata": {
    "id": "fbf1adab"
   },
   "outputs": [],
   "source": [
    "import pandas as pd # importar librerías\n",
    "from matplotlib import pyplot as plt\n",
    "import seaborn as sns "
   ]
  },
  {
   "cell_type": "markdown",
   "id": "774fd625",
   "metadata": {},
   "source": [
    "<div class=\"alert alert-block alert-warning\">\n",
    "<b>Comentario revisor</b> <a class=\"tocSkip\"></a>\n",
    "\n",
    "\n",
    "Recomiendo importar y cargar la librería de matplolib.pyplot para el desarrollo de las diferentes gráficas que te van a ayudar al análisis de los datos. \n",
    "</div>"
   ]
  },
  {
   "cell_type": "markdown",
   "id": "3301b39d",
   "metadata": {},
   "source": [
    "<div class=\"alert alert-block alert-success\">\n",
    "<b>Comentario del revisor</b> <a class=\"tocSkip\"></a>\n",
    "\n",
    "Gran trabajo con los ajustes!\n",
    "</div>"
   ]
  },
  {
   "cell_type": "code",
   "execution_count": 2,
   "id": "ad36396d",
   "metadata": {
    "id": "ad36396d"
   },
   "outputs": [],
   "source": [
    "df_instacart_orders = pd.read_csv('/datasets/instacart_orders.csv', sep=';')\n",
    "df_products = pd.read_csv('/datasets/products.csv', sep=';') \n",
    "df_aisles = pd.read_csv('/datasets/aisles.csv', sep=';') \n",
    "df_departments = pd.read_csv('/datasets/departments.csv', sep=';') \n",
    "df_order_products = pd.read_csv('/datasets/order_products.csv', sep=';') # leer conjuntos de datos en los DataFrames INCLUYO sep=';' PORQUE DE LO CONTRARIO SE CARGA COMO UNA SOLA COLUMNA LA INFORMACION QUE CONTIENE CADA ARCHIVO"
   ]
  },
  {
   "cell_type": "code",
   "execution_count": 3,
   "id": "ad6a1efa",
   "metadata": {
    "id": "ad6a1efa"
   },
   "outputs": [
    {
     "name": "stdout",
     "output_type": "stream",
     "text": [
      "<class 'pandas.core.frame.DataFrame'>\n",
      "RangeIndex: 478967 entries, 0 to 478966\n",
      "Data columns (total 6 columns):\n",
      " #   Column                  Non-Null Count   Dtype  \n",
      "---  ------                  --------------   -----  \n",
      " 0   order_id                478967 non-null  int64  \n",
      " 1   user_id                 478967 non-null  int64  \n",
      " 2   order_number            478967 non-null  int64  \n",
      " 3   order_dow               478967 non-null  int64  \n",
      " 4   order_hour_of_day       478967 non-null  int64  \n",
      " 5   days_since_prior_order  450148 non-null  float64\n",
      "dtypes: float64(1), int64(5)\n",
      "memory usage: 21.9 MB\n"
     ]
    },
    {
     "data": {
      "text/html": [
       "<div>\n",
       "<style scoped>\n",
       "    .dataframe tbody tr th:only-of-type {\n",
       "        vertical-align: middle;\n",
       "    }\n",
       "\n",
       "    .dataframe tbody tr th {\n",
       "        vertical-align: top;\n",
       "    }\n",
       "\n",
       "    .dataframe thead th {\n",
       "        text-align: right;\n",
       "    }\n",
       "</style>\n",
       "<table border=\"1\" class=\"dataframe\">\n",
       "  <thead>\n",
       "    <tr style=\"text-align: right;\">\n",
       "      <th></th>\n",
       "      <th>order_id</th>\n",
       "      <th>user_id</th>\n",
       "      <th>order_number</th>\n",
       "      <th>order_dow</th>\n",
       "      <th>order_hour_of_day</th>\n",
       "      <th>days_since_prior_order</th>\n",
       "    </tr>\n",
       "  </thead>\n",
       "  <tbody>\n",
       "    <tr>\n",
       "      <th>0</th>\n",
       "      <td>1515936</td>\n",
       "      <td>183418</td>\n",
       "      <td>11</td>\n",
       "      <td>6</td>\n",
       "      <td>13</td>\n",
       "      <td>30.0</td>\n",
       "    </tr>\n",
       "    <tr>\n",
       "      <th>1</th>\n",
       "      <td>1690866</td>\n",
       "      <td>163593</td>\n",
       "      <td>5</td>\n",
       "      <td>5</td>\n",
       "      <td>12</td>\n",
       "      <td>9.0</td>\n",
       "    </tr>\n",
       "    <tr>\n",
       "      <th>2</th>\n",
       "      <td>1454967</td>\n",
       "      <td>39980</td>\n",
       "      <td>4</td>\n",
       "      <td>5</td>\n",
       "      <td>19</td>\n",
       "      <td>2.0</td>\n",
       "    </tr>\n",
       "    <tr>\n",
       "      <th>3</th>\n",
       "      <td>1768857</td>\n",
       "      <td>82516</td>\n",
       "      <td>56</td>\n",
       "      <td>0</td>\n",
       "      <td>20</td>\n",
       "      <td>10.0</td>\n",
       "    </tr>\n",
       "    <tr>\n",
       "      <th>4</th>\n",
       "      <td>3007858</td>\n",
       "      <td>196724</td>\n",
       "      <td>2</td>\n",
       "      <td>4</td>\n",
       "      <td>12</td>\n",
       "      <td>17.0</td>\n",
       "    </tr>\n",
       "  </tbody>\n",
       "</table>\n",
       "</div>"
      ],
      "text/plain": [
       "   order_id  user_id  order_number  order_dow  order_hour_of_day  \\\n",
       "0   1515936   183418            11          6                 13   \n",
       "1   1690866   163593             5          5                 12   \n",
       "2   1454967    39980             4          5                 19   \n",
       "3   1768857    82516            56          0                 20   \n",
       "4   3007858   196724             2          4                 12   \n",
       "\n",
       "   days_since_prior_order  \n",
       "0                    30.0  \n",
       "1                     9.0  \n",
       "2                     2.0  \n",
       "3                    10.0  \n",
       "4                    17.0  "
      ]
     },
     "execution_count": 3,
     "metadata": {},
     "output_type": "execute_result"
    }
   ],
   "source": [
    "df_instacart_orders.info() \n",
    "df_instacart_orders.head(5) # mostrar información del DataFrame LLAMO A info() PARA SABER EL CONTENIDO Y VER SI HAY VALORES AUSENTES Y LUEGO IMPRIMO LAS 5 PRIMERAS FILAS PARA VER COMO SE MUESTRAN, ESTO LO HAGO EN CADA DATAFRAME "
   ]
  },
  {
   "cell_type": "code",
   "execution_count": 4,
   "id": "5130e05e",
   "metadata": {
    "id": "5130e05e"
   },
   "outputs": [
    {
     "name": "stdout",
     "output_type": "stream",
     "text": [
      "<class 'pandas.core.frame.DataFrame'>\n",
      "RangeIndex: 49694 entries, 0 to 49693\n",
      "Data columns (total 4 columns):\n",
      " #   Column         Non-Null Count  Dtype \n",
      "---  ------         --------------  ----- \n",
      " 0   product_id     49694 non-null  int64 \n",
      " 1   product_name   48436 non-null  object\n",
      " 2   aisle_id       49694 non-null  int64 \n",
      " 3   department_id  49694 non-null  int64 \n",
      "dtypes: int64(3), object(1)\n",
      "memory usage: 1.5+ MB\n"
     ]
    },
    {
     "data": {
      "text/html": [
       "<div>\n",
       "<style scoped>\n",
       "    .dataframe tbody tr th:only-of-type {\n",
       "        vertical-align: middle;\n",
       "    }\n",
       "\n",
       "    .dataframe tbody tr th {\n",
       "        vertical-align: top;\n",
       "    }\n",
       "\n",
       "    .dataframe thead th {\n",
       "        text-align: right;\n",
       "    }\n",
       "</style>\n",
       "<table border=\"1\" class=\"dataframe\">\n",
       "  <thead>\n",
       "    <tr style=\"text-align: right;\">\n",
       "      <th></th>\n",
       "      <th>product_id</th>\n",
       "      <th>product_name</th>\n",
       "      <th>aisle_id</th>\n",
       "      <th>department_id</th>\n",
       "    </tr>\n",
       "  </thead>\n",
       "  <tbody>\n",
       "    <tr>\n",
       "      <th>0</th>\n",
       "      <td>1</td>\n",
       "      <td>Chocolate Sandwich Cookies</td>\n",
       "      <td>61</td>\n",
       "      <td>19</td>\n",
       "    </tr>\n",
       "    <tr>\n",
       "      <th>1</th>\n",
       "      <td>2</td>\n",
       "      <td>All-Seasons Salt</td>\n",
       "      <td>104</td>\n",
       "      <td>13</td>\n",
       "    </tr>\n",
       "    <tr>\n",
       "      <th>2</th>\n",
       "      <td>3</td>\n",
       "      <td>Robust Golden Unsweetened Oolong Tea</td>\n",
       "      <td>94</td>\n",
       "      <td>7</td>\n",
       "    </tr>\n",
       "    <tr>\n",
       "      <th>3</th>\n",
       "      <td>4</td>\n",
       "      <td>Smart Ones Classic Favorites Mini Rigatoni Wit...</td>\n",
       "      <td>38</td>\n",
       "      <td>1</td>\n",
       "    </tr>\n",
       "    <tr>\n",
       "      <th>4</th>\n",
       "      <td>5</td>\n",
       "      <td>Green Chile Anytime Sauce</td>\n",
       "      <td>5</td>\n",
       "      <td>13</td>\n",
       "    </tr>\n",
       "  </tbody>\n",
       "</table>\n",
       "</div>"
      ],
      "text/plain": [
       "   product_id                                       product_name  aisle_id  \\\n",
       "0           1                         Chocolate Sandwich Cookies        61   \n",
       "1           2                                   All-Seasons Salt       104   \n",
       "2           3               Robust Golden Unsweetened Oolong Tea        94   \n",
       "3           4  Smart Ones Classic Favorites Mini Rigatoni Wit...        38   \n",
       "4           5                          Green Chile Anytime Sauce         5   \n",
       "\n",
       "   department_id  \n",
       "0             19  \n",
       "1             13  \n",
       "2              7  \n",
       "3              1  \n",
       "4             13  "
      ]
     },
     "execution_count": 4,
     "metadata": {},
     "output_type": "execute_result"
    }
   ],
   "source": [
    "df_products.info() \n",
    "df_products.head(5) # mostrar información del DataFrame"
   ]
  },
  {
   "cell_type": "code",
   "execution_count": 5,
   "id": "d8370c05",
   "metadata": {
    "id": "d8370c05"
   },
   "outputs": [
    {
     "name": "stdout",
     "output_type": "stream",
     "text": [
      "<class 'pandas.core.frame.DataFrame'>\n",
      "RangeIndex: 134 entries, 0 to 133\n",
      "Data columns (total 2 columns):\n",
      " #   Column    Non-Null Count  Dtype \n",
      "---  ------    --------------  ----- \n",
      " 0   aisle_id  134 non-null    int64 \n",
      " 1   aisle     134 non-null    object\n",
      "dtypes: int64(1), object(1)\n",
      "memory usage: 2.2+ KB\n"
     ]
    },
    {
     "data": {
      "text/html": [
       "<div>\n",
       "<style scoped>\n",
       "    .dataframe tbody tr th:only-of-type {\n",
       "        vertical-align: middle;\n",
       "    }\n",
       "\n",
       "    .dataframe tbody tr th {\n",
       "        vertical-align: top;\n",
       "    }\n",
       "\n",
       "    .dataframe thead th {\n",
       "        text-align: right;\n",
       "    }\n",
       "</style>\n",
       "<table border=\"1\" class=\"dataframe\">\n",
       "  <thead>\n",
       "    <tr style=\"text-align: right;\">\n",
       "      <th></th>\n",
       "      <th>aisle_id</th>\n",
       "      <th>aisle</th>\n",
       "    </tr>\n",
       "  </thead>\n",
       "  <tbody>\n",
       "    <tr>\n",
       "      <th>0</th>\n",
       "      <td>1</td>\n",
       "      <td>prepared soups salads</td>\n",
       "    </tr>\n",
       "    <tr>\n",
       "      <th>1</th>\n",
       "      <td>2</td>\n",
       "      <td>specialty cheeses</td>\n",
       "    </tr>\n",
       "    <tr>\n",
       "      <th>2</th>\n",
       "      <td>3</td>\n",
       "      <td>energy granola bars</td>\n",
       "    </tr>\n",
       "    <tr>\n",
       "      <th>3</th>\n",
       "      <td>4</td>\n",
       "      <td>instant foods</td>\n",
       "    </tr>\n",
       "    <tr>\n",
       "      <th>4</th>\n",
       "      <td>5</td>\n",
       "      <td>marinades meat preparation</td>\n",
       "    </tr>\n",
       "  </tbody>\n",
       "</table>\n",
       "</div>"
      ],
      "text/plain": [
       "   aisle_id                       aisle\n",
       "0         1       prepared soups salads\n",
       "1         2           specialty cheeses\n",
       "2         3         energy granola bars\n",
       "3         4               instant foods\n",
       "4         5  marinades meat preparation"
      ]
     },
     "execution_count": 5,
     "metadata": {},
     "output_type": "execute_result"
    }
   ],
   "source": [
    "df_aisles.info() \n",
    "df_aisles.head(5) # mostrar información del DataFrame"
   ]
  },
  {
   "cell_type": "code",
   "execution_count": 6,
   "id": "59e2090f",
   "metadata": {
    "id": "59e2090f"
   },
   "outputs": [
    {
     "name": "stdout",
     "output_type": "stream",
     "text": [
      "<class 'pandas.core.frame.DataFrame'>\n",
      "RangeIndex: 21 entries, 0 to 20\n",
      "Data columns (total 2 columns):\n",
      " #   Column         Non-Null Count  Dtype \n",
      "---  ------         --------------  ----- \n",
      " 0   department_id  21 non-null     int64 \n",
      " 1   department     21 non-null     object\n",
      "dtypes: int64(1), object(1)\n",
      "memory usage: 464.0+ bytes\n"
     ]
    },
    {
     "data": {
      "text/html": [
       "<div>\n",
       "<style scoped>\n",
       "    .dataframe tbody tr th:only-of-type {\n",
       "        vertical-align: middle;\n",
       "    }\n",
       "\n",
       "    .dataframe tbody tr th {\n",
       "        vertical-align: top;\n",
       "    }\n",
       "\n",
       "    .dataframe thead th {\n",
       "        text-align: right;\n",
       "    }\n",
       "</style>\n",
       "<table border=\"1\" class=\"dataframe\">\n",
       "  <thead>\n",
       "    <tr style=\"text-align: right;\">\n",
       "      <th></th>\n",
       "      <th>department_id</th>\n",
       "      <th>department</th>\n",
       "    </tr>\n",
       "  </thead>\n",
       "  <tbody>\n",
       "    <tr>\n",
       "      <th>0</th>\n",
       "      <td>1</td>\n",
       "      <td>frozen</td>\n",
       "    </tr>\n",
       "    <tr>\n",
       "      <th>1</th>\n",
       "      <td>2</td>\n",
       "      <td>other</td>\n",
       "    </tr>\n",
       "    <tr>\n",
       "      <th>2</th>\n",
       "      <td>3</td>\n",
       "      <td>bakery</td>\n",
       "    </tr>\n",
       "    <tr>\n",
       "      <th>3</th>\n",
       "      <td>4</td>\n",
       "      <td>produce</td>\n",
       "    </tr>\n",
       "    <tr>\n",
       "      <th>4</th>\n",
       "      <td>5</td>\n",
       "      <td>alcohol</td>\n",
       "    </tr>\n",
       "  </tbody>\n",
       "</table>\n",
       "</div>"
      ],
      "text/plain": [
       "   department_id department\n",
       "0              1     frozen\n",
       "1              2      other\n",
       "2              3     bakery\n",
       "3              4    produce\n",
       "4              5    alcohol"
      ]
     },
     "execution_count": 6,
     "metadata": {},
     "output_type": "execute_result"
    }
   ],
   "source": [
    "df_departments.info()\n",
    "df_departments.head(5) # mostrar información del DataFrame"
   ]
  },
  {
   "cell_type": "code",
   "execution_count": 7,
   "id": "6fc81694",
   "metadata": {
    "id": "6fc81694"
   },
   "outputs": [
    {
     "name": "stdout",
     "output_type": "stream",
     "text": [
      "<class 'pandas.core.frame.DataFrame'>\n",
      "RangeIndex: 4545007 entries, 0 to 4545006\n",
      "Data columns (total 4 columns):\n",
      " #   Column             Non-Null Count    Dtype  \n",
      "---  ------             --------------    -----  \n",
      " 0   order_id           4545007 non-null  int64  \n",
      " 1   product_id         4545007 non-null  int64  \n",
      " 2   add_to_cart_order  4544171 non-null  float64\n",
      " 3   reordered          4545007 non-null  int64  \n",
      "dtypes: float64(1), int64(3)\n",
      "memory usage: 138.7 MB\n"
     ]
    },
    {
     "data": {
      "text/html": [
       "<div>\n",
       "<style scoped>\n",
       "    .dataframe tbody tr th:only-of-type {\n",
       "        vertical-align: middle;\n",
       "    }\n",
       "\n",
       "    .dataframe tbody tr th {\n",
       "        vertical-align: top;\n",
       "    }\n",
       "\n",
       "    .dataframe thead th {\n",
       "        text-align: right;\n",
       "    }\n",
       "</style>\n",
       "<table border=\"1\" class=\"dataframe\">\n",
       "  <thead>\n",
       "    <tr style=\"text-align: right;\">\n",
       "      <th></th>\n",
       "      <th>order_id</th>\n",
       "      <th>product_id</th>\n",
       "      <th>add_to_cart_order</th>\n",
       "      <th>reordered</th>\n",
       "    </tr>\n",
       "  </thead>\n",
       "  <tbody>\n",
       "    <tr>\n",
       "      <th>0</th>\n",
       "      <td>2141543</td>\n",
       "      <td>11440</td>\n",
       "      <td>17.0</td>\n",
       "      <td>0</td>\n",
       "    </tr>\n",
       "    <tr>\n",
       "      <th>1</th>\n",
       "      <td>567889</td>\n",
       "      <td>1560</td>\n",
       "      <td>1.0</td>\n",
       "      <td>1</td>\n",
       "    </tr>\n",
       "    <tr>\n",
       "      <th>2</th>\n",
       "      <td>2261212</td>\n",
       "      <td>26683</td>\n",
       "      <td>1.0</td>\n",
       "      <td>1</td>\n",
       "    </tr>\n",
       "    <tr>\n",
       "      <th>3</th>\n",
       "      <td>491251</td>\n",
       "      <td>8670</td>\n",
       "      <td>35.0</td>\n",
       "      <td>1</td>\n",
       "    </tr>\n",
       "    <tr>\n",
       "      <th>4</th>\n",
       "      <td>2571142</td>\n",
       "      <td>1940</td>\n",
       "      <td>5.0</td>\n",
       "      <td>1</td>\n",
       "    </tr>\n",
       "  </tbody>\n",
       "</table>\n",
       "</div>"
      ],
      "text/plain": [
       "   order_id  product_id  add_to_cart_order  reordered\n",
       "0   2141543       11440               17.0          0\n",
       "1    567889        1560                1.0          1\n",
       "2   2261212       26683                1.0          1\n",
       "3    491251        8670               35.0          1\n",
       "4   2571142        1940                5.0          1"
      ]
     },
     "execution_count": 7,
     "metadata": {},
     "output_type": "execute_result"
    }
   ],
   "source": [
    "df_order_products.info(show_counts=True) \n",
    "df_order_products.head(5) # mostrar información del DataFrame"
   ]
  },
  {
   "cell_type": "markdown",
   "id": "be190429",
   "metadata": {},
   "source": [
    "\n",
    "<div class=\"alert alert-block alert-success\">\n",
    "    <b>Comentario del revisor:</b> <a class=\"tocSkip\"></a>\n",
    "    \n",
    "Realizaste un excelente trabajo presentando la información de la base de datos.\n",
    "</div>"
   ]
  },
  {
   "cell_type": "markdown",
   "id": "t75BD19oaR5f",
   "metadata": {
    "id": "t75BD19oaR5f"
   },
   "source": [
    "## Conclusiones\n",
    "\n",
    "Se debe realizar una limpieza en:\n",
    "- instacart_orders en la columna 'days_since_prior_order' con 28819 valores ausentes que son el 6% del total\n",
    "- products en la columna 'product_name' con 1258 valores ausentes que son el 2.6% del total\n",
    "- order_products en la columna 'add_to_cart_order' con 836 valores ausentes que son el 0.018% del total"
   ]
  },
  {
   "cell_type": "markdown",
   "id": "8RJHqxVmaVsF",
   "metadata": {
    "id": "8RJHqxVmaVsF"
   },
   "source": [
    "# Paso 2. Preprocesamiento de los datos\n",
    "\n",
    "Preprocesa los datos de la siguiente manera:\n",
    "\n",
    "- Verifica y corrige los tipos de datos (por ejemplo, asegúrate de que las columnas de ID sean números enteros).\n",
    "- Identifica y completa los valores ausentes.\n",
    "- Identifica y elimina los valores duplicados.\n",
    "\n",
    "Asegúrate de explicar qué tipos de valores ausentes y duplicados encontraste, cómo los completaste o eliminaste y por qué usaste esos métodos. ¿Por qué crees que estos valores ausentes y duplicados pueden haber estado presentes en el conjunto de datos?"
   ]
  },
  {
   "cell_type": "markdown",
   "id": "p6poABZQaZYb",
   "metadata": {
    "id": "p6poABZQaZYb"
   },
   "source": [
    "## Plan de solución\n",
    "\n",
    "Escribe aquí tu plan para el Paso 2. Preprocesamiento de los datos."
   ]
  },
  {
   "cell_type": "markdown",
   "id": "07357848-dc64-4156-9cc3-01ff4365226d",
   "metadata": {
    "id": "07357848-dc64-4156-9cc3-01ff4365226d"
   },
   "source": [
    "## Encuentra y elimina los valores duplicados (y describe cómo tomaste tus decisiones)."
   ]
  },
  {
   "cell_type": "markdown",
   "id": "f179f0a9",
   "metadata": {
    "id": "f179f0a9"
   },
   "source": [
    "### `instacart_orders` data frame"
   ]
  },
  {
   "cell_type": "code",
   "execution_count": 8,
   "id": "3d5c5ad3",
   "metadata": {},
   "outputs": [
    {
     "data": {
      "text/html": [
       "<div>\n",
       "<style scoped>\n",
       "    .dataframe tbody tr th:only-of-type {\n",
       "        vertical-align: middle;\n",
       "    }\n",
       "\n",
       "    .dataframe tbody tr th {\n",
       "        vertical-align: top;\n",
       "    }\n",
       "\n",
       "    .dataframe thead th {\n",
       "        text-align: right;\n",
       "    }\n",
       "</style>\n",
       "<table border=\"1\" class=\"dataframe\">\n",
       "  <thead>\n",
       "    <tr style=\"text-align: right;\">\n",
       "      <th></th>\n",
       "      <th>order_id</th>\n",
       "      <th>user_id</th>\n",
       "      <th>order_number</th>\n",
       "      <th>order_dow</th>\n",
       "      <th>order_hour_of_day</th>\n",
       "      <th>days_since_prior_order</th>\n",
       "    </tr>\n",
       "  </thead>\n",
       "  <tbody>\n",
       "    <tr>\n",
       "      <th>145574</th>\n",
       "      <td>794638</td>\n",
       "      <td>50898</td>\n",
       "      <td>24</td>\n",
       "      <td>3</td>\n",
       "      <td>2</td>\n",
       "      <td>2.0</td>\n",
       "    </tr>\n",
       "    <tr>\n",
       "      <th>223105</th>\n",
       "      <td>2160484</td>\n",
       "      <td>107525</td>\n",
       "      <td>16</td>\n",
       "      <td>3</td>\n",
       "      <td>2</td>\n",
       "      <td>30.0</td>\n",
       "    </tr>\n",
       "    <tr>\n",
       "      <th>230807</th>\n",
       "      <td>1918001</td>\n",
       "      <td>188546</td>\n",
       "      <td>14</td>\n",
       "      <td>3</td>\n",
       "      <td>2</td>\n",
       "      <td>16.0</td>\n",
       "    </tr>\n",
       "    <tr>\n",
       "      <th>266232</th>\n",
       "      <td>1782114</td>\n",
       "      <td>106752</td>\n",
       "      <td>1</td>\n",
       "      <td>3</td>\n",
       "      <td>2</td>\n",
       "      <td>NaN</td>\n",
       "    </tr>\n",
       "    <tr>\n",
       "      <th>273805</th>\n",
       "      <td>1112182</td>\n",
       "      <td>202304</td>\n",
       "      <td>84</td>\n",
       "      <td>3</td>\n",
       "      <td>2</td>\n",
       "      <td>6.0</td>\n",
       "    </tr>\n",
       "    <tr>\n",
       "      <th>284038</th>\n",
       "      <td>2845099</td>\n",
       "      <td>31189</td>\n",
       "      <td>11</td>\n",
       "      <td>3</td>\n",
       "      <td>2</td>\n",
       "      <td>7.0</td>\n",
       "    </tr>\n",
       "    <tr>\n",
       "      <th>311713</th>\n",
       "      <td>1021560</td>\n",
       "      <td>53767</td>\n",
       "      <td>3</td>\n",
       "      <td>3</td>\n",
       "      <td>2</td>\n",
       "      <td>9.0</td>\n",
       "    </tr>\n",
       "    <tr>\n",
       "      <th>321100</th>\n",
       "      <td>408114</td>\n",
       "      <td>68324</td>\n",
       "      <td>4</td>\n",
       "      <td>3</td>\n",
       "      <td>2</td>\n",
       "      <td>18.0</td>\n",
       "    </tr>\n",
       "    <tr>\n",
       "      <th>323900</th>\n",
       "      <td>1919531</td>\n",
       "      <td>191501</td>\n",
       "      <td>32</td>\n",
       "      <td>3</td>\n",
       "      <td>2</td>\n",
       "      <td>7.0</td>\n",
       "    </tr>\n",
       "    <tr>\n",
       "      <th>345917</th>\n",
       "      <td>2232988</td>\n",
       "      <td>82565</td>\n",
       "      <td>1</td>\n",
       "      <td>3</td>\n",
       "      <td>2</td>\n",
       "      <td>NaN</td>\n",
       "    </tr>\n",
       "    <tr>\n",
       "      <th>371905</th>\n",
       "      <td>391768</td>\n",
       "      <td>57671</td>\n",
       "      <td>19</td>\n",
       "      <td>3</td>\n",
       "      <td>2</td>\n",
       "      <td>10.0</td>\n",
       "    </tr>\n",
       "    <tr>\n",
       "      <th>394347</th>\n",
       "      <td>467134</td>\n",
       "      <td>63189</td>\n",
       "      <td>21</td>\n",
       "      <td>3</td>\n",
       "      <td>2</td>\n",
       "      <td>2.0</td>\n",
       "    </tr>\n",
       "    <tr>\n",
       "      <th>411408</th>\n",
       "      <td>1286742</td>\n",
       "      <td>183220</td>\n",
       "      <td>48</td>\n",
       "      <td>3</td>\n",
       "      <td>2</td>\n",
       "      <td>4.0</td>\n",
       "    </tr>\n",
       "    <tr>\n",
       "      <th>415163</th>\n",
       "      <td>2282673</td>\n",
       "      <td>86751</td>\n",
       "      <td>49</td>\n",
       "      <td>3</td>\n",
       "      <td>2</td>\n",
       "      <td>2.0</td>\n",
       "    </tr>\n",
       "    <tr>\n",
       "      <th>441599</th>\n",
       "      <td>2125197</td>\n",
       "      <td>14050</td>\n",
       "      <td>48</td>\n",
       "      <td>3</td>\n",
       "      <td>2</td>\n",
       "      <td>3.0</td>\n",
       "    </tr>\n",
       "  </tbody>\n",
       "</table>\n",
       "</div>"
      ],
      "text/plain": [
       "        order_id  user_id  order_number  order_dow  order_hour_of_day  \\\n",
       "145574    794638    50898            24          3                  2   \n",
       "223105   2160484   107525            16          3                  2   \n",
       "230807   1918001   188546            14          3                  2   \n",
       "266232   1782114   106752             1          3                  2   \n",
       "273805   1112182   202304            84          3                  2   \n",
       "284038   2845099    31189            11          3                  2   \n",
       "311713   1021560    53767             3          3                  2   \n",
       "321100    408114    68324             4          3                  2   \n",
       "323900   1919531   191501            32          3                  2   \n",
       "345917   2232988    82565             1          3                  2   \n",
       "371905    391768    57671            19          3                  2   \n",
       "394347    467134    63189            21          3                  2   \n",
       "411408   1286742   183220            48          3                  2   \n",
       "415163   2282673    86751            49          3                  2   \n",
       "441599   2125197    14050            48          3                  2   \n",
       "\n",
       "        days_since_prior_order  \n",
       "145574                     2.0  \n",
       "223105                    30.0  \n",
       "230807                    16.0  \n",
       "266232                     NaN  \n",
       "273805                     6.0  \n",
       "284038                     7.0  \n",
       "311713                     9.0  \n",
       "321100                    18.0  \n",
       "323900                     7.0  \n",
       "345917                     NaN  \n",
       "371905                    10.0  \n",
       "394347                     2.0  \n",
       "411408                     4.0  \n",
       "415163                     2.0  \n",
       "441599                     3.0  "
      ]
     },
     "execution_count": 8,
     "metadata": {},
     "output_type": "execute_result"
    }
   ],
   "source": [
    "duplicated_filtered_order_id = df_instacart_orders[df_instacart_orders['order_id'].duplicated()] # Revisa si hay pedidos duplicados\n",
    "duplicated_filtered_order_id"
   ]
  },
  {
   "cell_type": "markdown",
   "id": "PEkwUX_gvt5A",
   "metadata": {
    "id": "PEkwUX_gvt5A"
   },
   "source": [
    "¿Tienes líneas duplicadas? Si sí, ¿qué tienen en común? NO HAY VALORES DUPLICADOS EN EL DATAFRAME EN 'order_id'"
   ]
  },
  {
   "cell_type": "code",
   "execution_count": 9,
   "id": "0d44de5d",
   "metadata": {
    "id": "0d44de5d"
   },
   "outputs": [
    {
     "data": {
      "text/html": [
       "<div>\n",
       "<style scoped>\n",
       "    .dataframe tbody tr th:only-of-type {\n",
       "        vertical-align: middle;\n",
       "    }\n",
       "\n",
       "    .dataframe tbody tr th {\n",
       "        vertical-align: top;\n",
       "    }\n",
       "\n",
       "    .dataframe thead th {\n",
       "        text-align: right;\n",
       "    }\n",
       "</style>\n",
       "<table border=\"1\" class=\"dataframe\">\n",
       "  <thead>\n",
       "    <tr style=\"text-align: right;\">\n",
       "      <th></th>\n",
       "      <th>order_id</th>\n",
       "      <th>user_id</th>\n",
       "      <th>order_number</th>\n",
       "      <th>order_dow</th>\n",
       "      <th>order_hour_of_day</th>\n",
       "      <th>days_since_prior_order</th>\n",
       "    </tr>\n",
       "  </thead>\n",
       "  <tbody>\n",
       "    <tr>\n",
       "      <th>4838</th>\n",
       "      <td>2766110</td>\n",
       "      <td>162084</td>\n",
       "      <td>41</td>\n",
       "      <td>3</td>\n",
       "      <td>2</td>\n",
       "      <td>16.0</td>\n",
       "    </tr>\n",
       "    <tr>\n",
       "      <th>5156</th>\n",
       "      <td>2190225</td>\n",
       "      <td>138285</td>\n",
       "      <td>18</td>\n",
       "      <td>3</td>\n",
       "      <td>2</td>\n",
       "      <td>11.0</td>\n",
       "    </tr>\n",
       "    <tr>\n",
       "      <th>15506</th>\n",
       "      <td>553049</td>\n",
       "      <td>58599</td>\n",
       "      <td>13</td>\n",
       "      <td>3</td>\n",
       "      <td>2</td>\n",
       "      <td>7.0</td>\n",
       "    </tr>\n",
       "    <tr>\n",
       "      <th>18420</th>\n",
       "      <td>382357</td>\n",
       "      <td>120200</td>\n",
       "      <td>19</td>\n",
       "      <td>3</td>\n",
       "      <td>2</td>\n",
       "      <td>11.0</td>\n",
       "    </tr>\n",
       "    <tr>\n",
       "      <th>24691</th>\n",
       "      <td>690242</td>\n",
       "      <td>77357</td>\n",
       "      <td>2</td>\n",
       "      <td>3</td>\n",
       "      <td>2</td>\n",
       "      <td>9.0</td>\n",
       "    </tr>\n",
       "    <tr>\n",
       "      <th>...</th>\n",
       "      <td>...</td>\n",
       "      <td>...</td>\n",
       "      <td>...</td>\n",
       "      <td>...</td>\n",
       "      <td>...</td>\n",
       "      <td>...</td>\n",
       "    </tr>\n",
       "    <tr>\n",
       "      <th>457013</th>\n",
       "      <td>3384021</td>\n",
       "      <td>14881</td>\n",
       "      <td>6</td>\n",
       "      <td>3</td>\n",
       "      <td>2</td>\n",
       "      <td>30.0</td>\n",
       "    </tr>\n",
       "    <tr>\n",
       "      <th>458816</th>\n",
       "      <td>910166</td>\n",
       "      <td>164782</td>\n",
       "      <td>18</td>\n",
       "      <td>3</td>\n",
       "      <td>2</td>\n",
       "      <td>4.0</td>\n",
       "    </tr>\n",
       "    <tr>\n",
       "      <th>459635</th>\n",
       "      <td>1680532</td>\n",
       "      <td>106435</td>\n",
       "      <td>6</td>\n",
       "      <td>3</td>\n",
       "      <td>2</td>\n",
       "      <td>21.0</td>\n",
       "    </tr>\n",
       "    <tr>\n",
       "      <th>468324</th>\n",
       "      <td>222962</td>\n",
       "      <td>54979</td>\n",
       "      <td>59</td>\n",
       "      <td>3</td>\n",
       "      <td>2</td>\n",
       "      <td>3.0</td>\n",
       "    </tr>\n",
       "    <tr>\n",
       "      <th>477526</th>\n",
       "      <td>2592344</td>\n",
       "      <td>46860</td>\n",
       "      <td>38</td>\n",
       "      <td>3</td>\n",
       "      <td>2</td>\n",
       "      <td>3.0</td>\n",
       "    </tr>\n",
       "  </tbody>\n",
       "</table>\n",
       "<p>121 rows × 6 columns</p>\n",
       "</div>"
      ],
      "text/plain": [
       "        order_id  user_id  order_number  order_dow  order_hour_of_day  \\\n",
       "4838     2766110   162084            41          3                  2   \n",
       "5156     2190225   138285            18          3                  2   \n",
       "15506     553049    58599            13          3                  2   \n",
       "18420     382357   120200            19          3                  2   \n",
       "24691     690242    77357             2          3                  2   \n",
       "...          ...      ...           ...        ...                ...   \n",
       "457013   3384021    14881             6          3                  2   \n",
       "458816    910166   164782            18          3                  2   \n",
       "459635   1680532   106435             6          3                  2   \n",
       "468324    222962    54979            59          3                  2   \n",
       "477526   2592344    46860            38          3                  2   \n",
       "\n",
       "        days_since_prior_order  \n",
       "4838                      16.0  \n",
       "5156                      11.0  \n",
       "15506                      7.0  \n",
       "18420                     11.0  \n",
       "24691                      9.0  \n",
       "...                        ...  \n",
       "457013                    30.0  \n",
       "458816                     4.0  \n",
       "459635                    21.0  \n",
       "468324                     3.0  \n",
       "477526                     3.0  \n",
       "\n",
       "[121 rows x 6 columns]"
      ]
     },
     "execution_count": 9,
     "metadata": {},
     "output_type": "execute_result"
    }
   ],
   "source": [
    "filtered_orders = df_instacart_orders[(df_instacart_orders['order_dow'] == 3) & (df_instacart_orders['order_hour_of_day'] == 2)] # SE CREA UNA VARIBLE QUE MUESTRA LOS PEDIDOS DEL MIERCOLES A LAS 2 AM\n",
    "filtered_orders # Basándote en tus hallazgos,verifica que no hay pedidos duplicados el miércoles a las 2:00 am"
   ]
  },
  {
   "cell_type": "code",
   "execution_count": 10,
   "id": "f940e5b8",
   "metadata": {},
   "outputs": [
    {
     "data": {
      "text/html": [
       "<div>\n",
       "<style scoped>\n",
       "    .dataframe tbody tr th:only-of-type {\n",
       "        vertical-align: middle;\n",
       "    }\n",
       "\n",
       "    .dataframe tbody tr th {\n",
       "        vertical-align: top;\n",
       "    }\n",
       "\n",
       "    .dataframe thead th {\n",
       "        text-align: right;\n",
       "    }\n",
       "</style>\n",
       "<table border=\"1\" class=\"dataframe\">\n",
       "  <thead>\n",
       "    <tr style=\"text-align: right;\">\n",
       "      <th></th>\n",
       "      <th>index</th>\n",
       "      <th>order_id</th>\n",
       "      <th>user_id</th>\n",
       "      <th>order_number</th>\n",
       "      <th>order_dow</th>\n",
       "      <th>order_hour_of_day</th>\n",
       "      <th>days_since_prior_order</th>\n",
       "    </tr>\n",
       "  </thead>\n",
       "  <tbody>\n",
       "    <tr>\n",
       "      <th>0</th>\n",
       "      <td>145574</td>\n",
       "      <td>794638</td>\n",
       "      <td>50898</td>\n",
       "      <td>24</td>\n",
       "      <td>3</td>\n",
       "      <td>2</td>\n",
       "      <td>2.0</td>\n",
       "    </tr>\n",
       "    <tr>\n",
       "      <th>1</th>\n",
       "      <td>223105</td>\n",
       "      <td>2160484</td>\n",
       "      <td>107525</td>\n",
       "      <td>16</td>\n",
       "      <td>3</td>\n",
       "      <td>2</td>\n",
       "      <td>30.0</td>\n",
       "    </tr>\n",
       "    <tr>\n",
       "      <th>2</th>\n",
       "      <td>230807</td>\n",
       "      <td>1918001</td>\n",
       "      <td>188546</td>\n",
       "      <td>14</td>\n",
       "      <td>3</td>\n",
       "      <td>2</td>\n",
       "      <td>16.0</td>\n",
       "    </tr>\n",
       "    <tr>\n",
       "      <th>3</th>\n",
       "      <td>266232</td>\n",
       "      <td>1782114</td>\n",
       "      <td>106752</td>\n",
       "      <td>1</td>\n",
       "      <td>3</td>\n",
       "      <td>2</td>\n",
       "      <td>NaN</td>\n",
       "    </tr>\n",
       "    <tr>\n",
       "      <th>4</th>\n",
       "      <td>273805</td>\n",
       "      <td>1112182</td>\n",
       "      <td>202304</td>\n",
       "      <td>84</td>\n",
       "      <td>3</td>\n",
       "      <td>2</td>\n",
       "      <td>6.0</td>\n",
       "    </tr>\n",
       "    <tr>\n",
       "      <th>5</th>\n",
       "      <td>284038</td>\n",
       "      <td>2845099</td>\n",
       "      <td>31189</td>\n",
       "      <td>11</td>\n",
       "      <td>3</td>\n",
       "      <td>2</td>\n",
       "      <td>7.0</td>\n",
       "    </tr>\n",
       "    <tr>\n",
       "      <th>6</th>\n",
       "      <td>311713</td>\n",
       "      <td>1021560</td>\n",
       "      <td>53767</td>\n",
       "      <td>3</td>\n",
       "      <td>3</td>\n",
       "      <td>2</td>\n",
       "      <td>9.0</td>\n",
       "    </tr>\n",
       "    <tr>\n",
       "      <th>7</th>\n",
       "      <td>321100</td>\n",
       "      <td>408114</td>\n",
       "      <td>68324</td>\n",
       "      <td>4</td>\n",
       "      <td>3</td>\n",
       "      <td>2</td>\n",
       "      <td>18.0</td>\n",
       "    </tr>\n",
       "    <tr>\n",
       "      <th>8</th>\n",
       "      <td>323900</td>\n",
       "      <td>1919531</td>\n",
       "      <td>191501</td>\n",
       "      <td>32</td>\n",
       "      <td>3</td>\n",
       "      <td>2</td>\n",
       "      <td>7.0</td>\n",
       "    </tr>\n",
       "    <tr>\n",
       "      <th>9</th>\n",
       "      <td>345917</td>\n",
       "      <td>2232988</td>\n",
       "      <td>82565</td>\n",
       "      <td>1</td>\n",
       "      <td>3</td>\n",
       "      <td>2</td>\n",
       "      <td>NaN</td>\n",
       "    </tr>\n",
       "    <tr>\n",
       "      <th>10</th>\n",
       "      <td>371905</td>\n",
       "      <td>391768</td>\n",
       "      <td>57671</td>\n",
       "      <td>19</td>\n",
       "      <td>3</td>\n",
       "      <td>2</td>\n",
       "      <td>10.0</td>\n",
       "    </tr>\n",
       "    <tr>\n",
       "      <th>11</th>\n",
       "      <td>394347</td>\n",
       "      <td>467134</td>\n",
       "      <td>63189</td>\n",
       "      <td>21</td>\n",
       "      <td>3</td>\n",
       "      <td>2</td>\n",
       "      <td>2.0</td>\n",
       "    </tr>\n",
       "    <tr>\n",
       "      <th>12</th>\n",
       "      <td>411408</td>\n",
       "      <td>1286742</td>\n",
       "      <td>183220</td>\n",
       "      <td>48</td>\n",
       "      <td>3</td>\n",
       "      <td>2</td>\n",
       "      <td>4.0</td>\n",
       "    </tr>\n",
       "    <tr>\n",
       "      <th>13</th>\n",
       "      <td>415163</td>\n",
       "      <td>2282673</td>\n",
       "      <td>86751</td>\n",
       "      <td>49</td>\n",
       "      <td>3</td>\n",
       "      <td>2</td>\n",
       "      <td>2.0</td>\n",
       "    </tr>\n",
       "    <tr>\n",
       "      <th>14</th>\n",
       "      <td>441599</td>\n",
       "      <td>2125197</td>\n",
       "      <td>14050</td>\n",
       "      <td>48</td>\n",
       "      <td>3</td>\n",
       "      <td>2</td>\n",
       "      <td>3.0</td>\n",
       "    </tr>\n",
       "  </tbody>\n",
       "</table>\n",
       "</div>"
      ],
      "text/plain": [
       "     index  order_id  user_id  order_number  order_dow  order_hour_of_day  \\\n",
       "0   145574    794638    50898            24          3                  2   \n",
       "1   223105   2160484   107525            16          3                  2   \n",
       "2   230807   1918001   188546            14          3                  2   \n",
       "3   266232   1782114   106752             1          3                  2   \n",
       "4   273805   1112182   202304            84          3                  2   \n",
       "5   284038   2845099    31189            11          3                  2   \n",
       "6   311713   1021560    53767             3          3                  2   \n",
       "7   321100    408114    68324             4          3                  2   \n",
       "8   323900   1919531   191501            32          3                  2   \n",
       "9   345917   2232988    82565             1          3                  2   \n",
       "10  371905    391768    57671            19          3                  2   \n",
       "11  394347    467134    63189            21          3                  2   \n",
       "12  411408   1286742   183220            48          3                  2   \n",
       "13  415163   2282673    86751            49          3                  2   \n",
       "14  441599   2125197    14050            48          3                  2   \n",
       "\n",
       "    days_since_prior_order  \n",
       "0                      2.0  \n",
       "1                     30.0  \n",
       "2                     16.0  \n",
       "3                      NaN  \n",
       "4                      6.0  \n",
       "5                      7.0  \n",
       "6                      9.0  \n",
       "7                     18.0  \n",
       "8                      7.0  \n",
       "9                      NaN  \n",
       "10                    10.0  \n",
       "11                     2.0  \n",
       "12                     4.0  \n",
       "13                     2.0  \n",
       "14                     3.0  "
      ]
     },
     "execution_count": 10,
     "metadata": {},
     "output_type": "execute_result"
    }
   ],
   "source": [
    "duplicated_filtered_orders = filtered_orders[filtered_orders.duplicated(subset=['order_id'])].reset_index() # Verifica que no hay pedidos duplicados el miércoles a las 2:00 amV NO HAY PEDIDOS DUPLICADOS EL MIERCOLES A LAS 2 AM\n",
    "duplicated_filtered_orders"
   ]
  },
  {
   "cell_type": "markdown",
   "id": "9b1729b4",
   "metadata": {},
   "source": [
    "<div class=\"alert alert-block alert-danger\">\n",
    "<b>Comentario revisor</b> <a class=\"tocSkip\"></a>\n",
    "\n",
    "Muy buena conclusión, pero te sugiero verificar que el miércoles es el orders['order_dow'] == 4, o puedes ser que el 2 corresponda al jueves. EN LA PRESENTACION DE LOS DATOS INDICA QUE PARA 'order_dow' YA REALICE LA CORRECCION A ['order_dow'] == 3 QUE CORRESPONDE A MIERCOLES\n",
    "</div>"
   ]
  },
  {
   "cell_type": "markdown",
   "id": "49e71955",
   "metadata": {},
   "source": [
    "<div class=\"alert alert-block alert-success\">\n",
    "<b>Comentario del revisor</b> <a class=\"tocSkip\"></a>\n",
    "\n",
    "Gran trabajo con los ajustes!\n",
    "</div>"
   ]
  },
  {
   "cell_type": "markdown",
   "id": "vu2OWyoqwOx5",
   "metadata": {
    "id": "vu2OWyoqwOx5"
   },
   "source": [
    "¿Qué sugiere este resultado? NO HAY PEDIDOS DUPLICADOS EL MIERCOLES A LAS 2 AM"
   ]
  },
  {
   "cell_type": "code",
   "execution_count": 11,
   "id": "480563c7",
   "metadata": {
    "id": "480563c7"
   },
   "outputs": [
    {
     "data": {
      "text/plain": [
       "478952"
      ]
     },
     "execution_count": 11,
     "metadata": {},
     "output_type": "execute_result"
    }
   ],
   "source": [
    "df_instacrt_orders = df_instacart_orders.drop_duplicates(subset= ['order_id'], inplace= True) # Elimina los pedidos duplicados \n",
    "len(df_instacart_orders)"
   ]
  },
  {
   "cell_type": "code",
   "execution_count": 12,
   "id": "0b2396a2",
   "metadata": {
    "id": "0b2396a2"
   },
   "outputs": [
    {
     "data": {
      "text/plain": [
       "0"
      ]
     },
     "execution_count": 12,
     "metadata": {},
     "output_type": "execute_result"
    }
   ],
   "source": [
    "df_duplicated_instacart_orders = df_instacart_orders[df_instacart_orders.duplicated()] # Vuelve a verificar si hay filas duplicadas UTILIZO len() PARA VER CUANTAS FILAS DUPLICADAS HAY\n",
    "len(df_duplicated_instacart_orders)"
   ]
  },
  {
   "cell_type": "code",
   "execution_count": 13,
   "id": "f6113ef1",
   "metadata": {
    "id": "f6113ef1"
   },
   "outputs": [
    {
     "data": {
      "text/plain": [
       "0"
      ]
     },
     "execution_count": 13,
     "metadata": {},
     "output_type": "execute_result"
    }
   ],
   "source": [
    "df_duplicated_instacart_orders_id = df_instacart_orders[df_instacart_orders.duplicated(subset = ['order_id'])] # Vuelve a verificar si hay IDs duplicados de pedidos UTILIZO len() PARA VER CUANTAS FILAS DUPLICADAS HAY\n",
    "len(df_duplicated_instacart_orders_id)                                                        "
   ]
  },
  {
   "cell_type": "markdown",
   "id": "5e8905ae",
   "metadata": {
    "id": "5e8905ae"
   },
   "source": [
    "Se determina que existen 15 pedidos duplicados ya que al llamar a drop_duplicated(subset['order_id'], inplace= True) se reasigna el dataframe original con los nuevos valores de 478967 a 478952"
   ]
  },
  {
   "cell_type": "markdown",
   "id": "45e6bc46",
   "metadata": {
    "id": "45e6bc46"
   },
   "source": [
    "### `products` data frame"
   ]
  },
  {
   "cell_type": "code",
   "execution_count": 14,
   "id": "5f526b5b-8175-46fa-a0fd-441767d50e64",
   "metadata": {
    "id": "5f526b5b-8175-46fa-a0fd-441767d50e64",
    "scrolled": true
   },
   "outputs": [
    {
     "data": {
      "text/plain": [
       "0"
      ]
     },
     "execution_count": 14,
     "metadata": {},
     "output_type": "execute_result"
    }
   ],
   "source": [
    "df_duplicated_products = df_products[df_products.duplicated()] # Verifica si hay filas totalmente duplicadas UTILIZO duplicated()\n",
    "len(df_duplicated_products)"
   ]
  },
  {
   "cell_type": "code",
   "execution_count": 15,
   "id": "4143f96f",
   "metadata": {},
   "outputs": [
    {
     "data": {
      "text/html": [
       "<div>\n",
       "<style scoped>\n",
       "    .dataframe tbody tr th:only-of-type {\n",
       "        vertical-align: middle;\n",
       "    }\n",
       "\n",
       "    .dataframe tbody tr th {\n",
       "        vertical-align: top;\n",
       "    }\n",
       "\n",
       "    .dataframe thead th {\n",
       "        text-align: right;\n",
       "    }\n",
       "</style>\n",
       "<table border=\"1\" class=\"dataframe\">\n",
       "  <thead>\n",
       "    <tr style=\"text-align: right;\">\n",
       "      <th></th>\n",
       "      <th>product_id</th>\n",
       "      <th>product_name</th>\n",
       "      <th>aisle_id</th>\n",
       "      <th>department_id</th>\n",
       "    </tr>\n",
       "  </thead>\n",
       "  <tbody>\n",
       "  </tbody>\n",
       "</table>\n",
       "</div>"
      ],
      "text/plain": [
       "Empty DataFrame\n",
       "Columns: [product_id, product_name, aisle_id, department_id]\n",
       "Index: []"
      ]
     },
     "execution_count": 15,
     "metadata": {},
     "output_type": "execute_result"
    }
   ],
   "source": [
    "df_duplicated_products"
   ]
  },
  {
   "cell_type": "code",
   "execution_count": 16,
   "id": "88daa4f4",
   "metadata": {
    "id": "88daa4f4"
   },
   "outputs": [
    {
     "data": {
      "text/plain": [
       "0"
      ]
     },
     "execution_count": 16,
     "metadata": {},
     "output_type": "execute_result"
    }
   ],
   "source": [
    "df_duplicated_products_id = df_products[df_products.duplicated(subset= ['product_id'])] # Verifica si hay IDs duplicadas de productos UTILIZO duplicated(subset= ['product_id'])\n",
    "len(df_duplicated_products_id)"
   ]
  },
  {
   "cell_type": "code",
   "execution_count": 17,
   "id": "41f05b64",
   "metadata": {},
   "outputs": [
    {
     "data": {
      "text/html": [
       "<div>\n",
       "<style scoped>\n",
       "    .dataframe tbody tr th:only-of-type {\n",
       "        vertical-align: middle;\n",
       "    }\n",
       "\n",
       "    .dataframe tbody tr th {\n",
       "        vertical-align: top;\n",
       "    }\n",
       "\n",
       "    .dataframe thead th {\n",
       "        text-align: right;\n",
       "    }\n",
       "</style>\n",
       "<table border=\"1\" class=\"dataframe\">\n",
       "  <thead>\n",
       "    <tr style=\"text-align: right;\">\n",
       "      <th></th>\n",
       "      <th>product_id</th>\n",
       "      <th>product_name</th>\n",
       "      <th>aisle_id</th>\n",
       "      <th>department_id</th>\n",
       "    </tr>\n",
       "  </thead>\n",
       "  <tbody>\n",
       "  </tbody>\n",
       "</table>\n",
       "</div>"
      ],
      "text/plain": [
       "Empty DataFrame\n",
       "Columns: [product_id, product_name, aisle_id, department_id]\n",
       "Index: []"
      ]
     },
     "execution_count": 17,
     "metadata": {},
     "output_type": "execute_result"
    }
   ],
   "source": [
    "df_duplicated_products_id"
   ]
  },
  {
   "cell_type": "code",
   "execution_count": 18,
   "id": "c773f0bf",
   "metadata": {
    "id": "c773f0bf"
   },
   "outputs": [
    {
     "data": {
      "text/html": [
       "<div>\n",
       "<style scoped>\n",
       "    .dataframe tbody tr th:only-of-type {\n",
       "        vertical-align: middle;\n",
       "    }\n",
       "\n",
       "    .dataframe tbody tr th {\n",
       "        vertical-align: top;\n",
       "    }\n",
       "\n",
       "    .dataframe thead th {\n",
       "        text-align: right;\n",
       "    }\n",
       "</style>\n",
       "<table border=\"1\" class=\"dataframe\">\n",
       "  <thead>\n",
       "    <tr style=\"text-align: right;\">\n",
       "      <th></th>\n",
       "      <th>product_id</th>\n",
       "      <th>product_name</th>\n",
       "      <th>aisle_id</th>\n",
       "      <th>department_id</th>\n",
       "      <th>product_name_mayus</th>\n",
       "    </tr>\n",
       "  </thead>\n",
       "  <tbody>\n",
       "    <tr>\n",
       "      <th>0</th>\n",
       "      <td>1</td>\n",
       "      <td>Chocolate Sandwich Cookies</td>\n",
       "      <td>61</td>\n",
       "      <td>19</td>\n",
       "      <td>CHOCOLATE SANDWICH COOKIES</td>\n",
       "    </tr>\n",
       "    <tr>\n",
       "      <th>1</th>\n",
       "      <td>2</td>\n",
       "      <td>All-Seasons Salt</td>\n",
       "      <td>104</td>\n",
       "      <td>13</td>\n",
       "      <td>ALL-SEASONS SALT</td>\n",
       "    </tr>\n",
       "    <tr>\n",
       "      <th>2</th>\n",
       "      <td>3</td>\n",
       "      <td>Robust Golden Unsweetened Oolong Tea</td>\n",
       "      <td>94</td>\n",
       "      <td>7</td>\n",
       "      <td>ROBUST GOLDEN UNSWEETENED OOLONG TEA</td>\n",
       "    </tr>\n",
       "    <tr>\n",
       "      <th>3</th>\n",
       "      <td>4</td>\n",
       "      <td>Smart Ones Classic Favorites Mini Rigatoni Wit...</td>\n",
       "      <td>38</td>\n",
       "      <td>1</td>\n",
       "      <td>SMART ONES CLASSIC FAVORITES MINI RIGATONI WIT...</td>\n",
       "    </tr>\n",
       "    <tr>\n",
       "      <th>4</th>\n",
       "      <td>5</td>\n",
       "      <td>Green Chile Anytime Sauce</td>\n",
       "      <td>5</td>\n",
       "      <td>13</td>\n",
       "      <td>GREEN CHILE ANYTIME SAUCE</td>\n",
       "    </tr>\n",
       "    <tr>\n",
       "      <th>5</th>\n",
       "      <td>6</td>\n",
       "      <td>Dry Nose Oil</td>\n",
       "      <td>11</td>\n",
       "      <td>11</td>\n",
       "      <td>DRY NOSE OIL</td>\n",
       "    </tr>\n",
       "    <tr>\n",
       "      <th>6</th>\n",
       "      <td>7</td>\n",
       "      <td>Pure Coconut Water With Orange</td>\n",
       "      <td>98</td>\n",
       "      <td>7</td>\n",
       "      <td>PURE COCONUT WATER WITH ORANGE</td>\n",
       "    </tr>\n",
       "    <tr>\n",
       "      <th>7</th>\n",
       "      <td>8</td>\n",
       "      <td>Cut Russet Potatoes Steam N' Mash</td>\n",
       "      <td>116</td>\n",
       "      <td>1</td>\n",
       "      <td>CUT RUSSET POTATOES STEAM N' MASH</td>\n",
       "    </tr>\n",
       "    <tr>\n",
       "      <th>8</th>\n",
       "      <td>9</td>\n",
       "      <td>Light Strawberry Blueberry Yogurt</td>\n",
       "      <td>120</td>\n",
       "      <td>16</td>\n",
       "      <td>LIGHT STRAWBERRY BLUEBERRY YOGURT</td>\n",
       "    </tr>\n",
       "    <tr>\n",
       "      <th>9</th>\n",
       "      <td>10</td>\n",
       "      <td>Sparkling Orange Juice &amp; Prickly Pear Beverage</td>\n",
       "      <td>115</td>\n",
       "      <td>7</td>\n",
       "      <td>SPARKLING ORANGE JUICE &amp; PRICKLY PEAR BEVERAGE</td>\n",
       "    </tr>\n",
       "    <tr>\n",
       "      <th>10</th>\n",
       "      <td>11</td>\n",
       "      <td>Peach Mango Juice</td>\n",
       "      <td>31</td>\n",
       "      <td>7</td>\n",
       "      <td>PEACH MANGO JUICE</td>\n",
       "    </tr>\n",
       "    <tr>\n",
       "      <th>11</th>\n",
       "      <td>12</td>\n",
       "      <td>Chocolate Fudge Layer Cake</td>\n",
       "      <td>119</td>\n",
       "      <td>1</td>\n",
       "      <td>CHOCOLATE FUDGE LAYER CAKE</td>\n",
       "    </tr>\n",
       "    <tr>\n",
       "      <th>12</th>\n",
       "      <td>13</td>\n",
       "      <td>Saline Nasal Mist</td>\n",
       "      <td>11</td>\n",
       "      <td>11</td>\n",
       "      <td>SALINE NASAL MIST</td>\n",
       "    </tr>\n",
       "    <tr>\n",
       "      <th>13</th>\n",
       "      <td>14</td>\n",
       "      <td>Fresh Scent Dishwasher Cleaner</td>\n",
       "      <td>74</td>\n",
       "      <td>17</td>\n",
       "      <td>FRESH SCENT DISHWASHER CLEANER</td>\n",
       "    </tr>\n",
       "    <tr>\n",
       "      <th>14</th>\n",
       "      <td>15</td>\n",
       "      <td>Overnight Diapers Size 6</td>\n",
       "      <td>56</td>\n",
       "      <td>18</td>\n",
       "      <td>OVERNIGHT DIAPERS SIZE 6</td>\n",
       "    </tr>\n",
       "    <tr>\n",
       "      <th>15</th>\n",
       "      <td>16</td>\n",
       "      <td>Mint Chocolate Flavored Syrup</td>\n",
       "      <td>103</td>\n",
       "      <td>19</td>\n",
       "      <td>MINT CHOCOLATE FLAVORED SYRUP</td>\n",
       "    </tr>\n",
       "    <tr>\n",
       "      <th>16</th>\n",
       "      <td>17</td>\n",
       "      <td>Rendered Duck Fat</td>\n",
       "      <td>35</td>\n",
       "      <td>12</td>\n",
       "      <td>RENDERED DUCK FAT</td>\n",
       "    </tr>\n",
       "    <tr>\n",
       "      <th>17</th>\n",
       "      <td>18</td>\n",
       "      <td>Pizza for One Suprema  Frozen Pizza</td>\n",
       "      <td>79</td>\n",
       "      <td>1</td>\n",
       "      <td>PIZZA FOR ONE SUPREMA  FROZEN PIZZA</td>\n",
       "    </tr>\n",
       "    <tr>\n",
       "      <th>18</th>\n",
       "      <td>19</td>\n",
       "      <td>Gluten Free Quinoa Three Cheese &amp; Mushroom Blend</td>\n",
       "      <td>63</td>\n",
       "      <td>9</td>\n",
       "      <td>GLUTEN FREE QUINOA THREE CHEESE &amp; MUSHROOM BLEND</td>\n",
       "    </tr>\n",
       "    <tr>\n",
       "      <th>19</th>\n",
       "      <td>20</td>\n",
       "      <td>Pomegranate Cranberry &amp; Aloe Vera Enrich Drink</td>\n",
       "      <td>98</td>\n",
       "      <td>7</td>\n",
       "      <td>POMEGRANATE CRANBERRY &amp; ALOE VERA ENRICH DRINK</td>\n",
       "    </tr>\n",
       "  </tbody>\n",
       "</table>\n",
       "</div>"
      ],
      "text/plain": [
       "    product_id                                       product_name  aisle_id  \\\n",
       "0            1                         Chocolate Sandwich Cookies        61   \n",
       "1            2                                   All-Seasons Salt       104   \n",
       "2            3               Robust Golden Unsweetened Oolong Tea        94   \n",
       "3            4  Smart Ones Classic Favorites Mini Rigatoni Wit...        38   \n",
       "4            5                          Green Chile Anytime Sauce         5   \n",
       "5            6                                       Dry Nose Oil        11   \n",
       "6            7                     Pure Coconut Water With Orange        98   \n",
       "7            8                  Cut Russet Potatoes Steam N' Mash       116   \n",
       "8            9                  Light Strawberry Blueberry Yogurt       120   \n",
       "9           10     Sparkling Orange Juice & Prickly Pear Beverage       115   \n",
       "10          11                                  Peach Mango Juice        31   \n",
       "11          12                         Chocolate Fudge Layer Cake       119   \n",
       "12          13                                  Saline Nasal Mist        11   \n",
       "13          14                     Fresh Scent Dishwasher Cleaner        74   \n",
       "14          15                           Overnight Diapers Size 6        56   \n",
       "15          16                      Mint Chocolate Flavored Syrup       103   \n",
       "16          17                                  Rendered Duck Fat        35   \n",
       "17          18                Pizza for One Suprema  Frozen Pizza        79   \n",
       "18          19   Gluten Free Quinoa Three Cheese & Mushroom Blend        63   \n",
       "19          20     Pomegranate Cranberry & Aloe Vera Enrich Drink        98   \n",
       "\n",
       "    department_id                                 product_name_mayus  \n",
       "0              19                         CHOCOLATE SANDWICH COOKIES  \n",
       "1              13                                   ALL-SEASONS SALT  \n",
       "2               7               ROBUST GOLDEN UNSWEETENED OOLONG TEA  \n",
       "3               1  SMART ONES CLASSIC FAVORITES MINI RIGATONI WIT...  \n",
       "4              13                          GREEN CHILE ANYTIME SAUCE  \n",
       "5              11                                       DRY NOSE OIL  \n",
       "6               7                     PURE COCONUT WATER WITH ORANGE  \n",
       "7               1                  CUT RUSSET POTATOES STEAM N' MASH  \n",
       "8              16                  LIGHT STRAWBERRY BLUEBERRY YOGURT  \n",
       "9               7     SPARKLING ORANGE JUICE & PRICKLY PEAR BEVERAGE  \n",
       "10              7                                  PEACH MANGO JUICE  \n",
       "11              1                         CHOCOLATE FUDGE LAYER CAKE  \n",
       "12             11                                  SALINE NASAL MIST  \n",
       "13             17                     FRESH SCENT DISHWASHER CLEANER  \n",
       "14             18                           OVERNIGHT DIAPERS SIZE 6  \n",
       "15             19                      MINT CHOCOLATE FLAVORED SYRUP  \n",
       "16             12                                  RENDERED DUCK FAT  \n",
       "17              1                PIZZA FOR ONE SUPREMA  FROZEN PIZZA  \n",
       "18              9   GLUTEN FREE QUINOA THREE CHEESE & MUSHROOM BLEND  \n",
       "19              7     POMEGRANATE CRANBERRY & ALOE VERA ENRICH DRINK  "
      ]
     },
     "execution_count": 18,
     "metadata": {},
     "output_type": "execute_result"
    }
   ],
   "source": [
    "df_products['product_name_mayus'] = df_products['product_name'].str.upper() # Revisa si hay nombres duplicados de productos (convierte los nombres a letras mayúsculas para compararlos mejor) UTILIZO str.upper() Y CREO UNA COLUMNA NUEVA EN EL DATAFRAME PARA COMPARAR\n",
    "df_products.head(20)"
   ]
  },
  {
   "cell_type": "code",
   "execution_count": 19,
   "id": "ba9d6216",
   "metadata": {},
   "outputs": [
    {
     "data": {
      "text/plain": [
       "104"
      ]
     },
     "execution_count": 19,
     "metadata": {},
     "output_type": "execute_result"
    }
   ],
   "source": [
    "df_duplicated_products_name = df_products[(~df_products['product_name'].isna()) & df_products['product_name_mayus'].duplicated()] # # Revisa si hay nombres duplicados de productos (convierte los nombres a letras mayúsculas para compararlos mejor) UTILIZO EL CODIGO QUE ME SUGIRIO PARA FILTRAR LOS PRODUCTOS DUPLICADOS  \n",
    "len(df_duplicated_products_name)"
   ]
  },
  {
   "cell_type": "code",
   "execution_count": 20,
   "id": "4a9a3203",
   "metadata": {},
   "outputs": [
    {
     "data": {
      "text/html": [
       "<div>\n",
       "<style scoped>\n",
       "    .dataframe tbody tr th:only-of-type {\n",
       "        vertical-align: middle;\n",
       "    }\n",
       "\n",
       "    .dataframe tbody tr th {\n",
       "        vertical-align: top;\n",
       "    }\n",
       "\n",
       "    .dataframe thead th {\n",
       "        text-align: right;\n",
       "    }\n",
       "</style>\n",
       "<table border=\"1\" class=\"dataframe\">\n",
       "  <thead>\n",
       "    <tr style=\"text-align: right;\">\n",
       "      <th></th>\n",
       "      <th>product_id</th>\n",
       "      <th>product_name</th>\n",
       "      <th>aisle_id</th>\n",
       "      <th>department_id</th>\n",
       "      <th>product_name_mayus</th>\n",
       "    </tr>\n",
       "  </thead>\n",
       "  <tbody>\n",
       "    <tr>\n",
       "      <th>2058</th>\n",
       "      <td>2059</td>\n",
       "      <td>Biotin 1000 Mcg</td>\n",
       "      <td>47</td>\n",
       "      <td>11</td>\n",
       "      <td>BIOTIN 1000 MCG</td>\n",
       "    </tr>\n",
       "    <tr>\n",
       "      <th>5455</th>\n",
       "      <td>5456</td>\n",
       "      <td>Green Tea With Ginseng and Honey</td>\n",
       "      <td>96</td>\n",
       "      <td>20</td>\n",
       "      <td>GREEN TEA WITH GINSENG AND HONEY</td>\n",
       "    </tr>\n",
       "    <tr>\n",
       "      <th>5558</th>\n",
       "      <td>5559</td>\n",
       "      <td>Cream Of Mushroom Soup</td>\n",
       "      <td>69</td>\n",
       "      <td>15</td>\n",
       "      <td>CREAM OF MUSHROOM SOUP</td>\n",
       "    </tr>\n",
       "    <tr>\n",
       "      <th>7558</th>\n",
       "      <td>7559</td>\n",
       "      <td>Cinnamon Rolls with Icing</td>\n",
       "      <td>105</td>\n",
       "      <td>13</td>\n",
       "      <td>CINNAMON ROLLS WITH ICING</td>\n",
       "    </tr>\n",
       "    <tr>\n",
       "      <th>9037</th>\n",
       "      <td>9038</td>\n",
       "      <td>American Cheese slices</td>\n",
       "      <td>21</td>\n",
       "      <td>16</td>\n",
       "      <td>AMERICAN CHEESE SLICES</td>\n",
       "    </tr>\n",
       "    <tr>\n",
       "      <th>...</th>\n",
       "      <td>...</td>\n",
       "      <td>...</td>\n",
       "      <td>...</td>\n",
       "      <td>...</td>\n",
       "      <td>...</td>\n",
       "    </tr>\n",
       "    <tr>\n",
       "      <th>49689</th>\n",
       "      <td>49690</td>\n",
       "      <td>HIGH PERFORMANCE ENERGY DRINK</td>\n",
       "      <td>64</td>\n",
       "      <td>7</td>\n",
       "      <td>HIGH PERFORMANCE ENERGY DRINK</td>\n",
       "    </tr>\n",
       "    <tr>\n",
       "      <th>49690</th>\n",
       "      <td>49691</td>\n",
       "      <td>ORIGINAL PANCAKE &amp; WAFFLE MIX</td>\n",
       "      <td>130</td>\n",
       "      <td>14</td>\n",
       "      <td>ORIGINAL PANCAKE &amp; WAFFLE MIX</td>\n",
       "    </tr>\n",
       "    <tr>\n",
       "      <th>49691</th>\n",
       "      <td>49692</td>\n",
       "      <td>ORGANIC INSTANT OATMEAL LIGHT MAPLE BROWN SUGAR</td>\n",
       "      <td>130</td>\n",
       "      <td>14</td>\n",
       "      <td>ORGANIC INSTANT OATMEAL LIGHT MAPLE BROWN SUGAR</td>\n",
       "    </tr>\n",
       "    <tr>\n",
       "      <th>49692</th>\n",
       "      <td>49693</td>\n",
       "      <td>SPRING WATER BODY WASH</td>\n",
       "      <td>127</td>\n",
       "      <td>11</td>\n",
       "      <td>SPRING WATER BODY WASH</td>\n",
       "    </tr>\n",
       "    <tr>\n",
       "      <th>49693</th>\n",
       "      <td>49694</td>\n",
       "      <td>BURRITO- STEAK &amp; CHEESE</td>\n",
       "      <td>38</td>\n",
       "      <td>1</td>\n",
       "      <td>BURRITO- STEAK &amp; CHEESE</td>\n",
       "    </tr>\n",
       "  </tbody>\n",
       "</table>\n",
       "<p>104 rows × 5 columns</p>\n",
       "</div>"
      ],
      "text/plain": [
       "       product_id                                     product_name  aisle_id  \\\n",
       "2058         2059                                  Biotin 1000 Mcg        47   \n",
       "5455         5456                 Green Tea With Ginseng and Honey        96   \n",
       "5558         5559                           Cream Of Mushroom Soup        69   \n",
       "7558         7559                        Cinnamon Rolls with Icing       105   \n",
       "9037         9038                           American Cheese slices        21   \n",
       "...           ...                                              ...       ...   \n",
       "49689       49690                    HIGH PERFORMANCE ENERGY DRINK        64   \n",
       "49690       49691                    ORIGINAL PANCAKE & WAFFLE MIX       130   \n",
       "49691       49692  ORGANIC INSTANT OATMEAL LIGHT MAPLE BROWN SUGAR       130   \n",
       "49692       49693                           SPRING WATER BODY WASH       127   \n",
       "49693       49694                          BURRITO- STEAK & CHEESE        38   \n",
       "\n",
       "       department_id                               product_name_mayus  \n",
       "2058              11                                  BIOTIN 1000 MCG  \n",
       "5455              20                 GREEN TEA WITH GINSENG AND HONEY  \n",
       "5558              15                           CREAM OF MUSHROOM SOUP  \n",
       "7558              13                        CINNAMON ROLLS WITH ICING  \n",
       "9037              16                           AMERICAN CHEESE SLICES  \n",
       "...              ...                                              ...  \n",
       "49689              7                    HIGH PERFORMANCE ENERGY DRINK  \n",
       "49690             14                    ORIGINAL PANCAKE & WAFFLE MIX  \n",
       "49691             14  ORGANIC INSTANT OATMEAL LIGHT MAPLE BROWN SUGAR  \n",
       "49692             11                           SPRING WATER BODY WASH  \n",
       "49693              1                          BURRITO- STEAK & CHEESE  \n",
       "\n",
       "[104 rows x 5 columns]"
      ]
     },
     "execution_count": 20,
     "metadata": {},
     "output_type": "execute_result"
    }
   ],
   "source": [
    "df_duplicated_products_name "
   ]
  },
  {
   "cell_type": "code",
   "execution_count": 21,
   "id": "01efd02e",
   "metadata": {
    "id": "01efd02e"
   },
   "outputs": [
    {
     "name": "stdout",
     "output_type": "stream",
     "text": [
      "Index(['product_id', 'product_name', 'aisle_id', 'department_id',\n",
      "       'product_name_mayus'],\n",
      "      dtype='object')\n"
     ]
    }
   ],
   "source": [
    "print(df_products.columns) # VERIFICO QUE LA COLUMNA QUE AGREGUE ESTE EN EL DATAFRAME ORIGINAL"
   ]
  },
  {
   "cell_type": "markdown",
   "id": "750f521b",
   "metadata": {},
   "source": [
    "<div class=\"alert alert-block alert-danger\">\n",
    "<b>Comentario del revisor</b> <a class=\"tocSkip\"></a>\n",
    "\n",
    "Excelente trabajo! Solamente la verificación de duplicados te recomiendo hacerla sobre la varialble de nombre del producto. Para esto te puedes guiar del siguiente ejemplo:\n",
    "    \n",
    "    products[(~products['product_name'].isna()) & products['product_name'].duplicated()]\n",
    "    \n",
    "</div>"
   ]
  },
  {
   "cell_type": "markdown",
   "id": "df133288",
   "metadata": {},
   "source": [
    "<div class=\"alert alert-block alert-success\">\n",
    "<b>Comentario del revisor</b> <a class=\"tocSkip\"></a>\n",
    "\n",
    "Gran trabajo con los ajustes!\n",
    "</div>"
   ]
  },
  {
   "cell_type": "code",
   "execution_count": 22,
   "id": "de26de83",
   "metadata": {},
   "outputs": [
    {
     "data": {
      "text/html": [
       "<div>\n",
       "<style scoped>\n",
       "    .dataframe tbody tr th:only-of-type {\n",
       "        vertical-align: middle;\n",
       "    }\n",
       "\n",
       "    .dataframe tbody tr th {\n",
       "        vertical-align: top;\n",
       "    }\n",
       "\n",
       "    .dataframe thead th {\n",
       "        text-align: right;\n",
       "    }\n",
       "</style>\n",
       "<table border=\"1\" class=\"dataframe\">\n",
       "  <thead>\n",
       "    <tr style=\"text-align: right;\">\n",
       "      <th></th>\n",
       "      <th>product_id</th>\n",
       "      <th>product_name</th>\n",
       "      <th>aisle_id</th>\n",
       "      <th>department_id</th>\n",
       "      <th>product_name_mayus</th>\n",
       "    </tr>\n",
       "  </thead>\n",
       "  <tbody>\n",
       "    <tr>\n",
       "      <th>0</th>\n",
       "      <td>1</td>\n",
       "      <td>Chocolate Sandwich Cookies</td>\n",
       "      <td>61</td>\n",
       "      <td>19</td>\n",
       "      <td>CHOCOLATE SANDWICH COOKIES</td>\n",
       "    </tr>\n",
       "    <tr>\n",
       "      <th>1</th>\n",
       "      <td>2</td>\n",
       "      <td>All-Seasons Salt</td>\n",
       "      <td>104</td>\n",
       "      <td>13</td>\n",
       "      <td>ALL-SEASONS SALT</td>\n",
       "    </tr>\n",
       "    <tr>\n",
       "      <th>2</th>\n",
       "      <td>3</td>\n",
       "      <td>Robust Golden Unsweetened Oolong Tea</td>\n",
       "      <td>94</td>\n",
       "      <td>7</td>\n",
       "      <td>ROBUST GOLDEN UNSWEETENED OOLONG TEA</td>\n",
       "    </tr>\n",
       "    <tr>\n",
       "      <th>3</th>\n",
       "      <td>4</td>\n",
       "      <td>Smart Ones Classic Favorites Mini Rigatoni Wit...</td>\n",
       "      <td>38</td>\n",
       "      <td>1</td>\n",
       "      <td>SMART ONES CLASSIC FAVORITES MINI RIGATONI WIT...</td>\n",
       "    </tr>\n",
       "    <tr>\n",
       "      <th>4</th>\n",
       "      <td>5</td>\n",
       "      <td>Green Chile Anytime Sauce</td>\n",
       "      <td>5</td>\n",
       "      <td>13</td>\n",
       "      <td>GREEN CHILE ANYTIME SAUCE</td>\n",
       "    </tr>\n",
       "    <tr>\n",
       "      <th>...</th>\n",
       "      <td>...</td>\n",
       "      <td>...</td>\n",
       "      <td>...</td>\n",
       "      <td>...</td>\n",
       "      <td>...</td>\n",
       "    </tr>\n",
       "    <tr>\n",
       "      <th>49683</th>\n",
       "      <td>49684</td>\n",
       "      <td>Vodka- Triple Distilled- Twist of Vanilla</td>\n",
       "      <td>124</td>\n",
       "      <td>5</td>\n",
       "      <td>VODKA- TRIPLE DISTILLED- TWIST OF VANILLA</td>\n",
       "    </tr>\n",
       "    <tr>\n",
       "      <th>49684</th>\n",
       "      <td>49685</td>\n",
       "      <td>En Croute Roast Hazelnut Cranberry</td>\n",
       "      <td>42</td>\n",
       "      <td>1</td>\n",
       "      <td>EN CROUTE ROAST HAZELNUT CRANBERRY</td>\n",
       "    </tr>\n",
       "    <tr>\n",
       "      <th>49685</th>\n",
       "      <td>49686</td>\n",
       "      <td>Artisan Baguette</td>\n",
       "      <td>112</td>\n",
       "      <td>3</td>\n",
       "      <td>ARTISAN BAGUETTE</td>\n",
       "    </tr>\n",
       "    <tr>\n",
       "      <th>49686</th>\n",
       "      <td>49687</td>\n",
       "      <td>Smartblend Healthy Metabolism Dry Cat Food</td>\n",
       "      <td>41</td>\n",
       "      <td>8</td>\n",
       "      <td>SMARTBLEND HEALTHY METABOLISM DRY CAT FOOD</td>\n",
       "    </tr>\n",
       "    <tr>\n",
       "      <th>49687</th>\n",
       "      <td>49688</td>\n",
       "      <td>Fresh Foaming Cleanser</td>\n",
       "      <td>73</td>\n",
       "      <td>11</td>\n",
       "      <td>FRESH FOAMING CLEANSER</td>\n",
       "    </tr>\n",
       "  </tbody>\n",
       "</table>\n",
       "<p>48333 rows × 5 columns</p>\n",
       "</div>"
      ],
      "text/plain": [
       "       product_id                                       product_name  \\\n",
       "0               1                         Chocolate Sandwich Cookies   \n",
       "1               2                                   All-Seasons Salt   \n",
       "2               3               Robust Golden Unsweetened Oolong Tea   \n",
       "3               4  Smart Ones Classic Favorites Mini Rigatoni Wit...   \n",
       "4               5                          Green Chile Anytime Sauce   \n",
       "...           ...                                                ...   \n",
       "49683       49684          Vodka- Triple Distilled- Twist of Vanilla   \n",
       "49684       49685                 En Croute Roast Hazelnut Cranberry   \n",
       "49685       49686                                   Artisan Baguette   \n",
       "49686       49687         Smartblend Healthy Metabolism Dry Cat Food   \n",
       "49687       49688                             Fresh Foaming Cleanser   \n",
       "\n",
       "       aisle_id  department_id  \\\n",
       "0            61             19   \n",
       "1           104             13   \n",
       "2            94              7   \n",
       "3            38              1   \n",
       "4             5             13   \n",
       "...         ...            ...   \n",
       "49683       124              5   \n",
       "49684        42              1   \n",
       "49685       112              3   \n",
       "49686        41              8   \n",
       "49687        73             11   \n",
       "\n",
       "                                      product_name_mayus  \n",
       "0                             CHOCOLATE SANDWICH COOKIES  \n",
       "1                                       ALL-SEASONS SALT  \n",
       "2                   ROBUST GOLDEN UNSWEETENED OOLONG TEA  \n",
       "3      SMART ONES CLASSIC FAVORITES MINI RIGATONI WIT...  \n",
       "4                              GREEN CHILE ANYTIME SAUCE  \n",
       "...                                                  ...  \n",
       "49683          VODKA- TRIPLE DISTILLED- TWIST OF VANILLA  \n",
       "49684                 EN CROUTE ROAST HAZELNUT CRANBERRY  \n",
       "49685                                   ARTISAN BAGUETTE  \n",
       "49686         SMARTBLEND HEALTHY METABOLISM DRY CAT FOOD  \n",
       "49687                             FRESH FOAMING CLEANSER  \n",
       "\n",
       "[48333 rows x 5 columns]"
      ]
     },
     "execution_count": 22,
     "metadata": {},
     "output_type": "execute_result"
    }
   ],
   "source": [
    "df_products.drop_duplicates(subset=['product_name_mayus'], inplace=True) # UTILIZO drop_duplicates(subset= 'product_name_mayus'], inplace= True) PARA REASIGNAR EN EL MISMO DATAFRAME\n",
    "df_products"
   ]
  },
  {
   "cell_type": "markdown",
   "id": "9da8d293",
   "metadata": {
    "id": "9da8d293"
   },
   "source": [
    "Elimine los productos que tenian nombres duplicados y actualizo el dataframe original de 48436 a 48333 disminuyendo los 104 valores duplicados "
   ]
  },
  {
   "cell_type": "markdown",
   "id": "60f30db1",
   "metadata": {
    "id": "60f30db1"
   },
   "source": [
    "### `departments` data frame"
   ]
  },
  {
   "cell_type": "code",
   "execution_count": 23,
   "id": "fb410ad4-0fbf-4b80-bb09-23fdea79afe3",
   "metadata": {
    "id": "fb410ad4-0fbf-4b80-bb09-23fdea79afe3"
   },
   "outputs": [
    {
     "data": {
      "text/plain": [
       "0"
      ]
     },
     "execution_count": 23,
     "metadata": {},
     "output_type": "execute_result"
    }
   ],
   "source": [
    "df_duplicated_departments = df_departments[df_departments.duplicated()] # Revisa si hay filas totalmente duplicadas UTILIZO duplicated() PARA VER SI HAY FILAS TOTALMENTE DUPLICADAS\n",
    "len(df_duplicated_departments)"
   ]
  },
  {
   "cell_type": "code",
   "execution_count": 24,
   "id": "d0a12da4",
   "metadata": {},
   "outputs": [
    {
     "data": {
      "text/html": [
       "<div>\n",
       "<style scoped>\n",
       "    .dataframe tbody tr th:only-of-type {\n",
       "        vertical-align: middle;\n",
       "    }\n",
       "\n",
       "    .dataframe tbody tr th {\n",
       "        vertical-align: top;\n",
       "    }\n",
       "\n",
       "    .dataframe thead th {\n",
       "        text-align: right;\n",
       "    }\n",
       "</style>\n",
       "<table border=\"1\" class=\"dataframe\">\n",
       "  <thead>\n",
       "    <tr style=\"text-align: right;\">\n",
       "      <th></th>\n",
       "      <th>department_id</th>\n",
       "      <th>department</th>\n",
       "    </tr>\n",
       "  </thead>\n",
       "  <tbody>\n",
       "  </tbody>\n",
       "</table>\n",
       "</div>"
      ],
      "text/plain": [
       "Empty DataFrame\n",
       "Columns: [department_id, department]\n",
       "Index: []"
      ]
     },
     "execution_count": 24,
     "metadata": {},
     "output_type": "execute_result"
    }
   ],
   "source": [
    "df_duplicated_departments"
   ]
  },
  {
   "cell_type": "code",
   "execution_count": 25,
   "id": "332b12bb",
   "metadata": {
    "id": "332b12bb"
   },
   "outputs": [
    {
     "data": {
      "text/plain": [
       "0"
      ]
     },
     "execution_count": 25,
     "metadata": {},
     "output_type": "execute_result"
    }
   ],
   "source": [
    "df_duplicated_departments_id = df_departments[df_departments.duplicated(subset= ['department_id'])] # Revisa si hay IDs duplicadas de productos UTILIZO duplicated() PARA VER SI HAY DUPLICADOS EN LA COLUMNA ''department_id'\n",
    "len(df_duplicated_departments_id)"
   ]
  },
  {
   "cell_type": "code",
   "execution_count": 26,
   "id": "1ded44bd",
   "metadata": {},
   "outputs": [
    {
     "data": {
      "text/html": [
       "<div>\n",
       "<style scoped>\n",
       "    .dataframe tbody tr th:only-of-type {\n",
       "        vertical-align: middle;\n",
       "    }\n",
       "\n",
       "    .dataframe tbody tr th {\n",
       "        vertical-align: top;\n",
       "    }\n",
       "\n",
       "    .dataframe thead th {\n",
       "        text-align: right;\n",
       "    }\n",
       "</style>\n",
       "<table border=\"1\" class=\"dataframe\">\n",
       "  <thead>\n",
       "    <tr style=\"text-align: right;\">\n",
       "      <th></th>\n",
       "      <th>department_id</th>\n",
       "      <th>department</th>\n",
       "    </tr>\n",
       "  </thead>\n",
       "  <tbody>\n",
       "  </tbody>\n",
       "</table>\n",
       "</div>"
      ],
      "text/plain": [
       "Empty DataFrame\n",
       "Columns: [department_id, department]\n",
       "Index: []"
      ]
     },
     "execution_count": 26,
     "metadata": {},
     "output_type": "execute_result"
    }
   ],
   "source": [
    "df_duplicated_departments_id"
   ]
  },
  {
   "cell_type": "code",
   "execution_count": 27,
   "id": "24d22f61",
   "metadata": {},
   "outputs": [
    {
     "data": {
      "text/html": [
       "<div>\n",
       "<style scoped>\n",
       "    .dataframe tbody tr th:only-of-type {\n",
       "        vertical-align: middle;\n",
       "    }\n",
       "\n",
       "    .dataframe tbody tr th {\n",
       "        vertical-align: top;\n",
       "    }\n",
       "\n",
       "    .dataframe thead th {\n",
       "        text-align: right;\n",
       "    }\n",
       "</style>\n",
       "<table border=\"1\" class=\"dataframe\">\n",
       "  <thead>\n",
       "    <tr style=\"text-align: right;\">\n",
       "      <th></th>\n",
       "      <th>department_id</th>\n",
       "      <th>department</th>\n",
       "      <th>department_name_mayus</th>\n",
       "    </tr>\n",
       "  </thead>\n",
       "  <tbody>\n",
       "    <tr>\n",
       "      <th>0</th>\n",
       "      <td>1</td>\n",
       "      <td>frozen</td>\n",
       "      <td>FROZEN</td>\n",
       "    </tr>\n",
       "    <tr>\n",
       "      <th>1</th>\n",
       "      <td>2</td>\n",
       "      <td>other</td>\n",
       "      <td>OTHER</td>\n",
       "    </tr>\n",
       "    <tr>\n",
       "      <th>2</th>\n",
       "      <td>3</td>\n",
       "      <td>bakery</td>\n",
       "      <td>BAKERY</td>\n",
       "    </tr>\n",
       "    <tr>\n",
       "      <th>3</th>\n",
       "      <td>4</td>\n",
       "      <td>produce</td>\n",
       "      <td>PRODUCE</td>\n",
       "    </tr>\n",
       "    <tr>\n",
       "      <th>4</th>\n",
       "      <td>5</td>\n",
       "      <td>alcohol</td>\n",
       "      <td>ALCOHOL</td>\n",
       "    </tr>\n",
       "    <tr>\n",
       "      <th>5</th>\n",
       "      <td>6</td>\n",
       "      <td>international</td>\n",
       "      <td>INTERNATIONAL</td>\n",
       "    </tr>\n",
       "    <tr>\n",
       "      <th>6</th>\n",
       "      <td>7</td>\n",
       "      <td>beverages</td>\n",
       "      <td>BEVERAGES</td>\n",
       "    </tr>\n",
       "    <tr>\n",
       "      <th>7</th>\n",
       "      <td>8</td>\n",
       "      <td>pets</td>\n",
       "      <td>PETS</td>\n",
       "    </tr>\n",
       "    <tr>\n",
       "      <th>8</th>\n",
       "      <td>9</td>\n",
       "      <td>dry goods pasta</td>\n",
       "      <td>DRY GOODS PASTA</td>\n",
       "    </tr>\n",
       "    <tr>\n",
       "      <th>9</th>\n",
       "      <td>10</td>\n",
       "      <td>bulk</td>\n",
       "      <td>BULK</td>\n",
       "    </tr>\n",
       "  </tbody>\n",
       "</table>\n",
       "</div>"
      ],
      "text/plain": [
       "   department_id       department department_name_mayus\n",
       "0              1           frozen                FROZEN\n",
       "1              2            other                 OTHER\n",
       "2              3           bakery                BAKERY\n",
       "3              4          produce               PRODUCE\n",
       "4              5          alcohol               ALCOHOL\n",
       "5              6    international         INTERNATIONAL\n",
       "6              7        beverages             BEVERAGES\n",
       "7              8             pets                  PETS\n",
       "8              9  dry goods pasta       DRY GOODS PASTA\n",
       "9             10             bulk                  BULK"
      ]
     },
     "execution_count": 27,
     "metadata": {},
     "output_type": "execute_result"
    }
   ],
   "source": [
    "df_departments['department_name_mayus'] = df_departments['department'].str.upper() # UTILIZO str.upper() Y CREO UNA COLUMNA NUEVA EN EL DATAFRAME PARA COMPARAR\n",
    "df_departments.head(10)"
   ]
  },
  {
   "cell_type": "code",
   "execution_count": 28,
   "id": "8d07ef99",
   "metadata": {},
   "outputs": [
    {
     "data": {
      "text/plain": [
       "0"
      ]
     },
     "execution_count": 28,
     "metadata": {},
     "output_type": "execute_result"
    }
   ],
   "source": [
    "df_duplicated_departments_name = df_departments[(~df_departments['department'].isna()) & df_departments['department_name_mayus'].duplicated()] # # Revisa si hay nombres duplicados de productos (convierte los nombres a letras mayúsculas para compararlos mejor) UTILIZO EL CODIGO QUE ME SUGIRIO PARA FILTRAR LOS NOMBRES DUPLICADOS  \n",
    "len(df_duplicated_departments_name)"
   ]
  },
  {
   "cell_type": "markdown",
   "id": "bd30d78e",
   "metadata": {
    "id": "bd30d78e"
   },
   "source": [
    "No hay valores duplicados"
   ]
  },
  {
   "cell_type": "markdown",
   "id": "889349c1",
   "metadata": {
    "id": "889349c1"
   },
   "source": [
    "### `aisles` data frame"
   ]
  },
  {
   "cell_type": "code",
   "execution_count": 29,
   "id": "9da89fb9-4679-40f5-ad0d-c34df753a3f8",
   "metadata": {
    "id": "9da89fb9-4679-40f5-ad0d-c34df753a3f8"
   },
   "outputs": [
    {
     "data": {
      "text/plain": [
       "0"
      ]
     },
     "execution_count": 29,
     "metadata": {},
     "output_type": "execute_result"
    }
   ],
   "source": [
    "df_duplicated_aisles = df_aisles[df_aisles.duplicated()] # Revisa si hay filas totalmente duplicadas UTILIZO duplicated() PARA VER SI HAY FILAS TOTALMENTE DUPLICADAS\n",
    "len(df_duplicated_aisles)"
   ]
  },
  {
   "cell_type": "code",
   "execution_count": 30,
   "id": "894ab55c",
   "metadata": {},
   "outputs": [
    {
     "data": {
      "text/html": [
       "<div>\n",
       "<style scoped>\n",
       "    .dataframe tbody tr th:only-of-type {\n",
       "        vertical-align: middle;\n",
       "    }\n",
       "\n",
       "    .dataframe tbody tr th {\n",
       "        vertical-align: top;\n",
       "    }\n",
       "\n",
       "    .dataframe thead th {\n",
       "        text-align: right;\n",
       "    }\n",
       "</style>\n",
       "<table border=\"1\" class=\"dataframe\">\n",
       "  <thead>\n",
       "    <tr style=\"text-align: right;\">\n",
       "      <th></th>\n",
       "      <th>aisle_id</th>\n",
       "      <th>aisle</th>\n",
       "    </tr>\n",
       "  </thead>\n",
       "  <tbody>\n",
       "  </tbody>\n",
       "</table>\n",
       "</div>"
      ],
      "text/plain": [
       "Empty DataFrame\n",
       "Columns: [aisle_id, aisle]\n",
       "Index: []"
      ]
     },
     "execution_count": 30,
     "metadata": {},
     "output_type": "execute_result"
    }
   ],
   "source": [
    "df_duplicated_aisles"
   ]
  },
  {
   "cell_type": "code",
   "execution_count": 31,
   "id": "da7c2822",
   "metadata": {
    "id": "da7c2822"
   },
   "outputs": [
    {
     "data": {
      "text/plain": [
       "0"
      ]
     },
     "execution_count": 31,
     "metadata": {},
     "output_type": "execute_result"
    }
   ],
   "source": [
    "df_duplicated_aisles_id = df_aisles[df_aisles.duplicated(subset= ['aisle_id'])] # Revisa si hay IDs duplicadas de productos UTILIZO duplicated() PARA VER SI HAY DUPLICADOS EN LA COLUMNA ''aisle_id'\n",
    "len(df_duplicated_aisles_id)"
   ]
  },
  {
   "cell_type": "code",
   "execution_count": 32,
   "id": "78192b95",
   "metadata": {},
   "outputs": [
    {
     "data": {
      "text/html": [
       "<div>\n",
       "<style scoped>\n",
       "    .dataframe tbody tr th:only-of-type {\n",
       "        vertical-align: middle;\n",
       "    }\n",
       "\n",
       "    .dataframe tbody tr th {\n",
       "        vertical-align: top;\n",
       "    }\n",
       "\n",
       "    .dataframe thead th {\n",
       "        text-align: right;\n",
       "    }\n",
       "</style>\n",
       "<table border=\"1\" class=\"dataframe\">\n",
       "  <thead>\n",
       "    <tr style=\"text-align: right;\">\n",
       "      <th></th>\n",
       "      <th>aisle_id</th>\n",
       "      <th>aisle</th>\n",
       "    </tr>\n",
       "  </thead>\n",
       "  <tbody>\n",
       "  </tbody>\n",
       "</table>\n",
       "</div>"
      ],
      "text/plain": [
       "Empty DataFrame\n",
       "Columns: [aisle_id, aisle]\n",
       "Index: []"
      ]
     },
     "execution_count": 32,
     "metadata": {},
     "output_type": "execute_result"
    }
   ],
   "source": [
    "df_duplicated_aisles_id"
   ]
  },
  {
   "cell_type": "code",
   "execution_count": 33,
   "id": "f9d559e5",
   "metadata": {},
   "outputs": [
    {
     "data": {
      "text/html": [
       "<div>\n",
       "<style scoped>\n",
       "    .dataframe tbody tr th:only-of-type {\n",
       "        vertical-align: middle;\n",
       "    }\n",
       "\n",
       "    .dataframe tbody tr th {\n",
       "        vertical-align: top;\n",
       "    }\n",
       "\n",
       "    .dataframe thead th {\n",
       "        text-align: right;\n",
       "    }\n",
       "</style>\n",
       "<table border=\"1\" class=\"dataframe\">\n",
       "  <thead>\n",
       "    <tr style=\"text-align: right;\">\n",
       "      <th></th>\n",
       "      <th>aisle_id</th>\n",
       "      <th>aisle</th>\n",
       "      <th>aisle_name_mayus</th>\n",
       "    </tr>\n",
       "  </thead>\n",
       "  <tbody>\n",
       "    <tr>\n",
       "      <th>0</th>\n",
       "      <td>1</td>\n",
       "      <td>prepared soups salads</td>\n",
       "      <td>PREPARED SOUPS SALADS</td>\n",
       "    </tr>\n",
       "    <tr>\n",
       "      <th>1</th>\n",
       "      <td>2</td>\n",
       "      <td>specialty cheeses</td>\n",
       "      <td>SPECIALTY CHEESES</td>\n",
       "    </tr>\n",
       "    <tr>\n",
       "      <th>2</th>\n",
       "      <td>3</td>\n",
       "      <td>energy granola bars</td>\n",
       "      <td>ENERGY GRANOLA BARS</td>\n",
       "    </tr>\n",
       "    <tr>\n",
       "      <th>3</th>\n",
       "      <td>4</td>\n",
       "      <td>instant foods</td>\n",
       "      <td>INSTANT FOODS</td>\n",
       "    </tr>\n",
       "    <tr>\n",
       "      <th>4</th>\n",
       "      <td>5</td>\n",
       "      <td>marinades meat preparation</td>\n",
       "      <td>MARINADES MEAT PREPARATION</td>\n",
       "    </tr>\n",
       "    <tr>\n",
       "      <th>5</th>\n",
       "      <td>6</td>\n",
       "      <td>other</td>\n",
       "      <td>OTHER</td>\n",
       "    </tr>\n",
       "    <tr>\n",
       "      <th>6</th>\n",
       "      <td>7</td>\n",
       "      <td>packaged meat</td>\n",
       "      <td>PACKAGED MEAT</td>\n",
       "    </tr>\n",
       "    <tr>\n",
       "      <th>7</th>\n",
       "      <td>8</td>\n",
       "      <td>bakery desserts</td>\n",
       "      <td>BAKERY DESSERTS</td>\n",
       "    </tr>\n",
       "    <tr>\n",
       "      <th>8</th>\n",
       "      <td>9</td>\n",
       "      <td>pasta sauce</td>\n",
       "      <td>PASTA SAUCE</td>\n",
       "    </tr>\n",
       "    <tr>\n",
       "      <th>9</th>\n",
       "      <td>10</td>\n",
       "      <td>kitchen supplies</td>\n",
       "      <td>KITCHEN SUPPLIES</td>\n",
       "    </tr>\n",
       "  </tbody>\n",
       "</table>\n",
       "</div>"
      ],
      "text/plain": [
       "   aisle_id                       aisle            aisle_name_mayus\n",
       "0         1       prepared soups salads       PREPARED SOUPS SALADS\n",
       "1         2           specialty cheeses           SPECIALTY CHEESES\n",
       "2         3         energy granola bars         ENERGY GRANOLA BARS\n",
       "3         4               instant foods               INSTANT FOODS\n",
       "4         5  marinades meat preparation  MARINADES MEAT PREPARATION\n",
       "5         6                       other                       OTHER\n",
       "6         7               packaged meat               PACKAGED MEAT\n",
       "7         8             bakery desserts             BAKERY DESSERTS\n",
       "8         9                 pasta sauce                 PASTA SAUCE\n",
       "9        10            kitchen supplies            KITCHEN SUPPLIES"
      ]
     },
     "execution_count": 33,
     "metadata": {},
     "output_type": "execute_result"
    }
   ],
   "source": [
    "df_aisles['aisle_name_mayus'] = df_aisles['aisle'].str.upper() # UTILIZO str.upper() Y CREO UNA COLUMNA NUEVA EN EL DATAFRAME PARA COMPARAR\n",
    "df_aisles.head(10)"
   ]
  },
  {
   "cell_type": "code",
   "execution_count": 34,
   "id": "3fb3ddef",
   "metadata": {},
   "outputs": [
    {
     "data": {
      "text/plain": [
       "0"
      ]
     },
     "execution_count": 34,
     "metadata": {},
     "output_type": "execute_result"
    }
   ],
   "source": [
    "df_duplicated_aisles_name = df_aisles[(~df_aisles['aisle'].isna()) & df_aisles['aisle_name_mayus'].duplicated()] # # Revisa si hay nombres duplicados de productos (convierte los nombres a letras mayúsculas para compararlos mejor) UTILIZO EL CODIGO QUE ME SUGIRIO PARA FILTRAR LOS NOMBRES DUPLICADOS  \n",
    "len(df_duplicated_aisles_name)"
   ]
  },
  {
   "cell_type": "markdown",
   "id": "ac63826f",
   "metadata": {
    "id": "ac63826f"
   },
   "source": [
    "No hay valores duplicados"
   ]
  },
  {
   "cell_type": "markdown",
   "id": "274cd06a",
   "metadata": {
    "id": "274cd06a"
   },
   "source": [
    "### `order_products` data frame"
   ]
  },
  {
   "cell_type": "code",
   "execution_count": 35,
   "id": "52326689-84a8-4b8f-a881-7c68780f62c9",
   "metadata": {
    "id": "52326689-84a8-4b8f-a881-7c68780f62c9"
   },
   "outputs": [
    {
     "data": {
      "text/plain": [
       "0"
      ]
     },
     "execution_count": 35,
     "metadata": {},
     "output_type": "execute_result"
    }
   ],
   "source": [
    "df_duplicated_order_products = df_order_products[df_order_products.duplicated()] # Revisa si hay filas totalmente duplicadas UTILIZO duplicated() PARA VER SI HAY FILAS TOTALMENTE DUPLICADAS\n",
    "len(df_duplicated_order_products)"
   ]
  },
  {
   "cell_type": "code",
   "execution_count": 36,
   "id": "7118bec2",
   "metadata": {},
   "outputs": [
    {
     "data": {
      "text/html": [
       "<div>\n",
       "<style scoped>\n",
       "    .dataframe tbody tr th:only-of-type {\n",
       "        vertical-align: middle;\n",
       "    }\n",
       "\n",
       "    .dataframe tbody tr th {\n",
       "        vertical-align: top;\n",
       "    }\n",
       "\n",
       "    .dataframe thead th {\n",
       "        text-align: right;\n",
       "    }\n",
       "</style>\n",
       "<table border=\"1\" class=\"dataframe\">\n",
       "  <thead>\n",
       "    <tr style=\"text-align: right;\">\n",
       "      <th></th>\n",
       "      <th>order_id</th>\n",
       "      <th>product_id</th>\n",
       "      <th>add_to_cart_order</th>\n",
       "      <th>reordered</th>\n",
       "    </tr>\n",
       "  </thead>\n",
       "  <tbody>\n",
       "  </tbody>\n",
       "</table>\n",
       "</div>"
      ],
      "text/plain": [
       "Empty DataFrame\n",
       "Columns: [order_id, product_id, add_to_cart_order, reordered]\n",
       "Index: []"
      ]
     },
     "execution_count": 36,
     "metadata": {},
     "output_type": "execute_result"
    }
   ],
   "source": [
    "df_duplicated_order_products"
   ]
  },
  {
   "cell_type": "code",
   "execution_count": 37,
   "id": "7b861391",
   "metadata": {
    "id": "7b861391"
   },
   "outputs": [
    {
     "data": {
      "text/plain": [
       "4094961"
      ]
     },
     "execution_count": 37,
     "metadata": {},
     "output_type": "execute_result"
    }
   ],
   "source": [
    "df_duplicated_order_products_order_id = df_order_products[df_order_products.duplicated(subset= ['order_id'])] # Revisa si hay IDs duplicadas de productos UTILIZO duplicated() PARA VER SI HAY DUPLICADOS EN LA COLUMNA 'order_id'\n",
    "len(df_duplicated_order_products_order_id) "
   ]
  },
  {
   "cell_type": "code",
   "execution_count": 38,
   "id": "e875faa4",
   "metadata": {},
   "outputs": [
    {
     "data": {
      "text/plain": [
       "61355      127\n",
       "3308010    115\n",
       "2136777    108\n",
       "171934     104\n",
       "1959075     98\n",
       "          ... \n",
       "54659        1\n",
       "210431       1\n",
       "1717983      1\n",
       "1136563      1\n",
       "8196         1\n",
       "Name: order_id, Length: 450046, dtype: int64"
      ]
     },
     "execution_count": 38,
     "metadata": {},
     "output_type": "execute_result"
    }
   ],
   "source": [
    "df_order_products['order_id'].value_counts()"
   ]
  },
  {
   "cell_type": "code",
   "execution_count": 39,
   "id": "e721b13b",
   "metadata": {},
   "outputs": [
    {
     "data": {
      "text/plain": [
       "450046"
      ]
     },
     "execution_count": 39,
     "metadata": {},
     "output_type": "execute_result"
    }
   ],
   "source": [
    "df_order_products['order_id'].nunique()"
   ]
  },
  {
   "cell_type": "code",
   "execution_count": 40,
   "id": "f877fe3d",
   "metadata": {},
   "outputs": [
    {
     "data": {
      "text/plain": [
       "24852    66050\n",
       "13176    53297\n",
       "21137    37039\n",
       "21903    33971\n",
       "47209    29773\n",
       "         ...  \n",
       "10543        1\n",
       "5222         1\n",
       "2347         1\n",
       "11893        1\n",
       "32074        1\n",
       "Name: product_id, Length: 45573, dtype: int64"
      ]
     },
     "execution_count": 40,
     "metadata": {},
     "output_type": "execute_result"
    }
   ],
   "source": [
    "df_order_products['product_id'].value_counts()"
   ]
  },
  {
   "cell_type": "code",
   "execution_count": 41,
   "id": "a9caa212",
   "metadata": {},
   "outputs": [
    {
     "data": {
      "text/plain": [
       "45573"
      ]
     },
     "execution_count": 41,
     "metadata": {},
     "output_type": "execute_result"
    }
   ],
   "source": [
    "df_order_products['product_id'].nunique()"
   ]
  },
  {
   "cell_type": "code",
   "execution_count": 42,
   "id": "d2c8721a",
   "metadata": {},
   "outputs": [
    {
     "data": {
      "text/plain": [
       "1.0     450046\n",
       "2.0     428199\n",
       "3.0     401907\n",
       "4.0     372861\n",
       "5.0     341807\n",
       "         ...  \n",
       "60.0       127\n",
       "61.0       114\n",
       "62.0        98\n",
       "63.0        87\n",
       "64.0        75\n",
       "Name: add_to_cart_order, Length: 64, dtype: int64"
      ]
     },
     "execution_count": 42,
     "metadata": {},
     "output_type": "execute_result"
    }
   ],
   "source": [
    "df_order_products['add_to_cart_order'].value_counts()"
   ]
  },
  {
   "cell_type": "code",
   "execution_count": 43,
   "id": "9b1a8296",
   "metadata": {},
   "outputs": [
    {
     "data": {
      "text/plain": [
       "64"
      ]
     },
     "execution_count": 43,
     "metadata": {},
     "output_type": "execute_result"
    }
   ],
   "source": [
    "df_order_products['add_to_cart_order'].nunique()"
   ]
  },
  {
   "cell_type": "code",
   "execution_count": 44,
   "id": "db0dcc87",
   "metadata": {},
   "outputs": [
    {
     "data": {
      "text/plain": [
       "1    2683838\n",
       "0    1861169\n",
       "Name: reordered, dtype: int64"
      ]
     },
     "execution_count": 44,
     "metadata": {},
     "output_type": "execute_result"
    }
   ],
   "source": [
    "df_order_products['reordered'].value_counts()"
   ]
  },
  {
   "cell_type": "code",
   "execution_count": 45,
   "id": "2d234d64",
   "metadata": {},
   "outputs": [
    {
     "data": {
      "text/plain": [
       "2"
      ]
     },
     "execution_count": 45,
     "metadata": {},
     "output_type": "execute_result"
    }
   ],
   "source": [
    "df_order_products['reordered'].nunique()"
   ]
  },
  {
   "cell_type": "markdown",
   "id": "0b890492",
   "metadata": {
    "id": "0b890492"
   },
   "source": [
    "Los valores que se repiten son 'order_id' pero eso es porque esta asociada a 'product_id', es decir un numero de pedido se repitara tantas veces dependiendo de cuantos productos tenga por lo que no se pueden considerar duplicados a los valores repetidos de la columna 'order_id' y el mismo tratamiento corresponde para 'product_id', 'add_to_cart_order' y 'reordered'."
   ]
  },
  {
   "cell_type": "markdown",
   "id": "1e46de76",
   "metadata": {
    "id": "1e46de76"
   },
   "source": [
    "## Encuentra y elimina los valores ausentes\n",
    "\n",
    "Al trabajar con valores duplicados, pudimos observar que también nos falta investigar valores ausentes:\n",
    "\n",
    "* La columna `'product_name'` de la tabla products.\n",
    "* La columna `'days_since_prior_order'` de la tabla orders.\n",
    "* La columna `'add_to_cart_order'` de la tabla order_productos."
   ]
  },
  {
   "cell_type": "markdown",
   "id": "c0aebd78",
   "metadata": {
    "id": "c0aebd78"
   },
   "source": [
    "### `products` data frame"
   ]
  },
  {
   "cell_type": "code",
   "execution_count": 46,
   "id": "fe4a8b0f",
   "metadata": {
    "id": "fe4a8b0f"
   },
   "outputs": [
    {
     "data": {
      "text/plain": [
       "product_id            0\n",
       "product_name          1\n",
       "aisle_id              0\n",
       "department_id         0\n",
       "product_name_mayus    1\n",
       "dtype: int64"
      ]
     },
     "execution_count": 46,
     "metadata": {},
     "output_type": "execute_result"
    }
   ],
   "source": [
    "df_products.isna().sum() # Encuentra los valores ausentes en la columna 'product_name' UTILIZO isna().sum()"
   ]
  },
  {
   "cell_type": "code",
   "execution_count": 47,
   "id": "f21ef3c8",
   "metadata": {},
   "outputs": [
    {
     "data": {
      "text/html": [
       "<div>\n",
       "<style scoped>\n",
       "    .dataframe tbody tr th:only-of-type {\n",
       "        vertical-align: middle;\n",
       "    }\n",
       "\n",
       "    .dataframe tbody tr th {\n",
       "        vertical-align: top;\n",
       "    }\n",
       "\n",
       "    .dataframe thead th {\n",
       "        text-align: right;\n",
       "    }\n",
       "</style>\n",
       "<table border=\"1\" class=\"dataframe\">\n",
       "  <thead>\n",
       "    <tr style=\"text-align: right;\">\n",
       "      <th></th>\n",
       "      <th>product_id</th>\n",
       "      <th>product_name</th>\n",
       "      <th>aisle_id</th>\n",
       "      <th>department_id</th>\n",
       "      <th>product_name_mayus</th>\n",
       "    </tr>\n",
       "  </thead>\n",
       "  <tbody>\n",
       "    <tr>\n",
       "      <th>37</th>\n",
       "      <td>38</td>\n",
       "      <td>NaN</td>\n",
       "      <td>100</td>\n",
       "      <td>21</td>\n",
       "      <td>NaN</td>\n",
       "    </tr>\n",
       "  </tbody>\n",
       "</table>\n",
       "</div>"
      ],
      "text/plain": [
       "    product_id product_name  aisle_id  department_id product_name_mayus\n",
       "37          38          NaN       100             21                NaN"
      ]
     },
     "execution_count": 47,
     "metadata": {},
     "output_type": "execute_result"
    }
   ],
   "source": [
    "df_products[df_products['product_name'].isna()]"
   ]
  },
  {
   "cell_type": "markdown",
   "id": "-A6x1AbJhjkp",
   "metadata": {
    "id": "-A6x1AbJhjkp"
   },
   "source": [
    "El 'product_id' 38 que pertenece al pasillo 100 en el departamento 21 esta como ausente. "
   ]
  },
  {
   "cell_type": "code",
   "execution_count": 48,
   "id": "e96167bc",
   "metadata": {
    "id": "e96167bc"
   },
   "outputs": [
    {
     "data": {
      "text/html": [
       "<div>\n",
       "<style scoped>\n",
       "    .dataframe tbody tr th:only-of-type {\n",
       "        vertical-align: middle;\n",
       "    }\n",
       "\n",
       "    .dataframe tbody tr th {\n",
       "        vertical-align: top;\n",
       "    }\n",
       "\n",
       "    .dataframe thead th {\n",
       "        text-align: right;\n",
       "    }\n",
       "</style>\n",
       "<table border=\"1\" class=\"dataframe\">\n",
       "  <thead>\n",
       "    <tr style=\"text-align: right;\">\n",
       "      <th></th>\n",
       "      <th>product_id</th>\n",
       "      <th>product_name</th>\n",
       "      <th>aisle_id</th>\n",
       "      <th>department_id</th>\n",
       "      <th>product_name_mayus</th>\n",
       "    </tr>\n",
       "  </thead>\n",
       "  <tbody>\n",
       "    <tr>\n",
       "      <th>37</th>\n",
       "      <td>38</td>\n",
       "      <td>NaN</td>\n",
       "      <td>100</td>\n",
       "      <td>21</td>\n",
       "      <td>NaN</td>\n",
       "    </tr>\n",
       "  </tbody>\n",
       "</table>\n",
       "</div>"
      ],
      "text/plain": [
       "    product_id product_name  aisle_id  department_id product_name_mayus\n",
       "37          38          NaN       100             21                NaN"
      ]
     },
     "execution_count": 48,
     "metadata": {},
     "output_type": "execute_result"
    }
   ],
   "source": [
    "df_products[df_products['product_name'].isna() | (df_products['aisle_id'] == 100)] #  ¿Todos los nombres de productos ausentes están relacionados con el pasillo con ID 100? UTILIZO LA CONEXION LOGICA '|' PARA DAR OPCION A QUE SEA 'NAN' O AISLE '100'"
   ]
  },
  {
   "cell_type": "markdown",
   "id": "WRpIfXRphpSL",
   "metadata": {
    "id": "WRpIfXRphpSL"
   },
   "source": [
    "En el pasillo 100 solo hay un producto con NAN que ademas es el unico con NAN."
   ]
  },
  {
   "cell_type": "code",
   "execution_count": 49,
   "id": "8fd0a541",
   "metadata": {
    "id": "8fd0a541"
   },
   "outputs": [
    {
     "data": {
      "text/html": [
       "<div>\n",
       "<style scoped>\n",
       "    .dataframe tbody tr th:only-of-type {\n",
       "        vertical-align: middle;\n",
       "    }\n",
       "\n",
       "    .dataframe tbody tr th {\n",
       "        vertical-align: top;\n",
       "    }\n",
       "\n",
       "    .dataframe thead th {\n",
       "        text-align: right;\n",
       "    }\n",
       "</style>\n",
       "<table border=\"1\" class=\"dataframe\">\n",
       "  <thead>\n",
       "    <tr style=\"text-align: right;\">\n",
       "      <th></th>\n",
       "      <th>product_id</th>\n",
       "      <th>product_name</th>\n",
       "      <th>aisle_id</th>\n",
       "      <th>department_id</th>\n",
       "      <th>product_name_mayus</th>\n",
       "    </tr>\n",
       "  </thead>\n",
       "  <tbody>\n",
       "    <tr>\n",
       "      <th>37</th>\n",
       "      <td>38</td>\n",
       "      <td>NaN</td>\n",
       "      <td>100</td>\n",
       "      <td>21</td>\n",
       "      <td>NaN</td>\n",
       "    </tr>\n",
       "  </tbody>\n",
       "</table>\n",
       "</div>"
      ],
      "text/plain": [
       "    product_id product_name  aisle_id  department_id product_name_mayus\n",
       "37          38          NaN       100             21                NaN"
      ]
     },
     "execution_count": 49,
     "metadata": {},
     "output_type": "execute_result"
    }
   ],
   "source": [
    "df_products[df_products['product_name'].isna() | (df_products['department_id'] == 21)] # ¿Todos los nombres de productos ausentes están relacionados con el departamento con ID 21? UTILIZO LA CONEXION LOGICA '|' PARA DAR OPCION A QUE SEA 'NAN' O DEPARTMENT '21'"
   ]
  },
  {
   "cell_type": "markdown",
   "id": "qDpdYn1Fht_I",
   "metadata": {
    "id": "qDpdYn1Fht_I"
   },
   "source": [
    "En el departamento 21 solo hay un producto con NAN que ademas es el unico con NAN."
   ]
  },
  {
   "cell_type": "code",
   "execution_count": 50,
   "id": "325c3464",
   "metadata": {
    "id": "325c3464"
   },
   "outputs": [
    {
     "data": {
      "text/html": [
       "<div>\n",
       "<style scoped>\n",
       "    .dataframe tbody tr th:only-of-type {\n",
       "        vertical-align: middle;\n",
       "    }\n",
       "\n",
       "    .dataframe tbody tr th {\n",
       "        vertical-align: top;\n",
       "    }\n",
       "\n",
       "    .dataframe thead th {\n",
       "        text-align: right;\n",
       "    }\n",
       "</style>\n",
       "<table border=\"1\" class=\"dataframe\">\n",
       "  <thead>\n",
       "    <tr style=\"text-align: right;\">\n",
       "      <th></th>\n",
       "      <th>product_id</th>\n",
       "      <th>product_name</th>\n",
       "      <th>aisle_id</th>\n",
       "      <th>department_id</th>\n",
       "      <th>product_name_mayus</th>\n",
       "    </tr>\n",
       "  </thead>\n",
       "  <tbody>\n",
       "    <tr>\n",
       "      <th>37</th>\n",
       "      <td>38</td>\n",
       "      <td>NaN</td>\n",
       "      <td>100</td>\n",
       "      <td>21</td>\n",
       "      <td>NaN</td>\n",
       "    </tr>\n",
       "  </tbody>\n",
       "</table>\n",
       "</div>"
      ],
      "text/plain": [
       "    product_id product_name  aisle_id  department_id product_name_mayus\n",
       "37          38          NaN       100             21                NaN"
      ]
     },
     "execution_count": 50,
     "metadata": {},
     "output_type": "execute_result"
    }
   ],
   "source": [
    "df_products[(df_products['department_id'] == 21) & (df_products['aisle_id'] == 100)] # Usa las tablas department y aisle para revisar los datos del pasillo con ID 100 y el departamento con ID 21."
   ]
  },
  {
   "cell_type": "markdown",
   "id": "nqhSTUPhhvEJ",
   "metadata": {
    "id": "nqhSTUPhhvEJ"
   },
   "source": [
    "Indica el producto que se muestra como ausente NAN previamente"
   ]
  },
  {
   "cell_type": "code",
   "execution_count": 51,
   "id": "6b295120",
   "metadata": {
    "id": "6b295120"
   },
   "outputs": [],
   "source": [
    "df_products['product_name'] = df_products['product_name'].fillna(value='Unknown') # Completa los nombres de productos ausentes con 'Unknown'"
   ]
  },
  {
   "cell_type": "code",
   "execution_count": 52,
   "id": "8c61d762",
   "metadata": {},
   "outputs": [
    {
     "data": {
      "text/html": [
       "<div>\n",
       "<style scoped>\n",
       "    .dataframe tbody tr th:only-of-type {\n",
       "        vertical-align: middle;\n",
       "    }\n",
       "\n",
       "    .dataframe tbody tr th {\n",
       "        vertical-align: top;\n",
       "    }\n",
       "\n",
       "    .dataframe thead th {\n",
       "        text-align: right;\n",
       "    }\n",
       "</style>\n",
       "<table border=\"1\" class=\"dataframe\">\n",
       "  <thead>\n",
       "    <tr style=\"text-align: right;\">\n",
       "      <th></th>\n",
       "      <th>product_id</th>\n",
       "      <th>product_name</th>\n",
       "      <th>aisle_id</th>\n",
       "      <th>department_id</th>\n",
       "      <th>product_name_mayus</th>\n",
       "    </tr>\n",
       "  </thead>\n",
       "  <tbody>\n",
       "    <tr>\n",
       "      <th>37</th>\n",
       "      <td>38</td>\n",
       "      <td>Unknown</td>\n",
       "      <td>100</td>\n",
       "      <td>21</td>\n",
       "      <td>NaN</td>\n",
       "    </tr>\n",
       "  </tbody>\n",
       "</table>\n",
       "</div>"
      ],
      "text/plain": [
       "    product_id product_name  aisle_id  department_id product_name_mayus\n",
       "37          38      Unknown       100             21                NaN"
      ]
     },
     "execution_count": 52,
     "metadata": {},
     "output_type": "execute_result"
    }
   ],
   "source": [
    "df_products[df_products['product_name'] == 'Unknown']"
   ]
  },
  {
   "cell_type": "markdown",
   "id": "fc70e5ad",
   "metadata": {
    "id": "fc70e5ad"
   },
   "source": [
    "EL dataframe ya no contiene valores ausentes fueron reemplazados 'Unknown'"
   ]
  },
  {
   "cell_type": "markdown",
   "id": "05fabd8b",
   "metadata": {},
   "source": [
    "\n",
    "<div class=\"alert alert-block alert-success\">\n",
    "<b>Comentario del revisor</b> <a class=\"tocSkip\"></a>\n",
    "\n",
    "Muy buen trabajo!! Desarrollaste de manera excelente el análisis de valores faltantes y los llenaste con \"unknown\".\n",
    "    \n",
    "</div>"
   ]
  },
  {
   "cell_type": "markdown",
   "id": "7eb45c86",
   "metadata": {
    "id": "7eb45c86"
   },
   "source": [
    "### `orders` data frame"
   ]
  },
  {
   "cell_type": "code",
   "execution_count": 53,
   "id": "93e41d96",
   "metadata": {
    "id": "93e41d96"
   },
   "outputs": [
    {
     "data": {
      "text/plain": [
       "order_id               0\n",
       "product_id             0\n",
       "add_to_cart_order    836\n",
       "reordered              0\n",
       "dtype: int64"
      ]
     },
     "execution_count": 53,
     "metadata": {},
     "output_type": "execute_result"
    }
   ],
   "source": [
    "df_order_products.isna().sum() # Encuentra los valores ausentes"
   ]
  },
  {
   "cell_type": "code",
   "execution_count": 54,
   "id": "8600dbb1",
   "metadata": {},
   "outputs": [
    {
     "data": {
      "text/plain": [
       "order_id                      0\n",
       "user_id                       0\n",
       "order_number                  0\n",
       "order_dow                     0\n",
       "order_hour_of_day             0\n",
       "days_since_prior_order    28817\n",
       "dtype: int64"
      ]
     },
     "execution_count": 54,
     "metadata": {},
     "output_type": "execute_result"
    }
   ],
   "source": [
    "df_instacart_orders.isna().sum()"
   ]
  },
  {
   "cell_type": "code",
   "execution_count": 55,
   "id": "166e5a86",
   "metadata": {
    "id": "166e5a86"
   },
   "outputs": [
    {
     "data": {
      "text/html": [
       "<div>\n",
       "<style scoped>\n",
       "    .dataframe tbody tr th:only-of-type {\n",
       "        vertical-align: middle;\n",
       "    }\n",
       "\n",
       "    .dataframe tbody tr th {\n",
       "        vertical-align: top;\n",
       "    }\n",
       "\n",
       "    .dataframe thead th {\n",
       "        text-align: right;\n",
       "    }\n",
       "</style>\n",
       "<table border=\"1\" class=\"dataframe\">\n",
       "  <thead>\n",
       "    <tr style=\"text-align: right;\">\n",
       "      <th></th>\n",
       "      <th>order_id</th>\n",
       "      <th>product_id</th>\n",
       "      <th>add_to_cart_order</th>\n",
       "      <th>reordered</th>\n",
       "      <th>user_id</th>\n",
       "      <th>order_number</th>\n",
       "      <th>order_dow</th>\n",
       "      <th>order_hour_of_day</th>\n",
       "      <th>days_since_prior_order</th>\n",
       "    </tr>\n",
       "  </thead>\n",
       "  <tbody>\n",
       "    <tr>\n",
       "      <th>4146</th>\n",
       "      <td>2094761</td>\n",
       "      <td>5194</td>\n",
       "      <td>NaN</td>\n",
       "      <td>1</td>\n",
       "      <td>49295</td>\n",
       "      <td>21</td>\n",
       "      <td>6</td>\n",
       "      <td>16</td>\n",
       "      <td>30.0</td>\n",
       "    </tr>\n",
       "    <tr>\n",
       "      <th>4159</th>\n",
       "      <td>2094761</td>\n",
       "      <td>47888</td>\n",
       "      <td>NaN</td>\n",
       "      <td>1</td>\n",
       "      <td>49295</td>\n",
       "      <td>21</td>\n",
       "      <td>6</td>\n",
       "      <td>16</td>\n",
       "      <td>30.0</td>\n",
       "    </tr>\n",
       "    <tr>\n",
       "      <th>4164</th>\n",
       "      <td>2094761</td>\n",
       "      <td>17545</td>\n",
       "      <td>NaN</td>\n",
       "      <td>1</td>\n",
       "      <td>49295</td>\n",
       "      <td>21</td>\n",
       "      <td>6</td>\n",
       "      <td>16</td>\n",
       "      <td>30.0</td>\n",
       "    </tr>\n",
       "    <tr>\n",
       "      <th>4168</th>\n",
       "      <td>2094761</td>\n",
       "      <td>812</td>\n",
       "      <td>NaN</td>\n",
       "      <td>1</td>\n",
       "      <td>49295</td>\n",
       "      <td>21</td>\n",
       "      <td>6</td>\n",
       "      <td>16</td>\n",
       "      <td>30.0</td>\n",
       "    </tr>\n",
       "    <tr>\n",
       "      <th>4171</th>\n",
       "      <td>2094761</td>\n",
       "      <td>47862</td>\n",
       "      <td>NaN</td>\n",
       "      <td>0</td>\n",
       "      <td>49295</td>\n",
       "      <td>21</td>\n",
       "      <td>6</td>\n",
       "      <td>16</td>\n",
       "      <td>30.0</td>\n",
       "    </tr>\n",
       "    <tr>\n",
       "      <th>...</th>\n",
       "      <td>...</td>\n",
       "      <td>...</td>\n",
       "      <td>...</td>\n",
       "      <td>...</td>\n",
       "      <td>...</td>\n",
       "      <td>...</td>\n",
       "      <td>...</td>\n",
       "      <td>...</td>\n",
       "      <td>...</td>\n",
       "    </tr>\n",
       "    <tr>\n",
       "      <th>1974713</th>\n",
       "      <td>2721963</td>\n",
       "      <td>9178</td>\n",
       "      <td>NaN</td>\n",
       "      <td>0</td>\n",
       "      <td>206108</td>\n",
       "      <td>11</td>\n",
       "      <td>0</td>\n",
       "      <td>0</td>\n",
       "      <td>11.0</td>\n",
       "    </tr>\n",
       "    <tr>\n",
       "      <th>1974717</th>\n",
       "      <td>2721963</td>\n",
       "      <td>8518</td>\n",
       "      <td>NaN</td>\n",
       "      <td>1</td>\n",
       "      <td>206108</td>\n",
       "      <td>11</td>\n",
       "      <td>0</td>\n",
       "      <td>0</td>\n",
       "      <td>11.0</td>\n",
       "    </tr>\n",
       "    <tr>\n",
       "      <th>1974719</th>\n",
       "      <td>2721963</td>\n",
       "      <td>38383</td>\n",
       "      <td>NaN</td>\n",
       "      <td>1</td>\n",
       "      <td>206108</td>\n",
       "      <td>11</td>\n",
       "      <td>0</td>\n",
       "      <td>0</td>\n",
       "      <td>11.0</td>\n",
       "    </tr>\n",
       "    <tr>\n",
       "      <th>2128397</th>\n",
       "      <td>1677118</td>\n",
       "      <td>13516</td>\n",
       "      <td>NaN</td>\n",
       "      <td>1</td>\n",
       "      <td>181317</td>\n",
       "      <td>20</td>\n",
       "      <td>1</td>\n",
       "      <td>4</td>\n",
       "      <td>18.0</td>\n",
       "    </tr>\n",
       "    <tr>\n",
       "      <th>2157254</th>\n",
       "      <td>2170451</td>\n",
       "      <td>16965</td>\n",
       "      <td>NaN</td>\n",
       "      <td>1</td>\n",
       "      <td>97899</td>\n",
       "      <td>38</td>\n",
       "      <td>1</td>\n",
       "      <td>10</td>\n",
       "      <td>7.0</td>\n",
       "    </tr>\n",
       "  </tbody>\n",
       "</table>\n",
       "<p>794 rows × 9 columns</p>\n",
       "</div>"
      ],
      "text/plain": [
       "         order_id  product_id  add_to_cart_order  reordered  user_id  \\\n",
       "4146      2094761        5194                NaN          1    49295   \n",
       "4159      2094761       47888                NaN          1    49295   \n",
       "4164      2094761       17545                NaN          1    49295   \n",
       "4168      2094761         812                NaN          1    49295   \n",
       "4171      2094761       47862                NaN          0    49295   \n",
       "...           ...         ...                ...        ...      ...   \n",
       "1974713   2721963        9178                NaN          0   206108   \n",
       "1974717   2721963        8518                NaN          1   206108   \n",
       "1974719   2721963       38383                NaN          1   206108   \n",
       "2128397   1677118       13516                NaN          1   181317   \n",
       "2157254   2170451       16965                NaN          1    97899   \n",
       "\n",
       "         order_number  order_dow  order_hour_of_day  days_since_prior_order  \n",
       "4146               21          6                 16                    30.0  \n",
       "4159               21          6                 16                    30.0  \n",
       "4164               21          6                 16                    30.0  \n",
       "4168               21          6                 16                    30.0  \n",
       "4171               21          6                 16                    30.0  \n",
       "...               ...        ...                ...                     ...  \n",
       "1974713            11          0                  0                    11.0  \n",
       "1974717            11          0                  0                    11.0  \n",
       "1974719            11          0                  0                    11.0  \n",
       "2128397            20          1                  4                    18.0  \n",
       "2157254            38          1                 10                     7.0  \n",
       "\n",
       "[794 rows x 9 columns]"
      ]
     },
     "execution_count": 55,
     "metadata": {},
     "output_type": "execute_result"
    }
   ],
   "source": [
    "df_merged = df_merged = df_order_products.merge(df_instacart_orders, on='order_id') # UTILIZO merge() PARA PODER UNIR LOS DOS DATAFRAMES Y REALIZAR EL ANALISIS\n",
    "df_merged_filtered = df_merged[(df_merged['add_to_cart_order'].isna()) & (df_merged['order_number'] != 1)] # ¿Hay algún valor ausente que no sea el primer pedido del cliente? UTILIZO LA CONEXION LOGICA '&'\n",
    "df_merged_filtered"
   ]
  },
  {
   "cell_type": "code",
   "execution_count": 56,
   "id": "6d73219a",
   "metadata": {},
   "outputs": [
    {
     "data": {
      "text/plain": [
       "67"
      ]
     },
     "execution_count": 56,
     "metadata": {},
     "output_type": "execute_result"
    }
   ],
   "source": [
    "df_merged_filtered_total = df_merged_filtered['order_id'].nunique() # UTILIZO nunique() PARA TOTALIZAR LOS PEDIDOS CON VALORES AUSENTES \n",
    "df_merged_filtered_total"
   ]
  },
  {
   "cell_type": "markdown",
   "id": "4e23d089",
   "metadata": {
    "id": "4e23d089"
   },
   "source": [
    "Si hay 794 valores ausentes que corresponden a 67 pedidos que no son el primero pedido del cliente"
   ]
  },
  {
   "cell_type": "markdown",
   "id": "69dc9ca4",
   "metadata": {
    "id": "69dc9ca4"
   },
   "source": [
    "### `order_products` data frame"
   ]
  },
  {
   "cell_type": "code",
   "execution_count": 57,
   "id": "b8240253",
   "metadata": {
    "id": "b8240253"
   },
   "outputs": [
    {
     "data": {
      "text/plain": [
       "order_id               0\n",
       "product_id             0\n",
       "add_to_cart_order    836\n",
       "reordered              0\n",
       "dtype: int64"
      ]
     },
     "execution_count": 57,
     "metadata": {},
     "output_type": "execute_result"
    }
   ],
   "source": [
    "df_order_products.isna().sum() # Encuentra los valores ausentes UTILIZO isna().sum()"
   ]
  },
  {
   "cell_type": "code",
   "execution_count": 58,
   "id": "8a73944b",
   "metadata": {},
   "outputs": [
    {
     "data": {
      "text/html": [
       "<div>\n",
       "<style scoped>\n",
       "    .dataframe tbody tr th:only-of-type {\n",
       "        vertical-align: middle;\n",
       "    }\n",
       "\n",
       "    .dataframe tbody tr th {\n",
       "        vertical-align: top;\n",
       "    }\n",
       "\n",
       "    .dataframe thead th {\n",
       "        text-align: right;\n",
       "    }\n",
       "</style>\n",
       "<table border=\"1\" class=\"dataframe\">\n",
       "  <thead>\n",
       "    <tr style=\"text-align: right;\">\n",
       "      <th></th>\n",
       "      <th>order_id</th>\n",
       "      <th>product_id</th>\n",
       "      <th>add_to_cart_order</th>\n",
       "      <th>reordered</th>\n",
       "    </tr>\n",
       "  </thead>\n",
       "  <tbody>\n",
       "    <tr>\n",
       "      <th>737</th>\n",
       "      <td>2449164</td>\n",
       "      <td>5068</td>\n",
       "      <td>NaN</td>\n",
       "      <td>0</td>\n",
       "    </tr>\n",
       "    <tr>\n",
       "      <th>9926</th>\n",
       "      <td>1968313</td>\n",
       "      <td>43867</td>\n",
       "      <td>NaN</td>\n",
       "      <td>0</td>\n",
       "    </tr>\n",
       "    <tr>\n",
       "      <th>14394</th>\n",
       "      <td>2926893</td>\n",
       "      <td>11688</td>\n",
       "      <td>NaN</td>\n",
       "      <td>0</td>\n",
       "    </tr>\n",
       "    <tr>\n",
       "      <th>16418</th>\n",
       "      <td>1717990</td>\n",
       "      <td>4142</td>\n",
       "      <td>NaN</td>\n",
       "      <td>0</td>\n",
       "    </tr>\n",
       "    <tr>\n",
       "      <th>30114</th>\n",
       "      <td>1959075</td>\n",
       "      <td>42828</td>\n",
       "      <td>NaN</td>\n",
       "      <td>1</td>\n",
       "    </tr>\n",
       "    <tr>\n",
       "      <th>...</th>\n",
       "      <td>...</td>\n",
       "      <td>...</td>\n",
       "      <td>...</td>\n",
       "      <td>...</td>\n",
       "    </tr>\n",
       "    <tr>\n",
       "      <th>4505662</th>\n",
       "      <td>1800005</td>\n",
       "      <td>7411</td>\n",
       "      <td>NaN</td>\n",
       "      <td>0</td>\n",
       "    </tr>\n",
       "    <tr>\n",
       "      <th>4511400</th>\n",
       "      <td>1633337</td>\n",
       "      <td>260</td>\n",
       "      <td>NaN</td>\n",
       "      <td>0</td>\n",
       "    </tr>\n",
       "    <tr>\n",
       "      <th>4517562</th>\n",
       "      <td>404157</td>\n",
       "      <td>9517</td>\n",
       "      <td>NaN</td>\n",
       "      <td>0</td>\n",
       "    </tr>\n",
       "    <tr>\n",
       "      <th>4534112</th>\n",
       "      <td>1673227</td>\n",
       "      <td>17835</td>\n",
       "      <td>NaN</td>\n",
       "      <td>0</td>\n",
       "    </tr>\n",
       "    <tr>\n",
       "      <th>4535739</th>\n",
       "      <td>1832957</td>\n",
       "      <td>17949</td>\n",
       "      <td>NaN</td>\n",
       "      <td>1</td>\n",
       "    </tr>\n",
       "  </tbody>\n",
       "</table>\n",
       "<p>836 rows × 4 columns</p>\n",
       "</div>"
      ],
      "text/plain": [
       "         order_id  product_id  add_to_cart_order  reordered\n",
       "737       2449164        5068                NaN          0\n",
       "9926      1968313       43867                NaN          0\n",
       "14394     2926893       11688                NaN          0\n",
       "16418     1717990        4142                NaN          0\n",
       "30114     1959075       42828                NaN          1\n",
       "...           ...         ...                ...        ...\n",
       "4505662   1800005        7411                NaN          0\n",
       "4511400   1633337         260                NaN          0\n",
       "4517562    404157        9517                NaN          0\n",
       "4534112   1673227       17835                NaN          0\n",
       "4535739   1832957       17949                NaN          1\n",
       "\n",
       "[836 rows x 4 columns]"
      ]
     },
     "execution_count": 58,
     "metadata": {},
     "output_type": "execute_result"
    }
   ],
   "source": [
    "df_order_products[df_order_products.isna().any(axis=1)] # UTILIZO isna().any() PARA MOSTRAR TODOS LOS VALORES NAN DE LA COLUMNA"
   ]
  },
  {
   "cell_type": "code",
   "execution_count": 59,
   "id": "9a78e5ee",
   "metadata": {
    "id": "9a78e5ee"
   },
   "outputs": [
    {
     "data": {
      "text/plain": [
       "64.0"
      ]
     },
     "execution_count": 59,
     "metadata": {},
     "output_type": "execute_result"
    }
   ],
   "source": [
    "df_order_products['add_to_cart_order'].max() # ¿Cuáles son los valores mínimos y máximos en esta columna? UTILIZO max()"
   ]
  },
  {
   "cell_type": "code",
   "execution_count": 60,
   "id": "b3a607f9",
   "metadata": {},
   "outputs": [
    {
     "data": {
      "text/plain": [
       "1.0"
      ]
     },
     "execution_count": 60,
     "metadata": {},
     "output_type": "execute_result"
    }
   ],
   "source": [
    "df_order_products['add_to_cart_order'].min() # UTILIZO min()"
   ]
  },
  {
   "cell_type": "markdown",
   "id": "-Z2Ja215jW78",
   "metadata": {
    "id": "-Z2Ja215jW78"
   },
   "source": [
    "Los valores maximo y minimo son de 64 y 1 respectivamente"
   ]
  },
  {
   "cell_type": "code",
   "execution_count": 61,
   "id": "ab9d0c2b",
   "metadata": {
    "id": "ab9d0c2b"
   },
   "outputs": [
    {
     "name": "stdout",
     "output_type": "stream",
     "text": [
      "<class 'pandas.core.frame.DataFrame'>\n",
      "Int64Index: 836 entries, 737 to 4535739\n",
      "Data columns (total 4 columns):\n",
      " #   Column             Non-Null Count  Dtype  \n",
      "---  ------             --------------  -----  \n",
      " 0   order_id           836 non-null    int64  \n",
      " 1   product_id         836 non-null    int64  \n",
      " 2   add_to_cart_order  0 non-null      float64\n",
      " 3   reordered          836 non-null    int64  \n",
      "dtypes: float64(1), int64(3)\n",
      "memory usage: 32.7 KB\n"
     ]
    }
   ],
   "source": [
    "order_id_ausents = df_order_products[df_order_products['add_to_cart_order'].isna()] # Guarda todas las IDs de pedidos que tengan un valor ausente en 'add_to_cart_order' UTILIZO LA VARIABLE 'order_id_ausents' PARA GUARDAR LOS VALORES AUSENTES \n",
    "order_id_ausents.info()"
   ]
  },
  {
   "cell_type": "code",
   "execution_count": 62,
   "id": "f7ee4b49",
   "metadata": {},
   "outputs": [
    {
     "data": {
      "text/plain": [
       "order_id               0\n",
       "product_id             0\n",
       "add_to_cart_order    836\n",
       "reordered              0\n",
       "dtype: int64"
      ]
     },
     "execution_count": 62,
     "metadata": {},
     "output_type": "execute_result"
    }
   ],
   "source": [
    "order_id_ausents.isna().sum()"
   ]
  },
  {
   "cell_type": "code",
   "execution_count": 63,
   "id": "23fd8c2e",
   "metadata": {},
   "outputs": [
    {
     "data": {
      "text/plain": [
       "order_id             2449164.0\n",
       "product_id              5068.0\n",
       "add_to_cart_order          NaN\n",
       "reordered                  0.0\n",
       "Name: 737, dtype: float64"
      ]
     },
     "execution_count": 63,
     "metadata": {},
     "output_type": "execute_result"
    }
   ],
   "source": [
    "df_order_products.iloc[737]"
   ]
  },
  {
   "cell_type": "code",
   "execution_count": 64,
   "id": "54c31695",
   "metadata": {
    "id": "54c31695"
   },
   "outputs": [
    {
     "data": {
      "text/html": [
       "<div>\n",
       "<style scoped>\n",
       "    .dataframe tbody tr th:only-of-type {\n",
       "        vertical-align: middle;\n",
       "    }\n",
       "\n",
       "    .dataframe tbody tr th {\n",
       "        vertical-align: top;\n",
       "    }\n",
       "\n",
       "    .dataframe thead th {\n",
       "        text-align: right;\n",
       "    }\n",
       "</style>\n",
       "<table border=\"1\" class=\"dataframe\">\n",
       "  <thead>\n",
       "    <tr style=\"text-align: right;\">\n",
       "      <th></th>\n",
       "      <th>product_id</th>\n",
       "      <th>add_to_cart_order</th>\n",
       "      <th>reordered</th>\n",
       "    </tr>\n",
       "    <tr>\n",
       "      <th>order_id</th>\n",
       "      <th></th>\n",
       "      <th></th>\n",
       "      <th></th>\n",
       "    </tr>\n",
       "  </thead>\n",
       "  <tbody>\n",
       "    <tr>\n",
       "      <th>9310</th>\n",
       "      <td>1</td>\n",
       "      <td>0</td>\n",
       "      <td>1</td>\n",
       "    </tr>\n",
       "    <tr>\n",
       "      <th>61355</th>\n",
       "      <td>63</td>\n",
       "      <td>0</td>\n",
       "      <td>1</td>\n",
       "    </tr>\n",
       "    <tr>\n",
       "      <th>102236</th>\n",
       "      <td>31</td>\n",
       "      <td>0</td>\n",
       "      <td>1</td>\n",
       "    </tr>\n",
       "    <tr>\n",
       "      <th>129627</th>\n",
       "      <td>5</td>\n",
       "      <td>0</td>\n",
       "      <td>1</td>\n",
       "    </tr>\n",
       "    <tr>\n",
       "      <th>165801</th>\n",
       "      <td>6</td>\n",
       "      <td>0</td>\n",
       "      <td>1</td>\n",
       "    </tr>\n",
       "    <tr>\n",
       "      <th>...</th>\n",
       "      <td>...</td>\n",
       "      <td>...</td>\n",
       "      <td>...</td>\n",
       "    </tr>\n",
       "    <tr>\n",
       "      <th>2999801</th>\n",
       "      <td>6</td>\n",
       "      <td>0</td>\n",
       "      <td>2</td>\n",
       "    </tr>\n",
       "    <tr>\n",
       "      <th>3125735</th>\n",
       "      <td>22</td>\n",
       "      <td>0</td>\n",
       "      <td>2</td>\n",
       "    </tr>\n",
       "    <tr>\n",
       "      <th>3308010</th>\n",
       "      <td>51</td>\n",
       "      <td>0</td>\n",
       "      <td>2</td>\n",
       "    </tr>\n",
       "    <tr>\n",
       "      <th>3347453</th>\n",
       "      <td>7</td>\n",
       "      <td>0</td>\n",
       "      <td>1</td>\n",
       "    </tr>\n",
       "    <tr>\n",
       "      <th>3383594</th>\n",
       "      <td>5</td>\n",
       "      <td>0</td>\n",
       "      <td>2</td>\n",
       "    </tr>\n",
       "  </tbody>\n",
       "</table>\n",
       "<p>70 rows × 3 columns</p>\n",
       "</div>"
      ],
      "text/plain": [
       "          product_id  add_to_cart_order  reordered\n",
       "order_id                                          \n",
       "9310               1                  0          1\n",
       "61355             63                  0          1\n",
       "102236            31                  0          1\n",
       "129627             5                  0          1\n",
       "165801             6                  0          1\n",
       "...              ...                ...        ...\n",
       "2999801            6                  0          2\n",
       "3125735           22                  0          2\n",
       "3308010           51                  0          2\n",
       "3347453            7                  0          1\n",
       "3383594            5                  0          2\n",
       "\n",
       "[70 rows x 3 columns]"
      ]
     },
     "execution_count": 64,
     "metadata": {},
     "output_type": "execute_result"
    }
   ],
   "source": [
    "order_id_ausents_total = order_id_ausents.groupby('order_id').nunique() # Agrupa todos los pedidos con datos ausentes por su ID de pedido. UTILIZO groupby()\n",
    "order_id_ausents_total"
   ]
  },
  {
   "cell_type": "code",
   "execution_count": 65,
   "id": "f879a2da",
   "metadata": {},
   "outputs": [
    {
     "data": {
      "text/html": [
       "<div>\n",
       "<style scoped>\n",
       "    .dataframe tbody tr th:only-of-type {\n",
       "        vertical-align: middle;\n",
       "    }\n",
       "\n",
       "    .dataframe tbody tr th {\n",
       "        vertical-align: top;\n",
       "    }\n",
       "\n",
       "    .dataframe thead th {\n",
       "        text-align: right;\n",
       "    }\n",
       "</style>\n",
       "<table border=\"1\" class=\"dataframe\">\n",
       "  <thead>\n",
       "    <tr style=\"text-align: right;\">\n",
       "      <th></th>\n",
       "      <th>order_id</th>\n",
       "      <th>product_id_total</th>\n",
       "    </tr>\n",
       "  </thead>\n",
       "  <tbody>\n",
       "    <tr>\n",
       "      <th>0</th>\n",
       "      <td>9310</td>\n",
       "      <td>1</td>\n",
       "    </tr>\n",
       "    <tr>\n",
       "      <th>1</th>\n",
       "      <td>61355</td>\n",
       "      <td>63</td>\n",
       "    </tr>\n",
       "    <tr>\n",
       "      <th>2</th>\n",
       "      <td>102236</td>\n",
       "      <td>31</td>\n",
       "    </tr>\n",
       "    <tr>\n",
       "      <th>3</th>\n",
       "      <td>129627</td>\n",
       "      <td>5</td>\n",
       "    </tr>\n",
       "    <tr>\n",
       "      <th>4</th>\n",
       "      <td>165801</td>\n",
       "      <td>6</td>\n",
       "    </tr>\n",
       "    <tr>\n",
       "      <th>...</th>\n",
       "      <td>...</td>\n",
       "      <td>...</td>\n",
       "    </tr>\n",
       "    <tr>\n",
       "      <th>65</th>\n",
       "      <td>2999801</td>\n",
       "      <td>6</td>\n",
       "    </tr>\n",
       "    <tr>\n",
       "      <th>66</th>\n",
       "      <td>3125735</td>\n",
       "      <td>22</td>\n",
       "    </tr>\n",
       "    <tr>\n",
       "      <th>67</th>\n",
       "      <td>3308010</td>\n",
       "      <td>51</td>\n",
       "    </tr>\n",
       "    <tr>\n",
       "      <th>68</th>\n",
       "      <td>3347453</td>\n",
       "      <td>7</td>\n",
       "    </tr>\n",
       "    <tr>\n",
       "      <th>69</th>\n",
       "      <td>3383594</td>\n",
       "      <td>5</td>\n",
       "    </tr>\n",
       "  </tbody>\n",
       "</table>\n",
       "<p>70 rows × 2 columns</p>\n",
       "</div>"
      ],
      "text/plain": [
       "    order_id  product_id_total\n",
       "0       9310                 1\n",
       "1      61355                63\n",
       "2     102236                31\n",
       "3     129627                 5\n",
       "4     165801                 6\n",
       "..       ...               ...\n",
       "65   2999801                 6\n",
       "66   3125735                22\n",
       "67   3308010                51\n",
       "68   3347453                 7\n",
       "69   3383594                 5\n",
       "\n",
       "[70 rows x 2 columns]"
      ]
     },
     "execution_count": 65,
     "metadata": {},
     "output_type": "execute_result"
    }
   ],
   "source": [
    "order_id_ausents_total = order_id_ausents.groupby('order_id')['product_id'].count().reset_index(name= 'product_id_total') # ¿Todos los pedidos con valores ausentes tienen más de 64 productos? UTILIZO groupby('order_id') Y count('product_id') PARA SABER EL TOTAL DE PRODUCTOS EN CADA PEDIDO \n",
    "order_id_ausents_total"
   ]
  },
  {
   "cell_type": "code",
   "execution_count": 66,
   "id": "5594a91c",
   "metadata": {},
   "outputs": [
    {
     "data": {
      "text/html": [
       "<div>\n",
       "<style scoped>\n",
       "    .dataframe tbody tr th:only-of-type {\n",
       "        vertical-align: middle;\n",
       "    }\n",
       "\n",
       "    .dataframe tbody tr th {\n",
       "        vertical-align: top;\n",
       "    }\n",
       "\n",
       "    .dataframe thead th {\n",
       "        text-align: right;\n",
       "    }\n",
       "</style>\n",
       "<table border=\"1\" class=\"dataframe\">\n",
       "  <thead>\n",
       "    <tr style=\"text-align: right;\">\n",
       "      <th></th>\n",
       "      <th>order_id</th>\n",
       "      <th>product_id_total</th>\n",
       "    </tr>\n",
       "  </thead>\n",
       "  <tbody>\n",
       "    <tr>\n",
       "      <th>1</th>\n",
       "      <td>61355</td>\n",
       "      <td>63</td>\n",
       "    </tr>\n",
       "    <tr>\n",
       "      <th>67</th>\n",
       "      <td>3308010</td>\n",
       "      <td>51</td>\n",
       "    </tr>\n",
       "    <tr>\n",
       "      <th>49</th>\n",
       "      <td>2136777</td>\n",
       "      <td>44</td>\n",
       "    </tr>\n",
       "    <tr>\n",
       "      <th>5</th>\n",
       "      <td>171934</td>\n",
       "      <td>40</td>\n",
       "    </tr>\n",
       "    <tr>\n",
       "      <th>45</th>\n",
       "      <td>1959075</td>\n",
       "      <td>34</td>\n",
       "    </tr>\n",
       "    <tr>\n",
       "      <th>...</th>\n",
       "      <td>...</td>\n",
       "      <td>...</td>\n",
       "    </tr>\n",
       "    <tr>\n",
       "      <th>18</th>\n",
       "      <td>888470</td>\n",
       "      <td>1</td>\n",
       "    </tr>\n",
       "    <tr>\n",
       "      <th>32</th>\n",
       "      <td>1598369</td>\n",
       "      <td>1</td>\n",
       "    </tr>\n",
       "    <tr>\n",
       "      <th>13</th>\n",
       "      <td>747668</td>\n",
       "      <td>1</td>\n",
       "    </tr>\n",
       "    <tr>\n",
       "      <th>37</th>\n",
       "      <td>1677118</td>\n",
       "      <td>1</td>\n",
       "    </tr>\n",
       "    <tr>\n",
       "      <th>0</th>\n",
       "      <td>9310</td>\n",
       "      <td>1</td>\n",
       "    </tr>\n",
       "  </tbody>\n",
       "</table>\n",
       "<p>70 rows × 2 columns</p>\n",
       "</div>"
      ],
      "text/plain": [
       "    order_id  product_id_total\n",
       "1      61355                63\n",
       "67   3308010                51\n",
       "49   2136777                44\n",
       "5     171934                40\n",
       "45   1959075                34\n",
       "..       ...               ...\n",
       "18    888470                 1\n",
       "32   1598369                 1\n",
       "13    747668                 1\n",
       "37   1677118                 1\n",
       "0       9310                 1\n",
       "\n",
       "[70 rows x 2 columns]"
      ]
     },
     "execution_count": 66,
     "metadata": {},
     "output_type": "execute_result"
    }
   ],
   "source": [
    "order_id_ausents_total.sort_values(by= 'product_id_total', ascending= False) # ¿Todos los pedidos con valores ausentes tienen más de 64 productos? UTILIZO sort_values() PARA ORDENAR DESCENDENTE "
   ]
  },
  {
   "cell_type": "markdown",
   "id": "068fd609",
   "metadata": {},
   "source": [
    "No hay pedidos con valres ausentes que tengan mas de 64 productos. El pedido con valores ausentes maximo es de 63 productos."
   ]
  },
  {
   "cell_type": "code",
   "execution_count": 67,
   "id": "8ec6a49f",
   "metadata": {},
   "outputs": [
    {
     "data": {
      "text/plain": [
       "1"
      ]
     },
     "execution_count": 67,
     "metadata": {},
     "output_type": "execute_result"
    }
   ],
   "source": [
    "order_id_ausents_total['product_id_total'].min() # Cuenta el número de 'product_id' en cada pedido y revisa el valor mínimo del conteo."
   ]
  },
  {
   "cell_type": "markdown",
   "id": "p9V6pddtjglj",
   "metadata": {
    "id": "p9V6pddtjglj"
   },
   "source": [
    "El pedido con valores ausentes con el minimo de productos es 1"
   ]
  },
  {
   "cell_type": "code",
   "execution_count": 68,
   "id": "7a987d08",
   "metadata": {
    "id": "7a987d08"
   },
   "outputs": [
    {
     "data": {
      "text/html": [
       "<div>\n",
       "<style scoped>\n",
       "    .dataframe tbody tr th:only-of-type {\n",
       "        vertical-align: middle;\n",
       "    }\n",
       "\n",
       "    .dataframe tbody tr th {\n",
       "        vertical-align: top;\n",
       "    }\n",
       "\n",
       "    .dataframe thead th {\n",
       "        text-align: right;\n",
       "    }\n",
       "</style>\n",
       "<table border=\"1\" class=\"dataframe\">\n",
       "  <thead>\n",
       "    <tr style=\"text-align: right;\">\n",
       "      <th></th>\n",
       "      <th>order_id</th>\n",
       "      <th>product_id</th>\n",
       "      <th>add_to_cart_order</th>\n",
       "      <th>reordered</th>\n",
       "    </tr>\n",
       "  </thead>\n",
       "  <tbody>\n",
       "    <tr>\n",
       "      <th>737</th>\n",
       "      <td>2449164</td>\n",
       "      <td>5068</td>\n",
       "      <td>999.0</td>\n",
       "      <td>0</td>\n",
       "    </tr>\n",
       "    <tr>\n",
       "      <th>9926</th>\n",
       "      <td>1968313</td>\n",
       "      <td>43867</td>\n",
       "      <td>999.0</td>\n",
       "      <td>0</td>\n",
       "    </tr>\n",
       "    <tr>\n",
       "      <th>14394</th>\n",
       "      <td>2926893</td>\n",
       "      <td>11688</td>\n",
       "      <td>999.0</td>\n",
       "      <td>0</td>\n",
       "    </tr>\n",
       "    <tr>\n",
       "      <th>16418</th>\n",
       "      <td>1717990</td>\n",
       "      <td>4142</td>\n",
       "      <td>999.0</td>\n",
       "      <td>0</td>\n",
       "    </tr>\n",
       "    <tr>\n",
       "      <th>30114</th>\n",
       "      <td>1959075</td>\n",
       "      <td>42828</td>\n",
       "      <td>999.0</td>\n",
       "      <td>1</td>\n",
       "    </tr>\n",
       "    <tr>\n",
       "      <th>...</th>\n",
       "      <td>...</td>\n",
       "      <td>...</td>\n",
       "      <td>...</td>\n",
       "      <td>...</td>\n",
       "    </tr>\n",
       "    <tr>\n",
       "      <th>4505662</th>\n",
       "      <td>1800005</td>\n",
       "      <td>7411</td>\n",
       "      <td>999.0</td>\n",
       "      <td>0</td>\n",
       "    </tr>\n",
       "    <tr>\n",
       "      <th>4511400</th>\n",
       "      <td>1633337</td>\n",
       "      <td>260</td>\n",
       "      <td>999.0</td>\n",
       "      <td>0</td>\n",
       "    </tr>\n",
       "    <tr>\n",
       "      <th>4517562</th>\n",
       "      <td>404157</td>\n",
       "      <td>9517</td>\n",
       "      <td>999.0</td>\n",
       "      <td>0</td>\n",
       "    </tr>\n",
       "    <tr>\n",
       "      <th>4534112</th>\n",
       "      <td>1673227</td>\n",
       "      <td>17835</td>\n",
       "      <td>999.0</td>\n",
       "      <td>0</td>\n",
       "    </tr>\n",
       "    <tr>\n",
       "      <th>4535739</th>\n",
       "      <td>1832957</td>\n",
       "      <td>17949</td>\n",
       "      <td>999.0</td>\n",
       "      <td>1</td>\n",
       "    </tr>\n",
       "  </tbody>\n",
       "</table>\n",
       "<p>836 rows × 4 columns</p>\n",
       "</div>"
      ],
      "text/plain": [
       "         order_id  product_id  add_to_cart_order  reordered\n",
       "737       2449164        5068              999.0          0\n",
       "9926      1968313       43867              999.0          0\n",
       "14394     2926893       11688              999.0          0\n",
       "16418     1717990        4142              999.0          0\n",
       "30114     1959075       42828              999.0          1\n",
       "...           ...         ...                ...        ...\n",
       "4505662   1800005        7411              999.0          0\n",
       "4511400   1633337         260              999.0          0\n",
       "4517562    404157        9517              999.0          0\n",
       "4534112   1673227       17835              999.0          0\n",
       "4535739   1832957       17949              999.0          1\n",
       "\n",
       "[836 rows x 4 columns]"
      ]
     },
     "execution_count": 68,
     "metadata": {},
     "output_type": "execute_result"
    }
   ],
   "source": [
    "df_order_products['add_to_cart_order'] = df_order_products['add_to_cart_order'].fillna(999) # Remplaza los valores ausentes en la columna 'add_to_cart? con 999 y convierte la columna al tipo entero.\n",
    "df_order_products[df_order_products['add_to_cart_order'] == 999]"
   ]
  },
  {
   "cell_type": "code",
   "execution_count": 69,
   "id": "80a0da22",
   "metadata": {},
   "outputs": [
    {
     "data": {
      "text/plain": [
       "order_id             int64\n",
       "product_id           int64\n",
       "add_to_cart_order    int64\n",
       "reordered            int64\n",
       "dtype: object"
      ]
     },
     "execution_count": 69,
     "metadata": {},
     "output_type": "execute_result"
    }
   ],
   "source": [
    "df_order_products['add_to_cart_order'] = df_order_products['add_to_cart_order'].astype('int64')\n",
    "df_order_products.dtypes"
   ]
  },
  {
   "cell_type": "markdown",
   "id": "fea4bcc7",
   "metadata": {
    "id": "fea4bcc7"
   },
   "source": [
    "Se muestra que los valores fueron reemplazados por 999 y la columna a int64"
   ]
  },
  {
   "cell_type": "markdown",
   "id": "RnplPFY1gSrb",
   "metadata": {
    "id": "RnplPFY1gSrb"
   },
   "source": [
    "## Conclusiones\n",
    "\n",
    "Escribe aquí tus conclusiones intermedias sobre el Paso 2. Preprocesamiento de los datos\n"
   ]
  },
  {
   "cell_type": "markdown",
   "id": "UjrOIwTcz3ri",
   "metadata": {
    "id": "UjrOIwTcz3ri"
   },
   "source": [
    "# Paso 3. Análisis de los datos\n",
    "\n",
    "Una vez los datos estén procesados y listos, haz el siguiente análisis:"
   ]
  },
  {
   "cell_type": "markdown",
   "id": "turkish-kidney",
   "metadata": {
    "id": "turkish-kidney"
   },
   "source": [
    "# [A] Fácil (deben completarse todos para aprobar)\n",
    "\n",
    "1. Verifica que los valores en las columnas `'order_hour_of_day'` y `'order_dow'` en la tabla orders sean razonables (es decir, `'order_hour_of_day'` oscile entre 0 y 23 y `'order_dow'` oscile entre 0 y 6).\n",
    "2. Crea un gráfico que muestre el número de personas que hacen pedidos dependiendo de la hora del día.\n",
    "3. Crea un gráfico que muestre qué día de la semana la gente hace sus compras.\n",
    "4. Crea un gráfico que muestre el tiempo que la gente espera hasta hacer su siguiente pedido, y comenta sobre los valores mínimos y máximos."
   ]
  },
  {
   "cell_type": "markdown",
   "id": "short-capability",
   "metadata": {
    "id": "short-capability"
   },
   "source": [
    "### [A1] Verifica que los valores sean sensibles"
   ]
  },
  {
   "cell_type": "code",
   "execution_count": 70,
   "id": "growing-fruit",
   "metadata": {
    "id": "growing-fruit"
   },
   "outputs": [],
   "source": [
    "sensibles_0_23 = df_instacart_orders['order_hour_of_day'].between(0,23).sum()\n",
    "sensibles_0_6 = df_instacart_orders['order_dow'].between(0,6).sum() # UTILIZO between().sum() PARA VER EL TOTAL DE DA VALORES QUE HAY PARA CADA HORA Y CADA DIA Y COMPROBAR QUE NO FALTEN DATOS  "
   ]
  },
  {
   "cell_type": "code",
   "execution_count": 71,
   "id": "accessory-malaysia",
   "metadata": {
    "id": "accessory-malaysia"
   },
   "outputs": [
    {
     "data": {
      "text/plain": [
       "478952"
      ]
     },
     "execution_count": 71,
     "metadata": {},
     "output_type": "execute_result"
    }
   ],
   "source": [
    "sensibles_0_23"
   ]
  },
  {
   "cell_type": "code",
   "execution_count": 72,
   "id": "2f52a12e",
   "metadata": {},
   "outputs": [
    {
     "data": {
      "text/plain": [
       "478952"
      ]
     },
     "execution_count": 72,
     "metadata": {},
     "output_type": "execute_result"
    }
   ],
   "source": [
    "sensibles_0_6"
   ]
  },
  {
   "cell_type": "markdown",
   "id": "hmR2GNQ6lCsX",
   "metadata": {
    "id": "hmR2GNQ6lCsX"
   },
   "source": [
    "Esta dos columnas estan con los valores dentro de los rangos de 0 a 23 y de 0 a 6 y su formato es de int64 lo cual permite realizar operaciones aritmeticas y no es necesario cambiar el formato a fecha con to_datetime"
   ]
  },
  {
   "cell_type": "markdown",
   "id": "9442ec90",
   "metadata": {},
   "source": [
    "<div class=\"alert alert-block alert-warning\">\n",
    "<b>Comentario Revisor</b> <a class=\"tocSkip\"></a>\n",
    "\n",
    "Muy buena forma de revisar que los valores sean sensibles. Otra forma de hacerlo que puedes explorar más adeltante es el uso de la función .unique() o .value_counts(). \n",
    "</div>"
   ]
  },
  {
   "cell_type": "markdown",
   "id": "a6743a70",
   "metadata": {
    "id": "a6743a70"
   },
   "source": [
    "### [A2] Para cada hora del día, ¿cuántas personas hacen órdenes?"
   ]
  },
  {
   "cell_type": "code",
   "execution_count": 73,
   "id": "a36cca27",
   "metadata": {
    "id": "a36cca27"
   },
   "outputs": [
    {
     "data": {
      "text/html": [
       "<div>\n",
       "<style scoped>\n",
       "    .dataframe tbody tr th:only-of-type {\n",
       "        vertical-align: middle;\n",
       "    }\n",
       "\n",
       "    .dataframe tbody tr th {\n",
       "        vertical-align: top;\n",
       "    }\n",
       "\n",
       "    .dataframe thead th {\n",
       "        text-align: right;\n",
       "    }\n",
       "</style>\n",
       "<table border=\"1\" class=\"dataframe\">\n",
       "  <thead>\n",
       "    <tr style=\"text-align: right;\">\n",
       "      <th></th>\n",
       "      <th>order_hour_of_day</th>\n",
       "      <th>order_count</th>\n",
       "    </tr>\n",
       "  </thead>\n",
       "  <tbody>\n",
       "    <tr>\n",
       "      <th>0</th>\n",
       "      <td>0</td>\n",
       "      <td>3180</td>\n",
       "    </tr>\n",
       "    <tr>\n",
       "      <th>1</th>\n",
       "      <td>1</td>\n",
       "      <td>1763</td>\n",
       "    </tr>\n",
       "    <tr>\n",
       "      <th>2</th>\n",
       "      <td>2</td>\n",
       "      <td>989</td>\n",
       "    </tr>\n",
       "    <tr>\n",
       "      <th>3</th>\n",
       "      <td>3</td>\n",
       "      <td>770</td>\n",
       "    </tr>\n",
       "    <tr>\n",
       "      <th>4</th>\n",
       "      <td>4</td>\n",
       "      <td>765</td>\n",
       "    </tr>\n",
       "    <tr>\n",
       "      <th>5</th>\n",
       "      <td>5</td>\n",
       "      <td>1371</td>\n",
       "    </tr>\n",
       "    <tr>\n",
       "      <th>6</th>\n",
       "      <td>6</td>\n",
       "      <td>4215</td>\n",
       "    </tr>\n",
       "    <tr>\n",
       "      <th>7</th>\n",
       "      <td>7</td>\n",
       "      <td>13043</td>\n",
       "    </tr>\n",
       "    <tr>\n",
       "      <th>8</th>\n",
       "      <td>8</td>\n",
       "      <td>25024</td>\n",
       "    </tr>\n",
       "    <tr>\n",
       "      <th>9</th>\n",
       "      <td>9</td>\n",
       "      <td>35896</td>\n",
       "    </tr>\n",
       "    <tr>\n",
       "      <th>10</th>\n",
       "      <td>10</td>\n",
       "      <td>40578</td>\n",
       "    </tr>\n",
       "    <tr>\n",
       "      <th>11</th>\n",
       "      <td>11</td>\n",
       "      <td>40032</td>\n",
       "    </tr>\n",
       "    <tr>\n",
       "      <th>12</th>\n",
       "      <td>12</td>\n",
       "      <td>38034</td>\n",
       "    </tr>\n",
       "    <tr>\n",
       "      <th>13</th>\n",
       "      <td>13</td>\n",
       "      <td>39007</td>\n",
       "    </tr>\n",
       "    <tr>\n",
       "      <th>14</th>\n",
       "      <td>14</td>\n",
       "      <td>39631</td>\n",
       "    </tr>\n",
       "    <tr>\n",
       "      <th>15</th>\n",
       "      <td>15</td>\n",
       "      <td>39789</td>\n",
       "    </tr>\n",
       "    <tr>\n",
       "      <th>16</th>\n",
       "      <td>16</td>\n",
       "      <td>38112</td>\n",
       "    </tr>\n",
       "    <tr>\n",
       "      <th>17</th>\n",
       "      <td>17</td>\n",
       "      <td>31930</td>\n",
       "    </tr>\n",
       "    <tr>\n",
       "      <th>18</th>\n",
       "      <td>18</td>\n",
       "      <td>25510</td>\n",
       "    </tr>\n",
       "    <tr>\n",
       "      <th>19</th>\n",
       "      <td>19</td>\n",
       "      <td>19547</td>\n",
       "    </tr>\n",
       "    <tr>\n",
       "      <th>20</th>\n",
       "      <td>20</td>\n",
       "      <td>14624</td>\n",
       "    </tr>\n",
       "    <tr>\n",
       "      <th>21</th>\n",
       "      <td>21</td>\n",
       "      <td>11019</td>\n",
       "    </tr>\n",
       "    <tr>\n",
       "      <th>22</th>\n",
       "      <td>22</td>\n",
       "      <td>8512</td>\n",
       "    </tr>\n",
       "    <tr>\n",
       "      <th>23</th>\n",
       "      <td>23</td>\n",
       "      <td>5611</td>\n",
       "    </tr>\n",
       "  </tbody>\n",
       "</table>\n",
       "</div>"
      ],
      "text/plain": [
       "    order_hour_of_day  order_count\n",
       "0                   0         3180\n",
       "1                   1         1763\n",
       "2                   2          989\n",
       "3                   3          770\n",
       "4                   4          765\n",
       "5                   5         1371\n",
       "6                   6         4215\n",
       "7                   7        13043\n",
       "8                   8        25024\n",
       "9                   9        35896\n",
       "10                 10        40578\n",
       "11                 11        40032\n",
       "12                 12        38034\n",
       "13                 13        39007\n",
       "14                 14        39631\n",
       "15                 15        39789\n",
       "16                 16        38112\n",
       "17                 17        31930\n",
       "18                 18        25510\n",
       "19                 19        19547\n",
       "20                 20        14624\n",
       "21                 21        11019\n",
       "22                 22         8512\n",
       "23                 23         5611"
      ]
     },
     "execution_count": 73,
     "metadata": {},
     "output_type": "execute_result"
    }
   ],
   "source": [
    "df_orders_per_hour = df_instacart_orders.groupby('order_hour_of_day')['order_id'].count().reset_index() # \n",
    "df_orders_per_hour = df_orders_per_hour.rename(columns={'order_id': 'order_count'})\n",
    "df_orders_per_hour # AGRUPO POR 'order_hour_of_day' Y TOTALIZO POR LA COLUMNA ['order_id'] count() PARA OBTENER EL TOTAL DE PEDIDOS POR HORA Y LUEGO reset_index() PARA MANTENER EL DATAFRAME Y RENOMBRO EL TOTAL 'total_count'."
   ]
  },
  {
   "cell_type": "code",
   "execution_count": 74,
   "id": "e141b098",
   "metadata": {},
   "outputs": [
    {
     "data": {
      "text/plain": [
       "19956.333333333332"
      ]
     },
     "execution_count": 74,
     "metadata": {},
     "output_type": "execute_result"
    }
   ],
   "source": [
    "df_orders_per_hour['order_count'].mean() # UTILIZO mean() PARA OBTENER EL PROMEDIO DE PEDIDOS POR DIA E IDENTIFICAR COMO CAMBIA LA DISTRIBUCION DURANTE TODAS LAS HORAS "
   ]
  },
  {
   "cell_type": "code",
   "execution_count": 75,
   "id": "2cedcf4c",
   "metadata": {},
   "outputs": [
    {
     "data": {
      "text/plain": [
       "Text(0.5, 1.0, 'Número de Órdenes por Hora del Día')"
      ]
     },
     "execution_count": 75,
     "metadata": {},
     "output_type": "execute_result"
    },
    {
     "data": {
      "image/png": "[encoded data removed]",
      "text/plain": [
       "<Figure size 640x480 with 1 Axes>"
      ]
     },
     "metadata": {},
     "output_type": "display_data"
    }
   ],
   "source": [
    "sns.barplot(data= df_orders_per_hour, x= 'order_hour_of_day' , y= 'order_count')\n",
    "plt.xlabel('Hora del Día')\n",
    "plt.ylabel('Número de Órdenes')\n",
    "plt.title('Número de Órdenes por Hora del Día') # REALIZO UN GRAFICO DE BARRAS PARA VER LA DISTRIBUCION "
   ]
  },
  {
   "cell_type": "markdown",
   "id": "11270eed",
   "metadata": {
    "id": "11270eed"
   },
   "source": [
    "Las personas que realizan pedidos se concentran en dos rangos durante el dia la mayor cantidad de pedidos es entre las 10am y 15pm. El promedio del dia es de 19956 pedidos ya que desde la 19pm hasta las 7am del siguiente el volumen de pedidos dismnuye drasicamente por debajo del promedio lo cual tiene sentido pues es un horario en el cual las personas descansan y van a dormir."
   ]
  },
  {
   "cell_type": "markdown",
   "id": "03ee121f",
   "metadata": {},
   "source": [
    "<div class=\"alert alert-block alert-warning\">\n",
    "<b>Comentario Revisor</b> <a class=\"tocSkip\"></a>\n",
    "\n",
    "Si bien en los datos que muestras se puede ver un poco la distribución de los datos. Te recomiendo hacer uso de una gráfica de barras para ver de forma más claro estos resultados.  YA REALICE LA CORRECCION \n",
    "</div>"
   ]
  },
  {
   "cell_type": "markdown",
   "id": "documented-command",
   "metadata": {
    "id": "documented-command"
   },
   "source": [
    "### [A3] ¿Qué día de la semana compran víveres las personas?"
   ]
  },
  {
   "cell_type": "code",
   "execution_count": 76,
   "id": "chief-digit",
   "metadata": {
    "id": "chief-digit"
   },
   "outputs": [
    {
     "data": {
      "text/plain": [
       "order_dow\n",
       "0    84090\n",
       "1    82185\n",
       "2    65833\n",
       "3    60897\n",
       "4    59810\n",
       "5    63488\n",
       "6    62649\n",
       "Name: order_id, dtype: int64"
      ]
     },
     "execution_count": 76,
     "metadata": {},
     "output_type": "execute_result"
    }
   ],
   "source": [
    "instacart_orders_per_day = df_instacart_orders.groupby('order_dow')['order_id'].count() # AGRUPO POR 'order_dow' PARA OBTENER LOS DIAS DE LA SEMANA Y LUEGO TOTALIZO count() EN LA COLUMNA ['order_id'] PARA SABER EL TOTAL DE PEDIDOS QUE SE REALIAN POR DIA.\n",
    "instacart_orders_per_day"
   ]
  },
  {
   "cell_type": "markdown",
   "id": "dominant-lightning",
   "metadata": {
    "id": "dominant-lightning"
   },
   "source": [
    "El domingo es el dia que mas pedidos se realizan"
   ]
  },
  {
   "cell_type": "markdown",
   "id": "cutting-concert",
   "metadata": {
    "id": "cutting-concert"
   },
   "source": [
    "### [A4] ¿Cuánto tiempo esperan las personas hasta hacer otro pedido? Comenta sobre los valores mínimos y máximos."
   ]
  },
  {
   "cell_type": "code",
   "execution_count": 77,
   "id": "c231f523",
   "metadata": {
    "id": "c231f523"
   },
   "outputs": [
    {
     "data": {
      "text/plain": [
       "count    450135.000000\n",
       "mean         11.101814\n",
       "std           9.190004\n",
       "min           0.000000\n",
       "25%           4.000000\n",
       "50%           7.000000\n",
       "75%          15.000000\n",
       "max          30.000000\n",
       "Name: days_since_prior_order, dtype: float64"
      ]
     },
     "execution_count": 77,
     "metadata": {},
     "output_type": "execute_result"
    }
   ],
   "source": [
    "df_instacart_orders['days_since_prior_order'].describe() # FILTRO EL DATAFRAME ['days_since_prior_order'] Y UTILIZO describe() PARA OBTEER UNA INFORMACION DETALLADA DE LOS VALORES DEL DATAFRAME "
   ]
  },
  {
   "cell_type": "markdown",
   "id": "discrete-vertex",
   "metadata": {
    "id": "discrete-vertex"
   },
   "source": [
    "El promedio que demoran las personas paa realizar otro pedido es de 11 dias, sin embargo el minimo que demoran es 0 dias y esto corresponde a que son clientes que solo han comprado una vez y no volviern a comprar o clientes que son nuevos y solo han realizado su primera compra y aun no han vuelto a comprar. Para el maximo son 30 dias y esto tiene sentido pues deben ser clientes que realizan sus compras de manera mensual. Al ser la mediana de 7 dias esto significa que es el numero que mas se repite y por lo tanto se deberia interpretar como que la mayor frecuencia de compras de los clientes es cada 7 dias."
   ]
  },
  {
   "cell_type": "markdown",
   "id": "tight-staff",
   "metadata": {
    "id": "tight-staff"
   },
   "source": [
    "# [B] Intermedio (deben completarse todos para aprobar)\n",
    "\n",
    "1. ¿Existe alguna diferencia entre las distribuciones `'order_hour_of_day'` de los miércoles y los sábados? Traza gráficos de barra de `'order_hour_of_day'` para ambos días en la misma figura y describe las diferencias que observes.\n",
    "2. Grafica la distribución para el número de órdenes que hacen los clientes (es decir, cuántos clientes hicieron solo 1 pedido, cuántos hicieron 2, cuántos 3, y así sucesivamente...).\n",
    "3. ¿Cuáles son los 20 principales productos que se piden con más frecuencia (muestra su identificación y nombre)?"
   ]
  },
  {
   "cell_type": "markdown",
   "id": "packed-classic",
   "metadata": {
    "id": "packed-classic"
   },
   "source": [
    "### [B1] Diferencia entre miércoles y sábados para  `'order_hour_of_day'`. Traza gráficos de barra para los dos días y describe las diferencias que veas."
   ]
  },
  {
   "cell_type": "code",
   "execution_count": 78,
   "id": "94e54e8a",
   "metadata": {
    "id": "94e54e8a"
   },
   "outputs": [
    {
     "data": {
      "text/plain": [
       "0      373\n",
       "1      215\n",
       "2      106\n",
       "3      101\n",
       "4      108\n",
       "5      170\n",
       "6      643\n",
       "7     1732\n",
       "8     3125\n",
       "9     4490\n",
       "10    5026\n",
       "11    5004\n",
       "12    4688\n",
       "13    4674\n",
       "14    4774\n",
       "15    5163\n",
       "16    4976\n",
       "17    4175\n",
       "18    3463\n",
       "19    2652\n",
       "20    1917\n",
       "21    1450\n",
       "22    1154\n",
       "23     718\n",
       "Name: order_hour_of_day, dtype: int64"
      ]
     },
     "execution_count": 78,
     "metadata": {},
     "output_type": "execute_result"
    }
   ],
   "source": [
    "wednesday_orders = df_instacart_orders[df_instacart_orders['order_dow'] == 3] \n",
    "order_hour_of_day_wednesday = wednesday_orders['order_hour_of_day'].value_counts(sort=False).sort_index()\n",
    "order_hour_of_day_wednesday # FILTRO EL DATFRAME POR ['order_dow'] == 3 Y TOTALIZO value_counts()"
   ]
  },
  {
   "cell_type": "code",
   "execution_count": 79,
   "id": "015f7e11",
   "metadata": {},
   "outputs": [
    {
     "data": {
      "text/plain": [
       "0      464\n",
       "1      254\n",
       "2      177\n",
       "3      125\n",
       "4      118\n",
       "5      161\n",
       "6      451\n",
       "7     1619\n",
       "8     3246\n",
       "9     4311\n",
       "10    4919\n",
       "11    5116\n",
       "12    5132\n",
       "13    5323\n",
       "14    5375\n",
       "15    5188\n",
       "16    5029\n",
       "17    4295\n",
       "18    3338\n",
       "19    2610\n",
       "20    1847\n",
       "21    1473\n",
       "22    1185\n",
       "23     893\n",
       "Name: order_hour_of_day, dtype: int64"
      ]
     },
     "execution_count": 79,
     "metadata": {},
     "output_type": "execute_result"
    }
   ],
   "source": [
    "saturday_orders = df_instacart_orders[df_instacart_orders['order_dow'] == 6]\n",
    "order_hour_of_day_saturday = saturday_orders['order_hour_of_day'].value_counts(sort=False).sort_index()\n",
    "order_hour_of_day_saturday # FILTRO EL DATFRAME POR ['order_dow'] == 6 Y TOTALIZO value_counts()"
   ]
  },
  {
   "cell_type": "code",
   "execution_count": 80,
   "id": "67984a7a",
   "metadata": {},
   "outputs": [
    {
     "data": {
      "text/html": [
       "<div>\n",
       "<style scoped>\n",
       "    .dataframe tbody tr th:only-of-type {\n",
       "        vertical-align: middle;\n",
       "    }\n",
       "\n",
       "    .dataframe tbody tr th {\n",
       "        vertical-align: top;\n",
       "    }\n",
       "\n",
       "    .dataframe thead th {\n",
       "        text-align: right;\n",
       "    }\n",
       "</style>\n",
       "<table border=\"1\" class=\"dataframe\">\n",
       "  <thead>\n",
       "    <tr style=\"text-align: right;\">\n",
       "      <th></th>\n",
       "      <th>order_dow</th>\n",
       "      <th>order_hour_of_day</th>\n",
       "      <th>total_pedidos</th>\n",
       "    </tr>\n",
       "  </thead>\n",
       "  <tbody>\n",
       "    <tr>\n",
       "      <th>0</th>\n",
       "      <td>3</td>\n",
       "      <td>0</td>\n",
       "      <td>373</td>\n",
       "    </tr>\n",
       "    <tr>\n",
       "      <th>1</th>\n",
       "      <td>3</td>\n",
       "      <td>1</td>\n",
       "      <td>215</td>\n",
       "    </tr>\n",
       "    <tr>\n",
       "      <th>2</th>\n",
       "      <td>3</td>\n",
       "      <td>2</td>\n",
       "      <td>106</td>\n",
       "    </tr>\n",
       "    <tr>\n",
       "      <th>3</th>\n",
       "      <td>3</td>\n",
       "      <td>3</td>\n",
       "      <td>101</td>\n",
       "    </tr>\n",
       "    <tr>\n",
       "      <th>4</th>\n",
       "      <td>3</td>\n",
       "      <td>4</td>\n",
       "      <td>108</td>\n",
       "    </tr>\n",
       "    <tr>\n",
       "      <th>5</th>\n",
       "      <td>3</td>\n",
       "      <td>5</td>\n",
       "      <td>170</td>\n",
       "    </tr>\n",
       "    <tr>\n",
       "      <th>6</th>\n",
       "      <td>3</td>\n",
       "      <td>6</td>\n",
       "      <td>643</td>\n",
       "    </tr>\n",
       "    <tr>\n",
       "      <th>7</th>\n",
       "      <td>3</td>\n",
       "      <td>7</td>\n",
       "      <td>1732</td>\n",
       "    </tr>\n",
       "    <tr>\n",
       "      <th>8</th>\n",
       "      <td>3</td>\n",
       "      <td>8</td>\n",
       "      <td>3125</td>\n",
       "    </tr>\n",
       "    <tr>\n",
       "      <th>9</th>\n",
       "      <td>3</td>\n",
       "      <td>9</td>\n",
       "      <td>4490</td>\n",
       "    </tr>\n",
       "    <tr>\n",
       "      <th>10</th>\n",
       "      <td>3</td>\n",
       "      <td>10</td>\n",
       "      <td>5026</td>\n",
       "    </tr>\n",
       "    <tr>\n",
       "      <th>11</th>\n",
       "      <td>3</td>\n",
       "      <td>11</td>\n",
       "      <td>5004</td>\n",
       "    </tr>\n",
       "    <tr>\n",
       "      <th>12</th>\n",
       "      <td>3</td>\n",
       "      <td>12</td>\n",
       "      <td>4688</td>\n",
       "    </tr>\n",
       "    <tr>\n",
       "      <th>13</th>\n",
       "      <td>3</td>\n",
       "      <td>13</td>\n",
       "      <td>4674</td>\n",
       "    </tr>\n",
       "    <tr>\n",
       "      <th>14</th>\n",
       "      <td>3</td>\n",
       "      <td>14</td>\n",
       "      <td>4774</td>\n",
       "    </tr>\n",
       "    <tr>\n",
       "      <th>15</th>\n",
       "      <td>3</td>\n",
       "      <td>15</td>\n",
       "      <td>5163</td>\n",
       "    </tr>\n",
       "    <tr>\n",
       "      <th>16</th>\n",
       "      <td>3</td>\n",
       "      <td>16</td>\n",
       "      <td>4976</td>\n",
       "    </tr>\n",
       "    <tr>\n",
       "      <th>17</th>\n",
       "      <td>3</td>\n",
       "      <td>17</td>\n",
       "      <td>4175</td>\n",
       "    </tr>\n",
       "    <tr>\n",
       "      <th>18</th>\n",
       "      <td>3</td>\n",
       "      <td>18</td>\n",
       "      <td>3463</td>\n",
       "    </tr>\n",
       "    <tr>\n",
       "      <th>19</th>\n",
       "      <td>3</td>\n",
       "      <td>19</td>\n",
       "      <td>2652</td>\n",
       "    </tr>\n",
       "    <tr>\n",
       "      <th>20</th>\n",
       "      <td>3</td>\n",
       "      <td>20</td>\n",
       "      <td>1917</td>\n",
       "    </tr>\n",
       "    <tr>\n",
       "      <th>21</th>\n",
       "      <td>3</td>\n",
       "      <td>21</td>\n",
       "      <td>1450</td>\n",
       "    </tr>\n",
       "    <tr>\n",
       "      <th>22</th>\n",
       "      <td>3</td>\n",
       "      <td>22</td>\n",
       "      <td>1154</td>\n",
       "    </tr>\n",
       "    <tr>\n",
       "      <th>23</th>\n",
       "      <td>3</td>\n",
       "      <td>23</td>\n",
       "      <td>718</td>\n",
       "    </tr>\n",
       "    <tr>\n",
       "      <th>24</th>\n",
       "      <td>6</td>\n",
       "      <td>0</td>\n",
       "      <td>464</td>\n",
       "    </tr>\n",
       "    <tr>\n",
       "      <th>25</th>\n",
       "      <td>6</td>\n",
       "      <td>1</td>\n",
       "      <td>254</td>\n",
       "    </tr>\n",
       "    <tr>\n",
       "      <th>26</th>\n",
       "      <td>6</td>\n",
       "      <td>2</td>\n",
       "      <td>177</td>\n",
       "    </tr>\n",
       "    <tr>\n",
       "      <th>27</th>\n",
       "      <td>6</td>\n",
       "      <td>3</td>\n",
       "      <td>125</td>\n",
       "    </tr>\n",
       "    <tr>\n",
       "      <th>28</th>\n",
       "      <td>6</td>\n",
       "      <td>4</td>\n",
       "      <td>118</td>\n",
       "    </tr>\n",
       "    <tr>\n",
       "      <th>29</th>\n",
       "      <td>6</td>\n",
       "      <td>5</td>\n",
       "      <td>161</td>\n",
       "    </tr>\n",
       "    <tr>\n",
       "      <th>30</th>\n",
       "      <td>6</td>\n",
       "      <td>6</td>\n",
       "      <td>451</td>\n",
       "    </tr>\n",
       "    <tr>\n",
       "      <th>31</th>\n",
       "      <td>6</td>\n",
       "      <td>7</td>\n",
       "      <td>1619</td>\n",
       "    </tr>\n",
       "    <tr>\n",
       "      <th>32</th>\n",
       "      <td>6</td>\n",
       "      <td>8</td>\n",
       "      <td>3246</td>\n",
       "    </tr>\n",
       "    <tr>\n",
       "      <th>33</th>\n",
       "      <td>6</td>\n",
       "      <td>9</td>\n",
       "      <td>4311</td>\n",
       "    </tr>\n",
       "    <tr>\n",
       "      <th>34</th>\n",
       "      <td>6</td>\n",
       "      <td>10</td>\n",
       "      <td>4919</td>\n",
       "    </tr>\n",
       "    <tr>\n",
       "      <th>35</th>\n",
       "      <td>6</td>\n",
       "      <td>11</td>\n",
       "      <td>5116</td>\n",
       "    </tr>\n",
       "    <tr>\n",
       "      <th>36</th>\n",
       "      <td>6</td>\n",
       "      <td>12</td>\n",
       "      <td>5132</td>\n",
       "    </tr>\n",
       "    <tr>\n",
       "      <th>37</th>\n",
       "      <td>6</td>\n",
       "      <td>13</td>\n",
       "      <td>5323</td>\n",
       "    </tr>\n",
       "    <tr>\n",
       "      <th>38</th>\n",
       "      <td>6</td>\n",
       "      <td>14</td>\n",
       "      <td>5375</td>\n",
       "    </tr>\n",
       "    <tr>\n",
       "      <th>39</th>\n",
       "      <td>6</td>\n",
       "      <td>15</td>\n",
       "      <td>5188</td>\n",
       "    </tr>\n",
       "    <tr>\n",
       "      <th>40</th>\n",
       "      <td>6</td>\n",
       "      <td>16</td>\n",
       "      <td>5029</td>\n",
       "    </tr>\n",
       "    <tr>\n",
       "      <th>41</th>\n",
       "      <td>6</td>\n",
       "      <td>17</td>\n",
       "      <td>4295</td>\n",
       "    </tr>\n",
       "    <tr>\n",
       "      <th>42</th>\n",
       "      <td>6</td>\n",
       "      <td>18</td>\n",
       "      <td>3338</td>\n",
       "    </tr>\n",
       "    <tr>\n",
       "      <th>43</th>\n",
       "      <td>6</td>\n",
       "      <td>19</td>\n",
       "      <td>2610</td>\n",
       "    </tr>\n",
       "    <tr>\n",
       "      <th>44</th>\n",
       "      <td>6</td>\n",
       "      <td>20</td>\n",
       "      <td>1847</td>\n",
       "    </tr>\n",
       "    <tr>\n",
       "      <th>45</th>\n",
       "      <td>6</td>\n",
       "      <td>21</td>\n",
       "      <td>1473</td>\n",
       "    </tr>\n",
       "    <tr>\n",
       "      <th>46</th>\n",
       "      <td>6</td>\n",
       "      <td>22</td>\n",
       "      <td>1185</td>\n",
       "    </tr>\n",
       "    <tr>\n",
       "      <th>47</th>\n",
       "      <td>6</td>\n",
       "      <td>23</td>\n",
       "      <td>893</td>\n",
       "    </tr>\n",
       "  </tbody>\n",
       "</table>\n",
       "</div>"
      ],
      "text/plain": [
       "    order_dow  order_hour_of_day  total_pedidos\n",
       "0           3                  0            373\n",
       "1           3                  1            215\n",
       "2           3                  2            106\n",
       "3           3                  3            101\n",
       "4           3                  4            108\n",
       "5           3                  5            170\n",
       "6           3                  6            643\n",
       "7           3                  7           1732\n",
       "8           3                  8           3125\n",
       "9           3                  9           4490\n",
       "10          3                 10           5026\n",
       "11          3                 11           5004\n",
       "12          3                 12           4688\n",
       "13          3                 13           4674\n",
       "14          3                 14           4774\n",
       "15          3                 15           5163\n",
       "16          3                 16           4976\n",
       "17          3                 17           4175\n",
       "18          3                 18           3463\n",
       "19          3                 19           2652\n",
       "20          3                 20           1917\n",
       "21          3                 21           1450\n",
       "22          3                 22           1154\n",
       "23          3                 23            718\n",
       "24          6                  0            464\n",
       "25          6                  1            254\n",
       "26          6                  2            177\n",
       "27          6                  3            125\n",
       "28          6                  4            118\n",
       "29          6                  5            161\n",
       "30          6                  6            451\n",
       "31          6                  7           1619\n",
       "32          6                  8           3246\n",
       "33          6                  9           4311\n",
       "34          6                 10           4919\n",
       "35          6                 11           5116\n",
       "36          6                 12           5132\n",
       "37          6                 13           5323\n",
       "38          6                 14           5375\n",
       "39          6                 15           5188\n",
       "40          6                 16           5029\n",
       "41          6                 17           4295\n",
       "42          6                 18           3338\n",
       "43          6                 19           2610\n",
       "44          6                 20           1847\n",
       "45          6                 21           1473\n",
       "46          6                 22           1185\n",
       "47          6                 23            893"
      ]
     },
     "execution_count": 80,
     "metadata": {},
     "output_type": "execute_result"
    }
   ],
   "source": [
    "df_wed_sat = df_instacart_orders[(df_instacart_orders['order_dow'] == 3) | (df_instacart_orders['order_dow'] == 6)]\n",
    "df_wed_sat = (df_wed_sat.groupby(by=['order_dow', 'order_hour_of_day']).size()\n",
    "              .rename('total_pedidos')\n",
    "              .reset_index())\n",
    "df_wed_sat # FILTRO LOS DATAFRAMES CON EL FILTRO | LUEGO AGRUPO POR ['order_dow, 'order_hour_of_day'] Y TOTALIZOsize() Y RENOMBRO LA COLUMNA TOTAL 'total_pedidos'."
   ]
  },
  {
   "cell_type": "code",
   "execution_count": 81,
   "id": "797c90a8",
   "metadata": {
    "id": "797c90a8"
   },
   "outputs": [
    {
     "data": {
      "text/plain": [
       "<AxesSubplot:xlabel='order_hour_of_day', ylabel='total_pedidos'>"
      ]
     },
     "execution_count": 81,
     "metadata": {},
     "output_type": "execute_result"
    },
    {
     "data": {
      "image/png": "[encoded data removed]",
      "text/plain": [
       "<Figure size 640x480 with 1 Axes>"
      ]
     },
     "metadata": {},
     "output_type": "display_data"
    }
   ],
   "source": [
    "sns.barplot(data= df_wed_sat, x= 'order_hour_of_day', y= 'total_pedidos', hue= 'order_dow') # REALIZO UN GRAFICO DE BARRAS PARA COMPARAR LOS DOS DIAS "
   ]
  },
  {
   "cell_type": "markdown",
   "id": "charitable-congo",
   "metadata": {
    "id": "charitable-congo"
   },
   "source": [
    "Los pedidos realizados por los clientes el dia miercoles son menos que los del dia sabado entre las 12 y las 14. El resto del dia son muy similares "
   ]
  },
  {
   "cell_type": "markdown",
   "id": "e3891143",
   "metadata": {
    "id": "e3891143"
   },
   "source": [
    "### [B2] ¿Cuál es la distribución para el número de pedidos por cliente?"
   ]
  },
  {
   "cell_type": "code",
   "execution_count": 82,
   "id": "d8c26c23",
   "metadata": {
    "id": "d8c26c23"
   },
   "outputs": [
    {
     "data": {
      "text/plain": [
       "order_number  user_id\n",
       "1             2          1\n",
       "              6          1\n",
       "              13         1\n",
       "              15         1\n",
       "              20         1\n",
       "                        ..\n",
       "100           203027     1\n",
       "              203750     1\n",
       "              204709     1\n",
       "              205483     1\n",
       "              205543     1\n",
       "Length: 478952, dtype: int64"
      ]
     },
     "execution_count": 82,
     "metadata": {},
     "output_type": "execute_result"
    }
   ],
   "source": [
    "df_order_total = (df_instacart_orders.groupby(by=['order_number', 'user_id']).size()) # AGRUPO POR 'order_number' Y'user_id' AL MISMO TIEMPO Y TOTALIZO size()\n",
    "df_order_total"
   ]
  },
  {
   "cell_type": "code",
   "execution_count": 83,
   "id": "00e69a66",
   "metadata": {
    "id": "00e69a66"
   },
   "outputs": [
    {
     "data": {
      "text/plain": [
       "<AxesSubplot:xlabel='order_number', ylabel='Count'>"
      ]
     },
     "execution_count": 83,
     "metadata": {},
     "output_type": "execute_result"
    },
    {
     "data": {
      "image/png": "[encoded data removed]",
      "text/plain": [
       "<Figure size 640x480 with 1 Axes>"
      ]
     },
     "metadata": {},
     "output_type": "display_data"
    }
   ],
   "source": [
    "sns.histplot(data= df_order_total, x= 'order_number') # REALIZO EL GRAFICO DE HISTOGRAMA PARA VER LA DISTRIBUCION DE CUANTOS CLIENTES REALIZARON PEDIDOS. "
   ]
  },
  {
   "cell_type": "markdown",
   "id": "d2eff7d5",
   "metadata": {
    "id": "d2eff7d5"
   },
   "source": [
    "Escribe aquí tus conclusiones"
   ]
  },
  {
   "cell_type": "markdown",
   "id": "54a0319c",
   "metadata": {
    "id": "54a0319c"
   },
   "source": [
    "### [B3] ¿Cuáles son los 20 productos más populares (muestra su ID y nombre)?"
   ]
  },
  {
   "cell_type": "code",
   "execution_count": 84,
   "id": "exterior-arizona",
   "metadata": {
    "id": "exterior-arizona",
    "scrolled": true
   },
   "outputs": [
    {
     "data": {
      "text/html": [
       "<div>\n",
       "<style scoped>\n",
       "    .dataframe tbody tr th:only-of-type {\n",
       "        vertical-align: middle;\n",
       "    }\n",
       "\n",
       "    .dataframe tbody tr th {\n",
       "        vertical-align: top;\n",
       "    }\n",
       "\n",
       "    .dataframe thead th {\n",
       "        text-align: right;\n",
       "    }\n",
       "</style>\n",
       "<table border=\"1\" class=\"dataframe\">\n",
       "  <thead>\n",
       "    <tr style=\"text-align: right;\">\n",
       "      <th></th>\n",
       "      <th>product_name</th>\n",
       "      <th>product_id</th>\n",
       "      <th>producto_mas_vendido (unidades)</th>\n",
       "    </tr>\n",
       "  </thead>\n",
       "  <tbody>\n",
       "    <tr>\n",
       "      <th>22808</th>\n",
       "      <td>Honey Clusters Cereal</td>\n",
       "      <td>24852.0</td>\n",
       "      <td>66050.0</td>\n",
       "    </tr>\n",
       "    <tr>\n",
       "      <th>12025</th>\n",
       "      <td>Organic Russian Banana Fingerling Potatoes</td>\n",
       "      <td>13176.0</td>\n",
       "      <td>53297.0</td>\n",
       "    </tr>\n",
       "    <tr>\n",
       "      <th>19370</th>\n",
       "      <td>Chipotle Sweet Potato Soup</td>\n",
       "      <td>21137.0</td>\n",
       "      <td>37039.0</td>\n",
       "    </tr>\n",
       "    <tr>\n",
       "      <th>20077</th>\n",
       "      <td>Moisturizing Body Wash Juicy Pomegranate &amp; Man...</td>\n",
       "      <td>21903.0</td>\n",
       "      <td>33971.0</td>\n",
       "    </tr>\n",
       "    <tr>\n",
       "      <th>43271</th>\n",
       "      <td>Organic Amber Coconut Nectar</td>\n",
       "      <td>47209.0</td>\n",
       "      <td>29773.0</td>\n",
       "    </tr>\n",
       "    <tr>\n",
       "      <th>43788</th>\n",
       "      <td>Organic Basil</td>\n",
       "      <td>47766.0</td>\n",
       "      <td>24689.0</td>\n",
       "    </tr>\n",
       "    <tr>\n",
       "      <th>43663</th>\n",
       "      <td>Spicy Indian Puppodums</td>\n",
       "      <td>47626.0</td>\n",
       "      <td>21495.0</td>\n",
       "    </tr>\n",
       "    <tr>\n",
       "      <th>15364</th>\n",
       "      <td>Organic Energy Chews Fruit Smoothie</td>\n",
       "      <td>16797.0</td>\n",
       "      <td>20018.0</td>\n",
       "    </tr>\n",
       "    <tr>\n",
       "      <th>24047</th>\n",
       "      <td>Baby Zucchini</td>\n",
       "      <td>26209.0</td>\n",
       "      <td>19690.0</td>\n",
       "    </tr>\n",
       "    <tr>\n",
       "      <th>25556</th>\n",
       "      <td>Black Tie Frosted Cupcake</td>\n",
       "      <td>27845.0</td>\n",
       "      <td>19600.0</td>\n",
       "    </tr>\n",
       "    <tr>\n",
       "      <th>25666</th>\n",
       "      <td>Slant-Tip Tweezers</td>\n",
       "      <td>27966.0</td>\n",
       "      <td>19197.0</td>\n",
       "    </tr>\n",
       "    <tr>\n",
       "      <th>21025</th>\n",
       "      <td>Bakery Classics Soft White Hamburger Buns</td>\n",
       "      <td>22935.0</td>\n",
       "      <td>15898.0</td>\n",
       "    </tr>\n",
       "    <tr>\n",
       "      <th>22908</th>\n",
       "      <td>Mediterranean Medium Size Pickles in Brine</td>\n",
       "      <td>24964.0</td>\n",
       "      <td>15292.0</td>\n",
       "    </tr>\n",
       "    <tr>\n",
       "      <th>41244</th>\n",
       "      <td>Dried &amp; Sweet Cranberries</td>\n",
       "      <td>45007.0</td>\n",
       "      <td>14584.0</td>\n",
       "    </tr>\n",
       "    <tr>\n",
       "      <th>35996</th>\n",
       "      <td>NaN</td>\n",
       "      <td>39275.0</td>\n",
       "      <td>13879.0</td>\n",
       "    </tr>\n",
       "    <tr>\n",
       "      <th>45561</th>\n",
       "      <td>Blueberry Yogurt Protein Drink</td>\n",
       "      <td>49683.0</td>\n",
       "      <td>13675.0</td>\n",
       "    </tr>\n",
       "    <tr>\n",
       "      <th>25889</th>\n",
       "      <td>Boneless Skinless Chicken Breasts</td>\n",
       "      <td>28204.0</td>\n",
       "      <td>12544.0</td>\n",
       "    </tr>\n",
       "    <tr>\n",
       "      <th>5375</th>\n",
       "      <td>Mango Gelatin Dessert Mix</td>\n",
       "      <td>5876.0</td>\n",
       "      <td>12232.0</td>\n",
       "    </tr>\n",
       "    <tr>\n",
       "      <th>7543</th>\n",
       "      <td>CheeseCrisps- Cheddar &amp; Asiago</td>\n",
       "      <td>8277.0</td>\n",
       "      <td>11993.0</td>\n",
       "    </tr>\n",
       "    <tr>\n",
       "      <th>37301</th>\n",
       "      <td>Chocolate Chip &amp; Oatmeal Cookies</td>\n",
       "      <td>40706.0</td>\n",
       "      <td>11781.0</td>\n",
       "    </tr>\n",
       "  </tbody>\n",
       "</table>\n",
       "</div>"
      ],
      "text/plain": [
       "                                            product_name  product_id  \\\n",
       "22808                              Honey Clusters Cereal     24852.0   \n",
       "12025         Organic Russian Banana Fingerling Potatoes     13176.0   \n",
       "19370                         Chipotle Sweet Potato Soup     21137.0   \n",
       "20077  Moisturizing Body Wash Juicy Pomegranate & Man...     21903.0   \n",
       "43271                       Organic Amber Coconut Nectar     47209.0   \n",
       "43788                                      Organic Basil     47766.0   \n",
       "43663                             Spicy Indian Puppodums     47626.0   \n",
       "15364                Organic Energy Chews Fruit Smoothie     16797.0   \n",
       "24047                                      Baby Zucchini     26209.0   \n",
       "25556                          Black Tie Frosted Cupcake     27845.0   \n",
       "25666                                 Slant-Tip Tweezers     27966.0   \n",
       "21025          Bakery Classics Soft White Hamburger Buns     22935.0   \n",
       "22908         Mediterranean Medium Size Pickles in Brine     24964.0   \n",
       "41244                          Dried & Sweet Cranberries     45007.0   \n",
       "35996                                                NaN     39275.0   \n",
       "45561                     Blueberry Yogurt Protein Drink     49683.0   \n",
       "25889                  Boneless Skinless Chicken Breasts     28204.0   \n",
       "5375                           Mango Gelatin Dessert Mix      5876.0   \n",
       "7543                      CheeseCrisps- Cheddar & Asiago      8277.0   \n",
       "37301                   Chocolate Chip & Oatmeal Cookies     40706.0   \n",
       "\n",
       "       producto_mas_vendido (unidades)  \n",
       "22808                          66050.0  \n",
       "12025                          53297.0  \n",
       "19370                          37039.0  \n",
       "20077                          33971.0  \n",
       "43271                          29773.0  \n",
       "43788                          24689.0  \n",
       "43663                          21495.0  \n",
       "15364                          20018.0  \n",
       "24047                          19690.0  \n",
       "25556                          19600.0  \n",
       "25666                          19197.0  \n",
       "21025                          15898.0  \n",
       "22908                          15292.0  \n",
       "41244                          14584.0  \n",
       "35996                          13879.0  \n",
       "45561                          13675.0  \n",
       "25889                          12544.0  \n",
       "5375                           12232.0  \n",
       "7543                           11993.0  \n",
       "37301                          11781.0  "
      ]
     },
     "execution_count": 84,
     "metadata": {},
     "output_type": "execute_result"
    }
   ],
   "source": [
    "df_popular = (df_order_products.groupby(by=['product_id']).size()\n",
    "               .reset_index(name= 'producto_mas_vendido (unidades)')\n",
    "                .sort_values(by='producto_mas_vendido (unidades)', ascending= False))\n",
    "df_popular.head(20) # AGRUPO POR 'product_id' Y TOTALIZO LAS VECES QUE SE VENDIO CADA PRODUCTO'size() LUEGO RENOMBRO LA COLUMNA DEL TOTAL 'producto_mas_vendido_(unidades)' y ordeno POR 'producto_mas_vendido_(unidades)'Y FINALMENTE FILTRO LOS 20 PRIMEROS PRODUCTOS\n",
    "\n",
    "df_product_name = df_products['product_name'] # FILTRO POR LA COLUMNA ['product_name'] PARA CONCATENAR CON EL DATAFRAME DE ARRIBA\n",
    "\n",
    "df_popular_products_20 = pd.concat([df_product_name, df_popular], axis= 1).sort_values(by= 'producto_mas_vendido (unidades)', ascending= False) # UTILIZO concat() PAA AGREGAR 'product_name' AL DATAFRAME DE ARRIBA Y ORDENO POR EL TOTAL 'producto_mas_vendido_(unidades)'\n",
    "df_popular_products_20.head(20) # FILTRO LOS PRIMEROS 20 PRODUCTOS "
   ]
  },
  {
   "cell_type": "markdown",
   "id": "7df00f47",
   "metadata": {
    "id": "7df00f47"
   },
   "source": [
    "Solo hay un producto que no es alimento dentro de los mas vendidos que es para cuidado personal y ademas aparece un producto con NAN dentro de los mas vendidos"
   ]
  },
  {
   "cell_type": "markdown",
   "id": "0f16b730",
   "metadata": {},
   "source": [
    "<div class=\"alert alert-block alert-success\">\n",
    "<b>Comentario del revisor</b> <a class=\"tocSkip\"></a>\n",
    "\n",
    "Muy buen desarrollo de la sección. Desarrollaste de buena manera todos los análisis y lo complementaste con una gráfica. \n",
    "</div>"
   ]
  },
  {
   "cell_type": "markdown",
   "id": "gross-theme",
   "metadata": {
    "id": "gross-theme"
   },
   "source": [
    "# [C] Difícil (deben completarse todos para aprobar)\n",
    "\n",
    "1. ¿Cuántos artículos suelen comprar las personas en un pedido? ¿Cómo es la distribución?\n",
    "2. ¿Cuáles son los 20 principales artículos que vuelven a pedirse con mayor frecuencia (muestra sus nombres e IDs de los productos)?\n",
    "3. Para cada producto, ¿cuál es la tasa de repetición del pedido (número de repeticiones de pedido/total de pedidos?\n",
    "4. Para cada cliente, ¿qué proporción de los productos que pidió ya los había pedido? Calcula la tasa de repetición de pedido para cada usuario en lugar de para cada producto.\n",
    "5. ¿Cuáles son los 20 principales artículos que la gente pone primero en sus carritos (muestra las IDs de los productos, sus nombres, y el número de veces en que fueron el primer artículo en añadirse al carrito)?"
   ]
  },
  {
   "cell_type": "markdown",
   "id": "romantic-deposit",
   "metadata": {
    "id": "romantic-deposit"
   },
   "source": [
    "### [C1] ¿Cuántos artículos compran normalmente las personas en un pedido? ¿Cómo es la distribución?"
   ]
  },
  {
   "cell_type": "code",
   "execution_count": 85,
   "id": "virtual-punch",
   "metadata": {
    "id": "virtual-punch"
   },
   "outputs": [
    {
     "data": {
      "text/html": [
       "<div>\n",
       "<style scoped>\n",
       "    .dataframe tbody tr th:only-of-type {\n",
       "        vertical-align: middle;\n",
       "    }\n",
       "\n",
       "    .dataframe tbody tr th {\n",
       "        vertical-align: top;\n",
       "    }\n",
       "\n",
       "    .dataframe thead th {\n",
       "        text-align: right;\n",
       "    }\n",
       "</style>\n",
       "<table border=\"1\" class=\"dataframe\">\n",
       "  <thead>\n",
       "    <tr style=\"text-align: right;\">\n",
       "      <th></th>\n",
       "      <th>order_id</th>\n",
       "      <th>user_id</th>\n",
       "      <th>order_number</th>\n",
       "      <th>order_dow</th>\n",
       "      <th>order_hour_of_day</th>\n",
       "      <th>days_since_prior_order</th>\n",
       "      <th>product_id</th>\n",
       "      <th>add_to_cart_order</th>\n",
       "      <th>reordered</th>\n",
       "    </tr>\n",
       "  </thead>\n",
       "  <tbody>\n",
       "    <tr>\n",
       "      <th>0</th>\n",
       "      <td>1515936</td>\n",
       "      <td>183418</td>\n",
       "      <td>11</td>\n",
       "      <td>6</td>\n",
       "      <td>13</td>\n",
       "      <td>30.0</td>\n",
       "      <td>19048.0</td>\n",
       "      <td>1.0</td>\n",
       "      <td>1.0</td>\n",
       "    </tr>\n",
       "    <tr>\n",
       "      <th>1</th>\n",
       "      <td>1515936</td>\n",
       "      <td>183418</td>\n",
       "      <td>11</td>\n",
       "      <td>6</td>\n",
       "      <td>13</td>\n",
       "      <td>30.0</td>\n",
       "      <td>47766.0</td>\n",
       "      <td>3.0</td>\n",
       "      <td>1.0</td>\n",
       "    </tr>\n",
       "    <tr>\n",
       "      <th>2</th>\n",
       "      <td>1515936</td>\n",
       "      <td>183418</td>\n",
       "      <td>11</td>\n",
       "      <td>6</td>\n",
       "      <td>13</td>\n",
       "      <td>30.0</td>\n",
       "      <td>45066.0</td>\n",
       "      <td>9.0</td>\n",
       "      <td>0.0</td>\n",
       "    </tr>\n",
       "    <tr>\n",
       "      <th>3</th>\n",
       "      <td>1515936</td>\n",
       "      <td>183418</td>\n",
       "      <td>11</td>\n",
       "      <td>6</td>\n",
       "      <td>13</td>\n",
       "      <td>30.0</td>\n",
       "      <td>24082.0</td>\n",
       "      <td>11.0</td>\n",
       "      <td>0.0</td>\n",
       "    </tr>\n",
       "    <tr>\n",
       "      <th>4</th>\n",
       "      <td>1515936</td>\n",
       "      <td>183418</td>\n",
       "      <td>11</td>\n",
       "      <td>6</td>\n",
       "      <td>13</td>\n",
       "      <td>30.0</td>\n",
       "      <td>24363.0</td>\n",
       "      <td>4.0</td>\n",
       "      <td>0.0</td>\n",
       "    </tr>\n",
       "    <tr>\n",
       "      <th>...</th>\n",
       "      <td>...</td>\n",
       "      <td>...</td>\n",
       "      <td>...</td>\n",
       "      <td>...</td>\n",
       "      <td>...</td>\n",
       "      <td>...</td>\n",
       "      <td>...</td>\n",
       "      <td>...</td>\n",
       "      <td>...</td>\n",
       "    </tr>\n",
       "    <tr>\n",
       "      <th>4573908</th>\n",
       "      <td>2071924</td>\n",
       "      <td>1730</td>\n",
       "      <td>18</td>\n",
       "      <td>1</td>\n",
       "      <td>14</td>\n",
       "      <td>15.0</td>\n",
       "      <td>1503.0</td>\n",
       "      <td>17.0</td>\n",
       "      <td>0.0</td>\n",
       "    </tr>\n",
       "    <tr>\n",
       "      <th>4573909</th>\n",
       "      <td>2071924</td>\n",
       "      <td>1730</td>\n",
       "      <td>18</td>\n",
       "      <td>1</td>\n",
       "      <td>14</td>\n",
       "      <td>15.0</td>\n",
       "      <td>4778.0</td>\n",
       "      <td>12.0</td>\n",
       "      <td>1.0</td>\n",
       "    </tr>\n",
       "    <tr>\n",
       "      <th>4573910</th>\n",
       "      <td>2071924</td>\n",
       "      <td>1730</td>\n",
       "      <td>18</td>\n",
       "      <td>1</td>\n",
       "      <td>14</td>\n",
       "      <td>15.0</td>\n",
       "      <td>11512.0</td>\n",
       "      <td>1.0</td>\n",
       "      <td>1.0</td>\n",
       "    </tr>\n",
       "    <tr>\n",
       "      <th>4573911</th>\n",
       "      <td>2071924</td>\n",
       "      <td>1730</td>\n",
       "      <td>18</td>\n",
       "      <td>1</td>\n",
       "      <td>14</td>\n",
       "      <td>15.0</td>\n",
       "      <td>4920.0</td>\n",
       "      <td>6.0</td>\n",
       "      <td>1.0</td>\n",
       "    </tr>\n",
       "    <tr>\n",
       "      <th>4573912</th>\n",
       "      <td>2071924</td>\n",
       "      <td>1730</td>\n",
       "      <td>18</td>\n",
       "      <td>1</td>\n",
       "      <td>14</td>\n",
       "      <td>15.0</td>\n",
       "      <td>17678.0</td>\n",
       "      <td>4.0</td>\n",
       "      <td>1.0</td>\n",
       "    </tr>\n",
       "  </tbody>\n",
       "</table>\n",
       "<p>4573913 rows × 9 columns</p>\n",
       "</div>"
      ],
      "text/plain": [
       "         order_id  user_id  order_number  order_dow  order_hour_of_day  \\\n",
       "0         1515936   183418            11          6                 13   \n",
       "1         1515936   183418            11          6                 13   \n",
       "2         1515936   183418            11          6                 13   \n",
       "3         1515936   183418            11          6                 13   \n",
       "4         1515936   183418            11          6                 13   \n",
       "...           ...      ...           ...        ...                ...   \n",
       "4573908   2071924     1730            18          1                 14   \n",
       "4573909   2071924     1730            18          1                 14   \n",
       "4573910   2071924     1730            18          1                 14   \n",
       "4573911   2071924     1730            18          1                 14   \n",
       "4573912   2071924     1730            18          1                 14   \n",
       "\n",
       "         days_since_prior_order  product_id  add_to_cart_order  reordered  \n",
       "0                          30.0     19048.0                1.0        1.0  \n",
       "1                          30.0     47766.0                3.0        1.0  \n",
       "2                          30.0     45066.0                9.0        0.0  \n",
       "3                          30.0     24082.0               11.0        0.0  \n",
       "4                          30.0     24363.0                4.0        0.0  \n",
       "...                         ...         ...                ...        ...  \n",
       "4573908                    15.0      1503.0               17.0        0.0  \n",
       "4573909                    15.0      4778.0               12.0        1.0  \n",
       "4573910                    15.0     11512.0                1.0        1.0  \n",
       "4573911                    15.0      4920.0                6.0        1.0  \n",
       "4573912                    15.0     17678.0                4.0        1.0  \n",
       "\n",
       "[4573913 rows x 9 columns]"
      ]
     },
     "execution_count": 85,
     "metadata": {},
     "output_type": "execute_result"
    }
   ],
   "source": [
    "df_merged = pd.merge(df_instacart_orders, df_order_products, on= 'order_id', how= 'left') # UTILIZO merge() PARA UNIR LOS DOS DATAFRAMES QUE NECESITO PARA EL ANALISIS\n",
    "df_merged"
   ]
  },
  {
   "cell_type": "code",
   "execution_count": 86,
   "id": "sensitive-breathing",
   "metadata": {
    "id": "sensitive-breathing"
   },
   "outputs": [
    {
     "data": {
      "text/html": [
       "<div>\n",
       "<style scoped>\n",
       "    .dataframe tbody tr th:only-of-type {\n",
       "        vertical-align: middle;\n",
       "    }\n",
       "\n",
       "    .dataframe tbody tr th {\n",
       "        vertical-align: top;\n",
       "    }\n",
       "\n",
       "    .dataframe thead th {\n",
       "        text-align: right;\n",
       "    }\n",
       "</style>\n",
       "<table border=\"1\" class=\"dataframe\">\n",
       "  <thead>\n",
       "    <tr style=\"text-align: right;\">\n",
       "      <th></th>\n",
       "      <th>user_id</th>\n",
       "      <th>total_de_productos_comprados</th>\n",
       "    </tr>\n",
       "  </thead>\n",
       "  <tbody>\n",
       "    <tr>\n",
       "      <th>0</th>\n",
       "      <td>2</td>\n",
       "      <td>25</td>\n",
       "    </tr>\n",
       "    <tr>\n",
       "      <th>1</th>\n",
       "      <td>4</td>\n",
       "      <td>2</td>\n",
       "    </tr>\n",
       "    <tr>\n",
       "      <th>2</th>\n",
       "      <td>5</td>\n",
       "      <td>12</td>\n",
       "    </tr>\n",
       "    <tr>\n",
       "      <th>3</th>\n",
       "      <td>6</td>\n",
       "      <td>4</td>\n",
       "    </tr>\n",
       "    <tr>\n",
       "      <th>4</th>\n",
       "      <td>7</td>\n",
       "      <td>13</td>\n",
       "    </tr>\n",
       "    <tr>\n",
       "      <th>...</th>\n",
       "      <td>...</td>\n",
       "      <td>...</td>\n",
       "    </tr>\n",
       "    <tr>\n",
       "      <th>157432</th>\n",
       "      <td>206203</td>\n",
       "      <td>27</td>\n",
       "    </tr>\n",
       "    <tr>\n",
       "      <th>157433</th>\n",
       "      <td>206206</td>\n",
       "      <td>17</td>\n",
       "    </tr>\n",
       "    <tr>\n",
       "      <th>157434</th>\n",
       "      <td>206207</td>\n",
       "      <td>33</td>\n",
       "    </tr>\n",
       "    <tr>\n",
       "      <th>157435</th>\n",
       "      <td>206208</td>\n",
       "      <td>80</td>\n",
       "    </tr>\n",
       "    <tr>\n",
       "      <th>157436</th>\n",
       "      <td>206209</td>\n",
       "      <td>25</td>\n",
       "    </tr>\n",
       "  </tbody>\n",
       "</table>\n",
       "<p>157437 rows × 2 columns</p>\n",
       "</div>"
      ],
      "text/plain": [
       "        user_id  total_de_productos_comprados\n",
       "0             2                            25\n",
       "1             4                             2\n",
       "2             5                            12\n",
       "3             6                             4\n",
       "4             7                            13\n",
       "...         ...                           ...\n",
       "157432   206203                            27\n",
       "157433   206206                            17\n",
       "157434   206207                            33\n",
       "157435   206208                            80\n",
       "157436   206209                            25\n",
       "\n",
       "[157437 rows x 2 columns]"
      ]
     },
     "execution_count": 86,
     "metadata": {},
     "output_type": "execute_result"
    }
   ],
   "source": [
    "df_client_product = df_merged.groupby('user_id')['product_id'].nunique().reset_index(name= 'total_de_productos_comprados')  \n",
    "df_client_product # AGRUPO POR 'user_id' Y TOTALIZO LAS VECES QUE UN CLIENTE COMPRO UN PRODUCTO nunique() EN ['product_id'] Y LUEGO RENOMBRO LA COLUMNA DEL TOTAL 'total_de_productos_comprados'. "
   ]
  },
  {
   "cell_type": "code",
   "execution_count": 87,
   "id": "completed-frank",
   "metadata": {
    "id": "completed-frank"
   },
   "outputs": [
    {
     "data": {
      "text/plain": [
       "21.480757382318007"
      ]
     },
     "execution_count": 87,
     "metadata": {},
     "output_type": "execute_result"
    }
   ],
   "source": [
    "df_client_product['total_de_productos_comprados'].mean() # UTILIZO mean() PARA OBTENER EL PROMEDIO DE 'total_de_productos_comprados'."
   ]
  },
  {
   "cell_type": "code",
   "execution_count": 88,
   "id": "7b843799",
   "metadata": {},
   "outputs": [
    {
     "data": {
      "text/plain": [
       "15.0"
      ]
     },
     "execution_count": 88,
     "metadata": {},
     "output_type": "execute_result"
    }
   ],
   "source": [
    "df_client_product['total_de_productos_comprados'].median() # UTILIZO median() PARA OBTENER LA MEDIANA DE 'total_de_productos_comprados'."
   ]
  },
  {
   "cell_type": "code",
   "execution_count": 89,
   "id": "2da630f7",
   "metadata": {},
   "outputs": [
    {
     "data": {
      "text/plain": [
       "0"
      ]
     },
     "execution_count": 89,
     "metadata": {},
     "output_type": "execute_result"
    }
   ],
   "source": [
    "df_client_product['total_de_productos_comprados'].min() # UTILIZO min() PARA OBTENER EL MINIMO DE 'total_de_productos_comprados'."
   ]
  },
  {
   "cell_type": "code",
   "execution_count": 90,
   "id": "5c68e5bd",
   "metadata": {},
   "outputs": [
    {
     "data": {
      "text/plain": [
       "252"
      ]
     },
     "execution_count": 90,
     "metadata": {},
     "output_type": "execute_result"
    }
   ],
   "source": [
    "df_client_product['total_de_productos_comprados'].max() # UTILIZO max() PARA OBTENER EL MAXIMO DE 'toal_de_productos_comprados'."
   ]
  },
  {
   "cell_type": "code",
   "execution_count": 91,
   "id": "a4d4c542",
   "metadata": {},
   "outputs": [
    {
     "data": {
      "text/plain": [
       "<AxesSubplot:xlabel='total_de_productos_comprados', ylabel='Count'>"
      ]
     },
     "execution_count": 91,
     "metadata": {},
     "output_type": "execute_result"
    },
    {
     "data": {
      "image/png": "[encoded data removed]",
      "text/plain": [
       "<Figure size 640x480 with 1 Axes>"
      ]
     },
     "metadata": {},
     "output_type": "display_data"
    }
   ],
   "source": [
    "sns.histplot(data= df_client_product, x= 'total_de_productos_comprados', bins= 30) # REALIZO EL GRAFICO DE HISTOGRAMA PARA VER LA DISTRIBUCION DE 'total_de_productos_comprados'."
   ]
  },
  {
   "cell_type": "markdown",
   "id": "designed-mortality",
   "metadata": {
    "id": "designed-mortality"
   },
   "source": [
    "En promedio los clientes compran 21 productos. La mediana es de 15 productos lo que significa que es la cantidad que mas se repite dentro de los clientes que realizan sus compras. Tambien que el cliente que ha comprado la mayor cantidad de productos es de 252 sria interesante saber en cuantas veces lo realizo "
   ]
  },
  {
   "cell_type": "markdown",
   "id": "5e6b5537",
   "metadata": {
    "id": "5e6b5537"
   },
   "source": [
    "### [C2] ¿Cuáles son los 20 principales artículos que vuelven a pedirse con mayor frecuencia (muestra sus nombres e IDs de los productos)?"
   ]
  },
  {
   "cell_type": "code",
   "execution_count": 92,
   "id": "9374e55a",
   "metadata": {
    "id": "9374e55a"
   },
   "outputs": [
    {
     "data": {
      "text/html": [
       "<div>\n",
       "<style scoped>\n",
       "    .dataframe tbody tr th:only-of-type {\n",
       "        vertical-align: middle;\n",
       "    }\n",
       "\n",
       "    .dataframe tbody tr th {\n",
       "        vertical-align: top;\n",
       "    }\n",
       "\n",
       "    .dataframe thead th {\n",
       "        text-align: right;\n",
       "    }\n",
       "</style>\n",
       "<table border=\"1\" class=\"dataframe\">\n",
       "  <thead>\n",
       "    <tr style=\"text-align: right;\">\n",
       "      <th></th>\n",
       "      <th>product_name</th>\n",
       "      <th>product_id</th>\n",
       "      <th>producto_vendido_con_mas_frecuencia</th>\n",
       "    </tr>\n",
       "  </thead>\n",
       "  <tbody>\n",
       "    <tr>\n",
       "      <th>18104</th>\n",
       "      <td>Original Classic Organic Rice Drink</td>\n",
       "      <td>24852.0</td>\n",
       "      <td>55763.0</td>\n",
       "    </tr>\n",
       "    <tr>\n",
       "      <th>9528</th>\n",
       "      <td>Contact Lens Cases- Extra Value</td>\n",
       "      <td>13176.0</td>\n",
       "      <td>44450.0</td>\n",
       "    </tr>\n",
       "    <tr>\n",
       "      <th>15368</th>\n",
       "      <td>Country Potato Hot Dog Buns</td>\n",
       "      <td>21137.0</td>\n",
       "      <td>28639.0</td>\n",
       "    </tr>\n",
       "    <tr>\n",
       "      <th>15936</th>\n",
       "      <td>Shallot</td>\n",
       "      <td>21903.0</td>\n",
       "      <td>26233.0</td>\n",
       "    </tr>\n",
       "    <tr>\n",
       "      <th>34407</th>\n",
       "      <td>True Love Magickal Mineral Bath Salts With Nat...</td>\n",
       "      <td>47209.0</td>\n",
       "      <td>23629.0</td>\n",
       "    </tr>\n",
       "    <tr>\n",
       "      <th>34828</th>\n",
       "      <td>Chocolate Wafers Candy Bar</td>\n",
       "      <td>47766.0</td>\n",
       "      <td>18743.0</td>\n",
       "    </tr>\n",
       "    <tr>\n",
       "      <th>20285</th>\n",
       "      <td>Drawstring Tall Kitchen Bags</td>\n",
       "      <td>27845.0</td>\n",
       "      <td>16251.0</td>\n",
       "    </tr>\n",
       "    <tr>\n",
       "      <th>34725</th>\n",
       "      <td>Butter Toffee Peanuts</td>\n",
       "      <td>47626.0</td>\n",
       "      <td>15044.0</td>\n",
       "    </tr>\n",
       "    <tr>\n",
       "      <th>20375</th>\n",
       "      <td>Silver Polish</td>\n",
       "      <td>27966.0</td>\n",
       "      <td>14748.0</td>\n",
       "    </tr>\n",
       "    <tr>\n",
       "      <th>12193</th>\n",
       "      <td>Simply Dressed Light Ranch Dressing</td>\n",
       "      <td>16797.0</td>\n",
       "      <td>13945.0</td>\n",
       "    </tr>\n",
       "    <tr>\n",
       "      <th>19088</th>\n",
       "      <td>NaN</td>\n",
       "      <td>26209.0</td>\n",
       "      <td>13327.0</td>\n",
       "    </tr>\n",
       "    <tr>\n",
       "      <th>16700</th>\n",
       "      <td>Soup Mix- Whole Grains and Beans</td>\n",
       "      <td>22935.0</td>\n",
       "      <td>11145.0</td>\n",
       "    </tr>\n",
       "    <tr>\n",
       "      <th>18186</th>\n",
       "      <td>Organic Cherry Drink</td>\n",
       "      <td>24964.0</td>\n",
       "      <td>10411.0</td>\n",
       "    </tr>\n",
       "    <tr>\n",
       "      <th>32792</th>\n",
       "      <td>Light Roasted Chicken &amp; Vegetable Soup</td>\n",
       "      <td>45007.0</td>\n",
       "      <td>10076.0</td>\n",
       "    </tr>\n",
       "    <tr>\n",
       "      <th>36219</th>\n",
       "      <td>Root Touch-up Clairol Nice 'n Easy Root Touch-...</td>\n",
       "      <td>49683.0</td>\n",
       "      <td>9538.0</td>\n",
       "    </tr>\n",
       "    <tr>\n",
       "      <th>20543</th>\n",
       "      <td>Peeled Whole Tomatoes</td>\n",
       "      <td>28204.0</td>\n",
       "      <td>8989.0</td>\n",
       "    </tr>\n",
       "    <tr>\n",
       "      <th>5978</th>\n",
       "      <td>100% Organic Ground Fennel</td>\n",
       "      <td>8277.0</td>\n",
       "      <td>8836.0</td>\n",
       "    </tr>\n",
       "    <tr>\n",
       "      <th>28607</th>\n",
       "      <td>Kefir Cultured Milk Smoothie- Lowfat- Chocolat...</td>\n",
       "      <td>39275.0</td>\n",
       "      <td>8799.0</td>\n",
       "    </tr>\n",
       "    <tr>\n",
       "      <th>4267</th>\n",
       "      <td>Spot's Stew Chicken Cat Food</td>\n",
       "      <td>5876.0</td>\n",
       "      <td>8412.0</td>\n",
       "    </tr>\n",
       "    <tr>\n",
       "      <th>35905</th>\n",
       "      <td>Boneless &amp; Skinless Chicken Breast</td>\n",
       "      <td>49235.0</td>\n",
       "      <td>8389.0</td>\n",
       "    </tr>\n",
       "  </tbody>\n",
       "</table>\n",
       "</div>"
      ],
      "text/plain": [
       "                                            product_name  product_id  \\\n",
       "18104                Original Classic Organic Rice Drink     24852.0   \n",
       "9528                     Contact Lens Cases- Extra Value     13176.0   \n",
       "15368                        Country Potato Hot Dog Buns     21137.0   \n",
       "15936                                            Shallot     21903.0   \n",
       "34407  True Love Magickal Mineral Bath Salts With Nat...     47209.0   \n",
       "34828                         Chocolate Wafers Candy Bar     47766.0   \n",
       "20285                       Drawstring Tall Kitchen Bags     27845.0   \n",
       "34725                              Butter Toffee Peanuts     47626.0   \n",
       "20375                                      Silver Polish     27966.0   \n",
       "12193                Simply Dressed Light Ranch Dressing     16797.0   \n",
       "19088                                                NaN     26209.0   \n",
       "16700                   Soup Mix- Whole Grains and Beans     22935.0   \n",
       "18186                               Organic Cherry Drink     24964.0   \n",
       "32792             Light Roasted Chicken & Vegetable Soup     45007.0   \n",
       "36219  Root Touch-up Clairol Nice 'n Easy Root Touch-...     49683.0   \n",
       "20543                              Peeled Whole Tomatoes     28204.0   \n",
       "5978                          100% Organic Ground Fennel      8277.0   \n",
       "28607  Kefir Cultured Milk Smoothie- Lowfat- Chocolat...     39275.0   \n",
       "4267                        Spot's Stew Chicken Cat Food      5876.0   \n",
       "35905                 Boneless & Skinless Chicken Breast     49235.0   \n",
       "\n",
       "       producto_vendido_con_mas_frecuencia  \n",
       "18104                              55763.0  \n",
       "9528                               44450.0  \n",
       "15368                              28639.0  \n",
       "15936                              26233.0  \n",
       "34407                              23629.0  \n",
       "34828                              18743.0  \n",
       "20285                              16251.0  \n",
       "34725                              15044.0  \n",
       "20375                              14748.0  \n",
       "12193                              13945.0  \n",
       "19088                              13327.0  \n",
       "16700                              11145.0  \n",
       "18186                              10411.0  \n",
       "32792                              10076.0  \n",
       "36219                               9538.0  \n",
       "20543                               8989.0  \n",
       "5978                                8836.0  \n",
       "28607                               8799.0  \n",
       "4267                                8412.0  \n",
       "35905                               8389.0  "
      ]
     },
     "execution_count": 92,
     "metadata": {},
     "output_type": "execute_result"
    }
   ],
   "source": [
    "df_popular_frecuente = (df_order_products[df_order_products['reordered'] == 1].groupby('product_id').size()\n",
    "                       .reset_index(name= 'producto_vendido_con_mas_frecuencia')\n",
    "                       .sort_values(by='producto_vendido_con_mas_frecuencia', ascending= False)) # FILTRO TODO EL DATAFRAME POR'reordered' == 1 Y AGRUPO POR 'product_id' Y TOTALIZO POR CADA PRODUCTO size() Y LUEGO RENOMBRO LA COLUMNA DEL TOTAL 'producto_vendido_con_mas_frecuencia' Y ORDENO DE MANERA DESCENDENTE EL TOTAL sort_values().\n",
    "df_popular_frecuente.head(20) # FILTRO LOS 20 PRODUCTOS QUE SE PIDEN CON MAS FRECUENCIA \n",
    "\n",
    "df_product_name = df_products['product_name'] # EXTRAIGO LA COLUMNA 'product_name' PARA LUEGO CONCATENAR CON EL DATAFRAME DE ARRIBA \n",
    "\n",
    "df_popular_frecuente_20 = pd.concat([df_product_name, df_popular_frecuente], axis= 1).sort_values(by= 'producto_vendido_con_mas_frecuencia', ascending= False) \n",
    "df_popular_frecuente_20.head(20) # UTILIZO concat() PARA AGREGAR 'product_name' YA QUE LOS DOS DATAFRAMES TIENEN EL MISMO NUMERO DE FILAS "
   ]
  },
  {
   "cell_type": "markdown",
   "id": "80e70c74",
   "metadata": {
    "id": "80e70c74"
   },
   "source": [
    "Solo algunos productos de los que son los 20 mas populares se repiten dentro de los que se vuelven a pedir."
   ]
  },
  {
   "cell_type": "markdown",
   "id": "9d312b14",
   "metadata": {
    "id": "9d312b14"
   },
   "source": [
    "### [C3] Para cada producto, ¿cuál es la proporción de las veces que se pide y que se vuelve a pedir?"
   ]
  },
  {
   "cell_type": "code",
   "execution_count": 93,
   "id": "8ae9f4b1",
   "metadata": {
    "id": "8ae9f4b1"
   },
   "outputs": [
    {
     "data": {
      "text/html": [
       "<div>\n",
       "<style scoped>\n",
       "    .dataframe tbody tr th:only-of-type {\n",
       "        vertical-align: middle;\n",
       "    }\n",
       "\n",
       "    .dataframe tbody tr th {\n",
       "        vertical-align: top;\n",
       "    }\n",
       "\n",
       "    .dataframe thead th {\n",
       "        text-align: right;\n",
       "    }\n",
       "</style>\n",
       "<table border=\"1\" class=\"dataframe\">\n",
       "  <thead>\n",
       "    <tr style=\"text-align: right;\">\n",
       "      <th></th>\n",
       "      <th>product_id</th>\n",
       "      <th>total_orders</th>\n",
       "    </tr>\n",
       "  </thead>\n",
       "  <tbody>\n",
       "    <tr>\n",
       "      <th>0</th>\n",
       "      <td>1</td>\n",
       "      <td>280</td>\n",
       "    </tr>\n",
       "    <tr>\n",
       "      <th>1</th>\n",
       "      <td>2</td>\n",
       "      <td>11</td>\n",
       "    </tr>\n",
       "    <tr>\n",
       "      <th>2</th>\n",
       "      <td>3</td>\n",
       "      <td>42</td>\n",
       "    </tr>\n",
       "    <tr>\n",
       "      <th>3</th>\n",
       "      <td>4</td>\n",
       "      <td>49</td>\n",
       "    </tr>\n",
       "    <tr>\n",
       "      <th>4</th>\n",
       "      <td>7</td>\n",
       "      <td>2</td>\n",
       "    </tr>\n",
       "    <tr>\n",
       "      <th>...</th>\n",
       "      <td>...</td>\n",
       "      <td>...</td>\n",
       "    </tr>\n",
       "    <tr>\n",
       "      <th>45568</th>\n",
       "      <td>49690</td>\n",
       "      <td>5</td>\n",
       "    </tr>\n",
       "    <tr>\n",
       "      <th>45569</th>\n",
       "      <td>49691</td>\n",
       "      <td>72</td>\n",
       "    </tr>\n",
       "    <tr>\n",
       "      <th>45570</th>\n",
       "      <td>49692</td>\n",
       "      <td>12</td>\n",
       "    </tr>\n",
       "    <tr>\n",
       "      <th>45571</th>\n",
       "      <td>49693</td>\n",
       "      <td>25</td>\n",
       "    </tr>\n",
       "    <tr>\n",
       "      <th>45572</th>\n",
       "      <td>49694</td>\n",
       "      <td>9</td>\n",
       "    </tr>\n",
       "  </tbody>\n",
       "</table>\n",
       "<p>45573 rows × 2 columns</p>\n",
       "</div>"
      ],
      "text/plain": [
       "       product_id  total_orders\n",
       "0               1           280\n",
       "1               2            11\n",
       "2               3            42\n",
       "3               4            49\n",
       "4               7             2\n",
       "...           ...           ...\n",
       "45568       49690             5\n",
       "45569       49691            72\n",
       "45570       49692            12\n",
       "45571       49693            25\n",
       "45572       49694             9\n",
       "\n",
       "[45573 rows x 2 columns]"
      ]
     },
     "execution_count": 93,
     "metadata": {},
     "output_type": "execute_result"
    }
   ],
   "source": [
    "df_total_orders = df_order_products.groupby(by= ['product_id']).size().rename('total_orders').reset_index()\n",
    "df_total_orders # AGRUPO POR 'product_id' PARA LUEGO CONTAR EL TOTAL POR CADA PRODUCTO size() Y FINALMENTE RENOMBRO LA COLUMNA DEL CONTEO ''total_orders'."
   ]
  },
  {
   "cell_type": "code",
   "execution_count": 94,
   "id": "103e7fe1",
   "metadata": {
    "id": "103e7fe1"
   },
   "outputs": [
    {
     "data": {
      "text/html": [
       "<div>\n",
       "<style scoped>\n",
       "    .dataframe tbody tr th:only-of-type {\n",
       "        vertical-align: middle;\n",
       "    }\n",
       "\n",
       "    .dataframe tbody tr th {\n",
       "        vertical-align: top;\n",
       "    }\n",
       "\n",
       "    .dataframe thead th {\n",
       "        text-align: right;\n",
       "    }\n",
       "</style>\n",
       "<table border=\"1\" class=\"dataframe\">\n",
       "  <thead>\n",
       "    <tr style=\"text-align: right;\">\n",
       "      <th></th>\n",
       "      <th>product_id</th>\n",
       "      <th>total_reordered</th>\n",
       "    </tr>\n",
       "  </thead>\n",
       "  <tbody>\n",
       "    <tr>\n",
       "      <th>0</th>\n",
       "      <td>1</td>\n",
       "      <td>158</td>\n",
       "    </tr>\n",
       "    <tr>\n",
       "      <th>1</th>\n",
       "      <td>3</td>\n",
       "      <td>31</td>\n",
       "    </tr>\n",
       "    <tr>\n",
       "      <th>2</th>\n",
       "      <td>4</td>\n",
       "      <td>25</td>\n",
       "    </tr>\n",
       "    <tr>\n",
       "      <th>3</th>\n",
       "      <td>7</td>\n",
       "      <td>1</td>\n",
       "    </tr>\n",
       "    <tr>\n",
       "      <th>4</th>\n",
       "      <td>8</td>\n",
       "      <td>6</td>\n",
       "    </tr>\n",
       "    <tr>\n",
       "      <th>...</th>\n",
       "      <td>...</td>\n",
       "      <td>...</td>\n",
       "    </tr>\n",
       "    <tr>\n",
       "      <th>36223</th>\n",
       "      <td>49690</td>\n",
       "      <td>4</td>\n",
       "    </tr>\n",
       "    <tr>\n",
       "      <th>36224</th>\n",
       "      <td>49691</td>\n",
       "      <td>31</td>\n",
       "    </tr>\n",
       "    <tr>\n",
       "      <th>36225</th>\n",
       "      <td>49692</td>\n",
       "      <td>5</td>\n",
       "    </tr>\n",
       "    <tr>\n",
       "      <th>36226</th>\n",
       "      <td>49693</td>\n",
       "      <td>11</td>\n",
       "    </tr>\n",
       "    <tr>\n",
       "      <th>36227</th>\n",
       "      <td>49694</td>\n",
       "      <td>3</td>\n",
       "    </tr>\n",
       "  </tbody>\n",
       "</table>\n",
       "<p>36228 rows × 2 columns</p>\n",
       "</div>"
      ],
      "text/plain": [
       "       product_id  total_reordered\n",
       "0               1              158\n",
       "1               3               31\n",
       "2               4               25\n",
       "3               7                1\n",
       "4               8                6\n",
       "...           ...              ...\n",
       "36223       49690                4\n",
       "36224       49691               31\n",
       "36225       49692                5\n",
       "36226       49693               11\n",
       "36227       49694                3\n",
       "\n",
       "[36228 rows x 2 columns]"
      ]
     },
     "execution_count": 94,
     "metadata": {},
     "output_type": "execute_result"
    }
   ],
   "source": [
    "df_total_reordered = df_order_products[df_order_products['reordered'] == 1].groupby(by= ['product_id']).size().reset_index(name= 'total_reordered')\n",
    "df_total_reordered # FILTRO POR 'reordered' == 1 PARA OBTENER LOS PRODUCTOS QUE YA SE HAN PEDIDO Y LUEGO AGRUPO POR 'product_id' LUEGO LLAMO A size() PARA SABER EL TOTAL DE PRODUCTOS COMPRADOS Y FINALMENTE RENOMBRO LA COLUMNA DEL CONTEO 'total_reordered'."
   ]
  },
  {
   "cell_type": "code",
   "execution_count": 95,
   "id": "social-individual",
   "metadata": {
    "id": "social-individual"
   },
   "outputs": [
    {
     "data": {
      "text/html": [
       "<div>\n",
       "<style scoped>\n",
       "    .dataframe tbody tr th:only-of-type {\n",
       "        vertical-align: middle;\n",
       "    }\n",
       "\n",
       "    .dataframe tbody tr th {\n",
       "        vertical-align: top;\n",
       "    }\n",
       "\n",
       "    .dataframe thead th {\n",
       "        text-align: right;\n",
       "    }\n",
       "</style>\n",
       "<table border=\"1\" class=\"dataframe\">\n",
       "  <thead>\n",
       "    <tr style=\"text-align: right;\">\n",
       "      <th></th>\n",
       "      <th>product_id</th>\n",
       "      <th>total_orders</th>\n",
       "      <th>total_reordered</th>\n",
       "    </tr>\n",
       "  </thead>\n",
       "  <tbody>\n",
       "    <tr>\n",
       "      <th>0</th>\n",
       "      <td>1</td>\n",
       "      <td>280</td>\n",
       "      <td>158.0</td>\n",
       "    </tr>\n",
       "    <tr>\n",
       "      <th>1</th>\n",
       "      <td>2</td>\n",
       "      <td>11</td>\n",
       "      <td>0.0</td>\n",
       "    </tr>\n",
       "    <tr>\n",
       "      <th>2</th>\n",
       "      <td>3</td>\n",
       "      <td>42</td>\n",
       "      <td>31.0</td>\n",
       "    </tr>\n",
       "    <tr>\n",
       "      <th>3</th>\n",
       "      <td>4</td>\n",
       "      <td>49</td>\n",
       "      <td>25.0</td>\n",
       "    </tr>\n",
       "    <tr>\n",
       "      <th>4</th>\n",
       "      <td>7</td>\n",
       "      <td>2</td>\n",
       "      <td>1.0</td>\n",
       "    </tr>\n",
       "    <tr>\n",
       "      <th>...</th>\n",
       "      <td>...</td>\n",
       "      <td>...</td>\n",
       "      <td>...</td>\n",
       "    </tr>\n",
       "    <tr>\n",
       "      <th>45568</th>\n",
       "      <td>49690</td>\n",
       "      <td>5</td>\n",
       "      <td>4.0</td>\n",
       "    </tr>\n",
       "    <tr>\n",
       "      <th>45569</th>\n",
       "      <td>49691</td>\n",
       "      <td>72</td>\n",
       "      <td>31.0</td>\n",
       "    </tr>\n",
       "    <tr>\n",
       "      <th>45570</th>\n",
       "      <td>49692</td>\n",
       "      <td>12</td>\n",
       "      <td>5.0</td>\n",
       "    </tr>\n",
       "    <tr>\n",
       "      <th>45571</th>\n",
       "      <td>49693</td>\n",
       "      <td>25</td>\n",
       "      <td>11.0</td>\n",
       "    </tr>\n",
       "    <tr>\n",
       "      <th>45572</th>\n",
       "      <td>49694</td>\n",
       "      <td>9</td>\n",
       "      <td>3.0</td>\n",
       "    </tr>\n",
       "  </tbody>\n",
       "</table>\n",
       "<p>45573 rows × 3 columns</p>\n",
       "</div>"
      ],
      "text/plain": [
       "       product_id  total_orders  total_reordered\n",
       "0               1           280            158.0\n",
       "1               2            11              0.0\n",
       "2               3            42             31.0\n",
       "3               4            49             25.0\n",
       "4               7             2              1.0\n",
       "...           ...           ...              ...\n",
       "45568       49690             5              4.0\n",
       "45569       49691            72             31.0\n",
       "45570       49692            12              5.0\n",
       "45571       49693            25             11.0\n",
       "45572       49694             9              3.0\n",
       "\n",
       "[45573 rows x 3 columns]"
      ]
     },
     "execution_count": 95,
     "metadata": {},
     "output_type": "execute_result"
    }
   ],
   "source": [
    "df_total_orders_reordered = pd.merge(df_total_orders, df_total_reordered, on= 'product_id', how= 'left').fillna(0)\n",
    "df_total_orders_reordered # UTILIZO merge() PARA UNIR LOS DOS DATAFRAMES QUE NECESITO PARA EL ANALISIS"
   ]
  },
  {
   "cell_type": "code",
   "execution_count": 96,
   "id": "158fb9d8",
   "metadata": {},
   "outputs": [
    {
     "data": {
      "text/html": [
       "<div>\n",
       "<style scoped>\n",
       "    .dataframe tbody tr th:only-of-type {\n",
       "        vertical-align: middle;\n",
       "    }\n",
       "\n",
       "    .dataframe tbody tr th {\n",
       "        vertical-align: top;\n",
       "    }\n",
       "\n",
       "    .dataframe thead th {\n",
       "        text-align: right;\n",
       "    }\n",
       "</style>\n",
       "<table border=\"1\" class=\"dataframe\">\n",
       "  <thead>\n",
       "    <tr style=\"text-align: right;\">\n",
       "      <th></th>\n",
       "      <th>product_id</th>\n",
       "      <th>total_orders</th>\n",
       "      <th>total_reordered</th>\n",
       "      <th>proportion_reordered</th>\n",
       "    </tr>\n",
       "  </thead>\n",
       "  <tbody>\n",
       "    <tr>\n",
       "      <th>0</th>\n",
       "      <td>1</td>\n",
       "      <td>280</td>\n",
       "      <td>158.0</td>\n",
       "      <td>0.564286</td>\n",
       "    </tr>\n",
       "    <tr>\n",
       "      <th>1</th>\n",
       "      <td>2</td>\n",
       "      <td>11</td>\n",
       "      <td>0.0</td>\n",
       "      <td>0.000000</td>\n",
       "    </tr>\n",
       "    <tr>\n",
       "      <th>2</th>\n",
       "      <td>3</td>\n",
       "      <td>42</td>\n",
       "      <td>31.0</td>\n",
       "      <td>0.738095</td>\n",
       "    </tr>\n",
       "    <tr>\n",
       "      <th>3</th>\n",
       "      <td>4</td>\n",
       "      <td>49</td>\n",
       "      <td>25.0</td>\n",
       "      <td>0.510204</td>\n",
       "    </tr>\n",
       "    <tr>\n",
       "      <th>4</th>\n",
       "      <td>7</td>\n",
       "      <td>2</td>\n",
       "      <td>1.0</td>\n",
       "      <td>0.500000</td>\n",
       "    </tr>\n",
       "    <tr>\n",
       "      <th>...</th>\n",
       "      <td>...</td>\n",
       "      <td>...</td>\n",
       "      <td>...</td>\n",
       "      <td>...</td>\n",
       "    </tr>\n",
       "    <tr>\n",
       "      <th>45568</th>\n",
       "      <td>49690</td>\n",
       "      <td>5</td>\n",
       "      <td>4.0</td>\n",
       "      <td>0.800000</td>\n",
       "    </tr>\n",
       "    <tr>\n",
       "      <th>45569</th>\n",
       "      <td>49691</td>\n",
       "      <td>72</td>\n",
       "      <td>31.0</td>\n",
       "      <td>0.430556</td>\n",
       "    </tr>\n",
       "    <tr>\n",
       "      <th>45570</th>\n",
       "      <td>49692</td>\n",
       "      <td>12</td>\n",
       "      <td>5.0</td>\n",
       "      <td>0.416667</td>\n",
       "    </tr>\n",
       "    <tr>\n",
       "      <th>45571</th>\n",
       "      <td>49693</td>\n",
       "      <td>25</td>\n",
       "      <td>11.0</td>\n",
       "      <td>0.440000</td>\n",
       "    </tr>\n",
       "    <tr>\n",
       "      <th>45572</th>\n",
       "      <td>49694</td>\n",
       "      <td>9</td>\n",
       "      <td>3.0</td>\n",
       "      <td>0.333333</td>\n",
       "    </tr>\n",
       "  </tbody>\n",
       "</table>\n",
       "<p>45573 rows × 4 columns</p>\n",
       "</div>"
      ],
      "text/plain": [
       "       product_id  total_orders  total_reordered  proportion_reordered\n",
       "0               1           280            158.0              0.564286\n",
       "1               2            11              0.0              0.000000\n",
       "2               3            42             31.0              0.738095\n",
       "3               4            49             25.0              0.510204\n",
       "4               7             2              1.0              0.500000\n",
       "...           ...           ...              ...                   ...\n",
       "45568       49690             5              4.0              0.800000\n",
       "45569       49691            72             31.0              0.430556\n",
       "45570       49692            12              5.0              0.416667\n",
       "45571       49693            25             11.0              0.440000\n",
       "45572       49694             9              3.0              0.333333\n",
       "\n",
       "[45573 rows x 4 columns]"
      ]
     },
     "execution_count": 96,
     "metadata": {},
     "output_type": "execute_result"
    }
   ],
   "source": [
    "df_total_orders_reordered['proportion_reordered'] = (df_total_orders_reordered['total_reordered'] / df_total_orders_reordered['total_orders'])\n",
    "df_total_orders_reordered # CALCULO LA PROPORCION DE CADA PRODUCTO QUE YA SE HA PEDIDO"
   ]
  },
  {
   "cell_type": "code",
   "execution_count": 97,
   "id": "1a588115",
   "metadata": {},
   "outputs": [
    {
     "data": {
      "text/plain": [
       "0.38670677893645"
      ]
     },
     "execution_count": 97,
     "metadata": {},
     "output_type": "execute_result"
    }
   ],
   "source": [
    "df_total_orders_reordered['proportion_reordered'].mean() # UTILIZO mean() PARA OBTENER EL PROMEDIO DE LOS PRODUCTOS QUE YA SE HAN PEDIDO POR PRODUCTO."
   ]
  },
  {
   "cell_type": "markdown",
   "id": "I10dEIAyldcO",
   "metadata": {
    "id": "I10dEIAyldcO"
   },
   "source": [
    "El 59% del total de productos se vuelven a pedir"
   ]
  },
  {
   "cell_type": "markdown",
   "id": "subject-boxing",
   "metadata": {
    "id": "subject-boxing"
   },
   "source": [
    "### [C4] Para cada cliente, ¿qué proporción de sus productos ya los había pedido?"
   ]
  },
  {
   "cell_type": "code",
   "execution_count": 98,
   "id": "medical-couple",
   "metadata": {
    "id": "medical-couple",
    "scrolled": true
   },
   "outputs": [
    {
     "data": {
      "text/html": [
       "<div>\n",
       "<style scoped>\n",
       "    .dataframe tbody tr th:only-of-type {\n",
       "        vertical-align: middle;\n",
       "    }\n",
       "\n",
       "    .dataframe tbody tr th {\n",
       "        vertical-align: top;\n",
       "    }\n",
       "\n",
       "    .dataframe thead th {\n",
       "        text-align: right;\n",
       "    }\n",
       "</style>\n",
       "<table border=\"1\" class=\"dataframe\">\n",
       "  <thead>\n",
       "    <tr style=\"text-align: right;\">\n",
       "      <th></th>\n",
       "      <th>order_id</th>\n",
       "      <th>product_id</th>\n",
       "      <th>add_to_cart_order</th>\n",
       "      <th>reordered</th>\n",
       "      <th>user_id</th>\n",
       "      <th>order_number</th>\n",
       "      <th>order_dow</th>\n",
       "      <th>order_hour_of_day</th>\n",
       "      <th>days_since_prior_order</th>\n",
       "    </tr>\n",
       "  </thead>\n",
       "  <tbody>\n",
       "    <tr>\n",
       "      <th>0</th>\n",
       "      <td>2141543</td>\n",
       "      <td>11440</td>\n",
       "      <td>17</td>\n",
       "      <td>0</td>\n",
       "      <td>58454</td>\n",
       "      <td>25</td>\n",
       "      <td>0</td>\n",
       "      <td>15</td>\n",
       "      <td>8.0</td>\n",
       "    </tr>\n",
       "    <tr>\n",
       "      <th>1</th>\n",
       "      <td>567889</td>\n",
       "      <td>1560</td>\n",
       "      <td>1</td>\n",
       "      <td>1</td>\n",
       "      <td>129474</td>\n",
       "      <td>16</td>\n",
       "      <td>1</td>\n",
       "      <td>13</td>\n",
       "      <td>14.0</td>\n",
       "    </tr>\n",
       "    <tr>\n",
       "      <th>2</th>\n",
       "      <td>2261212</td>\n",
       "      <td>26683</td>\n",
       "      <td>1</td>\n",
       "      <td>1</td>\n",
       "      <td>47476</td>\n",
       "      <td>5</td>\n",
       "      <td>6</td>\n",
       "      <td>9</td>\n",
       "      <td>13.0</td>\n",
       "    </tr>\n",
       "    <tr>\n",
       "      <th>3</th>\n",
       "      <td>491251</td>\n",
       "      <td>8670</td>\n",
       "      <td>35</td>\n",
       "      <td>1</td>\n",
       "      <td>134505</td>\n",
       "      <td>27</td>\n",
       "      <td>6</td>\n",
       "      <td>13</td>\n",
       "      <td>9.0</td>\n",
       "    </tr>\n",
       "    <tr>\n",
       "      <th>4</th>\n",
       "      <td>2571142</td>\n",
       "      <td>1940</td>\n",
       "      <td>5</td>\n",
       "      <td>1</td>\n",
       "      <td>155995</td>\n",
       "      <td>22</td>\n",
       "      <td>5</td>\n",
       "      <td>13</td>\n",
       "      <td>5.0</td>\n",
       "    </tr>\n",
       "    <tr>\n",
       "      <th>...</th>\n",
       "      <td>...</td>\n",
       "      <td>...</td>\n",
       "      <td>...</td>\n",
       "      <td>...</td>\n",
       "      <td>...</td>\n",
       "      <td>...</td>\n",
       "      <td>...</td>\n",
       "      <td>...</td>\n",
       "      <td>...</td>\n",
       "    </tr>\n",
       "    <tr>\n",
       "      <th>4545002</th>\n",
       "      <td>577211</td>\n",
       "      <td>15290</td>\n",
       "      <td>12</td>\n",
       "      <td>1</td>\n",
       "      <td>76414</td>\n",
       "      <td>30</td>\n",
       "      <td>2</td>\n",
       "      <td>15</td>\n",
       "      <td>13.0</td>\n",
       "    </tr>\n",
       "    <tr>\n",
       "      <th>4545003</th>\n",
       "      <td>1219554</td>\n",
       "      <td>21914</td>\n",
       "      <td>9</td>\n",
       "      <td>0</td>\n",
       "      <td>163902</td>\n",
       "      <td>19</td>\n",
       "      <td>1</td>\n",
       "      <td>1</td>\n",
       "      <td>3.0</td>\n",
       "    </tr>\n",
       "    <tr>\n",
       "      <th>4545004</th>\n",
       "      <td>692640</td>\n",
       "      <td>47766</td>\n",
       "      <td>4</td>\n",
       "      <td>1</td>\n",
       "      <td>597</td>\n",
       "      <td>3</td>\n",
       "      <td>0</td>\n",
       "      <td>20</td>\n",
       "      <td>30.0</td>\n",
       "    </tr>\n",
       "    <tr>\n",
       "      <th>4545005</th>\n",
       "      <td>319435</td>\n",
       "      <td>691</td>\n",
       "      <td>8</td>\n",
       "      <td>1</td>\n",
       "      <td>7124</td>\n",
       "      <td>6</td>\n",
       "      <td>5</td>\n",
       "      <td>14</td>\n",
       "      <td>24.0</td>\n",
       "    </tr>\n",
       "    <tr>\n",
       "      <th>4545006</th>\n",
       "      <td>1398151</td>\n",
       "      <td>28733</td>\n",
       "      <td>9</td>\n",
       "      <td>0</td>\n",
       "      <td>85144</td>\n",
       "      <td>17</td>\n",
       "      <td>2</td>\n",
       "      <td>16</td>\n",
       "      <td>4.0</td>\n",
       "    </tr>\n",
       "  </tbody>\n",
       "</table>\n",
       "<p>4545007 rows × 9 columns</p>\n",
       "</div>"
      ],
      "text/plain": [
       "         order_id  product_id  add_to_cart_order  reordered  user_id  \\\n",
       "0         2141543       11440                 17          0    58454   \n",
       "1          567889        1560                  1          1   129474   \n",
       "2         2261212       26683                  1          1    47476   \n",
       "3          491251        8670                 35          1   134505   \n",
       "4         2571142        1940                  5          1   155995   \n",
       "...           ...         ...                ...        ...      ...   \n",
       "4545002    577211       15290                 12          1    76414   \n",
       "4545003   1219554       21914                  9          0   163902   \n",
       "4545004    692640       47766                  4          1      597   \n",
       "4545005    319435         691                  8          1     7124   \n",
       "4545006   1398151       28733                  9          0    85144   \n",
       "\n",
       "         order_number  order_dow  order_hour_of_day  days_since_prior_order  \n",
       "0                  25          0                 15                     8.0  \n",
       "1                  16          1                 13                    14.0  \n",
       "2                   5          6                  9                    13.0  \n",
       "3                  27          6                 13                     9.0  \n",
       "4                  22          5                 13                     5.0  \n",
       "...               ...        ...                ...                     ...  \n",
       "4545002            30          2                 15                    13.0  \n",
       "4545003            19          1                  1                     3.0  \n",
       "4545004             3          0                 20                    30.0  \n",
       "4545005             6          5                 14                    24.0  \n",
       "4545006            17          2                 16                     4.0  \n",
       "\n",
       "[4545007 rows x 9 columns]"
      ]
     },
     "execution_count": 98,
     "metadata": {},
     "output_type": "execute_result"
    }
   ],
   "source": [
    "df_total_client_product_merged = pd.merge(df_order_products, df_instacart_orders, on= 'order_id', how= 'left').fillna(0)\n",
    "df_total_client_product_merged # UTILIZO merge() PARA UNIR LOS DOS DATAFRAMES QUE NECESITO PARA OBTENER LAS COLUMNAS PARA EL ANALISIS."
   ]
  },
  {
   "cell_type": "code",
   "execution_count": 99,
   "id": "c748eb1a",
   "metadata": {},
   "outputs": [
    {
     "data": {
      "text/html": [
       "<div>\n",
       "<style scoped>\n",
       "    .dataframe tbody tr th:only-of-type {\n",
       "        vertical-align: middle;\n",
       "    }\n",
       "\n",
       "    .dataframe tbody tr th {\n",
       "        vertical-align: top;\n",
       "    }\n",
       "\n",
       "    .dataframe thead th {\n",
       "        text-align: right;\n",
       "    }\n",
       "</style>\n",
       "<table border=\"1\" class=\"dataframe\">\n",
       "  <thead>\n",
       "    <tr style=\"text-align: right;\">\n",
       "      <th></th>\n",
       "      <th>user_id</th>\n",
       "      <th>total_client_orders</th>\n",
       "    </tr>\n",
       "  </thead>\n",
       "  <tbody>\n",
       "    <tr>\n",
       "      <th>0</th>\n",
       "      <td>2</td>\n",
       "      <td>26</td>\n",
       "    </tr>\n",
       "    <tr>\n",
       "      <th>1</th>\n",
       "      <td>4</td>\n",
       "      <td>2</td>\n",
       "    </tr>\n",
       "    <tr>\n",
       "      <th>2</th>\n",
       "      <td>5</td>\n",
       "      <td>12</td>\n",
       "    </tr>\n",
       "    <tr>\n",
       "      <th>3</th>\n",
       "      <td>6</td>\n",
       "      <td>4</td>\n",
       "    </tr>\n",
       "    <tr>\n",
       "      <th>4</th>\n",
       "      <td>7</td>\n",
       "      <td>14</td>\n",
       "    </tr>\n",
       "    <tr>\n",
       "      <th>...</th>\n",
       "      <td>...</td>\n",
       "      <td>...</td>\n",
       "    </tr>\n",
       "    <tr>\n",
       "      <th>149621</th>\n",
       "      <td>206203</td>\n",
       "      <td>27</td>\n",
       "    </tr>\n",
       "    <tr>\n",
       "      <th>149622</th>\n",
       "      <td>206206</td>\n",
       "      <td>21</td>\n",
       "    </tr>\n",
       "    <tr>\n",
       "      <th>149623</th>\n",
       "      <td>206207</td>\n",
       "      <td>46</td>\n",
       "    </tr>\n",
       "    <tr>\n",
       "      <th>149624</th>\n",
       "      <td>206208</td>\n",
       "      <td>125</td>\n",
       "    </tr>\n",
       "    <tr>\n",
       "      <th>149625</th>\n",
       "      <td>206209</td>\n",
       "      <td>25</td>\n",
       "    </tr>\n",
       "  </tbody>\n",
       "</table>\n",
       "<p>149626 rows × 2 columns</p>\n",
       "</div>"
      ],
      "text/plain": [
       "        user_id  total_client_orders\n",
       "0             2                   26\n",
       "1             4                    2\n",
       "2             5                   12\n",
       "3             6                    4\n",
       "4             7                   14\n",
       "...         ...                  ...\n",
       "149621   206203                   27\n",
       "149622   206206                   21\n",
       "149623   206207                   46\n",
       "149624   206208                  125\n",
       "149625   206209                   25\n",
       "\n",
       "[149626 rows x 2 columns]"
      ]
     },
     "execution_count": 99,
     "metadata": {},
     "output_type": "execute_result"
    }
   ],
   "source": [
    "df_total_client_orders = df_total_client_product_merged.groupby(by= ['user_id'])['product_id'].count().reset_index(name= 'total_client_orders')\n",
    "df_total_client_orders # AGRUPO POR CLIENTE EN LA COLUMNA 'user_id' Y LUEGO CUENTO EL TOTAL DE VECES QUE UN PRODUCTO HA SIDO COMPRADO NO IMPORTA SI YA LO HAN COMPRADO ANTERIORMENTE 'product_id' Y FINALMENTE RENOMBRO LA COLUMNA DEL TOTAL DEL CONTEO 'total_cliente_orders'."
   ]
  },
  {
   "cell_type": "code",
   "execution_count": 100,
   "id": "8892e4b4",
   "metadata": {
    "id": "8892e4b4"
   },
   "outputs": [
    {
     "data": {
      "text/html": [
       "<div>\n",
       "<style scoped>\n",
       "    .dataframe tbody tr th:only-of-type {\n",
       "        vertical-align: middle;\n",
       "    }\n",
       "\n",
       "    .dataframe tbody tr th {\n",
       "        vertical-align: top;\n",
       "    }\n",
       "\n",
       "    .dataframe thead th {\n",
       "        text-align: right;\n",
       "    }\n",
       "</style>\n",
       "<table border=\"1\" class=\"dataframe\">\n",
       "  <thead>\n",
       "    <tr style=\"text-align: right;\">\n",
       "      <th></th>\n",
       "      <th>user_id</th>\n",
       "      <th>total_client_reordered</th>\n",
       "    </tr>\n",
       "  </thead>\n",
       "  <tbody>\n",
       "    <tr>\n",
       "      <th>0</th>\n",
       "      <td>2</td>\n",
       "      <td>1</td>\n",
       "    </tr>\n",
       "    <tr>\n",
       "      <th>1</th>\n",
       "      <td>5</td>\n",
       "      <td>8</td>\n",
       "    </tr>\n",
       "    <tr>\n",
       "      <th>2</th>\n",
       "      <td>7</td>\n",
       "      <td>13</td>\n",
       "    </tr>\n",
       "    <tr>\n",
       "      <th>3</th>\n",
       "      <td>11</td>\n",
       "      <td>3</td>\n",
       "    </tr>\n",
       "    <tr>\n",
       "      <th>4</th>\n",
       "      <td>12</td>\n",
       "      <td>3</td>\n",
       "    </tr>\n",
       "    <tr>\n",
       "      <th>...</th>\n",
       "      <td>...</td>\n",
       "      <td>...</td>\n",
       "    </tr>\n",
       "    <tr>\n",
       "      <th>132986</th>\n",
       "      <td>206203</td>\n",
       "      <td>6</td>\n",
       "    </tr>\n",
       "    <tr>\n",
       "      <th>132987</th>\n",
       "      <td>206206</td>\n",
       "      <td>15</td>\n",
       "    </tr>\n",
       "    <tr>\n",
       "      <th>132988</th>\n",
       "      <td>206207</td>\n",
       "      <td>41</td>\n",
       "    </tr>\n",
       "    <tr>\n",
       "      <th>132989</th>\n",
       "      <td>206208</td>\n",
       "      <td>87</td>\n",
       "    </tr>\n",
       "    <tr>\n",
       "      <th>132990</th>\n",
       "      <td>206209</td>\n",
       "      <td>8</td>\n",
       "    </tr>\n",
       "  </tbody>\n",
       "</table>\n",
       "<p>132991 rows × 2 columns</p>\n",
       "</div>"
      ],
      "text/plain": [
       "        user_id  total_client_reordered\n",
       "0             2                       1\n",
       "1             5                       8\n",
       "2             7                      13\n",
       "3            11                       3\n",
       "4            12                       3\n",
       "...         ...                     ...\n",
       "132986   206203                       6\n",
       "132987   206206                      15\n",
       "132988   206207                      41\n",
       "132989   206208                      87\n",
       "132990   206209                       8\n",
       "\n",
       "[132991 rows x 2 columns]"
      ]
     },
     "execution_count": 100,
     "metadata": {},
     "output_type": "execute_result"
    }
   ],
   "source": [
    "df_total_client_reordered = df_total_client_product_merged[df_order_products['reordered'] == 1].groupby(by= ['user_id'])['product_id'].count().reset_index(name= 'total_client_reordered')\n",
    "df_total_client_reordered # FILTRO TODOS LOS PEDIDOS QUE YA SE HAN PEDIDO EN LA COLUMNA 'reordered' == 1 Y LUEGO AGRUPO POR CLIENTE EN LA COLUMNA 'user_id' Y LUEGO CUENTO EL TOTAL DE VECES QUE UN PRODUCTO COMPRO UN CLIENTE 'product_id' Y FINALMENTE RENOMBRO LA COLUMNA DEL TOTAL DEL CONTEO 'total_cliente_reodered'."
   ]
  },
  {
   "cell_type": "code",
   "execution_count": 101,
   "id": "41461dc2",
   "metadata": {
    "scrolled": true
   },
   "outputs": [
    {
     "data": {
      "text/html": [
       "<div>\n",
       "<style scoped>\n",
       "    .dataframe tbody tr th:only-of-type {\n",
       "        vertical-align: middle;\n",
       "    }\n",
       "\n",
       "    .dataframe tbody tr th {\n",
       "        vertical-align: top;\n",
       "    }\n",
       "\n",
       "    .dataframe thead th {\n",
       "        text-align: right;\n",
       "    }\n",
       "</style>\n",
       "<table border=\"1\" class=\"dataframe\">\n",
       "  <thead>\n",
       "    <tr style=\"text-align: right;\">\n",
       "      <th></th>\n",
       "      <th>user_id</th>\n",
       "      <th>total_client_orders</th>\n",
       "      <th>total_client_reordered</th>\n",
       "    </tr>\n",
       "  </thead>\n",
       "  <tbody>\n",
       "    <tr>\n",
       "      <th>0</th>\n",
       "      <td>2</td>\n",
       "      <td>26</td>\n",
       "      <td>1.0</td>\n",
       "    </tr>\n",
       "    <tr>\n",
       "      <th>1</th>\n",
       "      <td>4</td>\n",
       "      <td>2</td>\n",
       "      <td>0.0</td>\n",
       "    </tr>\n",
       "    <tr>\n",
       "      <th>2</th>\n",
       "      <td>5</td>\n",
       "      <td>12</td>\n",
       "      <td>8.0</td>\n",
       "    </tr>\n",
       "    <tr>\n",
       "      <th>3</th>\n",
       "      <td>6</td>\n",
       "      <td>4</td>\n",
       "      <td>0.0</td>\n",
       "    </tr>\n",
       "    <tr>\n",
       "      <th>4</th>\n",
       "      <td>7</td>\n",
       "      <td>14</td>\n",
       "      <td>13.0</td>\n",
       "    </tr>\n",
       "    <tr>\n",
       "      <th>...</th>\n",
       "      <td>...</td>\n",
       "      <td>...</td>\n",
       "      <td>...</td>\n",
       "    </tr>\n",
       "    <tr>\n",
       "      <th>149621</th>\n",
       "      <td>206203</td>\n",
       "      <td>27</td>\n",
       "      <td>6.0</td>\n",
       "    </tr>\n",
       "    <tr>\n",
       "      <th>149622</th>\n",
       "      <td>206206</td>\n",
       "      <td>21</td>\n",
       "      <td>15.0</td>\n",
       "    </tr>\n",
       "    <tr>\n",
       "      <th>149623</th>\n",
       "      <td>206207</td>\n",
       "      <td>46</td>\n",
       "      <td>41.0</td>\n",
       "    </tr>\n",
       "    <tr>\n",
       "      <th>149624</th>\n",
       "      <td>206208</td>\n",
       "      <td>125</td>\n",
       "      <td>87.0</td>\n",
       "    </tr>\n",
       "    <tr>\n",
       "      <th>149625</th>\n",
       "      <td>206209</td>\n",
       "      <td>25</td>\n",
       "      <td>8.0</td>\n",
       "    </tr>\n",
       "  </tbody>\n",
       "</table>\n",
       "<p>149626 rows × 3 columns</p>\n",
       "</div>"
      ],
      "text/plain": [
       "        user_id  total_client_orders  total_client_reordered\n",
       "0             2                   26                     1.0\n",
       "1             4                    2                     0.0\n",
       "2             5                   12                     8.0\n",
       "3             6                    4                     0.0\n",
       "4             7                   14                    13.0\n",
       "...         ...                  ...                     ...\n",
       "149621   206203                   27                     6.0\n",
       "149622   206206                   21                    15.0\n",
       "149623   206207                   46                    41.0\n",
       "149624   206208                  125                    87.0\n",
       "149625   206209                   25                     8.0\n",
       "\n",
       "[149626 rows x 3 columns]"
      ]
     },
     "execution_count": 101,
     "metadata": {},
     "output_type": "execute_result"
    }
   ],
   "source": [
    "df_total_client_product =  pd.merge(df_total_client_orders, df_total_client_reordered, on= 'user_id', how= 'left').fillna(0)\n",
    "df_total_client_product # UTILIZO merge() PARA UNIR LOS DOS DATAFRAMES QUE CONTIENEN LA COLUMNA DEL TOTAL DE PRODUCTOS QUE YA SE HAN PEDIDO POR CLIENTE."
   ]
  },
  {
   "cell_type": "code",
   "execution_count": 102,
   "id": "ccc1484e",
   "metadata": {
    "scrolled": true
   },
   "outputs": [
    {
     "data": {
      "text/html": [
       "<div>\n",
       "<style scoped>\n",
       "    .dataframe tbody tr th:only-of-type {\n",
       "        vertical-align: middle;\n",
       "    }\n",
       "\n",
       "    .dataframe tbody tr th {\n",
       "        vertical-align: top;\n",
       "    }\n",
       "\n",
       "    .dataframe thead th {\n",
       "        text-align: right;\n",
       "    }\n",
       "</style>\n",
       "<table border=\"1\" class=\"dataframe\">\n",
       "  <thead>\n",
       "    <tr style=\"text-align: right;\">\n",
       "      <th></th>\n",
       "      <th>user_id</th>\n",
       "      <th>total_client_orders</th>\n",
       "      <th>total_client_reordered</th>\n",
       "      <th>proportion_client_reordered</th>\n",
       "    </tr>\n",
       "  </thead>\n",
       "  <tbody>\n",
       "    <tr>\n",
       "      <th>0</th>\n",
       "      <td>2</td>\n",
       "      <td>26</td>\n",
       "      <td>1.0</td>\n",
       "      <td>0.038462</td>\n",
       "    </tr>\n",
       "    <tr>\n",
       "      <th>1</th>\n",
       "      <td>4</td>\n",
       "      <td>2</td>\n",
       "      <td>0.0</td>\n",
       "      <td>0.000000</td>\n",
       "    </tr>\n",
       "    <tr>\n",
       "      <th>2</th>\n",
       "      <td>5</td>\n",
       "      <td>12</td>\n",
       "      <td>8.0</td>\n",
       "      <td>0.666667</td>\n",
       "    </tr>\n",
       "    <tr>\n",
       "      <th>3</th>\n",
       "      <td>6</td>\n",
       "      <td>4</td>\n",
       "      <td>0.0</td>\n",
       "      <td>0.000000</td>\n",
       "    </tr>\n",
       "    <tr>\n",
       "      <th>4</th>\n",
       "      <td>7</td>\n",
       "      <td>14</td>\n",
       "      <td>13.0</td>\n",
       "      <td>0.928571</td>\n",
       "    </tr>\n",
       "    <tr>\n",
       "      <th>...</th>\n",
       "      <td>...</td>\n",
       "      <td>...</td>\n",
       "      <td>...</td>\n",
       "      <td>...</td>\n",
       "    </tr>\n",
       "    <tr>\n",
       "      <th>149621</th>\n",
       "      <td>206203</td>\n",
       "      <td>27</td>\n",
       "      <td>6.0</td>\n",
       "      <td>0.222222</td>\n",
       "    </tr>\n",
       "    <tr>\n",
       "      <th>149622</th>\n",
       "      <td>206206</td>\n",
       "      <td>21</td>\n",
       "      <td>15.0</td>\n",
       "      <td>0.714286</td>\n",
       "    </tr>\n",
       "    <tr>\n",
       "      <th>149623</th>\n",
       "      <td>206207</td>\n",
       "      <td>46</td>\n",
       "      <td>41.0</td>\n",
       "      <td>0.891304</td>\n",
       "    </tr>\n",
       "    <tr>\n",
       "      <th>149624</th>\n",
       "      <td>206208</td>\n",
       "      <td>125</td>\n",
       "      <td>87.0</td>\n",
       "      <td>0.696000</td>\n",
       "    </tr>\n",
       "    <tr>\n",
       "      <th>149625</th>\n",
       "      <td>206209</td>\n",
       "      <td>25</td>\n",
       "      <td>8.0</td>\n",
       "      <td>0.320000</td>\n",
       "    </tr>\n",
       "  </tbody>\n",
       "</table>\n",
       "<p>149626 rows × 4 columns</p>\n",
       "</div>"
      ],
      "text/plain": [
       "        user_id  total_client_orders  total_client_reordered  \\\n",
       "0             2                   26                     1.0   \n",
       "1             4                    2                     0.0   \n",
       "2             5                   12                     8.0   \n",
       "3             6                    4                     0.0   \n",
       "4             7                   14                    13.0   \n",
       "...         ...                  ...                     ...   \n",
       "149621   206203                   27                     6.0   \n",
       "149622   206206                   21                    15.0   \n",
       "149623   206207                   46                    41.0   \n",
       "149624   206208                  125                    87.0   \n",
       "149625   206209                   25                     8.0   \n",
       "\n",
       "        proportion_client_reordered  \n",
       "0                          0.038462  \n",
       "1                          0.000000  \n",
       "2                          0.666667  \n",
       "3                          0.000000  \n",
       "4                          0.928571  \n",
       "...                             ...  \n",
       "149621                     0.222222  \n",
       "149622                     0.714286  \n",
       "149623                     0.891304  \n",
       "149624                     0.696000  \n",
       "149625                     0.320000  \n",
       "\n",
       "[149626 rows x 4 columns]"
      ]
     },
     "execution_count": 102,
     "metadata": {},
     "output_type": "execute_result"
    }
   ],
   "source": [
    "df_total_client_product['proportion_client_reordered'] = (df_total_client_product['total_client_reordered'] / df_total_client_product['total_client_orders'])\n",
    "df_total_client_product"
   ]
  },
  {
   "cell_type": "code",
   "execution_count": 103,
   "id": "387f5a03",
   "metadata": {},
   "outputs": [
    {
     "data": {
      "text/plain": [
       "0.4948531736151642"
      ]
     },
     "execution_count": 103,
     "metadata": {},
     "output_type": "execute_result"
    }
   ],
   "source": [
    "df_total_client_product['proportion_client_reordered'].mean() # UTILIZO mean() PARA OBTENER EL PROMEDIO DE LOS PRODUCTOS QUE YA SE HAN PEDIDO POR CLIENTE."
   ]
  },
  {
   "cell_type": "markdown",
   "id": "BgJSvXDsleXz",
   "metadata": {
    "id": "BgJSvXDsleXz"
   },
   "source": [
    "El 38% en promedio del total de productos se vuelven a pedir, mientras que 49% en promedio de clientes que ha pedido un producto lo vuelve a pedir."
   ]
  },
  {
   "cell_type": "markdown",
   "id": "92d35137",
   "metadata": {
    "id": "92d35137"
   },
   "source": [
    "### [C5] ¿Cuáles son los 20 principales artículos que las personas ponen primero en sus carritos?"
   ]
  },
  {
   "cell_type": "code",
   "execution_count": 104,
   "id": "0ae57274",
   "metadata": {
    "id": "0ae57274",
    "scrolled": true
   },
   "outputs": [
    {
     "data": {
      "text/html": [
       "<div>\n",
       "<style scoped>\n",
       "    .dataframe tbody tr th:only-of-type {\n",
       "        vertical-align: middle;\n",
       "    }\n",
       "\n",
       "    .dataframe tbody tr th {\n",
       "        vertical-align: top;\n",
       "    }\n",
       "\n",
       "    .dataframe thead th {\n",
       "        text-align: right;\n",
       "    }\n",
       "</style>\n",
       "<table border=\"1\" class=\"dataframe\">\n",
       "  <thead>\n",
       "    <tr style=\"text-align: right;\">\n",
       "      <th></th>\n",
       "      <th>order_id</th>\n",
       "      <th>product_id</th>\n",
       "      <th>add_to_cart_order</th>\n",
       "      <th>reordered</th>\n",
       "      <th>product_name</th>\n",
       "      <th>aisle_id</th>\n",
       "      <th>department_id</th>\n",
       "      <th>product_name_mayus</th>\n",
       "    </tr>\n",
       "  </thead>\n",
       "  <tbody>\n",
       "    <tr>\n",
       "      <th>0</th>\n",
       "      <td>2141543</td>\n",
       "      <td>11440</td>\n",
       "      <td>17</td>\n",
       "      <td>0</td>\n",
       "      <td>Chicken Breast Tenders Breaded</td>\n",
       "      <td>129.0</td>\n",
       "      <td>1.0</td>\n",
       "      <td>CHICKEN BREAST TENDERS BREADED</td>\n",
       "    </tr>\n",
       "    <tr>\n",
       "      <th>1</th>\n",
       "      <td>567889</td>\n",
       "      <td>1560</td>\n",
       "      <td>1</td>\n",
       "      <td>1</td>\n",
       "      <td>Bag Of Ice</td>\n",
       "      <td>37.0</td>\n",
       "      <td>1.0</td>\n",
       "      <td>BAG OF ICE</td>\n",
       "    </tr>\n",
       "    <tr>\n",
       "      <th>2</th>\n",
       "      <td>2261212</td>\n",
       "      <td>26683</td>\n",
       "      <td>1</td>\n",
       "      <td>1</td>\n",
       "      <td>Cafe Latte Pure Lightly Sweetened Iced Coffee ...</td>\n",
       "      <td>91.0</td>\n",
       "      <td>16.0</td>\n",
       "      <td>CAFE LATTE PURE LIGHTLY SWEETENED ICED COFFEE ...</td>\n",
       "    </tr>\n",
       "    <tr>\n",
       "      <th>3</th>\n",
       "      <td>491251</td>\n",
       "      <td>8670</td>\n",
       "      <td>35</td>\n",
       "      <td>1</td>\n",
       "      <td>Diced Tomatoes</td>\n",
       "      <td>81.0</td>\n",
       "      <td>15.0</td>\n",
       "      <td>DICED TOMATOES</td>\n",
       "    </tr>\n",
       "    <tr>\n",
       "      <th>4</th>\n",
       "      <td>2571142</td>\n",
       "      <td>1940</td>\n",
       "      <td>5</td>\n",
       "      <td>1</td>\n",
       "      <td>Organic 2% Reduced Fat Milk</td>\n",
       "      <td>84.0</td>\n",
       "      <td>16.0</td>\n",
       "      <td>ORGANIC 2% REDUCED FAT MILK</td>\n",
       "    </tr>\n",
       "    <tr>\n",
       "      <th>...</th>\n",
       "      <td>...</td>\n",
       "      <td>...</td>\n",
       "      <td>...</td>\n",
       "      <td>...</td>\n",
       "      <td>...</td>\n",
       "      <td>...</td>\n",
       "      <td>...</td>\n",
       "      <td>...</td>\n",
       "    </tr>\n",
       "    <tr>\n",
       "      <th>4545002</th>\n",
       "      <td>577211</td>\n",
       "      <td>15290</td>\n",
       "      <td>12</td>\n",
       "      <td>1</td>\n",
       "      <td>Orange Bell Pepper</td>\n",
       "      <td>83.0</td>\n",
       "      <td>4.0</td>\n",
       "      <td>ORANGE BELL PEPPER</td>\n",
       "    </tr>\n",
       "    <tr>\n",
       "      <th>4545003</th>\n",
       "      <td>1219554</td>\n",
       "      <td>21914</td>\n",
       "      <td>9</td>\n",
       "      <td>0</td>\n",
       "      <td>Peanut Butter &amp; Jelly Fruit &amp; Nut Food Bar</td>\n",
       "      <td>3.0</td>\n",
       "      <td>19.0</td>\n",
       "      <td>PEANUT BUTTER &amp; JELLY FRUIT &amp; NUT FOOD BAR</td>\n",
       "    </tr>\n",
       "    <tr>\n",
       "      <th>4545004</th>\n",
       "      <td>692640</td>\n",
       "      <td>47766</td>\n",
       "      <td>4</td>\n",
       "      <td>1</td>\n",
       "      <td>Organic Avocado</td>\n",
       "      <td>24.0</td>\n",
       "      <td>4.0</td>\n",
       "      <td>ORGANIC AVOCADO</td>\n",
       "    </tr>\n",
       "    <tr>\n",
       "      <th>4545005</th>\n",
       "      <td>319435</td>\n",
       "      <td>691</td>\n",
       "      <td>8</td>\n",
       "      <td>1</td>\n",
       "      <td>Organic Promise Strawberry Fields Cereal</td>\n",
       "      <td>121.0</td>\n",
       "      <td>14.0</td>\n",
       "      <td>ORGANIC PROMISE STRAWBERRY FIELDS CEREAL</td>\n",
       "    </tr>\n",
       "    <tr>\n",
       "      <th>4545006</th>\n",
       "      <td>1398151</td>\n",
       "      <td>28733</td>\n",
       "      <td>9</td>\n",
       "      <td>0</td>\n",
       "      <td>Chicken Nuggets</td>\n",
       "      <td>129.0</td>\n",
       "      <td>1.0</td>\n",
       "      <td>CHICKEN NUGGETS</td>\n",
       "    </tr>\n",
       "  </tbody>\n",
       "</table>\n",
       "<p>4545007 rows × 8 columns</p>\n",
       "</div>"
      ],
      "text/plain": [
       "         order_id  product_id  add_to_cart_order  reordered  \\\n",
       "0         2141543       11440                 17          0   \n",
       "1          567889        1560                  1          1   \n",
       "2         2261212       26683                  1          1   \n",
       "3          491251        8670                 35          1   \n",
       "4         2571142        1940                  5          1   \n",
       "...           ...         ...                ...        ...   \n",
       "4545002    577211       15290                 12          1   \n",
       "4545003   1219554       21914                  9          0   \n",
       "4545004    692640       47766                  4          1   \n",
       "4545005    319435         691                  8          1   \n",
       "4545006   1398151       28733                  9          0   \n",
       "\n",
       "                                              product_name  aisle_id  \\\n",
       "0                           Chicken Breast Tenders Breaded     129.0   \n",
       "1                                               Bag Of Ice      37.0   \n",
       "2        Cafe Latte Pure Lightly Sweetened Iced Coffee ...      91.0   \n",
       "3                                           Diced Tomatoes      81.0   \n",
       "4                              Organic 2% Reduced Fat Milk      84.0   \n",
       "...                                                    ...       ...   \n",
       "4545002                                 Orange Bell Pepper      83.0   \n",
       "4545003         Peanut Butter & Jelly Fruit & Nut Food Bar       3.0   \n",
       "4545004                                    Organic Avocado      24.0   \n",
       "4545005           Organic Promise Strawberry Fields Cereal     121.0   \n",
       "4545006                                    Chicken Nuggets     129.0   \n",
       "\n",
       "         department_id                                 product_name_mayus  \n",
       "0                  1.0                     CHICKEN BREAST TENDERS BREADED  \n",
       "1                  1.0                                         BAG OF ICE  \n",
       "2                 16.0  CAFE LATTE PURE LIGHTLY SWEETENED ICED COFFEE ...  \n",
       "3                 15.0                                     DICED TOMATOES  \n",
       "4                 16.0                        ORGANIC 2% REDUCED FAT MILK  \n",
       "...                ...                                                ...  \n",
       "4545002            4.0                                 ORANGE BELL PEPPER  \n",
       "4545003           19.0         PEANUT BUTTER & JELLY FRUIT & NUT FOOD BAR  \n",
       "4545004            4.0                                    ORGANIC AVOCADO  \n",
       "4545005           14.0           ORGANIC PROMISE STRAWBERRY FIELDS CEREAL  \n",
       "4545006            1.0                                    CHICKEN NUGGETS  \n",
       "\n",
       "[4545007 rows x 8 columns]"
      ]
     },
     "execution_count": 104,
     "metadata": {},
     "output_type": "execute_result"
    }
   ],
   "source": [
    "df_popular_first_cart_20 = pd.merge(df_order_products,df_products, on= 'product_id', how= 'left')\n",
    "df_popular_first_cart_20 # UTILIZO merge() PARA UNIR LOS DOS DATAFRAME Y OBTENER UNO QUE CONTENGA TODAS LAS COLUMNAS QUE NECESITO PARA EL ANALISIS."
   ]
  },
  {
   "cell_type": "code",
   "execution_count": 105,
   "id": "6e2866f8",
   "metadata": {},
   "outputs": [
    {
     "data": {
      "text/plain": [
       "product_id  product_name               \n",
       "24852       Banana                         15562\n",
       "13176       Bag of Organic Bananas         11026\n",
       "27845       Organic Whole Milk              4363\n",
       "21137       Organic Strawberries            3946\n",
       "47209       Organic Hass Avocado            3390\n",
       "21903       Organic Baby Spinach            3336\n",
       "47766       Organic Avocado                 3044\n",
       "19660       Spring Water                    2336\n",
       "16797       Strawberries                    2308\n",
       "27966       Organic Raspberries             2024\n",
       "44632       Sparkling Water Grapefruit      1914\n",
       "49235       Organic Half & Half             1797\n",
       "47626       Large Lemon                     1737\n",
       "196         Soda                            1733\n",
       "38689       Organic Reduced Fat Milk        1397\n",
       "26209       Limes                           1370\n",
       "12341       Hass Avocados                   1340\n",
       "5785        Organic Reduced Fat 2% Milk     1310\n",
       "27086       Half & Half                     1309\n",
       "43352       Raspberries                     1246\n",
       "Name: product_id, dtype: int64"
      ]
     },
     "execution_count": 105,
     "metadata": {},
     "output_type": "execute_result"
    }
   ],
   "source": [
    "df_sorted = df_popular_first_cart_20.sort_values(by='add_to_cart_order', ascending=True)\n",
    "df_first_in_cart_sorted = df_sorted[df_sorted['add_to_cart_order'] == 1]\n",
    "df_product_counts = df_first_in_cart_sorted.groupby(['product_id', 'product_name'])['product_id'].size()\n",
    "df_product_counts_sorted = df_product_counts.sort_values(ascending=False)\n",
    "df_product_counts_sorted.head(20) # FILTRO LOS 20 PRIMEROS PRODUCTOS QUE APARECEN COMO PRIMERO EN EL ORDEN DE COLOCAR DENTRO DEL CARRITO."
   ]
  },
  {
   "cell_type": "code",
   "execution_count": 106,
   "id": "f086e631",
   "metadata": {},
   "outputs": [
    {
     "data": {
      "text/plain": [
       "product_id  product_name            \n",
       "24852       Banana                      66050\n",
       "13176       Bag of Organic Bananas      53297\n",
       "21137       Organic Strawberries        37039\n",
       "21903       Organic Baby Spinach        33971\n",
       "47209       Organic Hass Avocado        29773\n",
       "47766       Organic Avocado             24689\n",
       "47626       Large Lemon                 21495\n",
       "16797       Strawberries                20018\n",
       "26209       Limes                       19690\n",
       "27845       Organic Whole Milk          19600\n",
       "27966       Organic Raspberries         19197\n",
       "22935       Organic Yellow Onion        15898\n",
       "24964       Organic Garlic              15292\n",
       "45007       Organic Zucchini            14584\n",
       "39275       Organic Blueberries         13879\n",
       "49683       Cucumber Kirby              13675\n",
       "28204       Organic Fuji Apple          12544\n",
       "5876        Organic Lemon               12232\n",
       "8277        Apple Honeycrisp Organic    11993\n",
       "40706       Organic Grape Tomatoes      11781\n",
       "Name: product_id, dtype: int64"
      ]
     },
     "execution_count": 106,
     "metadata": {},
     "output_type": "execute_result"
    }
   ],
   "source": [
    "df_popular_20 = df_popular_first_cart_20.groupby(by= ['product_id', 'product_name'])['product_id'].count()\n",
    "df_popular_20.sort_values(ascending=False).head(20) # FILTRO LOS 20 PRIMEROS PRODUCTOS QUE MAS SE VENDEN PERO QUE NO NECESARIAMENTE SE AGREGAN COMO EL PRIMER PRODUCTO AL CARRITO. "
   ]
  },
  {
   "cell_type": "code",
   "execution_count": 107,
   "id": "e9aa5c21",
   "metadata": {},
   "outputs": [
    {
     "data": {
      "text/html": [
       "<div>\n",
       "<style scoped>\n",
       "    .dataframe tbody tr th:only-of-type {\n",
       "        vertical-align: middle;\n",
       "    }\n",
       "\n",
       "    .dataframe tbody tr th {\n",
       "        vertical-align: top;\n",
       "    }\n",
       "\n",
       "    .dataframe thead th {\n",
       "        text-align: right;\n",
       "    }\n",
       "</style>\n",
       "<table border=\"1\" class=\"dataframe\">\n",
       "  <thead>\n",
       "    <tr style=\"text-align: right;\">\n",
       "      <th></th>\n",
       "      <th>order_id</th>\n",
       "      <th>product_id</th>\n",
       "      <th>add_to_cart_order</th>\n",
       "      <th>reordered</th>\n",
       "      <th>product_name</th>\n",
       "      <th>aisle_id</th>\n",
       "      <th>department_id</th>\n",
       "      <th>product_name_mayus</th>\n",
       "    </tr>\n",
       "  </thead>\n",
       "  <tbody>\n",
       "    <tr>\n",
       "      <th>0</th>\n",
       "      <td>2141543</td>\n",
       "      <td>11440</td>\n",
       "      <td>17</td>\n",
       "      <td>0</td>\n",
       "      <td>Chicken Breast Tenders Breaded</td>\n",
       "      <td>129.0</td>\n",
       "      <td>1.0</td>\n",
       "      <td>CHICKEN BREAST TENDERS BREADED</td>\n",
       "    </tr>\n",
       "    <tr>\n",
       "      <th>1</th>\n",
       "      <td>567889</td>\n",
       "      <td>1560</td>\n",
       "      <td>1</td>\n",
       "      <td>1</td>\n",
       "      <td>Bag Of Ice</td>\n",
       "      <td>37.0</td>\n",
       "      <td>1.0</td>\n",
       "      <td>BAG OF ICE</td>\n",
       "    </tr>\n",
       "    <tr>\n",
       "      <th>2</th>\n",
       "      <td>2261212</td>\n",
       "      <td>26683</td>\n",
       "      <td>1</td>\n",
       "      <td>1</td>\n",
       "      <td>Cafe Latte Pure Lightly Sweetened Iced Coffee ...</td>\n",
       "      <td>91.0</td>\n",
       "      <td>16.0</td>\n",
       "      <td>CAFE LATTE PURE LIGHTLY SWEETENED ICED COFFEE ...</td>\n",
       "    </tr>\n",
       "    <tr>\n",
       "      <th>3</th>\n",
       "      <td>491251</td>\n",
       "      <td>8670</td>\n",
       "      <td>35</td>\n",
       "      <td>1</td>\n",
       "      <td>Diced Tomatoes</td>\n",
       "      <td>81.0</td>\n",
       "      <td>15.0</td>\n",
       "      <td>DICED TOMATOES</td>\n",
       "    </tr>\n",
       "    <tr>\n",
       "      <th>4</th>\n",
       "      <td>2571142</td>\n",
       "      <td>1940</td>\n",
       "      <td>5</td>\n",
       "      <td>1</td>\n",
       "      <td>Organic 2% Reduced Fat Milk</td>\n",
       "      <td>84.0</td>\n",
       "      <td>16.0</td>\n",
       "      <td>ORGANIC 2% REDUCED FAT MILK</td>\n",
       "    </tr>\n",
       "    <tr>\n",
       "      <th>...</th>\n",
       "      <td>...</td>\n",
       "      <td>...</td>\n",
       "      <td>...</td>\n",
       "      <td>...</td>\n",
       "      <td>...</td>\n",
       "      <td>...</td>\n",
       "      <td>...</td>\n",
       "      <td>...</td>\n",
       "    </tr>\n",
       "    <tr>\n",
       "      <th>4545002</th>\n",
       "      <td>577211</td>\n",
       "      <td>15290</td>\n",
       "      <td>12</td>\n",
       "      <td>1</td>\n",
       "      <td>Orange Bell Pepper</td>\n",
       "      <td>83.0</td>\n",
       "      <td>4.0</td>\n",
       "      <td>ORANGE BELL PEPPER</td>\n",
       "    </tr>\n",
       "    <tr>\n",
       "      <th>4545003</th>\n",
       "      <td>1219554</td>\n",
       "      <td>21914</td>\n",
       "      <td>9</td>\n",
       "      <td>0</td>\n",
       "      <td>Peanut Butter &amp; Jelly Fruit &amp; Nut Food Bar</td>\n",
       "      <td>3.0</td>\n",
       "      <td>19.0</td>\n",
       "      <td>PEANUT BUTTER &amp; JELLY FRUIT &amp; NUT FOOD BAR</td>\n",
       "    </tr>\n",
       "    <tr>\n",
       "      <th>4545004</th>\n",
       "      <td>692640</td>\n",
       "      <td>47766</td>\n",
       "      <td>4</td>\n",
       "      <td>1</td>\n",
       "      <td>Organic Avocado</td>\n",
       "      <td>24.0</td>\n",
       "      <td>4.0</td>\n",
       "      <td>ORGANIC AVOCADO</td>\n",
       "    </tr>\n",
       "    <tr>\n",
       "      <th>4545005</th>\n",
       "      <td>319435</td>\n",
       "      <td>691</td>\n",
       "      <td>8</td>\n",
       "      <td>1</td>\n",
       "      <td>Organic Promise Strawberry Fields Cereal</td>\n",
       "      <td>121.0</td>\n",
       "      <td>14.0</td>\n",
       "      <td>ORGANIC PROMISE STRAWBERRY FIELDS CEREAL</td>\n",
       "    </tr>\n",
       "    <tr>\n",
       "      <th>4545006</th>\n",
       "      <td>1398151</td>\n",
       "      <td>28733</td>\n",
       "      <td>9</td>\n",
       "      <td>0</td>\n",
       "      <td>Chicken Nuggets</td>\n",
       "      <td>129.0</td>\n",
       "      <td>1.0</td>\n",
       "      <td>CHICKEN NUGGETS</td>\n",
       "    </tr>\n",
       "  </tbody>\n",
       "</table>\n",
       "<p>4545007 rows × 8 columns</p>\n",
       "</div>"
      ],
      "text/plain": [
       "         order_id  product_id  add_to_cart_order  reordered  \\\n",
       "0         2141543       11440                 17          0   \n",
       "1          567889        1560                  1          1   \n",
       "2         2261212       26683                  1          1   \n",
       "3          491251        8670                 35          1   \n",
       "4         2571142        1940                  5          1   \n",
       "...           ...         ...                ...        ...   \n",
       "4545002    577211       15290                 12          1   \n",
       "4545003   1219554       21914                  9          0   \n",
       "4545004    692640       47766                  4          1   \n",
       "4545005    319435         691                  8          1   \n",
       "4545006   1398151       28733                  9          0   \n",
       "\n",
       "                                              product_name  aisle_id  \\\n",
       "0                           Chicken Breast Tenders Breaded     129.0   \n",
       "1                                               Bag Of Ice      37.0   \n",
       "2        Cafe Latte Pure Lightly Sweetened Iced Coffee ...      91.0   \n",
       "3                                           Diced Tomatoes      81.0   \n",
       "4                              Organic 2% Reduced Fat Milk      84.0   \n",
       "...                                                    ...       ...   \n",
       "4545002                                 Orange Bell Pepper      83.0   \n",
       "4545003         Peanut Butter & Jelly Fruit & Nut Food Bar       3.0   \n",
       "4545004                                    Organic Avocado      24.0   \n",
       "4545005           Organic Promise Strawberry Fields Cereal     121.0   \n",
       "4545006                                    Chicken Nuggets     129.0   \n",
       "\n",
       "         department_id                                 product_name_mayus  \n",
       "0                  1.0                     CHICKEN BREAST TENDERS BREADED  \n",
       "1                  1.0                                         BAG OF ICE  \n",
       "2                 16.0  CAFE LATTE PURE LIGHTLY SWEETENED ICED COFFEE ...  \n",
       "3                 15.0                                     DICED TOMATOES  \n",
       "4                 16.0                        ORGANIC 2% REDUCED FAT MILK  \n",
       "...                ...                                                ...  \n",
       "4545002            4.0                                 ORANGE BELL PEPPER  \n",
       "4545003           19.0         PEANUT BUTTER & JELLY FRUIT & NUT FOOD BAR  \n",
       "4545004            4.0                                    ORGANIC AVOCADO  \n",
       "4545005           14.0           ORGANIC PROMISE STRAWBERRY FIELDS CEREAL  \n",
       "4545006            1.0                                    CHICKEN NUGGETS  \n",
       "\n",
       "[4545007 rows x 8 columns]"
      ]
     },
     "execution_count": 107,
     "metadata": {},
     "output_type": "execute_result"
    }
   ],
   "source": [
    "df_departments_aisles = pd.merge(df_order_products, df_products, on='product_id', how='left')\n",
    "df_departments_aisles"
   ]
  },
  {
   "cell_type": "code",
   "execution_count": 108,
   "id": "31c61341",
   "metadata": {},
   "outputs": [
    {
     "name": "stdout",
     "output_type": "stream",
     "text": [
      "<class 'pandas.core.frame.DataFrame'>\n",
      "Int64Index: 4545007 entries, 0 to 4545006\n",
      "Data columns (total 8 columns):\n",
      " #   Column              Dtype  \n",
      "---  ------              -----  \n",
      " 0   order_id            int64  \n",
      " 1   product_id          int64  \n",
      " 2   add_to_cart_order   int64  \n",
      " 3   reordered           int64  \n",
      " 4   product_name        object \n",
      " 5   aisle_id            float64\n",
      " 6   department_id       float64\n",
      " 7   product_name_mayus  object \n",
      "dtypes: float64(2), int64(4), object(2)\n",
      "memory usage: 312.1+ MB\n"
     ]
    }
   ],
   "source": [
    "df_departments_aisles.info()"
   ]
  },
  {
   "cell_type": "code",
   "execution_count": 109,
   "id": "ab1f4acd",
   "metadata": {},
   "outputs": [
    {
     "data": {
      "text/html": [
       "<div>\n",
       "<style scoped>\n",
       "    .dataframe tbody tr th:only-of-type {\n",
       "        vertical-align: middle;\n",
       "    }\n",
       "\n",
       "    .dataframe tbody tr th {\n",
       "        vertical-align: top;\n",
       "    }\n",
       "\n",
       "    .dataframe thead th {\n",
       "        text-align: right;\n",
       "    }\n",
       "</style>\n",
       "<table border=\"1\" class=\"dataframe\">\n",
       "  <thead>\n",
       "    <tr style=\"text-align: right;\">\n",
       "      <th></th>\n",
       "      <th>order_id</th>\n",
       "      <th>product_name_mayus</th>\n",
       "      <th>aisle_id</th>\n",
       "      <th>department_id</th>\n",
       "    </tr>\n",
       "  </thead>\n",
       "  <tbody>\n",
       "    <tr>\n",
       "      <th>0</th>\n",
       "      <td>2141543</td>\n",
       "      <td>CHICKEN BREAST TENDERS BREADED</td>\n",
       "      <td>129.0</td>\n",
       "      <td>1.0</td>\n",
       "    </tr>\n",
       "    <tr>\n",
       "      <th>1</th>\n",
       "      <td>567889</td>\n",
       "      <td>BAG OF ICE</td>\n",
       "      <td>37.0</td>\n",
       "      <td>1.0</td>\n",
       "    </tr>\n",
       "    <tr>\n",
       "      <th>2</th>\n",
       "      <td>2261212</td>\n",
       "      <td>CAFE LATTE PURE LIGHTLY SWEETENED ICED COFFEE ...</td>\n",
       "      <td>91.0</td>\n",
       "      <td>16.0</td>\n",
       "    </tr>\n",
       "    <tr>\n",
       "      <th>3</th>\n",
       "      <td>491251</td>\n",
       "      <td>DICED TOMATOES</td>\n",
       "      <td>81.0</td>\n",
       "      <td>15.0</td>\n",
       "    </tr>\n",
       "    <tr>\n",
       "      <th>4</th>\n",
       "      <td>2571142</td>\n",
       "      <td>ORGANIC 2% REDUCED FAT MILK</td>\n",
       "      <td>84.0</td>\n",
       "      <td>16.0</td>\n",
       "    </tr>\n",
       "    <tr>\n",
       "      <th>...</th>\n",
       "      <td>...</td>\n",
       "      <td>...</td>\n",
       "      <td>...</td>\n",
       "      <td>...</td>\n",
       "    </tr>\n",
       "    <tr>\n",
       "      <th>4545002</th>\n",
       "      <td>577211</td>\n",
       "      <td>ORANGE BELL PEPPER</td>\n",
       "      <td>83.0</td>\n",
       "      <td>4.0</td>\n",
       "    </tr>\n",
       "    <tr>\n",
       "      <th>4545003</th>\n",
       "      <td>1219554</td>\n",
       "      <td>PEANUT BUTTER &amp; JELLY FRUIT &amp; NUT FOOD BAR</td>\n",
       "      <td>3.0</td>\n",
       "      <td>19.0</td>\n",
       "    </tr>\n",
       "    <tr>\n",
       "      <th>4545004</th>\n",
       "      <td>692640</td>\n",
       "      <td>ORGANIC AVOCADO</td>\n",
       "      <td>24.0</td>\n",
       "      <td>4.0</td>\n",
       "    </tr>\n",
       "    <tr>\n",
       "      <th>4545005</th>\n",
       "      <td>319435</td>\n",
       "      <td>ORGANIC PROMISE STRAWBERRY FIELDS CEREAL</td>\n",
       "      <td>121.0</td>\n",
       "      <td>14.0</td>\n",
       "    </tr>\n",
       "    <tr>\n",
       "      <th>4545006</th>\n",
       "      <td>1398151</td>\n",
       "      <td>CHICKEN NUGGETS</td>\n",
       "      <td>129.0</td>\n",
       "      <td>1.0</td>\n",
       "    </tr>\n",
       "  </tbody>\n",
       "</table>\n",
       "<p>4545007 rows × 4 columns</p>\n",
       "</div>"
      ],
      "text/plain": [
       "         order_id                                 product_name_mayus  \\\n",
       "0         2141543                     CHICKEN BREAST TENDERS BREADED   \n",
       "1          567889                                         BAG OF ICE   \n",
       "2         2261212  CAFE LATTE PURE LIGHTLY SWEETENED ICED COFFEE ...   \n",
       "3          491251                                     DICED TOMATOES   \n",
       "4         2571142                        ORGANIC 2% REDUCED FAT MILK   \n",
       "...           ...                                                ...   \n",
       "4545002    577211                                 ORANGE BELL PEPPER   \n",
       "4545003   1219554         PEANUT BUTTER & JELLY FRUIT & NUT FOOD BAR   \n",
       "4545004    692640                                    ORGANIC AVOCADO   \n",
       "4545005    319435           ORGANIC PROMISE STRAWBERRY FIELDS CEREAL   \n",
       "4545006   1398151                                    CHICKEN NUGGETS   \n",
       "\n",
       "         aisle_id  department_id  \n",
       "0           129.0            1.0  \n",
       "1            37.0            1.0  \n",
       "2            91.0           16.0  \n",
       "3            81.0           15.0  \n",
       "4            84.0           16.0  \n",
       "...           ...            ...  \n",
       "4545002      83.0            4.0  \n",
       "4545003       3.0           19.0  \n",
       "4545004      24.0            4.0  \n",
       "4545005     121.0           14.0  \n",
       "4545006     129.0            1.0  \n",
       "\n",
       "[4545007 rows x 4 columns]"
      ]
     },
     "execution_count": 109,
     "metadata": {},
     "output_type": "execute_result"
    }
   ],
   "source": [
    "df_dep_aisles_filtered = df_departments_aisles[['order_id', 'product_name_mayus', 'aisle_id', 'department_id']]\n",
    "df_dep_aisles_filtered"
   ]
  },
  {
   "cell_type": "code",
   "execution_count": 110,
   "id": "68f068b8",
   "metadata": {},
   "outputs": [
    {
     "data": {
      "text/html": [
       "<div>\n",
       "<style scoped>\n",
       "    .dataframe tbody tr th:only-of-type {\n",
       "        vertical-align: middle;\n",
       "    }\n",
       "\n",
       "    .dataframe tbody tr th {\n",
       "        vertical-align: top;\n",
       "    }\n",
       "\n",
       "    .dataframe thead th {\n",
       "        text-align: right;\n",
       "    }\n",
       "</style>\n",
       "<table border=\"1\" class=\"dataframe\">\n",
       "  <thead>\n",
       "    <tr style=\"text-align: right;\">\n",
       "      <th></th>\n",
       "      <th>order_id</th>\n",
       "      <th>product_name_mayus</th>\n",
       "      <th>aisle_id</th>\n",
       "      <th>department_id</th>\n",
       "      <th>aisle</th>\n",
       "      <th>aisle_name_mayus</th>\n",
       "      <th>department</th>\n",
       "      <th>department_name_mayus</th>\n",
       "    </tr>\n",
       "  </thead>\n",
       "  <tbody>\n",
       "    <tr>\n",
       "      <th>0</th>\n",
       "      <td>3218165</td>\n",
       "      <td>GLUTEN FREE BREADED CHICKEN BREAST TENDERS</td>\n",
       "      <td>34.0</td>\n",
       "      <td>1.0</td>\n",
       "      <td>frozen meat seafood</td>\n",
       "      <td>FROZEN MEAT SEAFOOD</td>\n",
       "      <td>frozen</td>\n",
       "      <td>FROZEN</td>\n",
       "    </tr>\n",
       "    <tr>\n",
       "      <th>1</th>\n",
       "      <td>1746005</td>\n",
       "      <td>GRILLED &amp; READY CHICKEN BREAST STRIPS</td>\n",
       "      <td>34.0</td>\n",
       "      <td>1.0</td>\n",
       "      <td>frozen meat seafood</td>\n",
       "      <td>FROZEN MEAT SEAFOOD</td>\n",
       "      <td>frozen</td>\n",
       "      <td>FROZEN</td>\n",
       "    </tr>\n",
       "    <tr>\n",
       "      <th>2</th>\n",
       "      <td>2081922</td>\n",
       "      <td>GLUTEN-FREE CHICKEN NUGGETS</td>\n",
       "      <td>34.0</td>\n",
       "      <td>1.0</td>\n",
       "      <td>frozen meat seafood</td>\n",
       "      <td>FROZEN MEAT SEAFOOD</td>\n",
       "      <td>frozen</td>\n",
       "      <td>FROZEN</td>\n",
       "    </tr>\n",
       "    <tr>\n",
       "      <th>3</th>\n",
       "      <td>1233539</td>\n",
       "      <td>ANGUS CHEESEBURGERS</td>\n",
       "      <td>34.0</td>\n",
       "      <td>1.0</td>\n",
       "      <td>frozen meat seafood</td>\n",
       "      <td>FROZEN MEAT SEAFOOD</td>\n",
       "      <td>frozen</td>\n",
       "      <td>FROZEN</td>\n",
       "    </tr>\n",
       "    <tr>\n",
       "      <th>4</th>\n",
       "      <td>456091</td>\n",
       "      <td>GLUTEN FREE BREADED CHICKEN BREAST TENDERS</td>\n",
       "      <td>34.0</td>\n",
       "      <td>1.0</td>\n",
       "      <td>frozen meat seafood</td>\n",
       "      <td>FROZEN MEAT SEAFOOD</td>\n",
       "      <td>frozen</td>\n",
       "      <td>FROZEN</td>\n",
       "    </tr>\n",
       "    <tr>\n",
       "      <th>...</th>\n",
       "      <td>...</td>\n",
       "      <td>...</td>\n",
       "      <td>...</td>\n",
       "      <td>...</td>\n",
       "      <td>...</td>\n",
       "      <td>...</td>\n",
       "      <td>...</td>\n",
       "      <td>...</td>\n",
       "    </tr>\n",
       "    <tr>\n",
       "      <th>4524190</th>\n",
       "      <td>1607258</td>\n",
       "      <td>NATURAL CHOICE DELI OVEN ROASTED TURKEY</td>\n",
       "      <td>96.0</td>\n",
       "      <td>20.0</td>\n",
       "      <td>lunch meat</td>\n",
       "      <td>LUNCH MEAT</td>\n",
       "      <td>deli</td>\n",
       "      <td>DELI</td>\n",
       "    </tr>\n",
       "    <tr>\n",
       "      <th>4524191</th>\n",
       "      <td>3131647</td>\n",
       "      <td>NATURALS ROAST BEEF</td>\n",
       "      <td>96.0</td>\n",
       "      <td>20.0</td>\n",
       "      <td>lunch meat</td>\n",
       "      <td>LUNCH MEAT</td>\n",
       "      <td>deli</td>\n",
       "      <td>DELI</td>\n",
       "    </tr>\n",
       "    <tr>\n",
       "      <th>4524192</th>\n",
       "      <td>2085048</td>\n",
       "      <td>NaN</td>\n",
       "      <td>100.0</td>\n",
       "      <td>21.0</td>\n",
       "      <td>missing</td>\n",
       "      <td>MISSING</td>\n",
       "      <td>missing</td>\n",
       "      <td>MISSING</td>\n",
       "    </tr>\n",
       "    <tr>\n",
       "      <th>4524193</th>\n",
       "      <td>1528601</td>\n",
       "      <td>NaN</td>\n",
       "      <td>100.0</td>\n",
       "      <td>21.0</td>\n",
       "      <td>missing</td>\n",
       "      <td>MISSING</td>\n",
       "      <td>missing</td>\n",
       "      <td>MISSING</td>\n",
       "    </tr>\n",
       "    <tr>\n",
       "      <th>4524194</th>\n",
       "      <td>2360582</td>\n",
       "      <td>NaN</td>\n",
       "      <td>100.0</td>\n",
       "      <td>21.0</td>\n",
       "      <td>missing</td>\n",
       "      <td>MISSING</td>\n",
       "      <td>missing</td>\n",
       "      <td>MISSING</td>\n",
       "    </tr>\n",
       "  </tbody>\n",
       "</table>\n",
       "<p>4524195 rows × 8 columns</p>\n",
       "</div>"
      ],
      "text/plain": [
       "         order_id                          product_name_mayus  aisle_id  \\\n",
       "0         3218165  GLUTEN FREE BREADED CHICKEN BREAST TENDERS      34.0   \n",
       "1         1746005       GRILLED & READY CHICKEN BREAST STRIPS      34.0   \n",
       "2         2081922                 GLUTEN-FREE CHICKEN NUGGETS      34.0   \n",
       "3         1233539                         ANGUS CHEESEBURGERS      34.0   \n",
       "4          456091  GLUTEN FREE BREADED CHICKEN BREAST TENDERS      34.0   \n",
       "...           ...                                         ...       ...   \n",
       "4524190   1607258     NATURAL CHOICE DELI OVEN ROASTED TURKEY      96.0   \n",
       "4524191   3131647                         NATURALS ROAST BEEF      96.0   \n",
       "4524192   2085048                                         NaN     100.0   \n",
       "4524193   1528601                                         NaN     100.0   \n",
       "4524194   2360582                                         NaN     100.0   \n",
       "\n",
       "         department_id                aisle     aisle_name_mayus department  \\\n",
       "0                  1.0  frozen meat seafood  FROZEN MEAT SEAFOOD     frozen   \n",
       "1                  1.0  frozen meat seafood  FROZEN MEAT SEAFOOD     frozen   \n",
       "2                  1.0  frozen meat seafood  FROZEN MEAT SEAFOOD     frozen   \n",
       "3                  1.0  frozen meat seafood  FROZEN MEAT SEAFOOD     frozen   \n",
       "4                  1.0  frozen meat seafood  FROZEN MEAT SEAFOOD     frozen   \n",
       "...                ...                  ...                  ...        ...   \n",
       "4524190           20.0           lunch meat           LUNCH MEAT       deli   \n",
       "4524191           20.0           lunch meat           LUNCH MEAT       deli   \n",
       "4524192           21.0              missing              MISSING    missing   \n",
       "4524193           21.0              missing              MISSING    missing   \n",
       "4524194           21.0              missing              MISSING    missing   \n",
       "\n",
       "        department_name_mayus  \n",
       "0                      FROZEN  \n",
       "1                      FROZEN  \n",
       "2                      FROZEN  \n",
       "3                      FROZEN  \n",
       "4                      FROZEN  \n",
       "...                       ...  \n",
       "4524190                  DELI  \n",
       "4524191                  DELI  \n",
       "4524192               MISSING  \n",
       "4524193               MISSING  \n",
       "4524194               MISSING  \n",
       "\n",
       "[4524195 rows x 8 columns]"
      ]
     },
     "execution_count": 110,
     "metadata": {},
     "output_type": "execute_result"
    }
   ],
   "source": [
    "df_dep_aisles_final = pd.merge(pd.merge(df_dep_aisles_filtered, df_aisles, on= 'aisle_id', how= 'right'), df_departments, on= 'department_id', how= 'right')\n",
    "df_dep_aisles_final"
   ]
  },
  {
   "cell_type": "code",
   "execution_count": 111,
   "id": "05ef8bca",
   "metadata": {},
   "outputs": [
    {
     "name": "stdout",
     "output_type": "stream",
     "text": [
      "<class 'pandas.core.frame.DataFrame'>\n",
      "Int64Index: 4524195 entries, 0 to 4524194\n",
      "Data columns (total 8 columns):\n",
      " #   Column                 Dtype  \n",
      "---  ------                 -----  \n",
      " 0   order_id               int64  \n",
      " 1   product_name_mayus     object \n",
      " 2   aisle_id               float64\n",
      " 3   department_id          float64\n",
      " 4   aisle                  object \n",
      " 5   aisle_name_mayus       object \n",
      " 6   department             object \n",
      " 7   department_name_mayus  object \n",
      "dtypes: float64(2), int64(1), object(5)\n",
      "memory usage: 310.7+ MB\n"
     ]
    }
   ],
   "source": [
    "df_dep_aisles_final.info()"
   ]
  },
  {
   "cell_type": "code",
   "execution_count": 112,
   "id": "3b2fc731",
   "metadata": {},
   "outputs": [
    {
     "data": {
      "text/html": [
       "<div>\n",
       "<style scoped>\n",
       "    .dataframe tbody tr th:only-of-type {\n",
       "        vertical-align: middle;\n",
       "    }\n",
       "\n",
       "    .dataframe tbody tr th {\n",
       "        vertical-align: top;\n",
       "    }\n",
       "\n",
       "    .dataframe thead th {\n",
       "        text-align: right;\n",
       "    }\n",
       "</style>\n",
       "<table border=\"1\" class=\"dataframe\">\n",
       "  <thead>\n",
       "    <tr style=\"text-align: right;\">\n",
       "      <th></th>\n",
       "      <th>order_id</th>\n",
       "      <th>product_name_mayus</th>\n",
       "      <th>aisle_name_mayus</th>\n",
       "      <th>department_name_mayus</th>\n",
       "    </tr>\n",
       "  </thead>\n",
       "  <tbody>\n",
       "    <tr>\n",
       "      <th>0</th>\n",
       "      <td>3218165</td>\n",
       "      <td>GLUTEN FREE BREADED CHICKEN BREAST TENDERS</td>\n",
       "      <td>FROZEN MEAT SEAFOOD</td>\n",
       "      <td>FROZEN</td>\n",
       "    </tr>\n",
       "    <tr>\n",
       "      <th>1</th>\n",
       "      <td>1746005</td>\n",
       "      <td>GRILLED &amp; READY CHICKEN BREAST STRIPS</td>\n",
       "      <td>FROZEN MEAT SEAFOOD</td>\n",
       "      <td>FROZEN</td>\n",
       "    </tr>\n",
       "    <tr>\n",
       "      <th>2</th>\n",
       "      <td>2081922</td>\n",
       "      <td>GLUTEN-FREE CHICKEN NUGGETS</td>\n",
       "      <td>FROZEN MEAT SEAFOOD</td>\n",
       "      <td>FROZEN</td>\n",
       "    </tr>\n",
       "    <tr>\n",
       "      <th>3</th>\n",
       "      <td>1233539</td>\n",
       "      <td>ANGUS CHEESEBURGERS</td>\n",
       "      <td>FROZEN MEAT SEAFOOD</td>\n",
       "      <td>FROZEN</td>\n",
       "    </tr>\n",
       "    <tr>\n",
       "      <th>4</th>\n",
       "      <td>456091</td>\n",
       "      <td>GLUTEN FREE BREADED CHICKEN BREAST TENDERS</td>\n",
       "      <td>FROZEN MEAT SEAFOOD</td>\n",
       "      <td>FROZEN</td>\n",
       "    </tr>\n",
       "    <tr>\n",
       "      <th>...</th>\n",
       "      <td>...</td>\n",
       "      <td>...</td>\n",
       "      <td>...</td>\n",
       "      <td>...</td>\n",
       "    </tr>\n",
       "    <tr>\n",
       "      <th>4524190</th>\n",
       "      <td>1607258</td>\n",
       "      <td>NATURAL CHOICE DELI OVEN ROASTED TURKEY</td>\n",
       "      <td>LUNCH MEAT</td>\n",
       "      <td>DELI</td>\n",
       "    </tr>\n",
       "    <tr>\n",
       "      <th>4524191</th>\n",
       "      <td>3131647</td>\n",
       "      <td>NATURALS ROAST BEEF</td>\n",
       "      <td>LUNCH MEAT</td>\n",
       "      <td>DELI</td>\n",
       "    </tr>\n",
       "    <tr>\n",
       "      <th>4524192</th>\n",
       "      <td>2085048</td>\n",
       "      <td>NaN</td>\n",
       "      <td>MISSING</td>\n",
       "      <td>MISSING</td>\n",
       "    </tr>\n",
       "    <tr>\n",
       "      <th>4524193</th>\n",
       "      <td>1528601</td>\n",
       "      <td>NaN</td>\n",
       "      <td>MISSING</td>\n",
       "      <td>MISSING</td>\n",
       "    </tr>\n",
       "    <tr>\n",
       "      <th>4524194</th>\n",
       "      <td>2360582</td>\n",
       "      <td>NaN</td>\n",
       "      <td>MISSING</td>\n",
       "      <td>MISSING</td>\n",
       "    </tr>\n",
       "  </tbody>\n",
       "</table>\n",
       "<p>4524195 rows × 4 columns</p>\n",
       "</div>"
      ],
      "text/plain": [
       "         order_id                          product_name_mayus  \\\n",
       "0         3218165  GLUTEN FREE BREADED CHICKEN BREAST TENDERS   \n",
       "1         1746005       GRILLED & READY CHICKEN BREAST STRIPS   \n",
       "2         2081922                 GLUTEN-FREE CHICKEN NUGGETS   \n",
       "3         1233539                         ANGUS CHEESEBURGERS   \n",
       "4          456091  GLUTEN FREE BREADED CHICKEN BREAST TENDERS   \n",
       "...           ...                                         ...   \n",
       "4524190   1607258     NATURAL CHOICE DELI OVEN ROASTED TURKEY   \n",
       "4524191   3131647                         NATURALS ROAST BEEF   \n",
       "4524192   2085048                                         NaN   \n",
       "4524193   1528601                                         NaN   \n",
       "4524194   2360582                                         NaN   \n",
       "\n",
       "            aisle_name_mayus department_name_mayus  \n",
       "0        FROZEN MEAT SEAFOOD                FROZEN  \n",
       "1        FROZEN MEAT SEAFOOD                FROZEN  \n",
       "2        FROZEN MEAT SEAFOOD                FROZEN  \n",
       "3        FROZEN MEAT SEAFOOD                FROZEN  \n",
       "4        FROZEN MEAT SEAFOOD                FROZEN  \n",
       "...                      ...                   ...  \n",
       "4524190           LUNCH MEAT                  DELI  \n",
       "4524191           LUNCH MEAT                  DELI  \n",
       "4524192              MISSING               MISSING  \n",
       "4524193              MISSING               MISSING  \n",
       "4524194              MISSING               MISSING  \n",
       "\n",
       "[4524195 rows x 4 columns]"
      ]
     },
     "execution_count": 112,
     "metadata": {},
     "output_type": "execute_result"
    }
   ],
   "source": [
    "df_dep_aisles_final.drop(['aisle_id', 'department_id', 'aisle', 'department'], axis= 1, inplace= True)\n",
    "df_dep_aisles_final"
   ]
  },
  {
   "cell_type": "code",
   "execution_count": 113,
   "id": "a59fc326",
   "metadata": {},
   "outputs": [
    {
     "data": {
      "text/html": [
       "<div>\n",
       "<style scoped>\n",
       "    .dataframe tbody tr th:only-of-type {\n",
       "        vertical-align: middle;\n",
       "    }\n",
       "\n",
       "    .dataframe tbody tr th {\n",
       "        vertical-align: top;\n",
       "    }\n",
       "\n",
       "    .dataframe thead th {\n",
       "        text-align: right;\n",
       "    }\n",
       "</style>\n",
       "<table border=\"1\" class=\"dataframe\">\n",
       "  <thead>\n",
       "    <tr style=\"text-align: right;\">\n",
       "      <th></th>\n",
       "      <th>aisle_name_mayus</th>\n",
       "      <th>total_orders_aisle</th>\n",
       "    </tr>\n",
       "  </thead>\n",
       "  <tbody>\n",
       "    <tr>\n",
       "      <th>50</th>\n",
       "      <td>FRESH FRUITS</td>\n",
       "      <td>509879</td>\n",
       "    </tr>\n",
       "    <tr>\n",
       "      <th>53</th>\n",
       "      <td>FRESH VEGETABLES</td>\n",
       "      <td>479395</td>\n",
       "    </tr>\n",
       "    <tr>\n",
       "      <th>98</th>\n",
       "      <td>PACKAGED VEGETABLES FRUITS</td>\n",
       "      <td>246425</td>\n",
       "    </tr>\n",
       "    <tr>\n",
       "      <th>133</th>\n",
       "      <td>YOGURT</td>\n",
       "      <td>203358</td>\n",
       "    </tr>\n",
       "    <tr>\n",
       "      <th>93</th>\n",
       "      <td>PACKAGED CHEESE</td>\n",
       "      <td>137251</td>\n",
       "    </tr>\n",
       "    <tr>\n",
       "      <th>83</th>\n",
       "      <td>MILK</td>\n",
       "      <td>125522</td>\n",
       "    </tr>\n",
       "    <tr>\n",
       "      <th>131</th>\n",
       "      <td>WATER SELTZER SPARKLING WATER</td>\n",
       "      <td>116360</td>\n",
       "    </tr>\n",
       "    <tr>\n",
       "      <th>25</th>\n",
       "      <td>CHIPS PRETZELS</td>\n",
       "      <td>101497</td>\n",
       "    </tr>\n",
       "    <tr>\n",
       "      <th>119</th>\n",
       "      <td>SOY LACTOSEFREE</td>\n",
       "      <td>89437</td>\n",
       "    </tr>\n",
       "    <tr>\n",
       "      <th>11</th>\n",
       "      <td>BREAD</td>\n",
       "      <td>82082</td>\n",
       "    </tr>\n",
       "    <tr>\n",
       "      <th>110</th>\n",
       "      <td>REFRIGERATED</td>\n",
       "      <td>80502</td>\n",
       "    </tr>\n",
       "    <tr>\n",
       "      <th>62</th>\n",
       "      <td>FROZEN PRODUCE</td>\n",
       "      <td>73455</td>\n",
       "    </tr>\n",
       "    <tr>\n",
       "      <th>71</th>\n",
       "      <td>ICE CREAM ICE</td>\n",
       "      <td>69973</td>\n",
       "    </tr>\n",
       "    <tr>\n",
       "      <th>32</th>\n",
       "      <td>CRACKERS</td>\n",
       "      <td>64173</td>\n",
       "    </tr>\n",
       "    <tr>\n",
       "      <th>41</th>\n",
       "      <td>EGGS</td>\n",
       "      <td>63796</td>\n",
       "    </tr>\n",
       "    <tr>\n",
       "      <th>42</th>\n",
       "      <td>ENERGY GRANOLA BARS</td>\n",
       "      <td>63522</td>\n",
       "    </tr>\n",
       "    <tr>\n",
       "      <th>59</th>\n",
       "      <td>FROZEN MEALS</td>\n",
       "      <td>54448</td>\n",
       "    </tr>\n",
       "    <tr>\n",
       "      <th>80</th>\n",
       "      <td>LUNCH MEAT</td>\n",
       "      <td>53989</td>\n",
       "    </tr>\n",
       "    <tr>\n",
       "      <th>4</th>\n",
       "      <td>BABY FOOD FORMULA</td>\n",
       "      <td>53146</td>\n",
       "    </tr>\n",
       "    <tr>\n",
       "      <th>24</th>\n",
       "      <td>CEREAL</td>\n",
       "      <td>52945</td>\n",
       "    </tr>\n",
       "    <tr>\n",
       "      <th>51</th>\n",
       "      <td>FRESH HERBS</td>\n",
       "      <td>52782</td>\n",
       "    </tr>\n",
       "    <tr>\n",
       "      <th>117</th>\n",
       "      <td>SOFT DRINKS</td>\n",
       "      <td>50001</td>\n",
       "    </tr>\n",
       "    <tr>\n",
       "      <th>49</th>\n",
       "      <td>FRESH DIPS TAPENADES</td>\n",
       "      <td>49975</td>\n",
       "    </tr>\n",
       "    <tr>\n",
       "      <th>118</th>\n",
       "      <td>SOUP BROTH BOUILLON</td>\n",
       "      <td>48463</td>\n",
       "    </tr>\n",
       "    <tr>\n",
       "      <th>75</th>\n",
       "      <td>JUICE NECTARS</td>\n",
       "      <td>46751</td>\n",
       "    </tr>\n",
       "    <tr>\n",
       "      <th>6</th>\n",
       "      <td>BAKING INGREDIENTS</td>\n",
       "      <td>45867</td>\n",
       "    </tr>\n",
       "    <tr>\n",
       "      <th>33</th>\n",
       "      <td>CREAM</td>\n",
       "      <td>43675</td>\n",
       "    </tr>\n",
       "    <tr>\n",
       "      <th>92</th>\n",
       "      <td>OTHER CREAMS CHEESES</td>\n",
       "      <td>43450</td>\n",
       "    </tr>\n",
       "    <tr>\n",
       "      <th>88</th>\n",
       "      <td>NUTS SEEDS DRIED FRUIT</td>\n",
       "      <td>43178</td>\n",
       "    </tr>\n",
       "    <tr>\n",
       "      <th>70</th>\n",
       "      <td>HOT DOGS BACON SAUSAGE</td>\n",
       "      <td>42862</td>\n",
       "    </tr>\n",
       "  </tbody>\n",
       "</table>\n",
       "</div>"
      ],
      "text/plain": [
       "                  aisle_name_mayus  total_orders_aisle\n",
       "50                    FRESH FRUITS              509879\n",
       "53                FRESH VEGETABLES              479395\n",
       "98      PACKAGED VEGETABLES FRUITS              246425\n",
       "133                         YOGURT              203358\n",
       "93                 PACKAGED CHEESE              137251\n",
       "83                            MILK              125522\n",
       "131  WATER SELTZER SPARKLING WATER              116360\n",
       "25                  CHIPS PRETZELS              101497\n",
       "119                SOY LACTOSEFREE               89437\n",
       "11                           BREAD               82082\n",
       "110                   REFRIGERATED               80502\n",
       "62                  FROZEN PRODUCE               73455\n",
       "71                   ICE CREAM ICE               69973\n",
       "32                        CRACKERS               64173\n",
       "41                            EGGS               63796\n",
       "42             ENERGY GRANOLA BARS               63522\n",
       "59                    FROZEN MEALS               54448\n",
       "80                      LUNCH MEAT               53989\n",
       "4                BABY FOOD FORMULA               53146\n",
       "24                          CEREAL               52945\n",
       "51                     FRESH HERBS               52782\n",
       "117                    SOFT DRINKS               50001\n",
       "49            FRESH DIPS TAPENADES               49975\n",
       "118            SOUP BROTH BOUILLON               48463\n",
       "75                   JUICE NECTARS               46751\n",
       "6               BAKING INGREDIENTS               45867\n",
       "33                           CREAM               43675\n",
       "92            OTHER CREAMS CHEESES               43450\n",
       "88          NUTS SEEDS DRIED FRUIT               43178\n",
       "70          HOT DOGS BACON SAUSAGE               42862"
      ]
     },
     "execution_count": 113,
     "metadata": {},
     "output_type": "execute_result"
    }
   ],
   "source": [
    "df_aisles_orders_total = df_dep_aisles_final.groupby('aisle_name_mayus')['order_id'].count().reset_index(name= 'total_orders_aisle')\n",
    "df_aisles_orders_total.sort_values(by='total_orders_aisle', ascending= False).head(30) # SE MUESTRAN LAS 30 PRIMERAS 'aisles' QUE MAS PEDIDOS TIENEN "
   ]
  },
  {
   "cell_type": "code",
   "execution_count": 114,
   "id": "1c6a2e3f",
   "metadata": {},
   "outputs": [
    {
     "data": {
      "text/html": [
       "<div>\n",
       "<style scoped>\n",
       "    .dataframe tbody tr th:only-of-type {\n",
       "        vertical-align: middle;\n",
       "    }\n",
       "\n",
       "    .dataframe tbody tr th {\n",
       "        vertical-align: top;\n",
       "    }\n",
       "\n",
       "    .dataframe thead th {\n",
       "        text-align: right;\n",
       "    }\n",
       "</style>\n",
       "<table border=\"1\" class=\"dataframe\">\n",
       "  <thead>\n",
       "    <tr style=\"text-align: right;\">\n",
       "      <th></th>\n",
       "      <th>aisle_name_mayus</th>\n",
       "      <th>total_orders_aisle</th>\n",
       "    </tr>\n",
       "  </thead>\n",
       "  <tbody>\n",
       "    <tr>\n",
       "      <th>85</th>\n",
       "      <td>MISSING</td>\n",
       "      <td>3</td>\n",
       "    </tr>\n",
       "    <tr>\n",
       "      <th>58</th>\n",
       "      <td>FROZEN JUICE</td>\n",
       "      <td>705</td>\n",
       "    </tr>\n",
       "    <tr>\n",
       "      <th>8</th>\n",
       "      <td>BEAUTY</td>\n",
       "      <td>884</td>\n",
       "    </tr>\n",
       "    <tr>\n",
       "      <th>2</th>\n",
       "      <td>BABY ACCESSORIES</td>\n",
       "      <td>1065</td>\n",
       "    </tr>\n",
       "    <tr>\n",
       "      <th>3</th>\n",
       "      <td>BABY BATH BODY CARE</td>\n",
       "      <td>1232</td>\n",
       "    </tr>\n",
       "    <tr>\n",
       "      <th>76</th>\n",
       "      <td>KITCHEN SUPPLIES</td>\n",
       "      <td>1262</td>\n",
       "    </tr>\n",
       "    <tr>\n",
       "      <th>44</th>\n",
       "      <td>EYE EAR CARE</td>\n",
       "      <td>1286</td>\n",
       "    </tr>\n",
       "    <tr>\n",
       "      <th>115</th>\n",
       "      <td>SKIN CARE</td>\n",
       "      <td>1415</td>\n",
       "    </tr>\n",
       "    <tr>\n",
       "      <th>121</th>\n",
       "      <td>SPECIALTY WINES CHAMPAGNES</td>\n",
       "      <td>1525</td>\n",
       "    </tr>\n",
       "    <tr>\n",
       "      <th>47</th>\n",
       "      <td>FIRST AID</td>\n",
       "      <td>1547</td>\n",
       "    </tr>\n",
       "    <tr>\n",
       "      <th>114</th>\n",
       "      <td>SHAVE NEEDS</td>\n",
       "      <td>1552</td>\n",
       "    </tr>\n",
       "    <tr>\n",
       "      <th>72</th>\n",
       "      <td>ICE CREAM TOPPINGS</td>\n",
       "      <td>1560</td>\n",
       "    </tr>\n",
       "    <tr>\n",
       "      <th>77</th>\n",
       "      <td>KOSHER FOODS</td>\n",
       "      <td>1626</td>\n",
       "    </tr>\n",
       "    <tr>\n",
       "      <th>45</th>\n",
       "      <td>FACIAL CARE</td>\n",
       "      <td>1687</td>\n",
       "    </tr>\n",
       "    <tr>\n",
       "      <th>34</th>\n",
       "      <td>DEODORANTS</td>\n",
       "      <td>2079</td>\n",
       "    </tr>\n",
       "    <tr>\n",
       "      <th>73</th>\n",
       "      <td>INDIAN FOODS</td>\n",
       "      <td>2270</td>\n",
       "    </tr>\n",
       "    <tr>\n",
       "      <th>14</th>\n",
       "      <td>BULK DRIED FRUITS VEGETABLES</td>\n",
       "      <td>2384</td>\n",
       "    </tr>\n",
       "    <tr>\n",
       "      <th>15</th>\n",
       "      <td>BULK GRAINS RICE DRIED GOODS</td>\n",
       "      <td>2386</td>\n",
       "    </tr>\n",
       "    <tr>\n",
       "      <th>86</th>\n",
       "      <td>MORE HOUSEHOLD</td>\n",
       "      <td>2428</td>\n",
       "    </tr>\n",
       "    <tr>\n",
       "      <th>87</th>\n",
       "      <td>MUSCLES JOINTS PAIN RELIEF</td>\n",
       "      <td>2588</td>\n",
       "    </tr>\n",
       "    <tr>\n",
       "      <th>57</th>\n",
       "      <td>FROZEN DESSERT</td>\n",
       "      <td>2718</td>\n",
       "    </tr>\n",
       "    <tr>\n",
       "      <th>0</th>\n",
       "      <td>AIR FRESHENERS CANDLES</td>\n",
       "      <td>2752</td>\n",
       "    </tr>\n",
       "    <tr>\n",
       "      <th>46</th>\n",
       "      <td>FEMININE CARE</td>\n",
       "      <td>2886</td>\n",
       "    </tr>\n",
       "    <tr>\n",
       "      <th>97</th>\n",
       "      <td>PACKAGED SEAFOOD</td>\n",
       "      <td>2925</td>\n",
       "    </tr>\n",
       "    <tr>\n",
       "      <th>27</th>\n",
       "      <td>COCOA DRINK MIXES</td>\n",
       "      <td>3059</td>\n",
       "    </tr>\n",
       "    <tr>\n",
       "      <th>84</th>\n",
       "      <td>MINT GUM</td>\n",
       "      <td>3086</td>\n",
       "    </tr>\n",
       "    <tr>\n",
       "      <th>7</th>\n",
       "      <td>BAKING SUPPLIES DECOR</td>\n",
       "      <td>3356</td>\n",
       "    </tr>\n",
       "    <tr>\n",
       "      <th>35</th>\n",
       "      <td>DIAPERS WIPES</td>\n",
       "      <td>3474</td>\n",
       "    </tr>\n",
       "    <tr>\n",
       "      <th>29</th>\n",
       "      <td>COLD FLU ALLERGY</td>\n",
       "      <td>3667</td>\n",
       "    </tr>\n",
       "    <tr>\n",
       "      <th>36</th>\n",
       "      <td>DIGESTION</td>\n",
       "      <td>3767</td>\n",
       "    </tr>\n",
       "  </tbody>\n",
       "</table>\n",
       "</div>"
      ],
      "text/plain": [
       "                 aisle_name_mayus  total_orders_aisle\n",
       "85                        MISSING                   3\n",
       "58                   FROZEN JUICE                 705\n",
       "8                          BEAUTY                 884\n",
       "2                BABY ACCESSORIES                1065\n",
       "3             BABY BATH BODY CARE                1232\n",
       "76               KITCHEN SUPPLIES                1262\n",
       "44                   EYE EAR CARE                1286\n",
       "115                     SKIN CARE                1415\n",
       "121    SPECIALTY WINES CHAMPAGNES                1525\n",
       "47                      FIRST AID                1547\n",
       "114                   SHAVE NEEDS                1552\n",
       "72             ICE CREAM TOPPINGS                1560\n",
       "77                   KOSHER FOODS                1626\n",
       "45                    FACIAL CARE                1687\n",
       "34                     DEODORANTS                2079\n",
       "73                   INDIAN FOODS                2270\n",
       "14   BULK DRIED FRUITS VEGETABLES                2384\n",
       "15   BULK GRAINS RICE DRIED GOODS                2386\n",
       "86                 MORE HOUSEHOLD                2428\n",
       "87     MUSCLES JOINTS PAIN RELIEF                2588\n",
       "57                 FROZEN DESSERT                2718\n",
       "0          AIR FRESHENERS CANDLES                2752\n",
       "46                  FEMININE CARE                2886\n",
       "97               PACKAGED SEAFOOD                2925\n",
       "27              COCOA DRINK MIXES                3059\n",
       "84                       MINT GUM                3086\n",
       "7           BAKING SUPPLIES DECOR                3356\n",
       "35                  DIAPERS WIPES                3474\n",
       "29               COLD FLU ALLERGY                3667\n",
       "36                      DIGESTION                3767"
      ]
     },
     "execution_count": 114,
     "metadata": {},
     "output_type": "execute_result"
    }
   ],
   "source": [
    "df_aisles_orders_total.sort_values(by='total_orders_aisle', ascending= True).head(30)"
   ]
  },
  {
   "cell_type": "code",
   "execution_count": 115,
   "id": "f651f5c6",
   "metadata": {},
   "outputs": [
    {
     "data": {
      "text/html": [
       "<div>\n",
       "<style scoped>\n",
       "    .dataframe tbody tr th:only-of-type {\n",
       "        vertical-align: middle;\n",
       "    }\n",
       "\n",
       "    .dataframe tbody tr th {\n",
       "        vertical-align: top;\n",
       "    }\n",
       "\n",
       "    .dataframe thead th {\n",
       "        text-align: right;\n",
       "    }\n",
       "</style>\n",
       "<table border=\"1\" class=\"dataframe\">\n",
       "  <thead>\n",
       "    <tr style=\"text-align: right;\">\n",
       "      <th></th>\n",
       "      <th>department_name_mayus</th>\n",
       "      <th>total_orders_department</th>\n",
       "    </tr>\n",
       "  </thead>\n",
       "  <tbody>\n",
       "    <tr>\n",
       "      <th>19</th>\n",
       "      <td>PRODUCE</td>\n",
       "      <td>1327512</td>\n",
       "    </tr>\n",
       "    <tr>\n",
       "      <th>7</th>\n",
       "      <td>DAIRY EGGS</td>\n",
       "      <td>758411</td>\n",
       "    </tr>\n",
       "    <tr>\n",
       "      <th>20</th>\n",
       "      <td>SNACKS</td>\n",
       "      <td>404572</td>\n",
       "    </tr>\n",
       "    <tr>\n",
       "      <th>3</th>\n",
       "      <td>BEVERAGES</td>\n",
       "      <td>374406</td>\n",
       "    </tr>\n",
       "    <tr>\n",
       "      <th>10</th>\n",
       "      <td>FROZEN</td>\n",
       "      <td>313664</td>\n",
       "    </tr>\n",
       "    <tr>\n",
       "      <th>16</th>\n",
       "      <td>PANTRY</td>\n",
       "      <td>259781</td>\n",
       "    </tr>\n",
       "    <tr>\n",
       "      <th>2</th>\n",
       "      <td>BAKERY</td>\n",
       "      <td>164741</td>\n",
       "    </tr>\n",
       "    <tr>\n",
       "      <th>6</th>\n",
       "      <td>CANNED GOODS</td>\n",
       "      <td>147477</td>\n",
       "    </tr>\n",
       "    <tr>\n",
       "      <th>8</th>\n",
       "      <td>DELI</td>\n",
       "      <td>146035</td>\n",
       "    </tr>\n",
       "    <tr>\n",
       "      <th>9</th>\n",
       "      <td>DRY GOODS PASTA</td>\n",
       "      <td>121124</td>\n",
       "    </tr>\n",
       "    <tr>\n",
       "      <th>11</th>\n",
       "      <td>HOUSEHOLD</td>\n",
       "      <td>103307</td>\n",
       "    </tr>\n",
       "    <tr>\n",
       "      <th>4</th>\n",
       "      <td>BREAKFAST</td>\n",
       "      <td>99549</td>\n",
       "    </tr>\n",
       "    <tr>\n",
       "      <th>13</th>\n",
       "      <td>MEAT SEAFOOD</td>\n",
       "      <td>99307</td>\n",
       "    </tr>\n",
       "    <tr>\n",
       "      <th>17</th>\n",
       "      <td>PERSONAL CARE</td>\n",
       "      <td>62741</td>\n",
       "    </tr>\n",
       "    <tr>\n",
       "      <th>1</th>\n",
       "      <td>BABIES</td>\n",
       "      <td>58917</td>\n",
       "    </tr>\n",
       "    <tr>\n",
       "      <th>12</th>\n",
       "      <td>INTERNATIONAL</td>\n",
       "      <td>37470</td>\n",
       "    </tr>\n",
       "    <tr>\n",
       "      <th>0</th>\n",
       "      <td>ALCOHOL</td>\n",
       "      <td>21637</td>\n",
       "    </tr>\n",
       "    <tr>\n",
       "      <th>18</th>\n",
       "      <td>PETS</td>\n",
       "      <td>13686</td>\n",
       "    </tr>\n",
       "    <tr>\n",
       "      <th>15</th>\n",
       "      <td>OTHER</td>\n",
       "      <td>5085</td>\n",
       "    </tr>\n",
       "    <tr>\n",
       "      <th>5</th>\n",
       "      <td>BULK</td>\n",
       "      <td>4770</td>\n",
       "    </tr>\n",
       "    <tr>\n",
       "      <th>14</th>\n",
       "      <td>MISSING</td>\n",
       "      <td>3</td>\n",
       "    </tr>\n",
       "  </tbody>\n",
       "</table>\n",
       "</div>"
      ],
      "text/plain": [
       "   department_name_mayus  total_orders_department\n",
       "19               PRODUCE                  1327512\n",
       "7             DAIRY EGGS                   758411\n",
       "20                SNACKS                   404572\n",
       "3              BEVERAGES                   374406\n",
       "10                FROZEN                   313664\n",
       "16                PANTRY                   259781\n",
       "2                 BAKERY                   164741\n",
       "6           CANNED GOODS                   147477\n",
       "8                   DELI                   146035\n",
       "9        DRY GOODS PASTA                   121124\n",
       "11             HOUSEHOLD                   103307\n",
       "4              BREAKFAST                    99549\n",
       "13          MEAT SEAFOOD                    99307\n",
       "17         PERSONAL CARE                    62741\n",
       "1                 BABIES                    58917\n",
       "12         INTERNATIONAL                    37470\n",
       "0                ALCOHOL                    21637\n",
       "18                  PETS                    13686\n",
       "15                 OTHER                     5085\n",
       "5                   BULK                     4770\n",
       "14               MISSING                        3"
      ]
     },
     "execution_count": 115,
     "metadata": {},
     "output_type": "execute_result"
    }
   ],
   "source": [
    "df_department_orders_total = df_dep_aisles_final.groupby('department_name_mayus')['order_id'].count().reset_index(name= 'total_orders_department')\n",
    "df_department_orders_total.sort_values(by= 'total_orders_department', ascending= False)"
   ]
  },
  {
   "cell_type": "markdown",
   "id": "76c3f1fe",
   "metadata": {
    "id": "forty-netherlands",
    "scrolled": true
   },
   "source": [
    "<div class=\"alert alert-block alert-danger\">\n",
    "<b>Comentario del revisor</b> <a class=\"tocSkip\"></a>\n",
    "\n",
    "Muy buena utilización  del filtro. Solamente te recomiendo hacer la agrupación por las variables ['product_id', 'product_name'] y posteriormente hacer el conteo de la variable ['product_id'] para saber cuáles son los 20 principales artículos que las personas ponen primero en sus carritos. YA CAMBIE EL FILTRO COMO ME INDICAS Y OBTENGO ESTE RESULTADO DE LOS 20 PRODUCTOS MAS POPULARES QUE SIN IMPORTAR EL ORDEN EN QUE SE PONEN EN EL CARRITO SE VENDEN, PARA VER SI HAY VARIACION ENTRE LOS PRODUCTOS QUE MAS SE VENDEN COMPARADO CON LOS QUE APARECEN COMO 1 EN 'add_to_cart-order' HAY ALGUNOS PRODUCTOS QUE DIFIEREN TANTO EN EL ORDEN COMO EN LA APARICION DENTRO DE LA LISTA LO QUE SE DEBE INTERPRETAR COMO QUE NO NECESERIAMENTE LOS QUE TIENEN 1 EN 'add_to_cart_order' SON EN EL TOTAL LOS QUE MAS PREFIEREN LAS PERSONAS POR LO TANTO ES UN ORDEN QUE NO APORTA MAYOR ANALSISI EN CUANTO A LAS PREFERENCIAS DE LOS CLIENTES SINO MAS BIEN A UN HABITO DE COMPRAR LOS PRODUCTOS TALVES POR ORDEN DE INGRESO A LAS CATEGORIAS QUE MUESTRA EL SITIO WEB O TAMBIEN PODRIA SER DE QUE LOS PRODUCTOS QUE SE MUESTRAN PRIMERO SON LOS MAS PUBLICITADOS O TIENEN ALGUNA PROMOCION DE OFERTA DENTRO DEL SITIO WEB. PARA EL CASO EN SU MAYORIA SON PRODUCTOS ORGANICOS QUE PODRIA DARNOS UNA TENDENCIA DE QUE ESOS CLIENTES SON PERSONAS QUE GUSTAN DE LLEVAR UNA ALIMENTACION SALUDABLE Y AL SER ASI SE PODRIA REALIZAR UNA CAMPAÑA DE AGREGAR MAS PRODUCTOS ORGANICOS QUE PERMITAN PREPARAR RECETAS SALUDABLES PARA AUMENTAR EL VOLUMEN DE VENTAS DE ESA CATEGORIA DE PRODUCTOS EN ESE SEGMENTO DE CLIENTES.\n",
    "    \n",
    "</div>"
   ]
  },
  {
   "cell_type": "markdown",
   "id": "6e39a07d",
   "metadata": {},
   "source": [
    "<div class=\"alert alert-block alert-success\">\n",
    "<b>Comentario del revisor</b> <a class=\"tocSkip\"></a>\n",
    "\n",
    "Gran trabajo con los ajustes!\n",
    "</div>"
   ]
  },
  {
   "cell_type": "markdown",
   "id": "uITbFCEoDosC",
   "metadata": {
    "id": "uITbFCEoDosC"
   },
   "source": [
    "### Conclusion general del proyecto:"
   ]
  },
  {
   "cell_type": "markdown",
   "id": "8bd79671",
   "metadata": {
    "id": "Nk-4GS7mDwqY"
   },
   "source": [
    "Al tener un 49% de clientes que vuelven a realizar una compra y un 38% de productos que se vuelven a comprar se podria sugerir alguna promocion que pueda generar que los clientes se interesen por los productos que no se compran regularmente o incluir en algo asi como producto de la semana con un descuento especial.\n",
    "Al revisar los habitos de compra de clientes por dia y por hora se podria pensar en una promocion que sea para despues de las 8pm (con mas enfasis los viernes y sabados) impulsando productos de la categoria SPECIALTY WINES CHAMPAGNES.\n",
    "De la misma manera al seer los productos organicos los que mas se venden dentro de las categorias RSH FRUITS y FRESH VEGETABLES se deben impulsar los productos de la categoria KITCHEN SUPPLIES realizando una prmocion que vaya atada a la compra de los productos organicos mas vendidos algo asi como \"Por la compra de tales productos obtenga determinado accesorio de cocina\", la misma estrategia se deberia realizar para la categoria BABY ACCESSORIES ,BABY BATH BODY CARE y DIAPERS WIPES que vayan atadas a la categria BABY FOOD FORMULA que esta dentro de las mas compran.\n",
    "Se deberia poner especial atencion en la categorias relacionadas a bellezad y cuidado personal de hobres y mujeres que extrañamente estan dentro de las menos vendidas FEMININE CARE, BEAUTY, EYE EAR CARE, SKIN CARE, FACIAL CARE, DEODORANTS, FEMININE CARE, podria ser por el precio o la calidad la razon de que no se venda tanto ya que es una categoria de productos de uso diario."
   ]
  },
  {
   "cell_type": "markdown",
   "id": "de51dac6",
   "metadata": {},
   "source": [
    "<div class=\"alert alert-block alert-warning\">\n",
    "<b>Comentario revisor</b> <a class=\"tocSkip\"></a>\n",
    "\n",
    "En general creo que hiciste un muy buen trabajo con el proyecto, pudiste limpiar y trabajar las bases de datos de beuna manera, análisis de duplicados, y de valores faltantes. Además dearrollaste de buena manera los diferentes anális que se solicitaban y cuando podías los complementabas con greaficas. No obstante, recuerda que siempre podemos mejorar y te menciono algunos puntos que debes considerar:\n",
    "\n",
    "* Revisar que los filtros sean correctos en algunos apartados con base en la indicación\n",
    "    \n",
    "    \n",
    "*  Realizar análisis complementarios eliminando los valores que parecen ser atípicos. \n",
    "    \n",
    "*  Realizar gráficas de barras en algunos análisis para complementarlos.\n",
    "    \n",
    "\n",
    "    \n",
    "*  Profundizar en los resultados intermedios y en la conclusión final.\n",
    "\n",
    "</div>"
   ]
  },
  {
   "cell_type": "markdown",
   "id": "f41de4e4",
   "metadata": {},
   "source": [
    "<div class=\"alert alert-block alert-success\">\n",
    "<b>Comentario del revisor</b> <a class=\"tocSkip\"></a>\n",
    "\n",
    "Gran trabajo con los ajustes! Que sigas disfrutando los siguientes cursos!\n",
    "</div>"
   ]
  }
 ],
 "metadata": {
  "ExecuteTimeLog": [
   {
    "duration": 154,
    "start_time": "2024-09-12T13:56:34.709Z"
   },
   {
    "duration": 12,
    "start_time": "2024-09-12T14:00:21.324Z"
   },
   {
    "duration": 12,
    "start_time": "2024-09-12T14:01:00.934Z"
   },
   {
    "duration": 10,
    "start_time": "2024-09-12T14:01:37.962Z"
   },
   {
    "duration": 12,
    "start_time": "2024-09-12T14:03:40.925Z"
   },
   {
    "duration": 11,
    "start_time": "2024-09-12T14:06:35.816Z"
   },
   {
    "duration": 12,
    "start_time": "2024-09-12T14:07:04.366Z"
   },
   {
    "duration": 29,
    "start_time": "2024-09-12T14:07:54.474Z"
   },
   {
    "duration": 12,
    "start_time": "2024-09-12T14:15:57.346Z"
   },
   {
    "duration": 13,
    "start_time": "2024-09-12T14:17:08.317Z"
   },
   {
    "duration": 17,
    "start_time": "2024-09-12T14:17:23.475Z"
   },
   {
    "duration": 12,
    "start_time": "2024-09-12T14:17:58.034Z"
   },
   {
    "duration": 2,
    "start_time": "2024-09-12T14:18:58.327Z"
   },
   {
    "duration": 304,
    "start_time": "2024-09-12T14:38:56.484Z"
   },
   {
    "duration": 175,
    "start_time": "2024-09-12T14:41:57.624Z"
   },
   {
    "duration": 12,
    "start_time": "2024-09-12T14:42:29.278Z"
   },
   {
    "duration": 12,
    "start_time": "2024-09-12T14:43:48.288Z"
   },
   {
    "duration": 13,
    "start_time": "2024-09-12T14:44:41.533Z"
   },
   {
    "duration": 13,
    "start_time": "2024-09-12T15:23:38.405Z"
   },
   {
    "duration": 188,
    "start_time": "2024-09-12T15:39:50.712Z"
   },
   {
    "duration": 13,
    "start_time": "2024-09-12T15:44:06.104Z"
   },
   {
    "duration": 284,
    "start_time": "2024-09-12T15:44:30.483Z"
   },
   {
    "duration": 2247,
    "start_time": "2024-09-12T15:44:32.734Z"
   },
   {
    "duration": 21,
    "start_time": "2024-09-12T15:44:40.272Z"
   },
   {
    "duration": 10,
    "start_time": "2024-09-12T15:44:47.129Z"
   },
   {
    "duration": 7,
    "start_time": "2024-09-12T15:44:52.415Z"
   },
   {
    "duration": 8,
    "start_time": "2024-09-12T15:44:56.514Z"
   },
   {
    "duration": 3,
    "start_time": "2024-09-12T15:51:39.613Z"
   },
   {
    "duration": 489,
    "start_time": "2024-09-12T15:51:41.330Z"
   },
   {
    "duration": 3,
    "start_time": "2024-09-12T15:54:02.547Z"
   },
   {
    "duration": 2244,
    "start_time": "2024-09-12T15:54:09.091Z"
   },
   {
    "duration": 20,
    "start_time": "2024-09-12T16:03:56.097Z"
   },
   {
    "duration": 10,
    "start_time": "2024-09-12T16:03:59.016Z"
   },
   {
    "duration": 14,
    "start_time": "2024-09-12T16:04:05.502Z"
   },
   {
    "duration": 8,
    "start_time": "2024-09-12T16:04:08.953Z"
   },
   {
    "duration": 2,
    "start_time": "2024-09-12T16:11:16.241Z"
   },
   {
    "duration": 2217,
    "start_time": "2024-09-12T16:11:33.606Z"
   },
   {
    "duration": 20,
    "start_time": "2024-09-12T16:11:38.591Z"
   },
   {
    "duration": 9,
    "start_time": "2024-09-12T16:11:44.546Z"
   },
   {
    "duration": 9,
    "start_time": "2024-09-12T16:11:46.710Z"
   },
   {
    "duration": 7,
    "start_time": "2024-09-12T16:11:48.811Z"
   },
   {
    "duration": 7,
    "start_time": "2024-09-12T16:11:51.843Z"
   },
   {
    "duration": 3,
    "start_time": "2024-09-12T16:13:33.384Z"
   },
   {
    "duration": 2101,
    "start_time": "2024-09-12T16:13:35.590Z"
   },
   {
    "duration": 20,
    "start_time": "2024-09-12T16:13:38.656Z"
   },
   {
    "duration": 10,
    "start_time": "2024-09-12T16:13:44.002Z"
   },
   {
    "duration": 8,
    "start_time": "2024-09-12T16:13:50.862Z"
   },
   {
    "duration": 8,
    "start_time": "2024-09-12T16:13:58.315Z"
   },
   {
    "duration": 125,
    "start_time": "2024-09-12T16:14:03.390Z"
   },
   {
    "duration": 137,
    "start_time": "2024-09-12T16:16:43.034Z"
   },
   {
    "duration": 9,
    "start_time": "2024-09-12T16:17:44.080Z"
   },
   {
    "duration": 8,
    "start_time": "2024-09-12T16:18:21.535Z"
   },
   {
    "duration": 11,
    "start_time": "2024-09-12T16:19:37.893Z"
   },
   {
    "duration": 21,
    "start_time": "2024-09-12T16:20:27.393Z"
   },
   {
    "duration": 2,
    "start_time": "2024-09-12T16:23:52.516Z"
   },
   {
    "duration": 935,
    "start_time": "2024-09-12T16:24:02.872Z"
   },
   {
    "duration": 12,
    "start_time": "2024-09-12T16:24:05.482Z"
   },
   {
    "duration": 11,
    "start_time": "2024-09-12T16:24:07.128Z"
   },
   {
    "duration": 10,
    "start_time": "2024-09-12T16:24:10.502Z"
   },
   {
    "duration": 8,
    "start_time": "2024-09-12T16:24:13.562Z"
   },
   {
    "duration": 24,
    "start_time": "2024-09-12T16:24:15.982Z"
   },
   {
    "duration": 166,
    "start_time": "2024-09-12T20:24:37.901Z"
   },
   {
    "duration": 277,
    "start_time": "2024-09-12T20:25:02.868Z"
   },
   {
    "duration": 1116,
    "start_time": "2024-09-12T20:25:03.983Z"
   },
   {
    "duration": 13,
    "start_time": "2024-09-12T20:25:05.510Z"
   },
   {
    "duration": 11,
    "start_time": "2024-09-12T20:25:06.601Z"
   },
   {
    "duration": 11,
    "start_time": "2024-09-12T20:25:07.476Z"
   },
   {
    "duration": 10,
    "start_time": "2024-09-12T20:25:08.454Z"
   },
   {
    "duration": 26,
    "start_time": "2024-09-12T20:25:09.808Z"
   },
   {
    "duration": 45,
    "start_time": "2024-09-12T20:25:21.791Z"
   },
   {
    "duration": 2,
    "start_time": "2024-09-12T20:31:41.053Z"
   },
   {
    "duration": 847,
    "start_time": "2024-09-12T20:31:41.883Z"
   },
   {
    "duration": 12,
    "start_time": "2024-09-12T20:31:43.846Z"
   },
   {
    "duration": 12,
    "start_time": "2024-09-12T20:32:14.289Z"
   },
   {
    "duration": 417,
    "start_time": "2024-09-12T20:33:09.865Z"
   },
   {
    "duration": 11,
    "start_time": "2024-09-12T20:44:51.557Z"
   },
   {
    "duration": 7,
    "start_time": "2024-09-12T20:47:11.210Z"
   },
   {
    "duration": 7,
    "start_time": "2024-09-12T20:48:08.843Z"
   },
   {
    "duration": 18,
    "start_time": "2024-09-12T20:50:02.188Z"
   },
   {
    "duration": 16,
    "start_time": "2024-09-12T20:50:13.750Z"
   },
   {
    "duration": 59,
    "start_time": "2024-09-12T20:51:01.844Z"
   },
   {
    "duration": 47,
    "start_time": "2024-09-12T20:52:41.797Z"
   },
   {
    "duration": 9,
    "start_time": "2024-09-12T20:53:56.212Z"
   },
   {
    "duration": 287,
    "start_time": "2024-09-13T09:22:40.470Z"
   },
   {
    "duration": 1072,
    "start_time": "2024-09-13T09:22:42.059Z"
   },
   {
    "duration": 14,
    "start_time": "2024-09-13T09:22:43.501Z"
   },
   {
    "duration": 13,
    "start_time": "2024-09-13T09:22:44.559Z"
   },
   {
    "duration": 10,
    "start_time": "2024-09-13T09:22:45.382Z"
   },
   {
    "duration": 9,
    "start_time": "2024-09-13T09:22:46.794Z"
   },
   {
    "duration": 25,
    "start_time": "2024-09-13T09:22:47.886Z"
   },
   {
    "duration": 46,
    "start_time": "2024-09-13T09:23:16.614Z"
   },
   {
    "duration": 9,
    "start_time": "2024-09-13T09:23:30.297Z"
   },
   {
    "duration": 11,
    "start_time": "2024-09-13T09:40:23.393Z"
   },
   {
    "duration": 13,
    "start_time": "2024-09-13T09:41:44.386Z"
   },
   {
    "duration": 9,
    "start_time": "2024-09-13T09:42:36.328Z"
   },
   {
    "duration": 175,
    "start_time": "2024-09-13T09:43:51.517Z"
   },
   {
    "duration": 3,
    "start_time": "2024-09-13T09:44:20.314Z"
   },
   {
    "duration": 844,
    "start_time": "2024-09-13T09:44:21.433Z"
   },
   {
    "duration": 11,
    "start_time": "2024-09-13T09:44:22.300Z"
   },
   {
    "duration": 13,
    "start_time": "2024-09-13T09:44:23.651Z"
   },
   {
    "duration": 13,
    "start_time": "2024-09-13T09:44:24.541Z"
   },
   {
    "duration": 10,
    "start_time": "2024-09-13T09:44:25.539Z"
   },
   {
    "duration": 24,
    "start_time": "2024-09-13T09:44:26.299Z"
   },
   {
    "duration": 46,
    "start_time": "2024-09-13T09:44:35.256Z"
   },
   {
    "duration": 9,
    "start_time": "2024-09-13T09:44:38.440Z"
   },
   {
    "duration": 14,
    "start_time": "2024-09-13T09:44:43.128Z"
   },
   {
    "duration": 265,
    "start_time": "2024-09-13T09:44:46.178Z"
   },
   {
    "duration": 53,
    "start_time": "2024-09-13T09:45:30.389Z"
   },
   {
    "duration": 53,
    "start_time": "2024-09-13T09:45:41.306Z"
   },
   {
    "duration": 268,
    "start_time": "2024-09-13T09:45:43.551Z"
   },
   {
    "duration": 39,
    "start_time": "2024-09-13T09:47:22.437Z"
   },
   {
    "duration": 16,
    "start_time": "2024-09-13T10:08:22.588Z"
   },
   {
    "duration": 16,
    "start_time": "2024-09-13T10:08:41.367Z"
   },
   {
    "duration": 3,
    "start_time": "2024-09-13T10:09:09.397Z"
   },
   {
    "duration": 15,
    "start_time": "2024-09-13T10:10:40.141Z"
   },
   {
    "duration": 7,
    "start_time": "2024-09-13T10:11:01.507Z"
   },
   {
    "duration": 3,
    "start_time": "2024-09-13T10:11:40.406Z"
   },
   {
    "duration": 9,
    "start_time": "2024-09-13T10:13:45.223Z"
   },
   {
    "duration": 7,
    "start_time": "2024-09-13T10:14:00.904Z"
   },
   {
    "duration": 17,
    "start_time": "2024-09-13T10:31:42.463Z"
   },
   {
    "duration": 9,
    "start_time": "2024-09-13T10:37:24.418Z"
   },
   {
    "duration": 8,
    "start_time": "2024-09-13T10:38:35.158Z"
   },
   {
    "duration": 7,
    "start_time": "2024-09-13T10:39:43.014Z"
   },
   {
    "duration": 3,
    "start_time": "2024-09-13T10:43:16.555Z"
   },
   {
    "duration": 18,
    "start_time": "2024-09-13T10:44:05.447Z"
   },
   {
    "duration": 18,
    "start_time": "2024-09-13T10:45:43.115Z"
   },
   {
    "duration": 18,
    "start_time": "2024-09-13T10:50:13.769Z"
   },
   {
    "duration": 340,
    "start_time": "2024-09-13T10:52:38.235Z"
   },
   {
    "duration": 15,
    "start_time": "2024-09-13T10:55:48.434Z"
   },
   {
    "duration": 13,
    "start_time": "2024-09-13T10:56:50.586Z"
   },
   {
    "duration": 13,
    "start_time": "2024-09-13T10:57:44.399Z"
   },
   {
    "duration": 3,
    "start_time": "2024-09-13T10:58:19.948Z"
   },
   {
    "duration": 817,
    "start_time": "2024-09-13T10:58:21.468Z"
   },
   {
    "duration": 12,
    "start_time": "2024-09-13T10:58:24.997Z"
   },
   {
    "duration": 12,
    "start_time": "2024-09-13T10:58:41.672Z"
   },
   {
    "duration": 10,
    "start_time": "2024-09-13T10:58:42.794Z"
   },
   {
    "duration": 10,
    "start_time": "2024-09-13T10:58:43.464Z"
   },
   {
    "duration": 22,
    "start_time": "2024-09-13T10:58:44.200Z"
   },
   {
    "duration": 42,
    "start_time": "2024-09-13T10:58:48.997Z"
   },
   {
    "duration": 9,
    "start_time": "2024-09-13T10:58:51.290Z"
   },
   {
    "duration": 49,
    "start_time": "2024-09-13T10:58:55.266Z"
   },
   {
    "duration": 272,
    "start_time": "2024-09-13T10:58:59.562Z"
   },
   {
    "duration": 46,
    "start_time": "2024-09-13T10:59:02.410Z"
   },
   {
    "duration": 14,
    "start_time": "2024-09-13T10:59:07.517Z"
   },
   {
    "duration": 3,
    "start_time": "2024-09-13T10:59:11.848Z"
   },
   {
    "duration": 6,
    "start_time": "2024-09-13T10:59:14.522Z"
   },
   {
    "duration": 36,
    "start_time": "2024-09-13T11:05:29.238Z"
   },
   {
    "duration": 18,
    "start_time": "2024-09-13T11:06:52.129Z"
   },
   {
    "duration": 10,
    "start_time": "2024-09-13T11:10:47.791Z"
   },
   {
    "duration": 10,
    "start_time": "2024-09-13T11:11:18.400Z"
   },
   {
    "duration": 20,
    "start_time": "2024-09-13T11:12:03.021Z"
   },
   {
    "duration": 4,
    "start_time": "2024-09-13T11:25:38.870Z"
   },
   {
    "duration": 17,
    "start_time": "2024-09-13T11:25:46.309Z"
   },
   {
    "duration": 20,
    "start_time": "2024-09-13T11:29:33.687Z"
   },
   {
    "duration": 3,
    "start_time": "2024-09-13T11:39:57.025Z"
   },
   {
    "duration": 14,
    "start_time": "2024-09-13T11:43:28.085Z"
   },
   {
    "duration": 21,
    "start_time": "2024-09-13T11:44:11.005Z"
   },
   {
    "duration": 12,
    "start_time": "2024-09-13T11:50:04.097Z"
   },
   {
    "duration": 12,
    "start_time": "2024-09-13T11:50:19.552Z"
   },
   {
    "duration": 14,
    "start_time": "2024-09-13T11:50:59.491Z"
   },
   {
    "duration": 12,
    "start_time": "2024-09-13T11:51:11.395Z"
   },
   {
    "duration": 4,
    "start_time": "2024-09-13T11:51:33.751Z"
   },
   {
    "duration": 13,
    "start_time": "2024-09-13T11:55:54.475Z"
   },
   {
    "duration": 4,
    "start_time": "2024-09-13T11:56:14.163Z"
   },
   {
    "duration": 4,
    "start_time": "2024-09-13T13:20:17.970Z"
   },
   {
    "duration": 5,
    "start_time": "2024-09-13T13:23:02.001Z"
   },
   {
    "duration": 4,
    "start_time": "2024-09-13T13:23:47.120Z"
   },
   {
    "duration": 4,
    "start_time": "2024-09-13T13:23:47.979Z"
   },
   {
    "duration": 3,
    "start_time": "2024-09-13T13:25:09.212Z"
   },
   {
    "duration": 747,
    "start_time": "2024-09-13T13:26:38.408Z"
   },
   {
    "duration": 256,
    "start_time": "2024-09-13T13:33:09.212Z"
   },
   {
    "duration": 365,
    "start_time": "2024-09-13T13:36:24.634Z"
   },
   {
    "duration": 356,
    "start_time": "2024-09-13T13:39:06.486Z"
   },
   {
    "duration": 419,
    "start_time": "2024-09-13T13:40:54.967Z"
   },
   {
    "duration": 5,
    "start_time": "2024-09-13T14:11:10.026Z"
   },
   {
    "duration": 6,
    "start_time": "2024-09-13T14:11:43.597Z"
   },
   {
    "duration": 11,
    "start_time": "2024-09-13T14:21:14.792Z"
   },
   {
    "duration": 10,
    "start_time": "2024-09-13T14:21:41.864Z"
   },
   {
    "duration": 11,
    "start_time": "2024-09-13T14:25:35.928Z"
   },
   {
    "duration": 10,
    "start_time": "2024-09-13T14:31:32.403Z"
   },
   {
    "duration": 12,
    "start_time": "2024-09-13T14:35:36.360Z"
   },
   {
    "duration": 15,
    "start_time": "2024-09-13T14:37:46.369Z"
   },
   {
    "duration": 10,
    "start_time": "2024-09-13T14:39:12.212Z"
   },
   {
    "duration": 14,
    "start_time": "2024-09-13T14:50:01.197Z"
   },
   {
    "duration": 4,
    "start_time": "2024-09-13T14:50:11.669Z"
   },
   {
    "duration": 3,
    "start_time": "2024-09-13T14:50:14.419Z"
   },
   {
    "duration": 785,
    "start_time": "2024-09-13T14:50:17.591Z"
   },
   {
    "duration": 424,
    "start_time": "2024-09-13T14:50:18.408Z"
   },
   {
    "duration": 10,
    "start_time": "2024-09-13T14:50:20.975Z"
   },
   {
    "duration": 11,
    "start_time": "2024-09-13T14:50:22.416Z"
   },
   {
    "duration": 2,
    "start_time": "2024-09-13T14:50:23.827Z"
   },
   {
    "duration": 5,
    "start_time": "2024-09-13T14:51:59.786Z"
   },
   {
    "duration": 4,
    "start_time": "2024-09-13T14:52:17.010Z"
   },
   {
    "duration": 5,
    "start_time": "2024-09-13T14:52:27.345Z"
   },
   {
    "duration": 5,
    "start_time": "2024-09-13T14:52:39.015Z"
   },
   {
    "duration": 4,
    "start_time": "2024-09-13T14:54:13.789Z"
   },
   {
    "duration": 4,
    "start_time": "2024-09-13T14:54:29.273Z"
   },
   {
    "duration": 11,
    "start_time": "2024-09-13T14:55:34.597Z"
   },
   {
    "duration": 11,
    "start_time": "2024-09-13T14:56:17.657Z"
   },
   {
    "duration": 12,
    "start_time": "2024-09-13T14:56:37.864Z"
   },
   {
    "duration": 12,
    "start_time": "2024-09-13T14:58:14.287Z"
   },
   {
    "duration": 13,
    "start_time": "2024-09-13T14:58:41.768Z"
   },
   {
    "duration": 8,
    "start_time": "2024-09-13T14:59:37.964Z"
   },
   {
    "duration": 7,
    "start_time": "2024-09-13T15:00:29.344Z"
   },
   {
    "duration": 4,
    "start_time": "2024-09-13T15:00:38.418Z"
   },
   {
    "duration": 5,
    "start_time": "2024-09-13T15:01:08.702Z"
   },
   {
    "duration": 6,
    "start_time": "2024-09-13T15:04:09.749Z"
   },
   {
    "duration": 418,
    "start_time": "2024-09-13T15:13:14.355Z"
   },
   {
    "duration": 418,
    "start_time": "2024-09-13T15:13:59.031Z"
   },
   {
    "duration": 4,
    "start_time": "2024-09-13T15:17:54.102Z"
   },
   {
    "duration": 5,
    "start_time": "2024-09-13T15:18:07.607Z"
   },
   {
    "duration": 4,
    "start_time": "2024-09-13T15:20:32.865Z"
   },
   {
    "duration": 7,
    "start_time": "2024-09-13T15:21:20.092Z"
   },
   {
    "duration": 5,
    "start_time": "2024-09-13T15:27:54.989Z"
   },
   {
    "duration": 7,
    "start_time": "2024-09-13T15:28:32.732Z"
   },
   {
    "duration": 13,
    "start_time": "2024-09-13T15:30:36.208Z"
   },
   {
    "duration": 12,
    "start_time": "2024-09-13T15:31:34.042Z"
   },
   {
    "duration": 15,
    "start_time": "2024-09-13T15:32:02.791Z"
   },
   {
    "duration": 16,
    "start_time": "2024-09-13T15:48:39.279Z"
   },
   {
    "duration": 8,
    "start_time": "2024-09-13T15:49:08.424Z"
   },
   {
    "duration": 5,
    "start_time": "2024-09-13T15:50:04.320Z"
   },
   {
    "duration": 7,
    "start_time": "2024-09-13T15:50:15.350Z"
   },
   {
    "duration": 8,
    "start_time": "2024-09-13T15:51:12.084Z"
   },
   {
    "duration": 3,
    "start_time": "2024-09-13T16:00:48.761Z"
   },
   {
    "duration": 5,
    "start_time": "2024-09-13T16:33:26.280Z"
   },
   {
    "duration": 4,
    "start_time": "2024-09-13T16:37:06.699Z"
   },
   {
    "duration": 4,
    "start_time": "2024-09-13T16:38:40.901Z"
   },
   {
    "duration": 18,
    "start_time": "2024-09-13T16:40:50.585Z"
   },
   {
    "duration": 13,
    "start_time": "2024-09-13T16:41:55.148Z"
   },
   {
    "duration": 12,
    "start_time": "2024-09-13T16:42:07.859Z"
   },
   {
    "duration": 15,
    "start_time": "2024-09-13T16:45:28.320Z"
   },
   {
    "duration": 31,
    "start_time": "2024-09-13T16:54:57.912Z"
   },
   {
    "duration": 7,
    "start_time": "2024-09-13T16:57:01.479Z"
   },
   {
    "duration": 7,
    "start_time": "2024-09-13T16:57:31.973Z"
   },
   {
    "duration": 290,
    "start_time": "2024-09-15T11:47:09.419Z"
   },
   {
    "duration": 1052,
    "start_time": "2024-09-15T11:47:11.138Z"
   },
   {
    "duration": 14,
    "start_time": "2024-09-15T11:47:12.248Z"
   },
   {
    "duration": 11,
    "start_time": "2024-09-15T11:47:13.306Z"
   },
   {
    "duration": 9,
    "start_time": "2024-09-15T11:47:14.195Z"
   },
   {
    "duration": 10,
    "start_time": "2024-09-15T11:47:15.077Z"
   },
   {
    "duration": 25,
    "start_time": "2024-09-15T11:47:16.022Z"
   },
   {
    "duration": 43,
    "start_time": "2024-09-15T11:47:22.606Z"
   },
   {
    "duration": 11,
    "start_time": "2024-09-15T11:47:24.275Z"
   },
   {
    "duration": 55,
    "start_time": "2024-09-15T11:47:25.949Z"
   },
   {
    "duration": 268,
    "start_time": "2024-09-15T11:47:26.920Z"
   },
   {
    "duration": 47,
    "start_time": "2024-09-15T11:47:28.092Z"
   },
   {
    "duration": 11,
    "start_time": "2024-09-15T11:47:31.719Z"
   },
   {
    "duration": 3,
    "start_time": "2024-09-15T11:47:32.753Z"
   },
   {
    "duration": 19,
    "start_time": "2024-09-15T11:47:33.737Z"
   },
   {
    "duration": 17,
    "start_time": "2024-09-15T11:47:34.710Z"
   },
   {
    "duration": 4,
    "start_time": "2024-09-15T11:47:38.535Z"
   },
   {
    "duration": 3,
    "start_time": "2024-09-15T11:47:39.330Z"
   },
   {
    "duration": 4,
    "start_time": "2024-09-15T11:47:42.117Z"
   },
   {
    "duration": 3,
    "start_time": "2024-09-15T11:47:43.287Z"
   },
   {
    "duration": 736,
    "start_time": "2024-09-15T11:47:45.703Z"
   },
   {
    "duration": 395,
    "start_time": "2024-09-15T11:47:46.567Z"
   },
   {
    "duration": 9,
    "start_time": "2024-09-15T11:47:52.549Z"
   },
   {
    "duration": 10,
    "start_time": "2024-09-15T11:47:54.375Z"
   },
   {
    "duration": 5,
    "start_time": "2024-09-15T11:47:59.123Z"
   },
   {
    "duration": 6,
    "start_time": "2024-09-15T11:48:01.625Z"
   },
   {
    "duration": 6,
    "start_time": "2024-09-15T11:48:03.607Z"
   },
   {
    "duration": 15,
    "start_time": "2024-09-15T11:48:06.507Z"
   },
   {
    "duration": 19,
    "start_time": "2024-09-15T11:48:07.527Z"
   },
   {
    "duration": 15,
    "start_time": "2024-09-15T11:48:10.889Z"
   },
   {
    "duration": 28,
    "start_time": "2024-09-15T11:48:11.691Z"
   },
   {
    "duration": 8,
    "start_time": "2024-09-15T11:48:13.411Z"
   },
   {
    "duration": 184,
    "start_time": "2024-09-15T12:03:55.830Z"
   },
   {
    "duration": 12,
    "start_time": "2024-09-15T12:04:08.569Z"
   },
   {
    "duration": 12,
    "start_time": "2024-09-15T12:04:29.213Z"
   },
   {
    "duration": 25,
    "start_time": "2024-09-15T12:12:16.594Z"
   },
   {
    "duration": 30,
    "start_time": "2024-09-15T12:12:30.790Z"
   },
   {
    "duration": 27,
    "start_time": "2024-09-15T12:26:02.230Z"
   },
   {
    "duration": 95,
    "start_time": "2024-09-15T12:28:33.777Z"
   },
   {
    "duration": 131,
    "start_time": "2024-09-15T12:31:28.464Z"
   },
   {
    "duration": 346,
    "start_time": "2024-09-15T12:32:12.391Z"
   },
   {
    "duration": 22,
    "start_time": "2024-09-15T12:33:21.064Z"
   },
   {
    "duration": 129,
    "start_time": "2024-09-15T12:35:06.678Z"
   },
   {
    "duration": 111,
    "start_time": "2024-09-15T12:36:09.461Z"
   },
   {
    "duration": 87,
    "start_time": "2024-09-15T12:37:27.390Z"
   },
   {
    "duration": 87,
    "start_time": "2024-09-15T12:39:26.118Z"
   },
   {
    "duration": 13,
    "start_time": "2024-09-15T12:40:02.267Z"
   },
   {
    "duration": 128,
    "start_time": "2024-09-15T12:44:40.109Z"
   },
   {
    "duration": 510,
    "start_time": "2024-09-15T12:46:56.656Z"
   },
   {
    "duration": 130,
    "start_time": "2024-09-15T12:50:59.741Z"
   },
   {
    "duration": 227,
    "start_time": "2024-09-15T13:06:40.355Z"
   },
   {
    "duration": 13,
    "start_time": "2024-09-15T13:06:49.560Z"
   },
   {
    "duration": 13,
    "start_time": "2024-09-15T13:08:37.531Z"
   },
   {
    "duration": 13,
    "start_time": "2024-09-15T13:12:37.367Z"
   },
   {
    "duration": 12,
    "start_time": "2024-09-15T13:13:07.047Z"
   },
   {
    "duration": 145,
    "start_time": "2024-09-15T13:14:53.023Z"
   },
   {
    "duration": 141,
    "start_time": "2024-09-15T13:15:17.832Z"
   },
   {
    "duration": 13,
    "start_time": "2024-09-15T13:21:38.844Z"
   },
   {
    "duration": 13,
    "start_time": "2024-09-15T13:22:09.782Z"
   },
   {
    "duration": 215,
    "start_time": "2024-09-15T13:23:20.242Z"
   },
   {
    "duration": 237,
    "start_time": "2024-09-15T13:24:20.135Z"
   },
   {
    "duration": 257,
    "start_time": "2024-09-15T13:25:04.378Z"
   },
   {
    "duration": 230,
    "start_time": "2024-09-15T13:27:44.610Z"
   },
   {
    "duration": 257,
    "start_time": "2024-09-15T13:28:17.715Z"
   },
   {
    "duration": 232,
    "start_time": "2024-09-15T13:30:58.255Z"
   },
   {
    "duration": 247,
    "start_time": "2024-09-15T13:31:21.857Z"
   },
   {
    "duration": 14,
    "start_time": "2024-09-15T13:39:29.290Z"
   },
   {
    "duration": 38,
    "start_time": "2024-09-15T13:40:55.545Z"
   },
   {
    "duration": 23,
    "start_time": "2024-09-15T13:41:23.807Z"
   },
   {
    "duration": 25,
    "start_time": "2024-09-15T13:43:55.431Z"
   },
   {
    "duration": 37,
    "start_time": "2024-09-15T13:45:21.484Z"
   },
   {
    "duration": 50,
    "start_time": "2024-09-15T13:59:03.856Z"
   },
   {
    "duration": 35,
    "start_time": "2024-09-15T14:01:02.978Z"
   },
   {
    "duration": 34,
    "start_time": "2024-09-15T14:01:13.615Z"
   },
   {
    "duration": 36,
    "start_time": "2024-09-15T14:01:28.345Z"
   },
   {
    "duration": 27,
    "start_time": "2024-09-15T14:01:46.216Z"
   },
   {
    "duration": 31,
    "start_time": "2024-09-15T14:03:04.574Z"
   },
   {
    "duration": 39,
    "start_time": "2024-09-15T14:03:25.782Z"
   },
   {
    "duration": 467,
    "start_time": "2024-09-15T14:06:17.328Z"
   },
   {
    "duration": 388,
    "start_time": "2024-09-15T14:07:51.052Z"
   },
   {
    "duration": 232,
    "start_time": "2024-09-15T14:07:52.010Z"
   },
   {
    "duration": 65,
    "start_time": "2024-09-15T14:07:53.311Z"
   },
   {
    "duration": 425,
    "start_time": "2024-09-15T14:10:49.677Z"
   },
   {
    "duration": 433,
    "start_time": "2024-09-15T14:12:21.891Z"
   },
   {
    "duration": 203,
    "start_time": "2024-09-15T14:12:22.524Z"
   },
   {
    "duration": 69,
    "start_time": "2024-09-15T14:12:23.822Z"
   },
   {
    "duration": 418,
    "start_time": "2024-09-15T14:16:49.185Z"
   },
   {
    "duration": 1361,
    "start_time": "2024-09-15T14:18:27.359Z"
   },
   {
    "duration": 116,
    "start_time": "2024-09-15T14:19:18.438Z"
   },
   {
    "duration": 132,
    "start_time": "2024-09-15T14:31:49.536Z"
   },
   {
    "duration": 5,
    "start_time": "2024-09-15T14:45:45.237Z"
   },
   {
    "duration": 4,
    "start_time": "2024-09-15T14:47:14.048Z"
   },
   {
    "duration": 4,
    "start_time": "2024-09-15T14:51:54.666Z"
   },
   {
    "duration": 5,
    "start_time": "2024-09-15T14:53:12.204Z"
   },
   {
    "duration": 22,
    "start_time": "2024-09-15T14:53:15.236Z"
   },
   {
    "duration": 4,
    "start_time": "2024-09-15T14:54:22.619Z"
   },
   {
    "duration": 53,
    "start_time": "2024-09-15T14:55:36.785Z"
   },
   {
    "duration": 3,
    "start_time": "2024-09-15T14:56:01.445Z"
   },
   {
    "duration": 850,
    "start_time": "2024-09-15T14:56:02.869Z"
   },
   {
    "duration": 11,
    "start_time": "2024-09-15T14:56:04.840Z"
   },
   {
    "duration": 11,
    "start_time": "2024-09-15T14:56:06.039Z"
   },
   {
    "duration": 9,
    "start_time": "2024-09-15T14:56:06.783Z"
   },
   {
    "duration": 9,
    "start_time": "2024-09-15T14:56:07.615Z"
   },
   {
    "duration": 24,
    "start_time": "2024-09-15T14:56:08.353Z"
   },
   {
    "duration": 39,
    "start_time": "2024-09-15T14:56:13.688Z"
   },
   {
    "duration": 9,
    "start_time": "2024-09-15T14:56:15.603Z"
   },
   {
    "duration": 44,
    "start_time": "2024-09-15T14:56:18.515Z"
   },
   {
    "duration": 245,
    "start_time": "2024-09-15T14:56:19.394Z"
   },
   {
    "duration": 36,
    "start_time": "2024-09-15T14:56:20.535Z"
   },
   {
    "duration": 11,
    "start_time": "2024-09-15T14:56:24.177Z"
   },
   {
    "duration": 3,
    "start_time": "2024-09-15T14:56:25.047Z"
   },
   {
    "duration": 18,
    "start_time": "2024-09-15T14:56:25.900Z"
   },
   {
    "duration": 19,
    "start_time": "2024-09-15T14:56:27.475Z"
   },
   {
    "duration": 4,
    "start_time": "2024-09-15T14:56:32.213Z"
   },
   {
    "duration": 3,
    "start_time": "2024-09-15T14:56:32.992Z"
   },
   {
    "duration": 5,
    "start_time": "2024-09-15T14:56:35.375Z"
   },
   {
    "duration": 3,
    "start_time": "2024-09-15T14:56:36.354Z"
   },
   {
    "duration": 790,
    "start_time": "2024-09-15T14:56:41.659Z"
   },
   {
    "duration": 399,
    "start_time": "2024-09-15T14:56:44.138Z"
   },
   {
    "duration": 9,
    "start_time": "2024-09-15T14:56:55.817Z"
   },
   {
    "duration": 12,
    "start_time": "2024-09-15T14:57:03.730Z"
   },
   {
    "duration": 4,
    "start_time": "2024-09-15T14:57:07.560Z"
   },
   {
    "duration": 6,
    "start_time": "2024-09-15T14:57:10.237Z"
   },
   {
    "duration": 8,
    "start_time": "2024-09-15T14:57:13.580Z"
   },
   {
    "duration": 15,
    "start_time": "2024-09-15T14:57:18.064Z"
   },
   {
    "duration": 18,
    "start_time": "2024-09-15T14:57:19.859Z"
   },
   {
    "duration": 28,
    "start_time": "2024-09-15T14:57:26.939Z"
   },
   {
    "duration": 31,
    "start_time": "2024-09-15T14:57:28.291Z"
   },
   {
    "duration": 30,
    "start_time": "2024-09-15T14:57:54.175Z"
   },
   {
    "duration": 4,
    "start_time": "2024-09-15T14:58:15.786Z"
   },
   {
    "duration": 22,
    "start_time": "2024-09-15T14:58:56.167Z"
   },
   {
    "duration": 49,
    "start_time": "2024-09-15T14:58:59.114Z"
   },
   {
    "duration": 4,
    "start_time": "2024-09-15T15:01:33.465Z"
   },
   {
    "duration": 4,
    "start_time": "2024-09-15T15:05:58.829Z"
   },
   {
    "duration": 63,
    "start_time": "2024-09-15T15:09:42.523Z"
   },
   {
    "duration": 5,
    "start_time": "2024-09-15T15:10:25.269Z"
   },
   {
    "duration": 21,
    "start_time": "2024-09-15T15:11:59.848Z"
   },
   {
    "duration": 253,
    "start_time": "2024-09-15T15:17:04.051Z"
   },
   {
    "duration": 5,
    "start_time": "2024-09-15T15:17:35.035Z"
   },
   {
    "duration": 52,
    "start_time": "2024-09-15T15:19:22.392Z"
   },
   {
    "duration": 5,
    "start_time": "2024-09-15T15:19:34.125Z"
   },
   {
    "duration": 10,
    "start_time": "2024-09-15T15:21:55.636Z"
   },
   {
    "duration": 10,
    "start_time": "2024-09-15T15:22:37.102Z"
   },
   {
    "duration": 15,
    "start_time": "2024-09-15T15:24:58.352Z"
   },
   {
    "duration": 2,
    "start_time": "2024-09-15T15:25:38.037Z"
   },
   {
    "duration": 838,
    "start_time": "2024-09-15T15:25:39.001Z"
   },
   {
    "duration": 15,
    "start_time": "2024-09-15T15:25:39.947Z"
   },
   {
    "duration": 16,
    "start_time": "2024-09-15T15:25:40.698Z"
   },
   {
    "duration": 9,
    "start_time": "2024-09-15T15:25:41.418Z"
   },
   {
    "duration": 11,
    "start_time": "2024-09-15T15:25:42.127Z"
   },
   {
    "duration": 22,
    "start_time": "2024-09-15T15:25:42.927Z"
   },
   {
    "duration": 39,
    "start_time": "2024-09-15T15:25:47.672Z"
   },
   {
    "duration": 10,
    "start_time": "2024-09-15T15:25:49.477Z"
   },
   {
    "duration": 42,
    "start_time": "2024-09-15T15:25:51.075Z"
   },
   {
    "duration": 267,
    "start_time": "2024-09-15T15:25:51.933Z"
   },
   {
    "duration": 49,
    "start_time": "2024-09-15T15:25:52.899Z"
   },
   {
    "duration": 16,
    "start_time": "2024-09-15T15:25:56.586Z"
   },
   {
    "duration": 3,
    "start_time": "2024-09-15T15:25:57.400Z"
   },
   {
    "duration": 29,
    "start_time": "2024-09-15T15:25:58.283Z"
   },
   {
    "duration": 17,
    "start_time": "2024-09-15T15:26:02.681Z"
   },
   {
    "duration": 7,
    "start_time": "2024-09-15T15:26:07.208Z"
   },
   {
    "duration": 3,
    "start_time": "2024-09-15T15:26:08.137Z"
   },
   {
    "duration": 3,
    "start_time": "2024-09-15T15:26:10.385Z"
   },
   {
    "duration": 6,
    "start_time": "2024-09-15T15:26:11.295Z"
   },
   {
    "duration": 804,
    "start_time": "2024-09-15T15:26:14.047Z"
   },
   {
    "duration": 431,
    "start_time": "2024-09-15T15:26:15.678Z"
   },
   {
    "duration": 11,
    "start_time": "2024-09-15T15:26:21.244Z"
   },
   {
    "duration": 13,
    "start_time": "2024-09-15T15:26:24.191Z"
   },
   {
    "duration": 9,
    "start_time": "2024-09-15T15:26:26.348Z"
   },
   {
    "duration": 6,
    "start_time": "2024-09-15T15:26:28.118Z"
   },
   {
    "duration": 8,
    "start_time": "2024-09-15T15:26:30.199Z"
   },
   {
    "duration": 15,
    "start_time": "2024-09-15T15:26:44.924Z"
   },
   {
    "duration": 17,
    "start_time": "2024-09-15T15:26:53.960Z"
   },
   {
    "duration": 31,
    "start_time": "2024-09-15T15:27:09.398Z"
   },
   {
    "duration": 33,
    "start_time": "2024-09-15T15:27:12.003Z"
   },
   {
    "duration": 16,
    "start_time": "2024-09-15T15:27:24.016Z"
   },
   {
    "duration": 5,
    "start_time": "2024-09-15T15:28:03.189Z"
   },
   {
    "duration": 52,
    "start_time": "2024-09-15T15:28:09.358Z"
   },
   {
    "duration": 6,
    "start_time": "2024-09-15T15:31:07.227Z"
   },
   {
    "duration": 6,
    "start_time": "2024-09-15T15:33:59.519Z"
   },
   {
    "duration": 5,
    "start_time": "2024-09-15T15:42:19.499Z"
   },
   {
    "duration": 6,
    "start_time": "2024-09-15T15:48:34.856Z"
   },
   {
    "duration": 34,
    "start_time": "2024-09-15T15:48:46.845Z"
   },
   {
    "duration": 41,
    "start_time": "2024-09-15T16:40:17.281Z"
   },
   {
    "duration": 4,
    "start_time": "2024-09-15T16:40:54.842Z"
   },
   {
    "duration": 4,
    "start_time": "2024-09-15T16:41:13.784Z"
   },
   {
    "duration": 5,
    "start_time": "2024-09-15T16:44:08.198Z"
   },
   {
    "duration": 13,
    "start_time": "2024-09-15T17:04:44.314Z"
   },
   {
    "duration": 8,
    "start_time": "2024-09-15T17:06:24.806Z"
   },
   {
    "duration": 7,
    "start_time": "2024-09-15T17:15:50.593Z"
   },
   {
    "duration": 5,
    "start_time": "2024-09-15T17:24:56.716Z"
   },
   {
    "duration": 6,
    "start_time": "2024-09-15T17:25:42.255Z"
   },
   {
    "duration": 6,
    "start_time": "2024-09-15T17:28:36.203Z"
   },
   {
    "duration": 5,
    "start_time": "2024-09-15T17:35:50.243Z"
   },
   {
    "duration": 7,
    "start_time": "2024-09-15T17:36:13.197Z"
   },
   {
    "duration": 11,
    "start_time": "2024-09-15T17:39:29.080Z"
   },
   {
    "duration": 10,
    "start_time": "2024-09-15T17:41:36.847Z"
   },
   {
    "duration": 18,
    "start_time": "2024-09-15T17:43:34.349Z"
   },
   {
    "duration": 2,
    "start_time": "2024-09-15T17:45:36.148Z"
   },
   {
    "duration": 854,
    "start_time": "2024-09-15T17:45:36.806Z"
   },
   {
    "duration": 11,
    "start_time": "2024-09-15T17:45:37.662Z"
   },
   {
    "duration": 12,
    "start_time": "2024-09-15T17:45:38.054Z"
   },
   {
    "duration": 9,
    "start_time": "2024-09-15T17:45:38.803Z"
   },
   {
    "duration": 10,
    "start_time": "2024-09-15T17:45:39.405Z"
   },
   {
    "duration": 25,
    "start_time": "2024-09-15T17:45:39.992Z"
   },
   {
    "duration": 36,
    "start_time": "2024-09-15T17:45:43.701Z"
   },
   {
    "duration": 9,
    "start_time": "2024-09-15T17:45:45.012Z"
   },
   {
    "duration": 45,
    "start_time": "2024-09-15T17:45:46.219Z"
   },
   {
    "duration": 247,
    "start_time": "2024-09-15T17:45:46.785Z"
   },
   {
    "duration": 38,
    "start_time": "2024-09-15T17:45:47.426Z"
   },
   {
    "duration": 15,
    "start_time": "2024-09-15T17:45:49.304Z"
   },
   {
    "duration": 3,
    "start_time": "2024-09-15T17:45:49.877Z"
   },
   {
    "duration": 18,
    "start_time": "2024-09-15T17:45:50.486Z"
   },
   {
    "duration": 17,
    "start_time": "2024-09-15T17:45:51.093Z"
   },
   {
    "duration": 4,
    "start_time": "2024-09-15T17:45:52.962Z"
   },
   {
    "duration": 3,
    "start_time": "2024-09-15T17:45:53.557Z"
   },
   {
    "duration": 4,
    "start_time": "2024-09-15T17:45:55.433Z"
   },
   {
    "duration": 4,
    "start_time": "2024-09-15T17:45:56.113Z"
   },
   {
    "duration": 689,
    "start_time": "2024-09-15T17:45:58.842Z"
   },
   {
    "duration": 426,
    "start_time": "2024-09-15T17:46:01.065Z"
   },
   {
    "duration": 9,
    "start_time": "2024-09-15T17:46:05.103Z"
   },
   {
    "duration": 10,
    "start_time": "2024-09-15T17:46:06.652Z"
   },
   {
    "duration": 5,
    "start_time": "2024-09-15T17:46:08.072Z"
   },
   {
    "duration": 7,
    "start_time": "2024-09-15T17:46:12.025Z"
   },
   {
    "duration": 6,
    "start_time": "2024-09-15T17:46:13.431Z"
   },
   {
    "duration": 17,
    "start_time": "2024-09-15T17:46:22.087Z"
   },
   {
    "duration": 27,
    "start_time": "2024-09-15T17:46:22.106Z"
   },
   {
    "duration": 31,
    "start_time": "2024-09-15T17:46:22.134Z"
   },
   {
    "duration": 16,
    "start_time": "2024-09-15T17:46:22.168Z"
   },
   {
    "duration": 5,
    "start_time": "2024-09-15T17:46:22.185Z"
   },
   {
    "duration": 53,
    "start_time": "2024-09-15T17:46:22.223Z"
   },
   {
    "duration": 14,
    "start_time": "2024-09-15T17:46:28.179Z"
   },
   {
    "duration": 4,
    "start_time": "2024-09-15T17:46:29.082Z"
   },
   {
    "duration": 8,
    "start_time": "2024-09-15T17:46:32.690Z"
   },
   {
    "duration": 8,
    "start_time": "2024-09-15T17:46:37.284Z"
   },
   {
    "duration": 12,
    "start_time": "2024-09-15T17:46:42.164Z"
   },
   {
    "duration": 9,
    "start_time": "2024-09-15T17:53:55.988Z"
   },
   {
    "duration": 2,
    "start_time": "2024-09-15T17:54:21.261Z"
   },
   {
    "duration": 834,
    "start_time": "2024-09-15T17:54:21.897Z"
   },
   {
    "duration": 11,
    "start_time": "2024-09-15T17:54:22.733Z"
   },
   {
    "duration": 11,
    "start_time": "2024-09-15T17:54:23.124Z"
   },
   {
    "duration": 9,
    "start_time": "2024-09-15T17:54:23.695Z"
   },
   {
    "duration": 8,
    "start_time": "2024-09-15T17:54:24.271Z"
   },
   {
    "duration": 23,
    "start_time": "2024-09-15T17:54:24.846Z"
   },
   {
    "duration": 35,
    "start_time": "2024-09-15T17:54:28.188Z"
   },
   {
    "duration": 8,
    "start_time": "2024-09-15T17:54:29.375Z"
   },
   {
    "duration": 41,
    "start_time": "2024-09-15T17:54:30.497Z"
   },
   {
    "duration": 244,
    "start_time": "2024-09-15T17:54:31.071Z"
   },
   {
    "duration": 36,
    "start_time": "2024-09-15T17:54:31.635Z"
   },
   {
    "duration": 14,
    "start_time": "2024-09-15T17:54:33.495Z"
   },
   {
    "duration": 4,
    "start_time": "2024-09-15T17:54:34.089Z"
   },
   {
    "duration": 22,
    "start_time": "2024-09-15T17:54:34.691Z"
   },
   {
    "duration": 17,
    "start_time": "2024-09-15T17:54:35.274Z"
   },
   {
    "duration": 4,
    "start_time": "2024-09-15T17:54:37.097Z"
   },
   {
    "duration": 3,
    "start_time": "2024-09-15T17:54:37.664Z"
   },
   {
    "duration": 4,
    "start_time": "2024-09-15T17:54:39.390Z"
   },
   {
    "duration": 4,
    "start_time": "2024-09-15T17:54:39.947Z"
   },
   {
    "duration": 732,
    "start_time": "2024-09-15T17:54:41.737Z"
   },
   {
    "duration": 412,
    "start_time": "2024-09-15T17:54:42.471Z"
   },
   {
    "duration": 10,
    "start_time": "2024-09-15T17:54:44.614Z"
   },
   {
    "duration": 12,
    "start_time": "2024-09-15T17:54:45.718Z"
   },
   {
    "duration": 5,
    "start_time": "2024-09-15T17:54:46.889Z"
   },
   {
    "duration": 6,
    "start_time": "2024-09-15T17:54:48.013Z"
   },
   {
    "duration": 6,
    "start_time": "2024-09-15T17:54:49.149Z"
   },
   {
    "duration": 16,
    "start_time": "2024-09-15T17:54:50.776Z"
   },
   {
    "duration": 17,
    "start_time": "2024-09-15T17:54:51.327Z"
   },
   {
    "duration": 30,
    "start_time": "2024-09-15T17:54:53.045Z"
   },
   {
    "duration": 24,
    "start_time": "2024-09-15T17:54:53.633Z"
   },
   {
    "duration": 16,
    "start_time": "2024-09-15T17:54:55.172Z"
   },
   {
    "duration": 5,
    "start_time": "2024-09-15T17:54:55.780Z"
   },
   {
    "duration": 43,
    "start_time": "2024-09-15T17:54:57.004Z"
   },
   {
    "duration": 13,
    "start_time": "2024-09-15T17:55:01.214Z"
   },
   {
    "duration": 30,
    "start_time": "2024-09-15T17:55:56.324Z"
   },
   {
    "duration": 11,
    "start_time": "2024-09-15T17:56:01.269Z"
   },
   {
    "duration": 5,
    "start_time": "2024-09-15T17:56:15.896Z"
   },
   {
    "duration": 8,
    "start_time": "2024-09-15T17:56:19.719Z"
   },
   {
    "duration": 11,
    "start_time": "2024-09-15T17:56:50.015Z"
   },
   {
    "duration": 8,
    "start_time": "2024-09-15T17:57:11.956Z"
   },
   {
    "duration": 5,
    "start_time": "2024-09-15T17:58:06.762Z"
   },
   {
    "duration": 7,
    "start_time": "2024-09-15T17:59:32.974Z"
   },
   {
    "duration": 8,
    "start_time": "2024-09-15T17:59:45.238Z"
   },
   {
    "duration": 9,
    "start_time": "2024-09-15T18:00:13.502Z"
   },
   {
    "duration": 9,
    "start_time": "2024-09-15T18:00:17.270Z"
   },
   {
    "duration": 5,
    "start_time": "2024-09-15T18:00:58.333Z"
   },
   {
    "duration": 5,
    "start_time": "2024-09-15T18:01:03.501Z"
   },
   {
    "duration": 5,
    "start_time": "2024-09-15T18:20:11.443Z"
   },
   {
    "duration": 15,
    "start_time": "2024-09-15T18:21:01.696Z"
   },
   {
    "duration": 2,
    "start_time": "2024-09-15T18:21:05.301Z"
   },
   {
    "duration": 13,
    "start_time": "2024-09-15T18:24:17.947Z"
   },
   {
    "duration": 13,
    "start_time": "2024-09-15T18:26:37.729Z"
   },
   {
    "duration": 41,
    "start_time": "2024-09-15T18:28:10.332Z"
   },
   {
    "duration": 12,
    "start_time": "2024-09-15T18:28:16.766Z"
   },
   {
    "duration": 14,
    "start_time": "2024-09-15T18:28:32.415Z"
   },
   {
    "duration": 12,
    "start_time": "2024-09-15T18:31:23.260Z"
   },
   {
    "duration": 13,
    "start_time": "2024-09-15T18:32:33.050Z"
   },
   {
    "duration": 12,
    "start_time": "2024-09-15T18:32:39.522Z"
   },
   {
    "duration": 13,
    "start_time": "2024-09-15T18:32:48.486Z"
   },
   {
    "duration": 42,
    "start_time": "2024-09-15T18:33:00.155Z"
   },
   {
    "duration": 3,
    "start_time": "2024-09-15T18:33:11.849Z"
   },
   {
    "duration": 847,
    "start_time": "2024-09-15T18:33:13.729Z"
   },
   {
    "duration": 12,
    "start_time": "2024-09-15T18:33:15.035Z"
   },
   {
    "duration": 2,
    "start_time": "2024-09-15T18:33:26.412Z"
   },
   {
    "duration": 807,
    "start_time": "2024-09-15T18:33:28.082Z"
   },
   {
    "duration": 12,
    "start_time": "2024-09-15T18:33:36.534Z"
   },
   {
    "duration": 12,
    "start_time": "2024-09-15T18:33:44.809Z"
   },
   {
    "duration": 9,
    "start_time": "2024-09-15T18:33:46.824Z"
   },
   {
    "duration": 9,
    "start_time": "2024-09-15T18:33:47.735Z"
   },
   {
    "duration": 21,
    "start_time": "2024-09-15T18:33:48.792Z"
   },
   {
    "duration": 34,
    "start_time": "2024-09-15T18:33:55.084Z"
   },
   {
    "duration": 10,
    "start_time": "2024-09-15T18:33:57.837Z"
   },
   {
    "duration": 43,
    "start_time": "2024-09-15T18:34:00.430Z"
   },
   {
    "duration": 260,
    "start_time": "2024-09-15T18:34:01.262Z"
   },
   {
    "duration": 37,
    "start_time": "2024-09-15T18:34:02.538Z"
   },
   {
    "duration": 14,
    "start_time": "2024-09-15T18:34:05.303Z"
   },
   {
    "duration": 4,
    "start_time": "2024-09-15T18:34:06.137Z"
   },
   {
    "duration": 19,
    "start_time": "2024-09-15T18:34:06.910Z"
   },
   {
    "duration": 17,
    "start_time": "2024-09-15T18:34:08.125Z"
   },
   {
    "duration": 3,
    "start_time": "2024-09-15T18:34:10.847Z"
   },
   {
    "duration": 3,
    "start_time": "2024-09-15T18:34:11.585Z"
   },
   {
    "duration": 4,
    "start_time": "2024-09-15T18:34:14.230Z"
   },
   {
    "duration": 3,
    "start_time": "2024-09-15T18:34:15.130Z"
   },
   {
    "duration": 716,
    "start_time": "2024-09-15T18:34:18.054Z"
   },
   {
    "duration": 390,
    "start_time": "2024-09-15T18:34:19.173Z"
   },
   {
    "duration": 10,
    "start_time": "2024-09-15T18:34:23.528Z"
   },
   {
    "duration": 12,
    "start_time": "2024-09-15T18:34:26.356Z"
   },
   {
    "duration": 5,
    "start_time": "2024-09-15T18:34:29.663Z"
   },
   {
    "duration": 5,
    "start_time": "2024-09-15T18:34:32.256Z"
   },
   {
    "duration": 7,
    "start_time": "2024-09-15T18:34:34.914Z"
   },
   {
    "duration": 15,
    "start_time": "2024-09-15T18:34:37.414Z"
   },
   {
    "duration": 17,
    "start_time": "2024-09-15T18:34:38.318Z"
   },
   {
    "duration": 31,
    "start_time": "2024-09-15T18:34:46.223Z"
   },
   {
    "duration": 31,
    "start_time": "2024-09-15T18:34:47.766Z"
   },
   {
    "duration": 16,
    "start_time": "2024-09-15T18:34:49.944Z"
   },
   {
    "duration": 6,
    "start_time": "2024-09-15T18:34:51.321Z"
   },
   {
    "duration": 51,
    "start_time": "2024-09-15T18:34:53.235Z"
   },
   {
    "duration": 5,
    "start_time": "2024-09-15T18:34:59.944Z"
   },
   {
    "duration": 12,
    "start_time": "2024-09-15T18:35:08.058Z"
   },
   {
    "duration": 5,
    "start_time": "2024-09-15T18:35:41.305Z"
   },
   {
    "duration": 3,
    "start_time": "2024-09-15T18:35:43.912Z"
   },
   {
    "duration": 6,
    "start_time": "2024-09-15T18:38:21.187Z"
   },
   {
    "duration": 5,
    "start_time": "2024-09-15T18:38:24.859Z"
   },
   {
    "duration": 5,
    "start_time": "2024-09-15T18:39:46.793Z"
   },
   {
    "duration": 5,
    "start_time": "2024-09-15T18:39:53.094Z"
   },
   {
    "duration": 4,
    "start_time": "2024-09-15T18:55:27.669Z"
   },
   {
    "duration": 3,
    "start_time": "2024-09-15T18:59:47.046Z"
   },
   {
    "duration": 839,
    "start_time": "2024-09-15T18:59:47.856Z"
   },
   {
    "duration": 11,
    "start_time": "2024-09-15T18:59:48.697Z"
   },
   {
    "duration": 11,
    "start_time": "2024-09-15T18:59:49.493Z"
   },
   {
    "duration": 10,
    "start_time": "2024-09-15T18:59:50.231Z"
   },
   {
    "duration": 9,
    "start_time": "2024-09-15T18:59:50.880Z"
   },
   {
    "duration": 22,
    "start_time": "2024-09-15T18:59:51.567Z"
   },
   {
    "duration": 9,
    "start_time": "2024-09-15T19:00:02.367Z"
   },
   {
    "duration": 43,
    "start_time": "2024-09-15T19:00:04.566Z"
   },
   {
    "duration": 248,
    "start_time": "2024-09-15T19:00:05.363Z"
   },
   {
    "duration": 41,
    "start_time": "2024-09-15T19:00:06.121Z"
   },
   {
    "duration": 12,
    "start_time": "2024-09-15T19:00:08.812Z"
   },
   {
    "duration": 4,
    "start_time": "2024-09-15T19:00:09.608Z"
   },
   {
    "duration": 18,
    "start_time": "2024-09-15T19:00:10.401Z"
   },
   {
    "duration": 16,
    "start_time": "2024-09-15T19:00:11.259Z"
   },
   {
    "duration": 3,
    "start_time": "2024-09-15T19:00:13.663Z"
   },
   {
    "duration": 4,
    "start_time": "2024-09-15T19:00:14.341Z"
   },
   {
    "duration": 4,
    "start_time": "2024-09-15T19:00:16.208Z"
   },
   {
    "duration": 3,
    "start_time": "2024-09-15T19:00:16.793Z"
   },
   {
    "duration": 721,
    "start_time": "2024-09-15T19:00:18.774Z"
   },
   {
    "duration": 388,
    "start_time": "2024-09-15T19:00:19.614Z"
   },
   {
    "duration": 10,
    "start_time": "2024-09-15T19:00:27.889Z"
   },
   {
    "duration": 11,
    "start_time": "2024-09-15T19:00:29.339Z"
   },
   {
    "duration": 5,
    "start_time": "2024-09-15T19:00:30.835Z"
   },
   {
    "duration": 6,
    "start_time": "2024-09-15T19:00:32.892Z"
   },
   {
    "duration": 6,
    "start_time": "2024-09-15T19:00:34.765Z"
   },
   {
    "duration": 15,
    "start_time": "2024-09-15T19:00:37.587Z"
   },
   {
    "duration": 18,
    "start_time": "2024-09-15T19:00:38.656Z"
   },
   {
    "duration": 28,
    "start_time": "2024-09-15T19:00:42.164Z"
   },
   {
    "duration": 26,
    "start_time": "2024-09-15T19:00:43.066Z"
   },
   {
    "duration": 16,
    "start_time": "2024-09-15T19:00:47.077Z"
   },
   {
    "duration": 5,
    "start_time": "2024-09-15T19:00:48.868Z"
   },
   {
    "duration": 48,
    "start_time": "2024-09-15T19:00:51.307Z"
   },
   {
    "duration": 321,
    "start_time": "2024-09-15T19:01:41.244Z"
   },
   {
    "duration": 877,
    "start_time": "2024-09-15T19:01:41.568Z"
   },
   {
    "duration": 14,
    "start_time": "2024-09-15T19:01:42.447Z"
   },
   {
    "duration": 10,
    "start_time": "2024-09-15T19:01:42.463Z"
   },
   {
    "duration": 8,
    "start_time": "2024-09-15T19:01:42.475Z"
   },
   {
    "duration": 9,
    "start_time": "2024-09-15T19:01:42.484Z"
   },
   {
    "duration": 53,
    "start_time": "2024-09-15T19:01:42.495Z"
   },
   {
    "duration": 45,
    "start_time": "2024-09-15T19:01:42.549Z"
   },
   {
    "duration": 9,
    "start_time": "2024-09-15T19:01:42.596Z"
   },
   {
    "duration": 53,
    "start_time": "2024-09-15T19:01:42.627Z"
   },
   {
    "duration": 283,
    "start_time": "2024-09-15T19:01:42.682Z"
   },
   {
    "duration": 42,
    "start_time": "2024-09-15T19:01:42.967Z"
   },
   {
    "duration": 27,
    "start_time": "2024-09-15T19:01:43.011Z"
   },
   {
    "duration": 3,
    "start_time": "2024-09-15T19:01:43.040Z"
   },
   {
    "duration": 19,
    "start_time": "2024-09-15T19:01:43.045Z"
   },
   {
    "duration": 16,
    "start_time": "2024-09-15T19:01:43.065Z"
   },
   {
    "duration": 3,
    "start_time": "2024-09-15T19:01:43.083Z"
   },
   {
    "duration": 3,
    "start_time": "2024-09-15T19:01:43.088Z"
   },
   {
    "duration": 3,
    "start_time": "2024-09-15T19:01:43.125Z"
   },
   {
    "duration": 5,
    "start_time": "2024-09-15T19:01:43.129Z"
   },
   {
    "duration": 770,
    "start_time": "2024-09-15T19:01:43.135Z"
   },
   {
    "duration": 422,
    "start_time": "2024-09-15T19:01:43.908Z"
   },
   {
    "duration": 9,
    "start_time": "2024-09-15T19:01:44.331Z"
   },
   {
    "duration": 10,
    "start_time": "2024-09-15T19:01:44.341Z"
   },
   {
    "duration": 5,
    "start_time": "2024-09-15T19:01:44.353Z"
   },
   {
    "duration": 4,
    "start_time": "2024-09-15T19:01:44.361Z"
   },
   {
    "duration": 5,
    "start_time": "2024-09-15T19:01:44.367Z"
   },
   {
    "duration": 52,
    "start_time": "2024-09-15T19:01:44.376Z"
   },
   {
    "duration": 18,
    "start_time": "2024-09-15T19:01:44.429Z"
   },
   {
    "duration": 32,
    "start_time": "2024-09-15T19:01:44.449Z"
   },
   {
    "duration": 45,
    "start_time": "2024-09-15T19:01:44.483Z"
   },
   {
    "duration": 17,
    "start_time": "2024-09-15T19:01:44.530Z"
   },
   {
    "duration": 5,
    "start_time": "2024-09-15T19:01:44.548Z"
   },
   {
    "duration": 71,
    "start_time": "2024-09-15T19:01:44.555Z"
   },
   {
    "duration": 4,
    "start_time": "2024-09-15T19:01:44.628Z"
   },
   {
    "duration": 0,
    "start_time": "2024-09-15T19:01:44.633Z"
   },
   {
    "duration": 0,
    "start_time": "2024-09-15T19:01:44.635Z"
   },
   {
    "duration": 0,
    "start_time": "2024-09-15T19:01:44.636Z"
   },
   {
    "duration": 530,
    "start_time": "2024-09-15T19:16:49.162Z"
   },
   {
    "duration": 5,
    "start_time": "2024-09-15T19:17:39.566Z"
   },
   {
    "duration": 5,
    "start_time": "2024-09-15T19:20:04.555Z"
   },
   {
    "duration": 3,
    "start_time": "2024-09-15T19:20:10.557Z"
   },
   {
    "duration": 12,
    "start_time": "2024-09-15T19:21:14.191Z"
   },
   {
    "duration": 3,
    "start_time": "2024-09-15T19:21:39.827Z"
   },
   {
    "duration": 8,
    "start_time": "2024-09-15T19:23:14.788Z"
   },
   {
    "duration": 7,
    "start_time": "2024-09-15T19:23:33.949Z"
   },
   {
    "duration": 37,
    "start_time": "2024-09-15T19:24:57.586Z"
   },
   {
    "duration": 23,
    "start_time": "2024-09-15T19:27:58.508Z"
   },
   {
    "duration": 13,
    "start_time": "2024-09-15T19:56:28.372Z"
   },
   {
    "duration": 12,
    "start_time": "2024-09-15T20:10:18.106Z"
   },
   {
    "duration": 12,
    "start_time": "2024-09-15T20:11:01.776Z"
   },
   {
    "duration": 282,
    "start_time": "2024-09-16T10:16:29.238Z"
   },
   {
    "duration": 1052,
    "start_time": "2024-09-16T10:16:29.946Z"
   },
   {
    "duration": 14,
    "start_time": "2024-09-16T10:16:31.001Z"
   },
   {
    "duration": 13,
    "start_time": "2024-09-16T10:16:31.266Z"
   },
   {
    "duration": 9,
    "start_time": "2024-09-16T10:16:31.939Z"
   },
   {
    "duration": 10,
    "start_time": "2024-09-16T10:16:32.650Z"
   },
   {
    "duration": 25,
    "start_time": "2024-09-16T10:16:33.258Z"
   },
   {
    "duration": 47,
    "start_time": "2024-09-16T10:16:36.972Z"
   },
   {
    "duration": 9,
    "start_time": "2024-09-16T10:16:38.182Z"
   },
   {
    "duration": 54,
    "start_time": "2024-09-16T10:16:39.421Z"
   },
   {
    "duration": 271,
    "start_time": "2024-09-16T10:16:40.032Z"
   },
   {
    "duration": 45,
    "start_time": "2024-09-16T10:16:40.667Z"
   },
   {
    "duration": 12,
    "start_time": "2024-09-16T10:16:42.909Z"
   },
   {
    "duration": 4,
    "start_time": "2024-09-16T10:16:43.488Z"
   },
   {
    "duration": 19,
    "start_time": "2024-09-16T10:16:44.176Z"
   },
   {
    "duration": 20,
    "start_time": "2024-09-16T10:16:44.941Z"
   },
   {
    "duration": 4,
    "start_time": "2024-09-16T10:16:47.148Z"
   },
   {
    "duration": 3,
    "start_time": "2024-09-16T10:16:47.833Z"
   },
   {
    "duration": 4,
    "start_time": "2024-09-16T10:16:49.682Z"
   },
   {
    "duration": 4,
    "start_time": "2024-09-16T10:16:50.359Z"
   },
   {
    "duration": 750,
    "start_time": "2024-09-16T10:16:52.290Z"
   },
   {
    "duration": 407,
    "start_time": "2024-09-16T10:16:53.042Z"
   },
   {
    "duration": 10,
    "start_time": "2024-09-16T10:16:56.913Z"
   },
   {
    "duration": 11,
    "start_time": "2024-09-16T10:16:58.275Z"
   },
   {
    "duration": 5,
    "start_time": "2024-09-16T10:16:59.888Z"
   },
   {
    "duration": 6,
    "start_time": "2024-09-16T10:17:01.529Z"
   },
   {
    "duration": 6,
    "start_time": "2024-09-16T10:17:03.111Z"
   },
   {
    "duration": 16,
    "start_time": "2024-09-16T10:17:05.207Z"
   },
   {
    "duration": 18,
    "start_time": "2024-09-16T10:17:05.895Z"
   },
   {
    "duration": 31,
    "start_time": "2024-09-16T10:17:07.995Z"
   },
   {
    "duration": 31,
    "start_time": "2024-09-16T10:17:08.662Z"
   },
   {
    "duration": 16,
    "start_time": "2024-09-16T10:17:10.576Z"
   },
   {
    "duration": 6,
    "start_time": "2024-09-16T10:17:11.275Z"
   },
   {
    "duration": 49,
    "start_time": "2024-09-16T10:17:12.717Z"
   },
   {
    "duration": 5,
    "start_time": "2024-09-16T10:17:18.534Z"
   },
   {
    "duration": 3,
    "start_time": "2024-09-16T10:17:19.759Z"
   },
   {
    "duration": 8,
    "start_time": "2024-09-16T10:17:22.469Z"
   },
   {
    "duration": 8,
    "start_time": "2024-09-16T10:17:24.721Z"
   },
   {
    "duration": 24,
    "start_time": "2024-09-16T10:17:27.243Z"
   },
   {
    "duration": 1821,
    "start_time": "2024-09-16T10:17:31.700Z"
   },
   {
    "duration": 562,
    "start_time": "2024-09-16T10:17:33.523Z"
   },
   {
    "duration": 0,
    "start_time": "2024-09-16T10:17:34.087Z"
   },
   {
    "duration": 2,
    "start_time": "2024-09-16T10:21:21.410Z"
   },
   {
    "duration": 49,
    "start_time": "2024-09-16T10:21:24.674Z"
   },
   {
    "duration": 2,
    "start_time": "2024-09-16T10:39:41.032Z"
   },
   {
    "duration": 14,
    "start_time": "2024-09-16T10:39:43.035Z"
   },
   {
    "duration": 13,
    "start_time": "2024-09-16T10:40:32.850Z"
   },
   {
    "duration": 12,
    "start_time": "2024-09-16T10:41:46.098Z"
   },
   {
    "duration": 12,
    "start_time": "2024-09-16T10:41:59.839Z"
   },
   {
    "duration": 2,
    "start_time": "2024-09-16T10:43:17.127Z"
   },
   {
    "duration": 12,
    "start_time": "2024-09-16T10:43:17.832Z"
   },
   {
    "duration": 12,
    "start_time": "2024-09-16T11:13:34.103Z"
   },
   {
    "duration": 12,
    "start_time": "2024-09-16T11:40:10.238Z"
   },
   {
    "duration": 16,
    "start_time": "2024-09-16T11:57:35.199Z"
   },
   {
    "duration": 11,
    "start_time": "2024-09-16T13:01:08.360Z"
   },
   {
    "duration": 2,
    "start_time": "2024-09-16T13:14:14.456Z"
   },
   {
    "duration": 3,
    "start_time": "2024-09-16T13:14:49.710Z"
   },
   {
    "duration": 8,
    "start_time": "2024-09-16T13:15:30.053Z"
   },
   {
    "duration": 7,
    "start_time": "2024-09-16T13:18:23.272Z"
   },
   {
    "duration": 7,
    "start_time": "2024-09-16T13:18:48.095Z"
   },
   {
    "duration": 16,
    "start_time": "2024-09-16T13:27:33.899Z"
   },
   {
    "duration": 17,
    "start_time": "2024-09-16T13:28:00.312Z"
   },
   {
    "duration": 9,
    "start_time": "2024-09-16T13:28:28.147Z"
   },
   {
    "duration": 26,
    "start_time": "2024-09-16T13:29:02.401Z"
   },
   {
    "duration": 21,
    "start_time": "2024-09-16T13:29:38.544Z"
   },
   {
    "duration": 8,
    "start_time": "2024-09-16T13:30:07.469Z"
   },
   {
    "duration": 8,
    "start_time": "2024-09-16T13:30:41.337Z"
   },
   {
    "duration": 6,
    "start_time": "2024-09-16T13:49:35.868Z"
   },
   {
    "duration": 16,
    "start_time": "2024-09-16T13:49:48.759Z"
   },
   {
    "duration": 6,
    "start_time": "2024-09-16T13:49:54.975Z"
   },
   {
    "duration": 6,
    "start_time": "2024-09-16T13:50:13.099Z"
   },
   {
    "duration": 6,
    "start_time": "2024-09-16T13:52:24.290Z"
   },
   {
    "duration": 6,
    "start_time": "2024-09-16T13:53:56.792Z"
   },
   {
    "duration": 7,
    "start_time": "2024-09-16T13:54:14.630Z"
   },
   {
    "duration": 12,
    "start_time": "2024-09-16T14:07:09.823Z"
   },
   {
    "duration": 4,
    "start_time": "2024-09-16T14:21:39.661Z"
   },
   {
    "duration": 3,
    "start_time": "2024-09-16T14:22:26.051Z"
   },
   {
    "duration": 13,
    "start_time": "2024-09-16T14:22:56.068Z"
   },
   {
    "duration": 214,
    "start_time": "2024-09-16T14:23:31.966Z"
   },
   {
    "duration": 22,
    "start_time": "2024-09-16T14:27:59.859Z"
   },
   {
    "duration": 3,
    "start_time": "2024-09-16T14:28:07.739Z"
   },
   {
    "duration": 14,
    "start_time": "2024-09-16T14:28:10.573Z"
   },
   {
    "duration": 35,
    "start_time": "2024-09-16T14:28:58.953Z"
   },
   {
    "duration": 3,
    "start_time": "2024-09-16T14:36:43.551Z"
   },
   {
    "duration": 8,
    "start_time": "2024-09-16T14:45:45.090Z"
   },
   {
    "duration": 8,
    "start_time": "2024-09-16T14:45:59.926Z"
   },
   {
    "duration": 18,
    "start_time": "2024-09-16T14:49:58.430Z"
   },
   {
    "duration": 4,
    "start_time": "2024-09-16T14:50:51.539Z"
   },
   {
    "duration": 45,
    "start_time": "2024-09-16T14:51:27.274Z"
   },
   {
    "duration": 10,
    "start_time": "2024-09-16T14:52:21.593Z"
   },
   {
    "duration": 11,
    "start_time": "2024-09-16T14:53:59.077Z"
   },
   {
    "duration": 12,
    "start_time": "2024-09-16T15:00:40.313Z"
   },
   {
    "duration": 48,
    "start_time": "2024-09-16T15:01:03.208Z"
   },
   {
    "duration": 392,
    "start_time": "2024-09-16T15:01:52.197Z"
   },
   {
    "duration": 12,
    "start_time": "2024-09-16T15:02:08.365Z"
   },
   {
    "duration": 12,
    "start_time": "2024-09-16T15:05:08.252Z"
   },
   {
    "duration": 48,
    "start_time": "2024-09-16T15:46:59.755Z"
   },
   {
    "duration": 49,
    "start_time": "2024-09-16T15:47:48.741Z"
   },
   {
    "duration": 8,
    "start_time": "2024-09-16T16:01:14.391Z"
   },
   {
    "duration": 14,
    "start_time": "2024-09-16T16:01:53.754Z"
   },
   {
    "duration": 10,
    "start_time": "2024-09-16T16:03:38.938Z"
   },
   {
    "duration": 16,
    "start_time": "2024-09-16T16:11:15.535Z"
   },
   {
    "duration": 17,
    "start_time": "2024-09-16T16:12:14.465Z"
   },
   {
    "duration": 16,
    "start_time": "2024-09-16T16:14:43.620Z"
   },
   {
    "duration": 17,
    "start_time": "2024-09-16T16:17:34.734Z"
   },
   {
    "duration": 32,
    "start_time": "2024-09-16T18:32:05.987Z"
   },
   {
    "duration": 25,
    "start_time": "2024-09-16T18:32:35.292Z"
   },
   {
    "duration": 3,
    "start_time": "2024-09-16T18:41:03.290Z"
   },
   {
    "duration": 4,
    "start_time": "2024-09-16T18:41:25.690Z"
   },
   {
    "duration": 606,
    "start_time": "2024-09-16T18:43:18.843Z"
   },
   {
    "duration": 269,
    "start_time": "2024-09-16T18:48:05.646Z"
   },
   {
    "duration": 233,
    "start_time": "2024-09-16T18:59:43.492Z"
   },
   {
    "duration": 226,
    "start_time": "2024-09-16T19:06:04.505Z"
   },
   {
    "duration": 234,
    "start_time": "2024-09-16T19:06:33.583Z"
   },
   {
    "duration": 95,
    "start_time": "2024-09-16T19:07:48.792Z"
   },
   {
    "duration": 101,
    "start_time": "2024-09-16T19:28:02.923Z"
   },
   {
    "duration": 228,
    "start_time": "2024-09-16T19:29:32.981Z"
   },
   {
    "duration": 123,
    "start_time": "2024-09-16T19:30:17.575Z"
   },
   {
    "duration": 133,
    "start_time": "2024-09-16T19:31:49.751Z"
   },
   {
    "duration": 4090,
    "start_time": "2024-09-16T19:33:56.795Z"
   },
   {
    "duration": 588,
    "start_time": "2024-09-16T19:41:35.529Z"
   },
   {
    "duration": 40,
    "start_time": "2024-09-16T19:53:43.391Z"
   },
   {
    "duration": 124,
    "start_time": "2024-09-16T19:54:07.483Z"
   },
   {
    "duration": 18,
    "start_time": "2024-09-16T19:56:14.077Z"
   },
   {
    "duration": 18,
    "start_time": "2024-09-16T19:57:44.063Z"
   },
   {
    "duration": 41,
    "start_time": "2024-09-16T19:59:23.582Z"
   },
   {
    "duration": 18,
    "start_time": "2024-09-16T19:59:55.689Z"
   },
   {
    "duration": 4333,
    "start_time": "2024-09-16T20:00:06.566Z"
   },
   {
    "duration": 334,
    "start_time": "2024-09-16T20:00:50.659Z"
   },
   {
    "duration": 1717,
    "start_time": "2024-09-16T20:14:59.070Z"
   },
   {
    "duration": 102,
    "start_time": "2024-09-16T20:17:15.469Z"
   },
   {
    "duration": 98,
    "start_time": "2024-09-16T20:18:53.534Z"
   },
   {
    "duration": 98,
    "start_time": "2024-09-16T20:19:10.617Z"
   },
   {
    "duration": 94,
    "start_time": "2024-09-16T20:21:04.570Z"
   },
   {
    "duration": 95,
    "start_time": "2024-09-16T20:26:43.401Z"
   },
   {
    "duration": 92,
    "start_time": "2024-09-16T20:27:10.470Z"
   },
   {
    "duration": 4,
    "start_time": "2024-09-16T20:32:28.392Z"
   },
   {
    "duration": 4,
    "start_time": "2024-09-16T20:32:44.993Z"
   },
   {
    "duration": 10,
    "start_time": "2024-09-16T20:33:35.652Z"
   },
   {
    "duration": 8,
    "start_time": "2024-09-16T20:33:55.308Z"
   },
   {
    "duration": 102,
    "start_time": "2024-09-16T20:47:19.447Z"
   },
   {
    "duration": 105,
    "start_time": "2024-09-16T20:47:29.508Z"
   },
   {
    "duration": 114,
    "start_time": "2024-09-16T20:47:53.962Z"
   },
   {
    "duration": 135,
    "start_time": "2024-09-16T20:48:39.162Z"
   },
   {
    "duration": 105,
    "start_time": "2024-09-16T20:48:54.077Z"
   },
   {
    "duration": 117,
    "start_time": "2024-09-16T20:51:02.193Z"
   },
   {
    "duration": 107,
    "start_time": "2024-09-16T20:52:59.483Z"
   },
   {
    "duration": 110,
    "start_time": "2024-09-16T20:53:28.353Z"
   },
   {
    "duration": 169,
    "start_time": "2024-09-17T08:31:24.660Z"
   },
   {
    "duration": 13,
    "start_time": "2024-09-17T08:32:23.853Z"
   },
   {
    "duration": 12,
    "start_time": "2024-09-17T08:32:42.824Z"
   },
   {
    "duration": 331,
    "start_time": "2024-09-17T08:32:55.644Z"
   },
   {
    "duration": 1109,
    "start_time": "2024-09-17T08:32:56.314Z"
   },
   {
    "duration": 13,
    "start_time": "2024-09-17T08:32:57.425Z"
   },
   {
    "duration": 13,
    "start_time": "2024-09-17T08:32:57.719Z"
   },
   {
    "duration": 9,
    "start_time": "2024-09-17T08:32:58.435Z"
   },
   {
    "duration": 11,
    "start_time": "2024-09-17T08:32:59.128Z"
   },
   {
    "duration": 27,
    "start_time": "2024-09-17T08:32:59.782Z"
   },
   {
    "duration": 47,
    "start_time": "2024-09-17T08:33:06.313Z"
   },
   {
    "duration": 3,
    "start_time": "2024-09-17T08:34:16.897Z"
   },
   {
    "duration": 885,
    "start_time": "2024-09-17T08:34:17.503Z"
   },
   {
    "duration": 23,
    "start_time": "2024-09-17T08:34:18.393Z"
   },
   {
    "duration": 13,
    "start_time": "2024-09-17T08:34:18.681Z"
   },
   {
    "duration": 10,
    "start_time": "2024-09-17T08:34:19.257Z"
   },
   {
    "duration": 11,
    "start_time": "2024-09-17T08:34:19.804Z"
   },
   {
    "duration": 25,
    "start_time": "2024-09-17T08:34:20.332Z"
   },
   {
    "duration": 43,
    "start_time": "2024-09-17T08:34:23.702Z"
   },
   {
    "duration": 17,
    "start_time": "2024-09-17T08:34:25.234Z"
   },
   {
    "duration": 52,
    "start_time": "2024-09-17T08:34:26.619Z"
   },
   {
    "duration": 288,
    "start_time": "2024-09-17T08:34:27.273Z"
   },
   {
    "duration": 52,
    "start_time": "2024-09-17T08:34:28.093Z"
   },
   {
    "duration": 16,
    "start_time": "2024-09-17T08:34:29.966Z"
   },
   {
    "duration": 4,
    "start_time": "2024-09-17T08:34:30.566Z"
   },
   {
    "duration": 21,
    "start_time": "2024-09-17T08:34:31.138Z"
   },
   {
    "duration": 23,
    "start_time": "2024-09-17T08:34:31.818Z"
   },
   {
    "duration": 5,
    "start_time": "2024-09-17T08:34:34.053Z"
   },
   {
    "duration": 3,
    "start_time": "2024-09-17T08:34:34.673Z"
   },
   {
    "duration": 4,
    "start_time": "2024-09-17T08:34:36.769Z"
   },
   {
    "duration": 4,
    "start_time": "2024-09-17T08:34:37.327Z"
   },
   {
    "duration": 800,
    "start_time": "2024-09-17T08:34:39.012Z"
   },
   {
    "duration": 438,
    "start_time": "2024-09-17T08:34:39.814Z"
   },
   {
    "duration": 9,
    "start_time": "2024-09-17T08:34:42.315Z"
   },
   {
    "duration": 12,
    "start_time": "2024-09-17T08:34:43.688Z"
   },
   {
    "duration": 6,
    "start_time": "2024-09-17T08:34:45.050Z"
   },
   {
    "duration": 8,
    "start_time": "2024-09-17T08:34:51.001Z"
   },
   {
    "duration": 7,
    "start_time": "2024-09-17T08:34:52.154Z"
   },
   {
    "duration": 16,
    "start_time": "2024-09-17T08:34:53.802Z"
   },
   {
    "duration": 19,
    "start_time": "2024-09-17T08:34:54.384Z"
   },
   {
    "duration": 33,
    "start_time": "2024-09-17T08:34:56.483Z"
   },
   {
    "duration": 32,
    "start_time": "2024-09-17T08:34:57.116Z"
   },
   {
    "duration": 17,
    "start_time": "2024-09-17T08:34:58.597Z"
   },
   {
    "duration": 7,
    "start_time": "2024-09-17T08:34:59.184Z"
   },
   {
    "duration": 50,
    "start_time": "2024-09-17T08:35:00.452Z"
   },
   {
    "duration": 7,
    "start_time": "2024-09-17T08:35:03.938Z"
   },
   {
    "duration": 5,
    "start_time": "2024-09-17T08:35:04.504Z"
   },
   {
    "duration": 9,
    "start_time": "2024-09-17T08:35:06.269Z"
   },
   {
    "duration": 9,
    "start_time": "2024-09-17T08:35:08.169Z"
   },
   {
    "duration": 24,
    "start_time": "2024-09-17T08:35:10.023Z"
   },
   {
    "duration": 1904,
    "start_time": "2024-09-17T08:35:12.453Z"
   },
   {
    "duration": 14,
    "start_time": "2024-09-17T08:35:14.359Z"
   },
   {
    "duration": 36,
    "start_time": "2024-09-17T08:35:14.375Z"
   },
   {
    "duration": 673,
    "start_time": "2024-09-17T08:35:15.522Z"
   },
   {
    "duration": 28,
    "start_time": "2024-09-17T08:35:20.183Z"
   },
   {
    "duration": 420,
    "start_time": "2024-09-17T08:35:22.228Z"
   },
   {
    "duration": 113,
    "start_time": "2024-09-17T08:35:24.589Z"
   },
   {
    "duration": 452,
    "start_time": "2024-09-17T08:48:32.443Z"
   },
   {
    "duration": 176,
    "start_time": "2024-09-17T08:49:26.703Z"
   },
   {
    "duration": 178,
    "start_time": "2024-09-17T08:50:00.245Z"
   },
   {
    "duration": 104,
    "start_time": "2024-09-17T08:52:20.798Z"
   },
   {
    "duration": 138,
    "start_time": "2024-09-17T08:52:54.802Z"
   },
   {
    "duration": 145,
    "start_time": "2024-09-17T08:54:54.720Z"
   },
   {
    "duration": 7,
    "start_time": "2024-09-17T08:56:46.290Z"
   },
   {
    "duration": 142,
    "start_time": "2024-09-17T08:58:15.703Z"
   },
   {
    "duration": 233,
    "start_time": "2024-09-17T09:00:21.051Z"
   },
   {
    "duration": 116,
    "start_time": "2024-09-17T09:01:22.067Z"
   },
   {
    "duration": 128,
    "start_time": "2024-09-17T09:04:05.494Z"
   },
   {
    "duration": 131,
    "start_time": "2024-09-17T09:07:09.916Z"
   },
   {
    "duration": 199,
    "start_time": "2024-09-17T09:09:32.620Z"
   },
   {
    "duration": 1087,
    "start_time": "2024-09-17T09:09:59.637Z"
   },
   {
    "duration": 230,
    "start_time": "2024-09-17T09:11:08.066Z"
   },
   {
    "duration": 220,
    "start_time": "2024-09-17T09:16:12.149Z"
   },
   {
    "duration": 29,
    "start_time": "2024-09-17T09:17:12.262Z"
   },
   {
    "duration": 20,
    "start_time": "2024-09-17T09:19:21.745Z"
   },
   {
    "duration": 21,
    "start_time": "2024-09-17T09:19:51.355Z"
   },
   {
    "duration": 129,
    "start_time": "2024-09-17T09:20:13.005Z"
   },
   {
    "duration": 5,
    "start_time": "2024-09-17T09:29:09.509Z"
   },
   {
    "duration": 4,
    "start_time": "2024-09-17T09:29:22.745Z"
   },
   {
    "duration": 5,
    "start_time": "2024-09-17T09:29:30.534Z"
   },
   {
    "duration": 3,
    "start_time": "2024-09-17T09:30:26.692Z"
   },
   {
    "duration": 873,
    "start_time": "2024-09-17T09:30:27.399Z"
   },
   {
    "duration": 12,
    "start_time": "2024-09-17T09:30:28.275Z"
   },
   {
    "duration": 13,
    "start_time": "2024-09-17T09:30:28.706Z"
   },
   {
    "duration": 11,
    "start_time": "2024-09-17T09:30:29.474Z"
   },
   {
    "duration": 11,
    "start_time": "2024-09-17T09:30:30.139Z"
   },
   {
    "duration": 24,
    "start_time": "2024-09-17T09:30:30.767Z"
   },
   {
    "duration": 41,
    "start_time": "2024-09-17T09:30:34.145Z"
   },
   {
    "duration": 10,
    "start_time": "2024-09-17T09:30:35.419Z"
   },
   {
    "duration": 48,
    "start_time": "2024-09-17T09:30:36.698Z"
   },
   {
    "duration": 262,
    "start_time": "2024-09-17T09:30:37.349Z"
   },
   {
    "duration": 45,
    "start_time": "2024-09-17T09:30:38.039Z"
   },
   {
    "duration": 16,
    "start_time": "2024-09-17T09:30:40.051Z"
   },
   {
    "duration": 4,
    "start_time": "2024-09-17T09:30:40.653Z"
   },
   {
    "duration": 21,
    "start_time": "2024-09-17T09:30:41.228Z"
   },
   {
    "duration": 19,
    "start_time": "2024-09-17T09:30:41.901Z"
   },
   {
    "duration": 4,
    "start_time": "2024-09-17T09:30:43.638Z"
   },
   {
    "duration": 4,
    "start_time": "2024-09-17T09:30:44.200Z"
   },
   {
    "duration": 4,
    "start_time": "2024-09-17T09:30:45.970Z"
   },
   {
    "duration": 4,
    "start_time": "2024-09-17T09:30:46.501Z"
   },
   {
    "duration": 825,
    "start_time": "2024-09-17T09:30:48.164Z"
   },
   {
    "duration": 417,
    "start_time": "2024-09-17T09:30:48.992Z"
   },
   {
    "duration": 10,
    "start_time": "2024-09-17T09:30:51.021Z"
   },
   {
    "duration": 13,
    "start_time": "2024-09-17T09:30:52.190Z"
   },
   {
    "duration": 5,
    "start_time": "2024-09-17T09:30:53.292Z"
   },
   {
    "duration": 5,
    "start_time": "2024-09-17T09:30:54.384Z"
   },
   {
    "duration": 8,
    "start_time": "2024-09-17T09:30:55.812Z"
   },
   {
    "duration": 15,
    "start_time": "2024-09-17T09:30:57.447Z"
   },
   {
    "duration": 18,
    "start_time": "2024-09-17T09:30:57.952Z"
   },
   {
    "duration": 34,
    "start_time": "2024-09-17T09:30:59.533Z"
   },
   {
    "duration": 30,
    "start_time": "2024-09-17T09:31:00.061Z"
   },
   {
    "duration": 18,
    "start_time": "2024-09-17T09:31:01.195Z"
   },
   {
    "duration": 6,
    "start_time": "2024-09-17T09:31:01.748Z"
   },
   {
    "duration": 57,
    "start_time": "2024-09-17T09:31:02.949Z"
   },
   {
    "duration": 6,
    "start_time": "2024-09-17T09:31:06.223Z"
   },
   {
    "duration": 4,
    "start_time": "2024-09-17T09:31:06.761Z"
   },
   {
    "duration": 9,
    "start_time": "2024-09-17T09:31:08.614Z"
   },
   {
    "duration": 10,
    "start_time": "2024-09-17T09:31:10.426Z"
   },
   {
    "duration": 23,
    "start_time": "2024-09-17T09:31:13.288Z"
   },
   {
    "duration": 3,
    "start_time": "2024-09-17T09:31:17.349Z"
   },
   {
    "duration": 13,
    "start_time": "2024-09-17T09:31:17.933Z"
   },
   {
    "duration": 18,
    "start_time": "2024-09-17T09:31:18.677Z"
   },
   {
    "duration": 290,
    "start_time": "2024-09-17T09:31:19.336Z"
   },
   {
    "duration": 5,
    "start_time": "2024-09-17T09:31:20.774Z"
   },
   {
    "duration": 4,
    "start_time": "2024-09-17T09:31:38.555Z"
   },
   {
    "duration": 233,
    "start_time": "2024-09-17T09:32:47.260Z"
   },
   {
    "duration": 158,
    "start_time": "2024-09-17T09:33:35.605Z"
   },
   {
    "duration": 155,
    "start_time": "2024-09-17T09:34:01.808Z"
   },
   {
    "duration": 155,
    "start_time": "2024-09-17T09:34:24.053Z"
   },
   {
    "duration": 154,
    "start_time": "2024-09-17T09:35:13.490Z"
   },
   {
    "duration": 271,
    "start_time": "2024-09-17T09:36:10.014Z"
   },
   {
    "duration": 6,
    "start_time": "2024-09-17T09:43:09.042Z"
   },
   {
    "duration": 4,
    "start_time": "2024-09-17T09:43:23.303Z"
   },
   {
    "duration": 138,
    "start_time": "2024-09-17T09:43:57.520Z"
   },
   {
    "duration": 135,
    "start_time": "2024-09-17T09:44:47.214Z"
   },
   {
    "duration": 140,
    "start_time": "2024-09-17T09:46:00.317Z"
   },
   {
    "duration": 1284,
    "start_time": "2024-09-17T09:49:31.114Z"
   },
   {
    "duration": 4,
    "start_time": "2024-09-17T09:52:14.467Z"
   },
   {
    "duration": 230,
    "start_time": "2024-09-17T09:52:42.178Z"
   },
   {
    "duration": 179,
    "start_time": "2024-09-17T09:53:29.013Z"
   },
   {
    "duration": 179,
    "start_time": "2024-09-17T09:54:02.649Z"
   },
   {
    "duration": 231,
    "start_time": "2024-09-17T09:54:36.017Z"
   },
   {
    "duration": 5,
    "start_time": "2024-09-17T09:58:54.873Z"
   },
   {
    "duration": 120,
    "start_time": "2024-09-17T09:59:19.195Z"
   },
   {
    "duration": 125,
    "start_time": "2024-09-17T10:02:19.400Z"
   },
   {
    "duration": 323,
    "start_time": "2024-09-17T10:02:58.163Z"
   },
   {
    "duration": 134,
    "start_time": "2024-09-17T10:05:44.594Z"
   },
   {
    "duration": 21,
    "start_time": "2024-09-17T10:06:57.864Z"
   },
   {
    "duration": 5,
    "start_time": "2024-09-17T10:07:19.048Z"
   },
   {
    "duration": 5,
    "start_time": "2024-09-17T10:07:59.784Z"
   },
   {
    "duration": 5,
    "start_time": "2024-09-17T10:08:34.706Z"
   },
   {
    "duration": 4,
    "start_time": "2024-09-17T10:12:42.616Z"
   },
   {
    "duration": 4,
    "start_time": "2024-09-17T10:15:42.698Z"
   },
   {
    "duration": 294,
    "start_time": "2024-09-17T10:15:58.924Z"
   },
   {
    "duration": 4,
    "start_time": "2024-09-17T10:16:03.317Z"
   },
   {
    "duration": 5,
    "start_time": "2024-09-17T10:16:55.398Z"
   },
   {
    "duration": 4,
    "start_time": "2024-09-17T10:17:14.583Z"
   },
   {
    "duration": 4,
    "start_time": "2024-09-17T10:18:02.173Z"
   },
   {
    "duration": 6,
    "start_time": "2024-09-17T10:18:34.683Z"
   },
   {
    "duration": 112,
    "start_time": "2024-09-17T10:18:48.982Z"
   },
   {
    "duration": 114,
    "start_time": "2024-09-17T10:19:05.336Z"
   },
   {
    "duration": 4,
    "start_time": "2024-09-17T10:22:26.911Z"
   },
   {
    "duration": 5,
    "start_time": "2024-09-17T10:23:03.729Z"
   },
   {
    "duration": 5,
    "start_time": "2024-09-17T10:24:35.059Z"
   },
   {
    "duration": 4,
    "start_time": "2024-09-17T10:25:01.750Z"
   },
   {
    "duration": 4,
    "start_time": "2024-09-17T10:25:56.871Z"
   },
   {
    "duration": 121,
    "start_time": "2024-09-17T10:26:25.398Z"
   },
   {
    "duration": 6,
    "start_time": "2024-09-17T10:27:01.549Z"
   },
   {
    "duration": 4,
    "start_time": "2024-09-17T10:28:33.376Z"
   },
   {
    "duration": 6,
    "start_time": "2024-09-17T10:28:51.122Z"
   },
   {
    "duration": 3,
    "start_time": "2024-09-17T10:29:08.535Z"
   },
   {
    "duration": 832,
    "start_time": "2024-09-17T10:29:09.156Z"
   },
   {
    "duration": 11,
    "start_time": "2024-09-17T10:29:09.990Z"
   },
   {
    "duration": 16,
    "start_time": "2024-09-17T10:29:10.275Z"
   },
   {
    "duration": 13,
    "start_time": "2024-09-17T10:29:10.851Z"
   },
   {
    "duration": 11,
    "start_time": "2024-09-17T10:29:11.369Z"
   },
   {
    "duration": 22,
    "start_time": "2024-09-17T10:29:11.956Z"
   },
   {
    "duration": 40,
    "start_time": "2024-09-17T10:29:15.462Z"
   },
   {
    "duration": 9,
    "start_time": "2024-09-17T10:29:16.648Z"
   },
   {
    "duration": 45,
    "start_time": "2024-09-17T10:29:17.837Z"
   },
   {
    "duration": 249,
    "start_time": "2024-09-17T10:29:18.426Z"
   },
   {
    "duration": 44,
    "start_time": "2024-09-17T10:29:19.002Z"
   },
   {
    "duration": 17,
    "start_time": "2024-09-17T10:29:20.850Z"
   },
   {
    "duration": 4,
    "start_time": "2024-09-17T10:29:21.453Z"
   },
   {
    "duration": 21,
    "start_time": "2024-09-17T10:29:22.001Z"
   },
   {
    "duration": 18,
    "start_time": "2024-09-17T10:29:22.565Z"
   },
   {
    "duration": 4,
    "start_time": "2024-09-17T10:29:25.408Z"
   },
   {
    "duration": 4,
    "start_time": "2024-09-17T10:29:25.957Z"
   },
   {
    "duration": 4,
    "start_time": "2024-09-17T10:29:27.685Z"
   },
   {
    "duration": 3,
    "start_time": "2024-09-17T10:29:28.271Z"
   },
   {
    "duration": 838,
    "start_time": "2024-09-17T10:29:29.926Z"
   },
   {
    "duration": 416,
    "start_time": "2024-09-17T10:29:30.766Z"
   },
   {
    "duration": 11,
    "start_time": "2024-09-17T10:29:33.581Z"
   },
   {
    "duration": 15,
    "start_time": "2024-09-17T10:29:34.809Z"
   },
   {
    "duration": 6,
    "start_time": "2024-09-17T10:29:36.020Z"
   },
   {
    "duration": 6,
    "start_time": "2024-09-17T10:29:37.330Z"
   },
   {
    "duration": 7,
    "start_time": "2024-09-17T10:29:38.573Z"
   },
   {
    "duration": 16,
    "start_time": "2024-09-17T10:29:40.415Z"
   },
   {
    "duration": 18,
    "start_time": "2024-09-17T10:29:41.059Z"
   },
   {
    "duration": 30,
    "start_time": "2024-09-17T10:29:43.199Z"
   },
   {
    "duration": 26,
    "start_time": "2024-09-17T10:29:44.000Z"
   },
   {
    "duration": 17,
    "start_time": "2024-09-17T10:29:45.272Z"
   },
   {
    "duration": 7,
    "start_time": "2024-09-17T10:29:45.944Z"
   },
   {
    "duration": 47,
    "start_time": "2024-09-17T10:29:47.350Z"
   },
   {
    "duration": 7,
    "start_time": "2024-09-17T10:29:52.041Z"
   },
   {
    "duration": 4,
    "start_time": "2024-09-17T10:29:52.678Z"
   },
   {
    "duration": 10,
    "start_time": "2024-09-17T10:29:55.835Z"
   },
   {
    "duration": 12,
    "start_time": "2024-09-17T10:29:57.722Z"
   },
   {
    "duration": 25,
    "start_time": "2024-09-17T10:30:00.961Z"
   },
   {
    "duration": 3,
    "start_time": "2024-09-17T10:30:03.658Z"
   },
   {
    "duration": 13,
    "start_time": "2024-09-17T10:30:04.410Z"
   },
   {
    "duration": 19,
    "start_time": "2024-09-17T10:30:05.612Z"
   },
   {
    "duration": 280,
    "start_time": "2024-09-17T10:30:06.372Z"
   },
   {
    "duration": 4,
    "start_time": "2024-09-17T10:30:12.191Z"
   },
   {
    "duration": 315,
    "start_time": "2024-09-17T10:30:13.683Z"
   },
   {
    "duration": 5,
    "start_time": "2024-09-17T10:32:34.768Z"
   },
   {
    "duration": 5,
    "start_time": "2024-09-17T10:33:34.714Z"
   },
   {
    "duration": 115,
    "start_time": "2024-09-17T10:33:49.697Z"
   },
   {
    "duration": 110,
    "start_time": "2024-09-17T10:34:07.892Z"
   },
   {
    "duration": 124,
    "start_time": "2024-09-17T10:36:07.889Z"
   },
   {
    "duration": 1306,
    "start_time": "2024-09-17T10:36:54.057Z"
   },
   {
    "duration": 346,
    "start_time": "2024-09-17T10:37:04.668Z"
   },
   {
    "duration": 110,
    "start_time": "2024-09-17T10:37:28.745Z"
   },
   {
    "duration": 6,
    "start_time": "2024-09-17T10:38:40.050Z"
   },
   {
    "duration": 4,
    "start_time": "2024-09-17T10:39:15.306Z"
   },
   {
    "duration": 716,
    "start_time": "2024-09-17T10:45:02.903Z"
   },
   {
    "duration": 341,
    "start_time": "2024-09-17T10:46:44.652Z"
   },
   {
    "duration": 472,
    "start_time": "2024-09-17T10:52:58.446Z"
   },
   {
    "duration": 241,
    "start_time": "2024-09-17T10:53:46.740Z"
   },
   {
    "duration": 319,
    "start_time": "2024-09-17T10:53:59.318Z"
   },
   {
    "duration": 6,
    "start_time": "2024-09-17T11:08:50.406Z"
   },
   {
    "duration": 4,
    "start_time": "2024-09-17T11:09:07.902Z"
   },
   {
    "duration": 4,
    "start_time": "2024-09-17T11:09:17.775Z"
   },
   {
    "duration": 4,
    "start_time": "2024-09-17T11:11:54.692Z"
   },
   {
    "duration": 4,
    "start_time": "2024-09-17T11:12:02.734Z"
   },
   {
    "duration": 4,
    "start_time": "2024-09-17T11:12:16.690Z"
   },
   {
    "duration": 5,
    "start_time": "2024-09-17T11:13:00.838Z"
   },
   {
    "duration": 3,
    "start_time": "2024-09-17T11:13:19.369Z"
   },
   {
    "duration": 863,
    "start_time": "2024-09-17T11:13:19.974Z"
   },
   {
    "duration": 12,
    "start_time": "2024-09-17T11:13:20.839Z"
   },
   {
    "duration": 13,
    "start_time": "2024-09-17T11:13:21.064Z"
   },
   {
    "duration": 11,
    "start_time": "2024-09-17T11:13:21.548Z"
   },
   {
    "duration": 10,
    "start_time": "2024-09-17T11:13:21.998Z"
   },
   {
    "duration": 31,
    "start_time": "2024-09-17T11:13:22.499Z"
   },
   {
    "duration": 44,
    "start_time": "2024-09-17T11:13:25.000Z"
   },
   {
    "duration": 9,
    "start_time": "2024-09-17T11:13:25.820Z"
   },
   {
    "duration": 46,
    "start_time": "2024-09-17T11:13:26.618Z"
   },
   {
    "duration": 269,
    "start_time": "2024-09-17T11:13:27.031Z"
   },
   {
    "duration": 38,
    "start_time": "2024-09-17T11:13:27.562Z"
   },
   {
    "duration": 16,
    "start_time": "2024-09-17T11:13:28.858Z"
   },
   {
    "duration": 4,
    "start_time": "2024-09-17T11:13:29.369Z"
   },
   {
    "duration": 21,
    "start_time": "2024-09-17T11:13:29.725Z"
   },
   {
    "duration": 21,
    "start_time": "2024-09-17T11:13:30.127Z"
   },
   {
    "duration": 5,
    "start_time": "2024-09-17T11:13:31.306Z"
   },
   {
    "duration": 4,
    "start_time": "2024-09-17T11:13:31.689Z"
   },
   {
    "duration": 5,
    "start_time": "2024-09-17T11:13:33.048Z"
   },
   {
    "duration": 4,
    "start_time": "2024-09-17T11:13:33.455Z"
   },
   {
    "duration": 810,
    "start_time": "2024-09-17T11:13:34.918Z"
   },
   {
    "duration": 433,
    "start_time": "2024-09-17T11:13:35.731Z"
   },
   {
    "duration": 15,
    "start_time": "2024-09-17T11:13:38.616Z"
   },
   {
    "duration": 12,
    "start_time": "2024-09-17T11:13:39.396Z"
   },
   {
    "duration": 6,
    "start_time": "2024-09-17T11:13:40.152Z"
   },
   {
    "duration": 6,
    "start_time": "2024-09-17T11:13:40.815Z"
   },
   {
    "duration": 8,
    "start_time": "2024-09-17T11:13:41.558Z"
   },
   {
    "duration": 16,
    "start_time": "2024-09-17T11:13:42.700Z"
   },
   {
    "duration": 18,
    "start_time": "2024-09-17T11:13:43.378Z"
   },
   {
    "duration": 40,
    "start_time": "2024-09-17T11:13:44.773Z"
   },
   {
    "duration": 25,
    "start_time": "2024-09-17T11:13:45.185Z"
   },
   {
    "duration": 19,
    "start_time": "2024-09-17T11:13:46.137Z"
   },
   {
    "duration": 7,
    "start_time": "2024-09-17T11:13:46.678Z"
   },
   {
    "duration": 71,
    "start_time": "2024-09-17T11:13:47.630Z"
   },
   {
    "duration": 7,
    "start_time": "2024-09-17T11:13:50.098Z"
   },
   {
    "duration": 4,
    "start_time": "2024-09-17T11:13:50.469Z"
   },
   {
    "duration": 9,
    "start_time": "2024-09-17T11:13:51.509Z"
   },
   {
    "duration": 9,
    "start_time": "2024-09-17T11:13:52.892Z"
   },
   {
    "duration": 23,
    "start_time": "2024-09-17T11:13:54.118Z"
   },
   {
    "duration": 2,
    "start_time": "2024-09-17T11:13:56.046Z"
   },
   {
    "duration": 13,
    "start_time": "2024-09-17T11:13:56.437Z"
   },
   {
    "duration": 18,
    "start_time": "2024-09-17T11:13:56.944Z"
   },
   {
    "duration": 287,
    "start_time": "2024-09-17T11:13:57.505Z"
   },
   {
    "duration": 120,
    "start_time": "2024-09-17T11:13:59.730Z"
   },
   {
    "duration": 341,
    "start_time": "2024-09-17T11:14:00.332Z"
   },
   {
    "duration": 113,
    "start_time": "2024-09-17T11:14:03.365Z"
   },
   {
    "duration": 5,
    "start_time": "2024-09-17T11:14:07.030Z"
   },
   {
    "duration": 208,
    "start_time": "2024-09-17T11:15:12.989Z"
   },
   {
    "duration": 259,
    "start_time": "2024-09-17T11:19:54.501Z"
   },
   {
    "duration": 240,
    "start_time": "2024-09-17T11:21:06.600Z"
   },
   {
    "duration": 213,
    "start_time": "2024-09-17T11:23:00.270Z"
   },
   {
    "duration": 302,
    "start_time": "2024-09-17T11:52:20.660Z"
   },
   {
    "duration": 237,
    "start_time": "2024-09-17T11:54:33.794Z"
   },
   {
    "duration": 223,
    "start_time": "2024-09-17T11:57:07.773Z"
   },
   {
    "duration": 951,
    "start_time": "2024-09-17T11:57:51.786Z"
   },
   {
    "duration": 212,
    "start_time": "2024-09-17T11:59:24.541Z"
   },
   {
    "duration": 219,
    "start_time": "2024-09-17T11:59:40.917Z"
   },
   {
    "duration": 246,
    "start_time": "2024-09-17T12:01:20.974Z"
   },
   {
    "duration": 735,
    "start_time": "2024-09-17T13:08:09.611Z"
   },
   {
    "duration": 834,
    "start_time": "2024-09-17T13:08:21.017Z"
   },
   {
    "duration": 5,
    "start_time": "2024-09-17T13:11:16.263Z"
   },
   {
    "duration": 6,
    "start_time": "2024-09-17T13:16:46.131Z"
   },
   {
    "duration": 4,
    "start_time": "2024-09-17T13:17:08.956Z"
   },
   {
    "duration": 4,
    "start_time": "2024-09-17T13:17:27.565Z"
   },
   {
    "duration": 1281,
    "start_time": "2024-09-17T13:19:36.483Z"
   },
   {
    "duration": 741,
    "start_time": "2024-09-17T13:23:34.952Z"
   },
   {
    "duration": 1229,
    "start_time": "2024-09-17T13:24:05.581Z"
   },
   {
    "duration": 1204,
    "start_time": "2024-09-17T13:24:26.891Z"
   },
   {
    "duration": 255,
    "start_time": "2024-09-17T13:26:59.396Z"
   },
   {
    "duration": 456,
    "start_time": "2024-09-17T13:30:11.211Z"
   },
   {
    "duration": 278,
    "start_time": "2024-09-17T13:31:15.067Z"
   },
   {
    "duration": 371,
    "start_time": "2024-09-17T13:31:49.577Z"
   },
   {
    "duration": 383,
    "start_time": "2024-09-17T13:32:06.769Z"
   },
   {
    "duration": 404,
    "start_time": "2024-09-17T13:32:27.505Z"
   },
   {
    "duration": 411,
    "start_time": "2024-09-17T13:32:48.812Z"
   },
   {
    "duration": 263,
    "start_time": "2024-09-17T13:33:07.490Z"
   },
   {
    "duration": 233,
    "start_time": "2024-09-17T13:33:31.724Z"
   },
   {
    "duration": 3110,
    "start_time": "2024-09-17T13:35:28.225Z"
   },
   {
    "duration": 6,
    "start_time": "2024-09-17T13:38:00.222Z"
   },
   {
    "duration": 4,
    "start_time": "2024-09-17T13:38:30.858Z"
   },
   {
    "duration": 240,
    "start_time": "2024-09-17T13:38:34.675Z"
   },
   {
    "duration": 653,
    "start_time": "2024-09-17T13:38:58.835Z"
   },
   {
    "duration": 5,
    "start_time": "2024-09-17T13:39:02.615Z"
   },
   {
    "duration": 232,
    "start_time": "2024-09-17T13:39:05.403Z"
   },
   {
    "duration": 3083,
    "start_time": "2024-09-17T13:40:41.445Z"
   },
   {
    "duration": 3031,
    "start_time": "2024-09-17T13:40:52.299Z"
   },
   {
    "duration": 488,
    "start_time": "2024-09-17T13:41:38.306Z"
   },
   {
    "duration": 629,
    "start_time": "2024-09-17T13:42:35.532Z"
   },
   {
    "duration": 306,
    "start_time": "2024-09-17T13:43:23.961Z"
   },
   {
    "duration": 1070,
    "start_time": "2024-09-17T13:43:24.663Z"
   },
   {
    "duration": 15,
    "start_time": "2024-09-17T13:43:25.735Z"
   },
   {
    "duration": 11,
    "start_time": "2024-09-17T13:43:25.752Z"
   },
   {
    "duration": 9,
    "start_time": "2024-09-17T13:43:26.246Z"
   },
   {
    "duration": 11,
    "start_time": "2024-09-17T13:43:26.730Z"
   },
   {
    "duration": 25,
    "start_time": "2024-09-17T13:43:27.223Z"
   },
   {
    "duration": 46,
    "start_time": "2024-09-17T13:43:30.153Z"
   },
   {
    "duration": 10,
    "start_time": "2024-09-17T13:43:31.100Z"
   },
   {
    "duration": 59,
    "start_time": "2024-09-17T13:43:32.042Z"
   },
   {
    "duration": 272,
    "start_time": "2024-09-17T13:43:32.530Z"
   },
   {
    "duration": 46,
    "start_time": "2024-09-17T13:43:33.030Z"
   },
   {
    "duration": 12,
    "start_time": "2024-09-17T13:43:34.556Z"
   },
   {
    "duration": 3,
    "start_time": "2024-09-17T13:43:34.989Z"
   },
   {
    "duration": 20,
    "start_time": "2024-09-17T13:43:35.467Z"
   },
   {
    "duration": 21,
    "start_time": "2024-09-17T13:43:35.965Z"
   },
   {
    "duration": 4,
    "start_time": "2024-09-17T13:43:37.472Z"
   },
   {
    "duration": 4,
    "start_time": "2024-09-17T13:43:37.960Z"
   },
   {
    "duration": 4,
    "start_time": "2024-09-17T13:43:39.536Z"
   },
   {
    "duration": 4,
    "start_time": "2024-09-17T13:43:40.096Z"
   },
   {
    "duration": 755,
    "start_time": "2024-09-17T13:43:41.608Z"
   },
   {
    "duration": 409,
    "start_time": "2024-09-17T13:43:42.538Z"
   },
   {
    "duration": 10,
    "start_time": "2024-09-17T13:43:44.751Z"
   },
   {
    "duration": 12,
    "start_time": "2024-09-17T13:43:45.768Z"
   },
   {
    "duration": 6,
    "start_time": "2024-09-17T13:43:46.869Z"
   },
   {
    "duration": 5,
    "start_time": "2024-09-17T13:43:47.953Z"
   },
   {
    "duration": 6,
    "start_time": "2024-09-17T13:43:49.071Z"
   },
   {
    "duration": 16,
    "start_time": "2024-09-17T13:43:51.022Z"
   },
   {
    "duration": 17,
    "start_time": "2024-09-17T13:43:52.693Z"
   },
   {
    "duration": 35,
    "start_time": "2024-09-17T13:43:54.632Z"
   },
   {
    "duration": 29,
    "start_time": "2024-09-17T13:43:55.168Z"
   },
   {
    "duration": 17,
    "start_time": "2024-09-17T13:43:56.353Z"
   },
   {
    "duration": 6,
    "start_time": "2024-09-17T13:43:56.898Z"
   },
   {
    "duration": 49,
    "start_time": "2024-09-17T13:43:58.206Z"
   },
   {
    "duration": 6,
    "start_time": "2024-09-17T13:44:02.036Z"
   },
   {
    "duration": 5,
    "start_time": "2024-09-17T13:44:02.707Z"
   },
   {
    "duration": 10,
    "start_time": "2024-09-17T13:44:05.156Z"
   },
   {
    "duration": 10,
    "start_time": "2024-09-17T13:44:08.766Z"
   },
   {
    "duration": 24,
    "start_time": "2024-09-17T13:44:10.979Z"
   },
   {
    "duration": 135,
    "start_time": "2024-09-17T13:44:13.889Z"
   },
   {
    "duration": 12,
    "start_time": "2024-09-17T13:44:14.619Z"
   },
   {
    "duration": 52,
    "start_time": "2024-09-17T13:44:15.371Z"
   },
   {
    "duration": 628,
    "start_time": "2024-09-17T13:44:16.041Z"
   },
   {
    "duration": 130,
    "start_time": "2024-09-17T13:44:18.746Z"
   },
   {
    "duration": 353,
    "start_time": "2024-09-17T13:44:19.273Z"
   },
   {
    "duration": 114,
    "start_time": "2024-09-17T13:44:21.281Z"
   },
   {
    "duration": 736,
    "start_time": "2024-09-17T13:44:26.273Z"
   },
   {
    "duration": 3293,
    "start_time": "2024-09-17T13:44:27.011Z"
   },
   {
    "duration": 254,
    "start_time": "2024-09-17T13:44:30.310Z"
   },
   {
    "duration": 1224,
    "start_time": "2024-09-17T13:45:47.187Z"
   },
   {
    "duration": 1368,
    "start_time": "2024-09-17T13:46:07.442Z"
   },
   {
    "duration": 1100,
    "start_time": "2024-09-17T13:47:35.299Z"
   },
   {
    "duration": 1081,
    "start_time": "2024-09-17T13:47:41.952Z"
   },
   {
    "duration": 14,
    "start_time": "2024-09-17T13:49:17.342Z"
   },
   {
    "duration": 236,
    "start_time": "2024-09-17T13:49:19.092Z"
   },
   {
    "duration": 5,
    "start_time": "2024-09-17T13:50:34.478Z"
   },
   {
    "duration": 6,
    "start_time": "2024-09-17T13:51:00.875Z"
   },
   {
    "duration": 1476,
    "start_time": "2024-09-17T13:52:26.002Z"
   },
   {
    "duration": 1473,
    "start_time": "2024-09-17T13:52:50.272Z"
   },
   {
    "duration": 5,
    "start_time": "2024-09-17T13:53:38.415Z"
   },
   {
    "duration": 3,
    "start_time": "2024-09-17T13:54:03.409Z"
   },
   {
    "duration": 4,
    "start_time": "2024-09-17T13:54:21.343Z"
   },
   {
    "duration": 144,
    "start_time": "2024-09-17T13:54:32.853Z"
   },
   {
    "duration": 1404,
    "start_time": "2024-09-17T13:55:05.986Z"
   },
   {
    "duration": 1474,
    "start_time": "2024-09-17T13:55:35.784Z"
   },
   {
    "duration": 15,
    "start_time": "2024-09-17T13:58:24.996Z"
   },
   {
    "duration": 6,
    "start_time": "2024-09-17T14:02:52.369Z"
   },
   {
    "duration": 4,
    "start_time": "2024-09-17T14:03:38.826Z"
   },
   {
    "duration": 4,
    "start_time": "2024-09-17T14:03:57.334Z"
   },
   {
    "duration": 4,
    "start_time": "2024-09-17T14:04:16.082Z"
   },
   {
    "duration": 8321,
    "start_time": "2024-09-17T14:05:12.006Z"
   },
   {
    "duration": 0,
    "start_time": "2024-09-17T14:05:37.885Z"
   },
   {
    "duration": 668,
    "start_time": "2024-09-17T14:05:43.464Z"
   },
   {
    "duration": 7863,
    "start_time": "2024-09-17T14:05:48.253Z"
   },
   {
    "duration": 0,
    "start_time": "2024-09-17T14:05:56.118Z"
   },
   {
    "duration": 7987,
    "start_time": "2024-09-17T14:06:08.698Z"
   },
   {
    "duration": 91,
    "start_time": "2024-09-17T14:13:32.349Z"
   },
   {
    "duration": 630,
    "start_time": "2024-09-17T14:14:21.529Z"
   },
   {
    "duration": 8031,
    "start_time": "2024-09-17T14:14:36.578Z"
   },
   {
    "duration": 101,
    "start_time": "2024-09-17T14:14:44.612Z"
   },
   {
    "duration": 1316,
    "start_time": "2024-09-17T14:17:16.557Z"
   },
   {
    "duration": 6,
    "start_time": "2024-09-17T14:18:42.109Z"
   },
   {
    "duration": 191,
    "start_time": "2024-09-17T14:18:56.421Z"
   },
   {
    "duration": 136,
    "start_time": "2024-09-17T14:19:16.928Z"
   },
   {
    "duration": 9,
    "start_time": "2024-09-17T14:22:17.333Z"
   },
   {
    "duration": 4,
    "start_time": "2024-09-17T14:22:40.634Z"
   },
   {
    "duration": 8,
    "start_time": "2024-09-17T14:23:04.315Z"
   },
   {
    "duration": 4,
    "start_time": "2024-09-17T14:23:41.227Z"
   },
   {
    "duration": 5,
    "start_time": "2024-09-17T14:23:47.527Z"
   },
   {
    "duration": 151,
    "start_time": "2024-09-17T14:36:16.607Z"
   },
   {
    "duration": 5,
    "start_time": "2024-09-17T14:44:50.607Z"
   },
   {
    "duration": 4,
    "start_time": "2024-09-17T14:46:01.974Z"
   },
   {
    "duration": 182,
    "start_time": "2024-09-17T14:48:11.591Z"
   },
   {
    "duration": 4,
    "start_time": "2024-09-17T15:13:53.591Z"
   },
   {
    "duration": 4,
    "start_time": "2024-09-17T15:14:15.297Z"
   },
   {
    "duration": 136,
    "start_time": "2024-09-17T15:14:29.597Z"
   },
   {
    "duration": 138,
    "start_time": "2024-09-17T15:14:46.581Z"
   },
   {
    "duration": 2713,
    "start_time": "2024-09-17T15:15:45.773Z"
   },
   {
    "duration": 107,
    "start_time": "2024-09-17T15:30:49.010Z"
   },
   {
    "duration": 93,
    "start_time": "2024-09-17T15:31:29.175Z"
   },
   {
    "duration": 96,
    "start_time": "2024-09-17T15:31:48.773Z"
   },
   {
    "duration": 5,
    "start_time": "2024-09-17T15:36:50.145Z"
   },
   {
    "duration": 89,
    "start_time": "2024-09-17T15:40:02.335Z"
   },
   {
    "duration": 152,
    "start_time": "2024-09-17T15:40:19.337Z"
   },
   {
    "duration": 106,
    "start_time": "2024-09-17T15:45:23.159Z"
   },
   {
    "duration": 17,
    "start_time": "2024-09-17T15:46:33.470Z"
   },
   {
    "duration": 16,
    "start_time": "2024-09-17T15:48:23.959Z"
   },
   {
    "duration": 14,
    "start_time": "2024-09-17T15:50:01.209Z"
   },
   {
    "duration": 81,
    "start_time": "2024-09-17T15:51:08.960Z"
   },
   {
    "duration": 15,
    "start_time": "2024-09-17T15:52:44.481Z"
   },
   {
    "duration": 15,
    "start_time": "2024-09-17T16:00:04.204Z"
   },
   {
    "duration": 4,
    "start_time": "2024-09-17T16:01:45.777Z"
   },
   {
    "duration": 4,
    "start_time": "2024-09-17T16:01:57.046Z"
   },
   {
    "duration": 14,
    "start_time": "2024-09-17T16:04:44.528Z"
   },
   {
    "duration": 14,
    "start_time": "2024-09-17T16:05:32.004Z"
   },
   {
    "duration": 3,
    "start_time": "2024-09-17T16:09:07.586Z"
   },
   {
    "duration": 14,
    "start_time": "2024-09-17T16:10:42.181Z"
   },
   {
    "duration": 15,
    "start_time": "2024-09-17T16:19:58.523Z"
   },
   {
    "duration": 106,
    "start_time": "2024-09-17T16:20:56.915Z"
   },
   {
    "duration": 76,
    "start_time": "2024-09-17T16:21:30.503Z"
   },
   {
    "duration": 33,
    "start_time": "2024-09-17T16:23:14.207Z"
   },
   {
    "duration": 71,
    "start_time": "2024-09-17T16:24:49.404Z"
   },
   {
    "duration": 77,
    "start_time": "2024-09-17T16:25:04.690Z"
   },
   {
    "duration": 109,
    "start_time": "2024-09-17T16:25:51.443Z"
   },
   {
    "duration": 33,
    "start_time": "2024-09-17T16:27:49.629Z"
   },
   {
    "duration": 79,
    "start_time": "2024-09-17T16:31:23.598Z"
   },
   {
    "duration": 109,
    "start_time": "2024-09-17T16:31:29.433Z"
   },
   {
    "duration": 11,
    "start_time": "2024-09-17T16:34:35.387Z"
   },
   {
    "duration": 16,
    "start_time": "2024-09-17T16:34:58.520Z"
   },
   {
    "duration": 110,
    "start_time": "2024-09-17T16:36:22.777Z"
   },
   {
    "duration": 16,
    "start_time": "2024-09-17T16:36:28.190Z"
   },
   {
    "duration": 109,
    "start_time": "2024-09-17T16:38:26.556Z"
   },
   {
    "duration": 15,
    "start_time": "2024-09-17T16:38:37.108Z"
   },
   {
    "duration": 15,
    "start_time": "2024-09-17T16:39:29.532Z"
   },
   {
    "duration": 16,
    "start_time": "2024-09-17T16:40:13.726Z"
   },
   {
    "duration": 9,
    "start_time": "2024-09-17T16:43:15.428Z"
   },
   {
    "duration": 5,
    "start_time": "2024-09-17T16:43:29.769Z"
   },
   {
    "duration": 13,
    "start_time": "2024-09-17T16:44:29.222Z"
   },
   {
    "duration": 4,
    "start_time": "2024-09-17T16:46:34.105Z"
   },
   {
    "duration": 6,
    "start_time": "2024-09-17T16:47:50.018Z"
   },
   {
    "duration": 4,
    "start_time": "2024-09-17T16:48:13.297Z"
   },
   {
    "duration": 4,
    "start_time": "2024-09-17T16:48:18.974Z"
   },
   {
    "duration": 4,
    "start_time": "2024-09-17T16:49:23.628Z"
   },
   {
    "duration": 3,
    "start_time": "2024-09-17T19:57:28.614Z"
   },
   {
    "duration": 876,
    "start_time": "2024-09-17T19:57:29.239Z"
   },
   {
    "duration": 13,
    "start_time": "2024-09-17T19:57:30.117Z"
   },
   {
    "duration": 12,
    "start_time": "2024-09-17T19:57:30.454Z"
   },
   {
    "duration": 10,
    "start_time": "2024-09-17T19:57:31.004Z"
   },
   {
    "duration": 10,
    "start_time": "2024-09-17T19:57:31.547Z"
   },
   {
    "duration": 23,
    "start_time": "2024-09-17T19:57:32.094Z"
   },
   {
    "duration": 42,
    "start_time": "2024-09-17T19:57:35.201Z"
   },
   {
    "duration": 9,
    "start_time": "2024-09-17T19:57:36.308Z"
   },
   {
    "duration": 45,
    "start_time": "2024-09-17T19:57:37.465Z"
   },
   {
    "duration": 263,
    "start_time": "2024-09-17T19:57:38.040Z"
   },
   {
    "duration": 42,
    "start_time": "2024-09-17T19:57:38.587Z"
   },
   {
    "duration": 16,
    "start_time": "2024-09-17T19:57:40.305Z"
   },
   {
    "duration": 4,
    "start_time": "2024-09-17T19:57:40.819Z"
   },
   {
    "duration": 22,
    "start_time": "2024-09-17T19:57:41.321Z"
   },
   {
    "duration": 20,
    "start_time": "2024-09-17T19:57:41.883Z"
   },
   {
    "duration": 5,
    "start_time": "2024-09-17T19:57:44.040Z"
   },
   {
    "duration": 4,
    "start_time": "2024-09-17T19:57:44.626Z"
   },
   {
    "duration": 5,
    "start_time": "2024-09-17T19:57:46.376Z"
   },
   {
    "duration": 4,
    "start_time": "2024-09-17T19:57:47.002Z"
   },
   {
    "duration": 820,
    "start_time": "2024-09-17T19:57:48.737Z"
   },
   {
    "duration": 411,
    "start_time": "2024-09-17T19:57:49.560Z"
   },
   {
    "duration": 10,
    "start_time": "2024-09-17T19:57:52.500Z"
   },
   {
    "duration": 13,
    "start_time": "2024-09-17T19:57:53.989Z"
   },
   {
    "duration": 6,
    "start_time": "2024-09-17T19:57:55.294Z"
   },
   {
    "duration": 6,
    "start_time": "2024-09-17T19:57:56.540Z"
   },
   {
    "duration": 7,
    "start_time": "2024-09-17T19:57:57.794Z"
   },
   {
    "duration": 17,
    "start_time": "2024-09-17T19:57:59.492Z"
   },
   {
    "duration": 18,
    "start_time": "2024-09-17T19:58:00.079Z"
   },
   {
    "duration": 30,
    "start_time": "2024-09-17T19:58:01.887Z"
   },
   {
    "duration": 24,
    "start_time": "2024-09-17T19:58:02.491Z"
   },
   {
    "duration": 17,
    "start_time": "2024-09-17T19:58:03.687Z"
   },
   {
    "duration": 6,
    "start_time": "2024-09-17T19:58:04.299Z"
   },
   {
    "duration": 45,
    "start_time": "2024-09-17T19:58:05.530Z"
   },
   {
    "duration": 6,
    "start_time": "2024-09-17T19:58:09.316Z"
   },
   {
    "duration": 4,
    "start_time": "2024-09-17T19:58:09.916Z"
   },
   {
    "duration": 9,
    "start_time": "2024-09-17T19:58:12.090Z"
   },
   {
    "duration": 10,
    "start_time": "2024-09-17T19:58:14.098Z"
   },
   {
    "duration": 23,
    "start_time": "2024-09-17T19:58:16.069Z"
   },
   {
    "duration": 3,
    "start_time": "2024-09-17T19:58:18.841Z"
   },
   {
    "duration": 12,
    "start_time": "2024-09-17T19:58:19.526Z"
   },
   {
    "duration": 19,
    "start_time": "2024-09-17T19:58:20.150Z"
   },
   {
    "duration": 280,
    "start_time": "2024-09-17T19:58:21.176Z"
   },
   {
    "duration": 116,
    "start_time": "2024-09-17T19:58:24.151Z"
   },
   {
    "duration": 496,
    "start_time": "2024-09-17T19:58:24.977Z"
   },
   {
    "duration": 129,
    "start_time": "2024-09-17T19:58:27.271Z"
   },
   {
    "duration": 715,
    "start_time": "2024-09-17T19:58:34.422Z"
   },
   {
    "duration": 1310,
    "start_time": "2024-09-17T19:58:46.650Z"
   },
   {
    "duration": 4,
    "start_time": "2024-09-17T19:58:50.227Z"
   },
   {
    "duration": 8,
    "start_time": "2024-09-17T19:58:51.358Z"
   },
   {
    "duration": 5,
    "start_time": "2024-09-17T19:58:52.165Z"
   },
   {
    "duration": 5,
    "start_time": "2024-09-17T19:58:52.887Z"
   },
   {
    "duration": 138,
    "start_time": "2024-09-17T19:58:53.589Z"
   },
   {
    "duration": 193,
    "start_time": "2024-09-17T19:58:56.369Z"
   },
   {
    "duration": 104,
    "start_time": "2024-09-17T19:59:03.182Z"
   },
   {
    "duration": 129,
    "start_time": "2024-09-17T19:59:04.244Z"
   },
   {
    "duration": 15,
    "start_time": "2024-09-17T19:59:04.995Z"
   },
   {
    "duration": 5,
    "start_time": "2024-09-17T19:59:05.793Z"
   },
   {
    "duration": 5,
    "start_time": "2024-09-17T19:59:06.652Z"
   },
   {
    "duration": 4,
    "start_time": "2024-09-17T19:59:07.421Z"
   },
   {
    "duration": 49,
    "start_time": "2024-09-17T20:01:27.711Z"
   },
   {
    "duration": 15,
    "start_time": "2024-09-17T20:06:16.750Z"
   },
   {
    "duration": 859,
    "start_time": "2024-09-17T20:06:27.644Z"
   },
   {
    "duration": 808,
    "start_time": "2024-09-17T20:07:23.140Z"
   },
   {
    "duration": 134,
    "start_time": "2024-09-17T20:09:12.270Z"
   },
   {
    "duration": 156,
    "start_time": "2024-09-17T20:12:06.854Z"
   },
   {
    "duration": 183,
    "start_time": "2024-09-17T20:15:36.121Z"
   },
   {
    "duration": 28,
    "start_time": "2024-09-17T20:16:07.568Z"
   },
   {
    "duration": 147,
    "start_time": "2024-09-17T20:17:25.474Z"
   },
   {
    "duration": 28,
    "start_time": "2024-09-17T20:17:38.907Z"
   },
   {
    "duration": 336,
    "start_time": "2024-09-17T20:21:05.343Z"
   },
   {
    "duration": 916,
    "start_time": "2024-09-17T20:21:05.681Z"
   },
   {
    "duration": 19,
    "start_time": "2024-09-17T20:21:06.599Z"
   },
   {
    "duration": 12,
    "start_time": "2024-09-17T20:21:06.620Z"
   },
   {
    "duration": 9,
    "start_time": "2024-09-17T20:21:06.635Z"
   },
   {
    "duration": 9,
    "start_time": "2024-09-17T20:21:06.646Z"
   },
   {
    "duration": 54,
    "start_time": "2024-09-17T20:21:06.656Z"
   },
   {
    "duration": 49,
    "start_time": "2024-09-17T20:21:06.712Z"
   },
   {
    "duration": 10,
    "start_time": "2024-09-17T20:21:06.763Z"
   },
   {
    "duration": 77,
    "start_time": "2024-09-17T20:21:06.775Z"
   },
   {
    "duration": 291,
    "start_time": "2024-09-17T20:21:06.854Z"
   },
   {
    "duration": 64,
    "start_time": "2024-09-17T20:21:07.147Z"
   },
   {
    "duration": 15,
    "start_time": "2024-09-17T20:21:07.214Z"
   },
   {
    "duration": 3,
    "start_time": "2024-09-17T20:21:07.233Z"
   },
   {
    "duration": 20,
    "start_time": "2024-09-17T20:21:07.237Z"
   },
   {
    "duration": 50,
    "start_time": "2024-09-17T20:21:07.259Z"
   },
   {
    "duration": 4,
    "start_time": "2024-09-17T20:21:07.311Z"
   },
   {
    "duration": 3,
    "start_time": "2024-09-17T20:21:07.317Z"
   },
   {
    "duration": 4,
    "start_time": "2024-09-17T20:21:07.322Z"
   },
   {
    "duration": 4,
    "start_time": "2024-09-17T20:21:07.329Z"
   },
   {
    "duration": 861,
    "start_time": "2024-09-17T20:21:07.335Z"
   },
   {
    "duration": 442,
    "start_time": "2024-09-17T20:21:08.198Z"
   },
   {
    "duration": 9,
    "start_time": "2024-09-17T20:21:08.642Z"
   },
   {
    "duration": 10,
    "start_time": "2024-09-17T20:21:08.653Z"
   },
   {
    "duration": 5,
    "start_time": "2024-09-17T20:21:08.665Z"
   },
   {
    "duration": 4,
    "start_time": "2024-09-17T20:21:08.672Z"
   },
   {
    "duration": 35,
    "start_time": "2024-09-17T20:21:08.678Z"
   },
   {
    "duration": 16,
    "start_time": "2024-09-17T20:21:08.714Z"
   },
   {
    "duration": 17,
    "start_time": "2024-09-17T20:21:08.731Z"
   },
   {
    "duration": 32,
    "start_time": "2024-09-17T20:21:08.750Z"
   },
   {
    "duration": 30,
    "start_time": "2024-09-17T20:21:08.808Z"
   },
   {
    "duration": 17,
    "start_time": "2024-09-17T20:21:08.840Z"
   },
   {
    "duration": 5,
    "start_time": "2024-09-17T20:21:08.859Z"
   },
   {
    "duration": 75,
    "start_time": "2024-09-17T20:21:08.865Z"
   },
   {
    "duration": 5,
    "start_time": "2024-09-17T20:21:08.942Z"
   },
   {
    "duration": 6,
    "start_time": "2024-09-17T20:21:08.948Z"
   },
   {
    "duration": 9,
    "start_time": "2024-09-17T20:21:08.956Z"
   },
   {
    "duration": 10,
    "start_time": "2024-09-17T20:21:08.967Z"
   },
   {
    "duration": 52,
    "start_time": "2024-09-17T20:21:08.979Z"
   },
   {
    "duration": 155,
    "start_time": "2024-09-17T20:21:09.033Z"
   },
   {
    "duration": 19,
    "start_time": "2024-09-17T20:21:09.194Z"
   },
   {
    "duration": 50,
    "start_time": "2024-09-17T20:21:09.215Z"
   },
   {
    "duration": 620,
    "start_time": "2024-09-17T20:21:09.267Z"
   },
   {
    "duration": 141,
    "start_time": "2024-09-17T20:21:09.889Z"
   },
   {
    "duration": 410,
    "start_time": "2024-09-17T20:21:10.032Z"
   },
   {
    "duration": 125,
    "start_time": "2024-09-17T20:21:10.444Z"
   },
   {
    "duration": 749,
    "start_time": "2024-09-17T20:21:10.571Z"
   },
   {
    "duration": 1275,
    "start_time": "2024-09-17T20:21:11.322Z"
   },
   {
    "duration": 12,
    "start_time": "2024-09-17T20:21:12.599Z"
   },
   {
    "duration": 7,
    "start_time": "2024-09-17T20:21:12.612Z"
   },
   {
    "duration": 4,
    "start_time": "2024-09-17T20:21:12.621Z"
   },
   {
    "duration": 4,
    "start_time": "2024-09-17T20:21:12.627Z"
   },
   {
    "duration": 157,
    "start_time": "2024-09-17T20:21:12.632Z"
   },
   {
    "duration": 194,
    "start_time": "2024-09-17T20:21:12.791Z"
   },
   {
    "duration": 113,
    "start_time": "2024-09-17T20:21:12.986Z"
   },
   {
    "duration": 135,
    "start_time": "2024-09-17T20:21:13.100Z"
   },
   {
    "duration": 16,
    "start_time": "2024-09-17T20:21:13.237Z"
   },
   {
    "duration": 4,
    "start_time": "2024-09-17T20:21:13.255Z"
   },
   {
    "duration": 4,
    "start_time": "2024-09-17T20:21:13.261Z"
   },
   {
    "duration": 3,
    "start_time": "2024-09-17T20:21:13.267Z"
   },
   {
    "duration": 880,
    "start_time": "2024-09-17T20:21:13.272Z"
   },
   {
    "duration": 143,
    "start_time": "2024-09-17T20:21:14.154Z"
   },
   {
    "duration": 194,
    "start_time": "2024-09-17T20:21:14.299Z"
   },
   {
    "duration": 41,
    "start_time": "2024-09-17T20:21:14.494Z"
   },
   {
    "duration": 681,
    "start_time": "2024-09-17T20:21:14.536Z"
   },
   {
    "duration": 5,
    "start_time": "2024-09-17T20:22:17.469Z"
   },
   {
    "duration": 5,
    "start_time": "2024-09-17T20:24:02.581Z"
   },
   {
    "duration": 4,
    "start_time": "2024-09-17T20:26:23.634Z"
   },
   {
    "duration": 4,
    "start_time": "2024-09-17T20:32:33.369Z"
   },
   {
    "duration": 3,
    "start_time": "2024-09-17T20:39:50.829Z"
   },
   {
    "duration": 135,
    "start_time": "2024-09-17T20:40:09.917Z"
   },
   {
    "duration": 129,
    "start_time": "2024-09-17T20:40:41.689Z"
   },
   {
    "duration": 3,
    "start_time": "2024-09-17T21:08:50.161Z"
   },
   {
    "duration": 4,
    "start_time": "2024-09-17T21:09:41.456Z"
   },
   {
    "duration": 4,
    "start_time": "2024-09-17T21:10:04.547Z"
   },
   {
    "duration": 4,
    "start_time": "2024-09-17T21:10:07.322Z"
   },
   {
    "duration": 4,
    "start_time": "2024-09-17T21:18:33.073Z"
   },
   {
    "duration": 5,
    "start_time": "2024-09-17T21:19:16.262Z"
   },
   {
    "duration": 130,
    "start_time": "2024-09-17T21:21:23.622Z"
   },
   {
    "duration": 188,
    "start_time": "2024-09-17T21:23:19.116Z"
   },
   {
    "duration": 14,
    "start_time": "2024-09-17T21:32:40.203Z"
   },
   {
    "duration": 14,
    "start_time": "2024-09-17T21:34:09.740Z"
   },
   {
    "duration": 15,
    "start_time": "2024-09-17T21:34:59.804Z"
   },
   {
    "duration": 9,
    "start_time": "2024-09-17T21:35:36.165Z"
   },
   {
    "duration": 11,
    "start_time": "2024-09-17T21:36:51.567Z"
   },
   {
    "duration": 12,
    "start_time": "2024-09-17T21:37:37.504Z"
   },
   {
    "duration": 11,
    "start_time": "2024-09-17T21:38:41.978Z"
   },
   {
    "duration": 15,
    "start_time": "2024-09-17T21:41:24.602Z"
   },
   {
    "duration": 7,
    "start_time": "2024-09-17T21:42:07.549Z"
   },
   {
    "duration": 10,
    "start_time": "2024-09-17T21:45:20.649Z"
   },
   {
    "duration": 13,
    "start_time": "2024-09-17T21:51:05.887Z"
   },
   {
    "duration": 143,
    "start_time": "2024-09-17T22:01:36.102Z"
   },
   {
    "duration": 236,
    "start_time": "2024-09-17T22:03:42.256Z"
   },
   {
    "duration": 99,
    "start_time": "2024-09-17T22:06:00.904Z"
   },
   {
    "duration": 124,
    "start_time": "2024-09-17T22:06:23.442Z"
   },
   {
    "duration": 117,
    "start_time": "2024-09-17T22:06:57.684Z"
   },
   {
    "duration": 110,
    "start_time": "2024-09-17T22:07:52.676Z"
   },
   {
    "duration": 10,
    "start_time": "2024-09-17T22:10:00.723Z"
   },
   {
    "duration": 12,
    "start_time": "2024-09-17T22:18:17.773Z"
   },
   {
    "duration": 12,
    "start_time": "2024-09-17T22:22:50.302Z"
   },
   {
    "duration": 29,
    "start_time": "2024-09-17T22:24:06.039Z"
   },
   {
    "duration": 11,
    "start_time": "2024-09-17T22:24:53.408Z"
   },
   {
    "duration": 5,
    "start_time": "2024-09-17T22:26:49.849Z"
   },
   {
    "duration": 4,
    "start_time": "2024-09-17T22:27:39.525Z"
   },
   {
    "duration": 4,
    "start_time": "2024-09-17T22:44:20.708Z"
   },
   {
    "duration": 5,
    "start_time": "2024-09-17T22:45:25.545Z"
   },
   {
    "duration": 16,
    "start_time": "2024-09-17T22:45:43.604Z"
   },
   {
    "duration": 546,
    "start_time": "2024-09-17T22:46:19.722Z"
   },
   {
    "duration": 523,
    "start_time": "2024-09-17T22:50:38.415Z"
   },
   {
    "duration": 515,
    "start_time": "2024-09-17T22:51:32.335Z"
   },
   {
    "duration": 1395,
    "start_time": "2024-09-17T22:53:00.341Z"
   },
   {
    "duration": 330,
    "start_time": "2024-09-18T13:45:57.660Z"
   },
   {
    "duration": 1055,
    "start_time": "2024-09-18T13:45:57.992Z"
   },
   {
    "duration": 15,
    "start_time": "2024-09-18T13:45:59.049Z"
   },
   {
    "duration": 12,
    "start_time": "2024-09-18T13:45:59.067Z"
   },
   {
    "duration": 31,
    "start_time": "2024-09-18T13:45:59.081Z"
   },
   {
    "duration": 11,
    "start_time": "2024-09-18T13:45:59.114Z"
   },
   {
    "duration": 25,
    "start_time": "2024-09-18T13:45:59.127Z"
   },
   {
    "duration": 73,
    "start_time": "2024-09-18T13:45:59.156Z"
   },
   {
    "duration": 9,
    "start_time": "2024-09-18T13:45:59.231Z"
   },
   {
    "duration": 69,
    "start_time": "2024-09-18T13:45:59.243Z"
   },
   {
    "duration": 282,
    "start_time": "2024-09-18T13:45:59.313Z"
   },
   {
    "duration": 56,
    "start_time": "2024-09-18T13:45:59.597Z"
   },
   {
    "duration": 13,
    "start_time": "2024-09-18T13:45:59.654Z"
   },
   {
    "duration": 3,
    "start_time": "2024-09-18T13:45:59.670Z"
   },
   {
    "duration": 41,
    "start_time": "2024-09-18T13:45:59.675Z"
   },
   {
    "duration": 22,
    "start_time": "2024-09-18T13:45:59.718Z"
   },
   {
    "duration": 4,
    "start_time": "2024-09-18T13:45:59.742Z"
   },
   {
    "duration": 3,
    "start_time": "2024-09-18T13:45:59.748Z"
   },
   {
    "duration": 4,
    "start_time": "2024-09-18T13:45:59.754Z"
   },
   {
    "duration": 9,
    "start_time": "2024-09-18T13:45:59.760Z"
   },
   {
    "duration": 807,
    "start_time": "2024-09-18T13:45:59.772Z"
   },
   {
    "duration": 411,
    "start_time": "2024-09-18T13:46:00.581Z"
   },
   {
    "duration": 18,
    "start_time": "2024-09-18T13:46:00.995Z"
   },
   {
    "duration": 12,
    "start_time": "2024-09-18T13:46:01.016Z"
   },
   {
    "duration": 6,
    "start_time": "2024-09-18T13:46:01.030Z"
   },
   {
    "duration": 6,
    "start_time": "2024-09-18T13:46:01.038Z"
   },
   {
    "duration": 5,
    "start_time": "2024-09-18T13:46:01.046Z"
   },
   {
    "duration": 15,
    "start_time": "2024-09-18T13:46:01.057Z"
   },
   {
    "duration": 50,
    "start_time": "2024-09-18T13:46:01.073Z"
   },
   {
    "duration": 31,
    "start_time": "2024-09-18T13:46:01.125Z"
   },
   {
    "duration": 51,
    "start_time": "2024-09-18T13:46:01.158Z"
   },
   {
    "duration": 17,
    "start_time": "2024-09-18T13:46:01.211Z"
   },
   {
    "duration": 7,
    "start_time": "2024-09-18T13:46:01.229Z"
   },
   {
    "duration": 71,
    "start_time": "2024-09-18T13:46:01.238Z"
   },
   {
    "duration": 6,
    "start_time": "2024-09-18T13:46:01.311Z"
   },
   {
    "duration": 6,
    "start_time": "2024-09-18T13:46:01.318Z"
   },
   {
    "duration": 10,
    "start_time": "2024-09-18T13:46:01.326Z"
   },
   {
    "duration": 8,
    "start_time": "2024-09-18T13:46:01.337Z"
   },
   {
    "duration": 23,
    "start_time": "2024-09-18T13:46:01.347Z"
   },
   {
    "duration": 1915,
    "start_time": "2024-09-18T13:46:01.372Z"
   },
   {
    "duration": 20,
    "start_time": "2024-09-18T13:46:03.289Z"
   },
   {
    "duration": 21,
    "start_time": "2024-09-18T13:46:03.310Z"
   },
   {
    "duration": 710,
    "start_time": "2024-09-18T13:46:03.333Z"
   },
   {
    "duration": 137,
    "start_time": "2024-09-18T13:46:04.045Z"
   },
   {
    "duration": 324,
    "start_time": "2024-09-18T13:46:04.185Z"
   },
   {
    "duration": 120,
    "start_time": "2024-09-18T13:46:04.511Z"
   },
   {
    "duration": 798,
    "start_time": "2024-09-18T13:46:04.632Z"
   },
   {
    "duration": 1278,
    "start_time": "2024-09-18T13:46:05.432Z"
   },
   {
    "duration": 4,
    "start_time": "2024-09-18T13:46:06.712Z"
   },
   {
    "duration": 8,
    "start_time": "2024-09-18T13:46:06.719Z"
   },
   {
    "duration": 5,
    "start_time": "2024-09-18T13:46:06.728Z"
   },
   {
    "duration": 5,
    "start_time": "2024-09-18T13:46:06.734Z"
   },
   {
    "duration": 179,
    "start_time": "2024-09-18T13:46:06.741Z"
   },
   {
    "duration": 187,
    "start_time": "2024-09-18T13:46:06.922Z"
   },
   {
    "duration": 122,
    "start_time": "2024-09-18T13:46:07.112Z"
   },
   {
    "duration": 143,
    "start_time": "2024-09-18T13:46:07.236Z"
   },
   {
    "duration": 15,
    "start_time": "2024-09-18T13:46:07.381Z"
   },
   {
    "duration": 21,
    "start_time": "2024-09-18T13:46:07.398Z"
   },
   {
    "duration": 5,
    "start_time": "2024-09-18T13:46:07.422Z"
   },
   {
    "duration": 865,
    "start_time": "2024-09-18T13:46:07.428Z"
   },
   {
    "duration": 134,
    "start_time": "2024-09-18T13:46:08.296Z"
   },
   {
    "duration": 198,
    "start_time": "2024-09-18T13:46:08.432Z"
   },
   {
    "duration": 30,
    "start_time": "2024-09-18T13:46:08.632Z"
   },
   {
    "duration": 11,
    "start_time": "2024-09-18T13:46:08.664Z"
   },
   {
    "duration": 33,
    "start_time": "2024-09-18T13:46:08.677Z"
   },
   {
    "duration": 1397,
    "start_time": "2024-09-18T13:46:08.712Z"
   },
   {
    "duration": 871,
    "start_time": "2024-09-18T14:22:45.751Z"
   },
   {
    "duration": 952,
    "start_time": "2024-09-18T14:22:46.624Z"
   },
   {
    "duration": 18,
    "start_time": "2024-09-18T14:22:47.578Z"
   },
   {
    "duration": 23,
    "start_time": "2024-09-18T14:22:47.611Z"
   },
   {
    "duration": 13,
    "start_time": "2024-09-18T14:22:47.637Z"
   },
   {
    "duration": 13,
    "start_time": "2024-09-18T14:22:47.651Z"
   },
   {
    "duration": 59,
    "start_time": "2024-09-18T14:22:47.666Z"
   },
   {
    "duration": 56,
    "start_time": "2024-09-18T14:22:47.727Z"
   },
   {
    "duration": 24,
    "start_time": "2024-09-18T14:22:47.785Z"
   },
   {
    "duration": 74,
    "start_time": "2024-09-18T14:22:47.813Z"
   },
   {
    "duration": 322,
    "start_time": "2024-09-18T14:22:47.889Z"
   },
   {
    "duration": 51,
    "start_time": "2024-09-18T14:22:48.213Z"
   },
   {
    "duration": 13,
    "start_time": "2024-09-18T14:22:48.266Z"
   },
   {
    "duration": 4,
    "start_time": "2024-09-18T14:22:48.281Z"
   },
   {
    "duration": 22,
    "start_time": "2024-09-18T14:22:48.309Z"
   },
   {
    "duration": 21,
    "start_time": "2024-09-18T14:22:48.332Z"
   },
   {
    "duration": 5,
    "start_time": "2024-09-18T14:22:48.356Z"
   },
   {
    "duration": 4,
    "start_time": "2024-09-18T14:22:48.363Z"
   },
   {
    "duration": 5,
    "start_time": "2024-09-18T14:22:48.370Z"
   },
   {
    "duration": 34,
    "start_time": "2024-09-18T14:22:48.377Z"
   },
   {
    "duration": 849,
    "start_time": "2024-09-18T14:22:48.414Z"
   },
   {
    "duration": 465,
    "start_time": "2024-09-18T14:22:49.265Z"
   },
   {
    "duration": 11,
    "start_time": "2024-09-18T14:22:49.732Z"
   },
   {
    "duration": 14,
    "start_time": "2024-09-18T14:22:49.745Z"
   },
   {
    "duration": 13,
    "start_time": "2024-09-18T14:22:49.761Z"
   },
   {
    "duration": 38,
    "start_time": "2024-09-18T14:22:49.776Z"
   },
   {
    "duration": 8,
    "start_time": "2024-09-18T14:22:49.817Z"
   },
   {
    "duration": 16,
    "start_time": "2024-09-18T14:22:49.831Z"
   },
   {
    "duration": 20,
    "start_time": "2024-09-18T14:22:49.849Z"
   },
   {
    "duration": 64,
    "start_time": "2024-09-18T14:22:49.870Z"
   },
   {
    "duration": 33,
    "start_time": "2024-09-18T14:22:49.936Z"
   },
   {
    "duration": 16,
    "start_time": "2024-09-18T14:22:49.971Z"
   },
   {
    "duration": 8,
    "start_time": "2024-09-18T14:22:50.008Z"
   },
   {
    "duration": 54,
    "start_time": "2024-09-18T14:22:50.018Z"
   },
   {
    "duration": 5,
    "start_time": "2024-09-18T14:22:50.074Z"
   },
   {
    "duration": 29,
    "start_time": "2024-09-18T14:22:50.081Z"
   },
   {
    "duration": 4,
    "start_time": "2024-09-18T14:22:50.112Z"
   },
   {
    "duration": 10,
    "start_time": "2024-09-18T14:22:50.118Z"
   },
   {
    "duration": 8,
    "start_time": "2024-09-18T14:22:50.130Z"
   },
   {
    "duration": 23,
    "start_time": "2024-09-18T14:22:50.140Z"
   },
   {
    "duration": 45,
    "start_time": "2024-09-18T14:22:50.165Z"
   },
   {
    "duration": 17,
    "start_time": "2024-09-18T14:22:50.212Z"
   },
   {
    "duration": 311,
    "start_time": "2024-09-18T14:22:50.231Z"
   },
   {
    "duration": 137,
    "start_time": "2024-09-18T14:22:50.544Z"
   },
   {
    "duration": 399,
    "start_time": "2024-09-18T14:22:50.684Z"
   },
   {
    "duration": 124,
    "start_time": "2024-09-18T14:22:51.085Z"
   },
   {
    "duration": 799,
    "start_time": "2024-09-18T14:22:51.211Z"
   },
   {
    "duration": 1332,
    "start_time": "2024-09-18T14:22:52.012Z"
   },
   {
    "duration": 4,
    "start_time": "2024-09-18T14:22:53.346Z"
   },
   {
    "duration": 8,
    "start_time": "2024-09-18T14:22:53.352Z"
   },
   {
    "duration": 6,
    "start_time": "2024-09-18T14:22:53.362Z"
   },
   {
    "duration": 4,
    "start_time": "2024-09-18T14:22:53.370Z"
   },
   {
    "duration": 168,
    "start_time": "2024-09-18T14:22:53.376Z"
   },
   {
    "duration": 199,
    "start_time": "2024-09-18T14:22:53.546Z"
   },
   {
    "duration": 127,
    "start_time": "2024-09-18T14:22:53.748Z"
   },
   {
    "duration": 138,
    "start_time": "2024-09-18T14:22:53.877Z"
   },
   {
    "duration": 16,
    "start_time": "2024-09-18T14:22:54.017Z"
   },
   {
    "duration": 11,
    "start_time": "2024-09-18T14:22:54.035Z"
   },
   {
    "duration": 4,
    "start_time": "2024-09-18T14:22:54.048Z"
   },
   {
    "duration": 906,
    "start_time": "2024-09-18T14:22:54.055Z"
   },
   {
    "duration": 148,
    "start_time": "2024-09-18T14:22:54.963Z"
   },
   {
    "duration": 198,
    "start_time": "2024-09-18T14:22:55.112Z"
   },
   {
    "duration": 31,
    "start_time": "2024-09-18T14:22:55.312Z"
   },
   {
    "duration": 10,
    "start_time": "2024-09-18T14:22:55.345Z"
   },
   {
    "duration": 4,
    "start_time": "2024-09-18T14:22:55.357Z"
   },
   {
    "duration": 1448,
    "start_time": "2024-09-18T14:22:55.363Z"
   },
   {
    "duration": 6,
    "start_time": "2024-09-18T14:27:59.797Z"
   },
   {
    "duration": 9,
    "start_time": "2024-09-18T14:28:44.512Z"
   },
   {
    "duration": 49,
    "start_time": "2024-09-18T14:29:24.803Z"
   },
   {
    "duration": 38,
    "start_time": "2024-09-18T14:29:40.663Z"
   },
   {
    "duration": 820,
    "start_time": "2024-09-18T14:31:11.784Z"
   },
   {
    "duration": 874,
    "start_time": "2024-09-18T14:31:12.607Z"
   },
   {
    "duration": 18,
    "start_time": "2024-09-18T14:31:13.482Z"
   },
   {
    "duration": 13,
    "start_time": "2024-09-18T14:31:13.510Z"
   },
   {
    "duration": 11,
    "start_time": "2024-09-18T14:31:13.525Z"
   },
   {
    "duration": 12,
    "start_time": "2024-09-18T14:31:13.538Z"
   },
   {
    "duration": 59,
    "start_time": "2024-09-18T14:31:13.551Z"
   },
   {
    "duration": 48,
    "start_time": "2024-09-18T14:31:13.612Z"
   },
   {
    "duration": 11,
    "start_time": "2024-09-18T14:31:13.662Z"
   },
   {
    "duration": 74,
    "start_time": "2024-09-18T14:31:13.674Z"
   },
   {
    "duration": 318,
    "start_time": "2024-09-18T14:31:13.750Z"
   },
   {
    "duration": 61,
    "start_time": "2024-09-18T14:31:14.070Z"
   },
   {
    "duration": 11,
    "start_time": "2024-09-18T14:31:14.133Z"
   },
   {
    "duration": 3,
    "start_time": "2024-09-18T14:31:14.149Z"
   },
   {
    "duration": 26,
    "start_time": "2024-09-18T14:31:14.153Z"
   },
   {
    "duration": 40,
    "start_time": "2024-09-18T14:31:14.181Z"
   },
   {
    "duration": 4,
    "start_time": "2024-09-18T14:31:14.224Z"
   },
   {
    "duration": 4,
    "start_time": "2024-09-18T14:31:14.229Z"
   },
   {
    "duration": 4,
    "start_time": "2024-09-18T14:31:14.235Z"
   },
   {
    "duration": 4,
    "start_time": "2024-09-18T14:31:14.241Z"
   },
   {
    "duration": 862,
    "start_time": "2024-09-18T14:31:14.248Z"
   },
   {
    "duration": 458,
    "start_time": "2024-09-18T14:31:15.111Z"
   },
   {
    "duration": 11,
    "start_time": "2024-09-18T14:31:15.571Z"
   },
   {
    "duration": 29,
    "start_time": "2024-09-18T14:31:15.584Z"
   },
   {
    "duration": 6,
    "start_time": "2024-09-18T14:31:15.615Z"
   },
   {
    "duration": 7,
    "start_time": "2024-09-18T14:31:15.623Z"
   },
   {
    "duration": 6,
    "start_time": "2024-09-18T14:31:15.632Z"
   },
   {
    "duration": 16,
    "start_time": "2024-09-18T14:31:15.640Z"
   },
   {
    "duration": 54,
    "start_time": "2024-09-18T14:31:15.658Z"
   },
   {
    "duration": 34,
    "start_time": "2024-09-18T14:31:15.714Z"
   },
   {
    "duration": 32,
    "start_time": "2024-09-18T14:31:15.749Z"
   },
   {
    "duration": 36,
    "start_time": "2024-09-18T14:31:15.783Z"
   },
   {
    "duration": 6,
    "start_time": "2024-09-18T14:31:15.822Z"
   },
   {
    "duration": 49,
    "start_time": "2024-09-18T14:31:15.829Z"
   },
   {
    "duration": 29,
    "start_time": "2024-09-18T14:31:15.880Z"
   },
   {
    "duration": 3,
    "start_time": "2024-09-18T14:31:15.911Z"
   },
   {
    "duration": 3,
    "start_time": "2024-09-18T14:31:15.916Z"
   },
   {
    "duration": 9,
    "start_time": "2024-09-18T14:31:15.921Z"
   },
   {
    "duration": 8,
    "start_time": "2024-09-18T14:31:15.933Z"
   },
   {
    "duration": 22,
    "start_time": "2024-09-18T14:31:15.943Z"
   },
   {
    "duration": 46,
    "start_time": "2024-09-18T14:31:15.971Z"
   },
   {
    "duration": 17,
    "start_time": "2024-09-18T14:31:16.018Z"
   },
   {
    "duration": 305,
    "start_time": "2024-09-18T14:31:16.037Z"
   },
   {
    "duration": 136,
    "start_time": "2024-09-18T14:31:16.344Z"
   },
   {
    "duration": 369,
    "start_time": "2024-09-18T14:31:16.483Z"
   },
   {
    "duration": 128,
    "start_time": "2024-09-18T14:31:16.854Z"
   },
   {
    "duration": 807,
    "start_time": "2024-09-18T14:31:16.985Z"
   },
   {
    "duration": 1289,
    "start_time": "2024-09-18T14:31:17.794Z"
   },
   {
    "duration": 4,
    "start_time": "2024-09-18T14:31:19.085Z"
   },
   {
    "duration": 20,
    "start_time": "2024-09-18T14:31:19.090Z"
   },
   {
    "duration": 4,
    "start_time": "2024-09-18T14:31:19.112Z"
   },
   {
    "duration": 5,
    "start_time": "2024-09-18T14:31:19.117Z"
   },
   {
    "duration": 155,
    "start_time": "2024-09-18T14:31:19.123Z"
   },
   {
    "duration": 191,
    "start_time": "2024-09-18T14:31:19.279Z"
   },
   {
    "duration": 116,
    "start_time": "2024-09-18T14:31:19.472Z"
   },
   {
    "duration": 137,
    "start_time": "2024-09-18T14:31:19.590Z"
   },
   {
    "duration": 16,
    "start_time": "2024-09-18T14:31:19.728Z"
   },
   {
    "duration": 11,
    "start_time": "2024-09-18T14:31:19.746Z"
   },
   {
    "duration": 5,
    "start_time": "2024-09-18T14:31:19.759Z"
   },
   {
    "duration": 875,
    "start_time": "2024-09-18T14:31:19.766Z"
   },
   {
    "duration": 140,
    "start_time": "2024-09-18T14:31:20.643Z"
   },
   {
    "duration": 192,
    "start_time": "2024-09-18T14:31:20.785Z"
   },
   {
    "duration": 37,
    "start_time": "2024-09-18T14:31:20.979Z"
   },
   {
    "duration": 11,
    "start_time": "2024-09-18T14:31:21.017Z"
   },
   {
    "duration": 5,
    "start_time": "2024-09-18T14:31:21.030Z"
   },
   {
    "duration": 1398,
    "start_time": "2024-09-18T14:31:21.037Z"
   },
   {
    "duration": 56,
    "start_time": "2024-09-18T14:36:16.361Z"
   },
   {
    "duration": 285,
    "start_time": "2024-09-18T14:36:18.672Z"
   },
   {
    "duration": 54,
    "start_time": "2024-09-18T14:37:25.683Z"
   },
   {
    "duration": 10,
    "start_time": "2024-09-18T14:38:59.241Z"
   },
   {
    "duration": 6,
    "start_time": "2024-09-18T14:39:11.690Z"
   },
   {
    "duration": 17,
    "start_time": "2024-09-18T14:40:10.371Z"
   },
   {
    "duration": 4,
    "start_time": "2024-09-18T14:40:11.718Z"
   },
   {
    "duration": 22,
    "start_time": "2024-09-18T14:40:12.428Z"
   },
   {
    "duration": 21,
    "start_time": "2024-09-18T14:40:37.710Z"
   },
   {
    "duration": 4,
    "start_time": "2024-09-18T14:40:49.341Z"
   },
   {
    "duration": 5,
    "start_time": "2024-09-18T14:40:53.754Z"
   },
   {
    "duration": 5,
    "start_time": "2024-09-18T14:41:01.309Z"
   },
   {
    "duration": 5,
    "start_time": "2024-09-18T14:41:03.628Z"
   },
   {
    "duration": 705,
    "start_time": "2024-09-18T14:41:13.648Z"
   },
   {
    "duration": 380,
    "start_time": "2024-09-18T14:41:19.165Z"
   },
   {
    "duration": 698,
    "start_time": "2024-09-18T14:42:52.369Z"
   },
   {
    "duration": 248,
    "start_time": "2024-09-18T14:42:54.668Z"
   },
   {
    "duration": 103,
    "start_time": "2024-09-18T14:43:02.745Z"
   },
   {
    "duration": 31,
    "start_time": "2024-09-18T14:43:07.407Z"
   },
   {
    "duration": 30,
    "start_time": "2024-09-18T14:43:13.154Z"
   },
   {
    "duration": 259,
    "start_time": "2024-09-18T14:53:07.636Z"
   },
   {
    "duration": 240,
    "start_time": "2024-09-18T14:53:33.065Z"
   },
   {
    "duration": 247,
    "start_time": "2024-09-18T14:53:58.796Z"
   },
   {
    "duration": 250,
    "start_time": "2024-09-18T14:54:25.142Z"
   },
   {
    "duration": 11,
    "start_time": "2024-09-18T14:56:27.131Z"
   },
   {
    "duration": 12,
    "start_time": "2024-09-18T14:56:57.944Z"
   },
   {
    "duration": 7,
    "start_time": "2024-09-18T14:59:20.732Z"
   },
   {
    "duration": 8,
    "start_time": "2024-09-18T14:59:25.779Z"
   },
   {
    "duration": 10,
    "start_time": "2024-09-18T15:00:48.700Z"
   },
   {
    "duration": 9,
    "start_time": "2024-09-18T15:00:53.258Z"
   },
   {
    "duration": 11,
    "start_time": "2024-09-18T15:04:03.371Z"
   },
   {
    "duration": 313,
    "start_time": "2024-09-18T15:06:36.336Z"
   },
   {
    "duration": 11,
    "start_time": "2024-09-18T15:11:38.157Z"
   },
   {
    "duration": 4,
    "start_time": "2024-09-18T15:13:34.963Z"
   },
   {
    "duration": 7,
    "start_time": "2024-09-18T15:13:52.729Z"
   },
   {
    "duration": 7,
    "start_time": "2024-09-18T15:15:35.956Z"
   },
   {
    "duration": 7,
    "start_time": "2024-09-18T15:16:39.373Z"
   },
   {
    "duration": 7,
    "start_time": "2024-09-18T15:19:15.770Z"
   },
   {
    "duration": 6,
    "start_time": "2024-09-18T15:19:48.668Z"
   },
   {
    "duration": 8,
    "start_time": "2024-09-18T15:19:59.655Z"
   },
   {
    "duration": 6,
    "start_time": "2024-09-18T15:20:37.821Z"
   },
   {
    "duration": 6,
    "start_time": "2024-09-18T15:34:55.957Z"
   },
   {
    "duration": 5,
    "start_time": "2024-09-18T15:35:30.905Z"
   },
   {
    "duration": 4,
    "start_time": "2024-09-18T15:35:37.219Z"
   },
   {
    "duration": 65,
    "start_time": "2024-09-18T15:37:05.861Z"
   },
   {
    "duration": 39,
    "start_time": "2024-09-18T15:38:06.062Z"
   },
   {
    "duration": 3,
    "start_time": "2024-09-18T15:39:14.839Z"
   },
   {
    "duration": 6,
    "start_time": "2024-09-18T15:41:25.072Z"
   },
   {
    "duration": 36,
    "start_time": "2024-09-18T15:41:43.938Z"
   },
   {
    "duration": 28,
    "start_time": "2024-09-18T15:42:06.325Z"
   },
   {
    "duration": 4,
    "start_time": "2024-09-18T15:52:43.094Z"
   },
   {
    "duration": 26,
    "start_time": "2024-09-18T15:52:59.505Z"
   },
   {
    "duration": 1346,
    "start_time": "2024-09-18T15:54:52.540Z"
   },
   {
    "duration": 1360,
    "start_time": "2024-09-18T15:56:29.881Z"
   },
   {
    "duration": 511,
    "start_time": "2024-09-18T15:57:07.579Z"
   },
   {
    "duration": 5,
    "start_time": "2024-09-18T16:00:58.889Z"
   },
   {
    "duration": 155,
    "start_time": "2024-09-18T16:01:22.405Z"
   },
   {
    "duration": 615,
    "start_time": "2024-09-18T16:04:18.772Z"
   },
   {
    "duration": 567,
    "start_time": "2024-09-18T16:05:30.282Z"
   },
   {
    "duration": 742,
    "start_time": "2024-09-18T16:05:58.875Z"
   },
   {
    "duration": 567,
    "start_time": "2024-09-18T16:07:17.543Z"
   },
   {
    "duration": 834,
    "start_time": "2024-09-18T16:09:16.926Z"
   },
   {
    "duration": 590,
    "start_time": "2024-09-18T16:14:36.694Z"
   },
   {
    "duration": 4,
    "start_time": "2024-09-18T16:24:13.113Z"
   },
   {
    "duration": 24,
    "start_time": "2024-09-18T16:24:38.491Z"
   },
   {
    "duration": 501,
    "start_time": "2024-09-18T16:25:36.426Z"
   },
   {
    "duration": 599,
    "start_time": "2024-09-18T16:32:07.278Z"
   },
   {
    "duration": 598,
    "start_time": "2024-09-18T16:32:44.649Z"
   },
   {
    "duration": 559,
    "start_time": "2024-09-18T16:33:43.940Z"
   },
   {
    "duration": 579,
    "start_time": "2024-09-18T16:33:47.450Z"
   },
   {
    "duration": 854,
    "start_time": "2024-09-18T16:33:50.647Z"
   },
   {
    "duration": 5,
    "start_time": "2024-09-18T16:37:31.669Z"
   },
   {
    "duration": 19,
    "start_time": "2024-09-18T16:37:59.896Z"
   },
   {
    "duration": 618,
    "start_time": "2024-09-18T16:39:35.345Z"
   },
   {
    "duration": 317,
    "start_time": "2024-09-18T16:43:57.649Z"
   },
   {
    "duration": 42,
    "start_time": "2024-09-18T16:46:22.302Z"
   },
   {
    "duration": 920,
    "start_time": "2024-09-18T16:47:04.201Z"
   },
   {
    "duration": 896,
    "start_time": "2024-09-18T16:47:05.123Z"
   },
   {
    "duration": 19,
    "start_time": "2024-09-18T16:47:06.021Z"
   },
   {
    "duration": 14,
    "start_time": "2024-09-18T16:47:06.042Z"
   },
   {
    "duration": 12,
    "start_time": "2024-09-18T16:47:06.058Z"
   },
   {
    "duration": 41,
    "start_time": "2024-09-18T16:47:06.072Z"
   },
   {
    "duration": 31,
    "start_time": "2024-09-18T16:47:06.116Z"
   },
   {
    "duration": 78,
    "start_time": "2024-09-18T16:47:06.148Z"
   },
   {
    "duration": 13,
    "start_time": "2024-09-18T16:47:06.228Z"
   },
   {
    "duration": 6,
    "start_time": "2024-09-18T16:47:06.244Z"
   },
   {
    "duration": 94,
    "start_time": "2024-09-18T16:47:06.252Z"
   },
   {
    "duration": 328,
    "start_time": "2024-09-18T16:47:06.348Z"
   },
   {
    "duration": 60,
    "start_time": "2024-09-18T16:47:06.678Z"
   },
   {
    "duration": 16,
    "start_time": "2024-09-18T16:47:06.740Z"
   },
   {
    "duration": 5,
    "start_time": "2024-09-18T16:47:06.758Z"
   },
   {
    "duration": 44,
    "start_time": "2024-09-18T16:47:06.765Z"
   },
   {
    "duration": 20,
    "start_time": "2024-09-18T16:47:06.812Z"
   },
   {
    "duration": 4,
    "start_time": "2024-09-18T16:47:06.834Z"
   },
   {
    "duration": 4,
    "start_time": "2024-09-18T16:47:06.840Z"
   },
   {
    "duration": 4,
    "start_time": "2024-09-18T16:47:06.846Z"
   },
   {
    "duration": 4,
    "start_time": "2024-09-18T16:47:06.852Z"
   },
   {
    "duration": 963,
    "start_time": "2024-09-18T16:47:06.858Z"
   },
   {
    "duration": 298,
    "start_time": "2024-09-18T16:47:07.823Z"
   },
   {
    "duration": 104,
    "start_time": "2024-09-18T16:47:08.123Z"
   },
   {
    "duration": 46,
    "start_time": "2024-09-18T16:47:08.229Z"
   },
   {
    "duration": 44,
    "start_time": "2024-09-18T16:47:08.278Z"
   },
   {
    "duration": 12,
    "start_time": "2024-09-18T16:47:08.324Z"
   },
   {
    "duration": 11,
    "start_time": "2024-09-18T16:47:08.341Z"
   },
   {
    "duration": 7,
    "start_time": "2024-09-18T16:47:08.354Z"
   },
   {
    "duration": 9,
    "start_time": "2024-09-18T16:47:08.362Z"
   },
   {
    "duration": 42,
    "start_time": "2024-09-18T16:47:08.372Z"
   },
   {
    "duration": 17,
    "start_time": "2024-09-18T16:47:08.416Z"
   },
   {
    "duration": 23,
    "start_time": "2024-09-18T16:47:08.436Z"
   },
   {
    "duration": 56,
    "start_time": "2024-09-18T16:47:08.462Z"
   },
   {
    "duration": 17,
    "start_time": "2024-09-18T16:47:08.520Z"
   },
   {
    "duration": 17,
    "start_time": "2024-09-18T16:47:08.539Z"
   },
   {
    "duration": 7,
    "start_time": "2024-09-18T16:47:08.558Z"
   },
   {
    "duration": 9,
    "start_time": "2024-09-18T16:47:08.567Z"
   },
   {
    "duration": 8,
    "start_time": "2024-09-18T16:47:08.610Z"
   },
   {
    "duration": 6,
    "start_time": "2024-09-18T16:47:08.620Z"
   },
   {
    "duration": 4,
    "start_time": "2024-09-18T16:47:08.628Z"
   },
   {
    "duration": 4,
    "start_time": "2024-09-18T16:47:08.634Z"
   },
   {
    "duration": 31,
    "start_time": "2024-09-18T16:47:08.640Z"
   },
   {
    "duration": 51,
    "start_time": "2024-09-18T16:47:08.672Z"
   },
   {
    "duration": 6,
    "start_time": "2024-09-18T16:47:08.725Z"
   },
   {
    "duration": 4,
    "start_time": "2024-09-18T16:47:08.733Z"
   },
   {
    "duration": 5,
    "start_time": "2024-09-18T16:47:08.738Z"
   },
   {
    "duration": 10,
    "start_time": "2024-09-18T16:47:08.745Z"
   },
   {
    "duration": 9,
    "start_time": "2024-09-18T16:47:08.756Z"
   },
   {
    "duration": 64,
    "start_time": "2024-09-18T16:47:08.767Z"
   },
   {
    "duration": 13,
    "start_time": "2024-09-18T16:47:08.833Z"
   },
   {
    "duration": 17,
    "start_time": "2024-09-18T16:47:08.849Z"
   },
   {
    "duration": 320,
    "start_time": "2024-09-18T16:47:08.867Z"
   },
   {
    "duration": 141,
    "start_time": "2024-09-18T16:47:09.189Z"
   },
   {
    "duration": 401,
    "start_time": "2024-09-18T16:47:09.331Z"
   },
   {
    "duration": 141,
    "start_time": "2024-09-18T16:47:09.735Z"
   },
   {
    "duration": 926,
    "start_time": "2024-09-18T16:47:09.877Z"
   },
   {
    "duration": 1423,
    "start_time": "2024-09-18T16:47:10.808Z"
   },
   {
    "duration": 6,
    "start_time": "2024-09-18T16:47:12.232Z"
   },
   {
    "duration": 9,
    "start_time": "2024-09-18T16:47:12.239Z"
   },
   {
    "duration": 5,
    "start_time": "2024-09-18T16:47:12.250Z"
   },
   {
    "duration": 4,
    "start_time": "2024-09-18T16:47:12.258Z"
   },
   {
    "duration": 182,
    "start_time": "2024-09-18T16:47:12.264Z"
   },
   {
    "duration": 203,
    "start_time": "2024-09-18T16:47:12.448Z"
   },
   {
    "duration": 120,
    "start_time": "2024-09-18T16:47:12.654Z"
   },
   {
    "duration": 141,
    "start_time": "2024-09-18T16:47:12.776Z"
   },
   {
    "duration": 17,
    "start_time": "2024-09-18T16:47:12.919Z"
   },
   {
    "duration": 11,
    "start_time": "2024-09-18T16:47:12.938Z"
   },
   {
    "duration": 5,
    "start_time": "2024-09-18T16:47:12.950Z"
   },
   {
    "duration": 981,
    "start_time": "2024-09-18T16:47:12.956Z"
   },
   {
    "duration": 154,
    "start_time": "2024-09-18T16:47:13.940Z"
   },
   {
    "duration": 206,
    "start_time": "2024-09-18T16:47:14.096Z"
   },
   {
    "duration": 34,
    "start_time": "2024-09-18T16:47:14.304Z"
   },
   {
    "duration": 11,
    "start_time": "2024-09-18T16:47:14.340Z"
   },
   {
    "duration": 5,
    "start_time": "2024-09-18T16:47:14.353Z"
   },
   {
    "duration": 588,
    "start_time": "2024-09-18T16:47:14.360Z"
   },
   {
    "duration": 635,
    "start_time": "2024-09-18T16:47:14.950Z"
   },
   {
    "duration": 589,
    "start_time": "2024-09-18T16:49:23.621Z"
   },
   {
    "duration": 613,
    "start_time": "2024-09-18T16:49:55.015Z"
   },
   {
    "duration": 594,
    "start_time": "2024-09-18T16:51:19.197Z"
   },
   {
    "duration": 570,
    "start_time": "2024-09-18T16:51:42.234Z"
   },
   {
    "duration": 4,
    "start_time": "2024-09-18T16:56:50.911Z"
   },
   {
    "duration": 766,
    "start_time": "2024-09-18T16:57:36.864Z"
   },
   {
    "duration": 4,
    "start_time": "2024-09-18T16:58:45.186Z"
   },
   {
    "duration": 877,
    "start_time": "2024-09-18T16:59:21.366Z"
   },
   {
    "duration": 527,
    "start_time": "2024-09-18T17:02:39.558Z"
   },
   {
    "duration": 4,
    "start_time": "2024-09-18T17:04:39.501Z"
   },
   {
    "duration": 4,
    "start_time": "2024-09-18T17:05:10.159Z"
   },
   {
    "duration": 5,
    "start_time": "2024-09-18T17:06:22.727Z"
   },
   {
    "duration": 609,
    "start_time": "2024-09-18T17:07:46.667Z"
   },
   {
    "duration": 568,
    "start_time": "2024-09-18T17:08:18.724Z"
   },
   {
    "duration": 550,
    "start_time": "2024-09-18T17:08:40.861Z"
   },
   {
    "duration": 440,
    "start_time": "2024-09-18T17:32:09.145Z"
   },
   {
    "duration": 960,
    "start_time": "2024-09-18T17:37:30.756Z"
   },
   {
    "duration": 951,
    "start_time": "2024-09-18T17:38:24.323Z"
   },
   {
    "duration": 966,
    "start_time": "2024-09-18T17:39:51.163Z"
   },
   {
    "duration": 50,
    "start_time": "2024-09-18T17:47:47.848Z"
   },
   {
    "duration": 54,
    "start_time": "2024-09-18T17:48:15.717Z"
   },
   {
    "duration": 53,
    "start_time": "2024-09-18T17:48:23.157Z"
   },
   {
    "duration": 287,
    "start_time": "2024-09-18T17:49:28.195Z"
   },
   {
    "duration": 289,
    "start_time": "2024-09-18T17:50:46.361Z"
   },
   {
    "duration": 11,
    "start_time": "2024-09-18T18:28:10.308Z"
   },
   {
    "duration": 9,
    "start_time": "2024-09-18T19:19:16.291Z"
   },
   {
    "duration": 10,
    "start_time": "2024-09-18T19:19:22.214Z"
   },
   {
    "duration": 9,
    "start_time": "2024-09-18T19:21:44.677Z"
   },
   {
    "duration": 10,
    "start_time": "2024-09-18T19:22:27.639Z"
   },
   {
    "duration": 9,
    "start_time": "2024-09-18T19:31:15.790Z"
   },
   {
    "duration": 173,
    "start_time": "2024-09-18T19:40:37.614Z"
   },
   {
    "duration": 43,
    "start_time": "2024-09-18T19:42:18.046Z"
   },
   {
    "duration": 17,
    "start_time": "2024-09-18T19:44:47.651Z"
   },
   {
    "duration": 6,
    "start_time": "2024-09-18T19:45:46.037Z"
   },
   {
    "duration": 20,
    "start_time": "2024-09-18T19:53:49.464Z"
   },
   {
    "duration": 9,
    "start_time": "2024-09-18T19:55:41.975Z"
   },
   {
    "duration": 15,
    "start_time": "2024-09-18T19:56:03.859Z"
   },
   {
    "duration": 8,
    "start_time": "2024-09-18T19:57:05.519Z"
   },
   {
    "duration": 19,
    "start_time": "2024-09-18T19:58:05.084Z"
   },
   {
    "duration": 21,
    "start_time": "2024-09-18T20:00:07.860Z"
   },
   {
    "duration": 4,
    "start_time": "2024-09-18T20:01:58.414Z"
   },
   {
    "duration": 10,
    "start_time": "2024-09-18T20:02:04.190Z"
   },
   {
    "duration": 13,
    "start_time": "2024-09-18T20:02:13.533Z"
   },
   {
    "duration": 3,
    "start_time": "2024-09-18T20:02:38.905Z"
   },
   {
    "duration": 12,
    "start_time": "2024-09-18T20:03:05.138Z"
   },
   {
    "duration": 45,
    "start_time": "2024-09-18T20:03:58.992Z"
   },
   {
    "duration": 220,
    "start_time": "2024-09-18T20:04:25.218Z"
   },
   {
    "duration": 285,
    "start_time": "2024-09-18T20:05:35.493Z"
   },
   {
    "duration": 5,
    "start_time": "2024-09-18T20:07:54.382Z"
   },
   {
    "duration": 4,
    "start_time": "2024-09-18T20:08:37.622Z"
   },
   {
    "duration": 4,
    "start_time": "2024-09-18T20:48:54.991Z"
   },
   {
    "duration": 44,
    "start_time": "2024-09-18T21:12:04.893Z"
   },
   {
    "duration": 49,
    "start_time": "2024-09-18T21:12:21.643Z"
   },
   {
    "duration": 58,
    "start_time": "2024-09-18T21:14:25.190Z"
   },
   {
    "duration": 63,
    "start_time": "2024-09-18T21:14:57.405Z"
   },
   {
    "duration": 53,
    "start_time": "2024-09-18T21:15:23.880Z"
   },
   {
    "duration": 32,
    "start_time": "2024-09-18T21:21:57.612Z"
   },
   {
    "duration": 84,
    "start_time": "2024-09-18T21:26:15.397Z"
   },
   {
    "duration": 17,
    "start_time": "2024-09-18T21:28:29.353Z"
   },
   {
    "duration": 76,
    "start_time": "2024-09-18T21:28:53.893Z"
   },
   {
    "duration": 29,
    "start_time": "2024-09-18T21:29:02.225Z"
   },
   {
    "duration": 10,
    "start_time": "2024-09-18T21:35:27.531Z"
   },
   {
    "duration": 12,
    "start_time": "2024-09-18T21:39:57.994Z"
   },
   {
    "duration": 7,
    "start_time": "2024-09-18T21:40:00.909Z"
   },
   {
    "duration": 9,
    "start_time": "2024-09-18T21:47:17.238Z"
   },
   {
    "duration": 73,
    "start_time": "2024-09-18T21:51:29.230Z"
   },
   {
    "duration": 76,
    "start_time": "2024-09-18T21:51:56.853Z"
   },
   {
    "duration": 47,
    "start_time": "2024-09-18T21:56:42.846Z"
   },
   {
    "duration": 14,
    "start_time": "2024-09-18T21:57:17.585Z"
   },
   {
    "duration": 22,
    "start_time": "2024-09-18T21:58:32.533Z"
   },
   {
    "duration": 7,
    "start_time": "2024-09-18T22:01:38.077Z"
   },
   {
    "duration": 7,
    "start_time": "2024-09-18T22:03:12.834Z"
   },
   {
    "duration": 6,
    "start_time": "2024-09-18T22:04:11.052Z"
   },
   {
    "duration": 14,
    "start_time": "2024-09-18T22:05:28.398Z"
   },
   {
    "duration": 20,
    "start_time": "2024-09-18T22:09:31.365Z"
   },
   {
    "duration": 896,
    "start_time": "2024-09-18T22:10:42.540Z"
   },
   {
    "duration": 886,
    "start_time": "2024-09-18T22:10:43.438Z"
   },
   {
    "duration": 18,
    "start_time": "2024-09-18T22:10:44.326Z"
   },
   {
    "duration": 14,
    "start_time": "2024-09-18T22:10:44.347Z"
   },
   {
    "duration": 13,
    "start_time": "2024-09-18T22:10:44.362Z"
   },
   {
    "duration": 45,
    "start_time": "2024-09-18T22:10:44.377Z"
   },
   {
    "duration": 32,
    "start_time": "2024-09-18T22:10:44.425Z"
   },
   {
    "duration": 124,
    "start_time": "2024-09-18T22:10:44.459Z"
   },
   {
    "duration": 305,
    "start_time": "2024-09-18T22:10:44.585Z"
   },
   {
    "duration": 0,
    "start_time": "2024-09-18T22:10:44.895Z"
   },
   {
    "duration": 0,
    "start_time": "2024-09-18T22:10:44.897Z"
   },
   {
    "duration": 0,
    "start_time": "2024-09-18T22:10:44.899Z"
   },
   {
    "duration": 0,
    "start_time": "2024-09-18T22:10:44.909Z"
   },
   {
    "duration": 0,
    "start_time": "2024-09-18T22:10:44.910Z"
   },
   {
    "duration": 0,
    "start_time": "2024-09-18T22:10:44.911Z"
   },
   {
    "duration": 0,
    "start_time": "2024-09-18T22:10:44.912Z"
   },
   {
    "duration": 0,
    "start_time": "2024-09-18T22:10:44.913Z"
   },
   {
    "duration": 0,
    "start_time": "2024-09-18T22:10:44.914Z"
   },
   {
    "duration": 0,
    "start_time": "2024-09-18T22:10:44.916Z"
   },
   {
    "duration": 0,
    "start_time": "2024-09-18T22:10:44.917Z"
   },
   {
    "duration": 0,
    "start_time": "2024-09-18T22:10:44.919Z"
   },
   {
    "duration": 0,
    "start_time": "2024-09-18T22:10:44.921Z"
   },
   {
    "duration": 0,
    "start_time": "2024-09-18T22:10:44.923Z"
   },
   {
    "duration": 0,
    "start_time": "2024-09-18T22:10:44.923Z"
   },
   {
    "duration": 0,
    "start_time": "2024-09-18T22:10:44.924Z"
   },
   {
    "duration": 0,
    "start_time": "2024-09-18T22:10:44.926Z"
   },
   {
    "duration": 0,
    "start_time": "2024-09-18T22:10:44.928Z"
   },
   {
    "duration": 0,
    "start_time": "2024-09-18T22:10:44.929Z"
   },
   {
    "duration": 0,
    "start_time": "2024-09-18T22:10:44.930Z"
   },
   {
    "duration": 0,
    "start_time": "2024-09-18T22:10:44.932Z"
   },
   {
    "duration": 0,
    "start_time": "2024-09-18T22:10:44.934Z"
   },
   {
    "duration": 0,
    "start_time": "2024-09-18T22:10:44.935Z"
   },
   {
    "duration": 0,
    "start_time": "2024-09-18T22:10:44.937Z"
   },
   {
    "duration": 0,
    "start_time": "2024-09-18T22:10:44.938Z"
   },
   {
    "duration": 0,
    "start_time": "2024-09-18T22:10:44.940Z"
   },
   {
    "duration": 0,
    "start_time": "2024-09-18T22:10:44.941Z"
   },
   {
    "duration": 0,
    "start_time": "2024-09-18T22:10:44.942Z"
   },
   {
    "duration": 0,
    "start_time": "2024-09-18T22:10:44.943Z"
   },
   {
    "duration": 0,
    "start_time": "2024-09-18T22:10:44.945Z"
   },
   {
    "duration": 0,
    "start_time": "2024-09-18T22:10:44.946Z"
   },
   {
    "duration": 0,
    "start_time": "2024-09-18T22:10:44.947Z"
   },
   {
    "duration": 0,
    "start_time": "2024-09-18T22:10:44.948Z"
   },
   {
    "duration": 0,
    "start_time": "2024-09-18T22:10:44.950Z"
   },
   {
    "duration": 0,
    "start_time": "2024-09-18T22:10:45.010Z"
   },
   {
    "duration": 0,
    "start_time": "2024-09-18T22:10:45.011Z"
   },
   {
    "duration": 0,
    "start_time": "2024-09-18T22:10:45.013Z"
   },
   {
    "duration": 0,
    "start_time": "2024-09-18T22:10:45.014Z"
   },
   {
    "duration": 0,
    "start_time": "2024-09-18T22:10:45.015Z"
   },
   {
    "duration": 0,
    "start_time": "2024-09-18T22:10:45.016Z"
   },
   {
    "duration": 0,
    "start_time": "2024-09-18T22:10:45.018Z"
   },
   {
    "duration": 0,
    "start_time": "2024-09-18T22:10:45.019Z"
   },
   {
    "duration": 0,
    "start_time": "2024-09-18T22:10:45.020Z"
   },
   {
    "duration": 0,
    "start_time": "2024-09-18T22:10:45.022Z"
   },
   {
    "duration": 0,
    "start_time": "2024-09-18T22:10:45.022Z"
   },
   {
    "duration": 0,
    "start_time": "2024-09-18T22:10:45.024Z"
   },
   {
    "duration": 0,
    "start_time": "2024-09-18T22:10:45.025Z"
   },
   {
    "duration": 0,
    "start_time": "2024-09-18T22:10:45.026Z"
   },
   {
    "duration": 0,
    "start_time": "2024-09-18T22:10:45.027Z"
   },
   {
    "duration": 0,
    "start_time": "2024-09-18T22:10:45.028Z"
   },
   {
    "duration": 0,
    "start_time": "2024-09-18T22:10:45.029Z"
   },
   {
    "duration": 0,
    "start_time": "2024-09-18T22:10:45.030Z"
   },
   {
    "duration": 0,
    "start_time": "2024-09-18T22:10:45.031Z"
   },
   {
    "duration": 0,
    "start_time": "2024-09-18T22:10:45.033Z"
   },
   {
    "duration": 0,
    "start_time": "2024-09-18T22:10:45.034Z"
   },
   {
    "duration": 0,
    "start_time": "2024-09-18T22:10:45.038Z"
   },
   {
    "duration": 0,
    "start_time": "2024-09-18T22:10:45.039Z"
   },
   {
    "duration": 0,
    "start_time": "2024-09-18T22:10:45.041Z"
   },
   {
    "duration": 0,
    "start_time": "2024-09-18T22:10:45.042Z"
   },
   {
    "duration": 0,
    "start_time": "2024-09-18T22:10:45.044Z"
   },
   {
    "duration": 0,
    "start_time": "2024-09-18T22:10:45.045Z"
   },
   {
    "duration": 0,
    "start_time": "2024-09-18T22:10:45.047Z"
   },
   {
    "duration": 0,
    "start_time": "2024-09-18T22:10:45.048Z"
   },
   {
    "duration": 0,
    "start_time": "2024-09-18T22:10:45.109Z"
   },
   {
    "duration": 0,
    "start_time": "2024-09-18T22:10:45.111Z"
   },
   {
    "duration": 0,
    "start_time": "2024-09-18T22:10:45.112Z"
   },
   {
    "duration": 0,
    "start_time": "2024-09-18T22:10:45.113Z"
   },
   {
    "duration": 0,
    "start_time": "2024-09-18T22:10:45.114Z"
   },
   {
    "duration": 0,
    "start_time": "2024-09-18T22:10:45.115Z"
   },
   {
    "duration": 0,
    "start_time": "2024-09-18T22:10:45.116Z"
   },
   {
    "duration": 0,
    "start_time": "2024-09-18T22:10:45.118Z"
   },
   {
    "duration": 0,
    "start_time": "2024-09-18T22:10:45.119Z"
   },
   {
    "duration": 0,
    "start_time": "2024-09-18T22:10:45.120Z"
   },
   {
    "duration": 0,
    "start_time": "2024-09-18T22:10:45.121Z"
   },
   {
    "duration": 100,
    "start_time": "2024-09-18T22:16:08.046Z"
   },
   {
    "duration": 33,
    "start_time": "2024-09-18T22:19:41.121Z"
   },
   {
    "duration": 30,
    "start_time": "2024-09-18T22:21:08.020Z"
   },
   {
    "duration": 2,
    "start_time": "2024-09-18T22:22:20.144Z"
   },
   {
    "duration": 865,
    "start_time": "2024-09-18T22:22:21.521Z"
   },
   {
    "duration": 21,
    "start_time": "2024-09-18T22:22:22.389Z"
   },
   {
    "duration": 16,
    "start_time": "2024-09-18T22:22:22.744Z"
   },
   {
    "duration": 13,
    "start_time": "2024-09-18T22:22:23.290Z"
   },
   {
    "duration": 12,
    "start_time": "2024-09-18T22:22:23.841Z"
   },
   {
    "duration": 26,
    "start_time": "2024-09-18T22:22:24.362Z"
   },
   {
    "duration": 86,
    "start_time": "2024-09-18T22:22:28.805Z"
   },
   {
    "duration": 30,
    "start_time": "2024-09-18T22:22:33.503Z"
   },
   {
    "duration": 15,
    "start_time": "2024-09-18T22:22:34.624Z"
   },
   {
    "duration": 19,
    "start_time": "2024-09-18T22:22:36.841Z"
   },
   {
    "duration": 66,
    "start_time": "2024-09-18T22:22:47.189Z"
   },
   {
    "duration": 321,
    "start_time": "2024-09-18T22:22:47.258Z"
   },
   {
    "duration": 67,
    "start_time": "2024-09-18T22:22:47.581Z"
   },
   {
    "duration": 9,
    "start_time": "2024-09-18T22:24:01.504Z"
   },
   {
    "duration": 16,
    "start_time": "2024-09-18T22:27:46.437Z"
   },
   {
    "duration": 17,
    "start_time": "2024-09-18T22:28:15.494Z"
   },
   {
    "duration": 32,
    "start_time": "2024-09-18T22:29:38.054Z"
   },
   {
    "duration": 32,
    "start_time": "2024-09-18T22:30:16.451Z"
   },
   {
    "duration": 23,
    "start_time": "2024-09-18T22:36:46.594Z"
   },
   {
    "duration": 40,
    "start_time": "2024-09-18T22:37:30.826Z"
   },
   {
    "duration": 21,
    "start_time": "2024-09-18T22:38:10.934Z"
   },
   {
    "duration": 22,
    "start_time": "2024-09-18T22:41:33.207Z"
   },
   {
    "duration": 17,
    "start_time": "2024-09-18T22:45:20.001Z"
   },
   {
    "duration": 11,
    "start_time": "2024-09-18T22:46:42.023Z"
   },
   {
    "duration": 8,
    "start_time": "2024-09-18T22:48:14.765Z"
   },
   {
    "duration": 68,
    "start_time": "2024-09-18T22:49:16.062Z"
   },
   {
    "duration": 48,
    "start_time": "2024-09-18T22:52:26.477Z"
   },
   {
    "duration": 53,
    "start_time": "2024-09-18T22:52:33.440Z"
   },
   {
    "duration": 52,
    "start_time": "2024-09-18T22:53:34.716Z"
   },
   {
    "duration": 61,
    "start_time": "2024-09-18T22:53:47.077Z"
   },
   {
    "duration": 50,
    "start_time": "2024-09-18T22:54:57.362Z"
   },
   {
    "duration": 306,
    "start_time": "2024-09-18T22:58:27.523Z"
   },
   {
    "duration": 156,
    "start_time": "2024-09-19T08:46:09.254Z"
   },
   {
    "duration": 2537,
    "start_time": "2024-09-19T08:47:04.730Z"
   },
   {
    "duration": 1043,
    "start_time": "2024-09-19T08:47:07.269Z"
   },
   {
    "duration": 23,
    "start_time": "2024-09-19T08:47:08.313Z"
   },
   {
    "duration": 13,
    "start_time": "2024-09-19T08:47:08.339Z"
   },
   {
    "duration": 11,
    "start_time": "2024-09-19T08:47:08.354Z"
   },
   {
    "duration": 11,
    "start_time": "2024-09-19T08:47:08.367Z"
   },
   {
    "duration": 62,
    "start_time": "2024-09-19T08:47:08.380Z"
   },
   {
    "duration": 36,
    "start_time": "2024-09-19T08:47:08.443Z"
   },
   {
    "duration": 11,
    "start_time": "2024-09-19T08:47:08.480Z"
   },
   {
    "duration": 7,
    "start_time": "2024-09-19T08:47:08.495Z"
   },
   {
    "duration": 76,
    "start_time": "2024-09-19T08:47:08.504Z"
   },
   {
    "duration": 304,
    "start_time": "2024-09-19T08:47:08.582Z"
   },
   {
    "duration": 53,
    "start_time": "2024-09-19T08:47:08.888Z"
   },
   {
    "duration": 13,
    "start_time": "2024-09-19T08:47:08.943Z"
   },
   {
    "duration": 4,
    "start_time": "2024-09-19T08:47:08.958Z"
   },
   {
    "duration": 19,
    "start_time": "2024-09-19T08:47:08.963Z"
   },
   {
    "duration": 16,
    "start_time": "2024-09-19T08:47:08.984Z"
   },
   {
    "duration": 30,
    "start_time": "2024-09-19T08:47:09.001Z"
   },
   {
    "duration": 4,
    "start_time": "2024-09-19T08:47:09.033Z"
   },
   {
    "duration": 5,
    "start_time": "2024-09-19T08:47:09.039Z"
   },
   {
    "duration": 4,
    "start_time": "2024-09-19T08:47:09.045Z"
   },
   {
    "duration": 801,
    "start_time": "2024-09-19T08:47:09.051Z"
   },
   {
    "duration": 248,
    "start_time": "2024-09-19T08:47:09.854Z"
   },
   {
    "duration": 91,
    "start_time": "2024-09-19T08:47:10.104Z"
   },
   {
    "duration": 54,
    "start_time": "2024-09-19T08:47:10.196Z"
   },
   {
    "duration": 35,
    "start_time": "2024-09-19T08:47:10.252Z"
   },
   {
    "duration": 11,
    "start_time": "2024-09-19T08:47:10.288Z"
   },
   {
    "duration": 29,
    "start_time": "2024-09-19T08:47:10.303Z"
   },
   {
    "duration": 7,
    "start_time": "2024-09-19T08:47:10.334Z"
   },
   {
    "duration": 7,
    "start_time": "2024-09-19T08:47:10.342Z"
   },
   {
    "duration": 6,
    "start_time": "2024-09-19T08:47:10.351Z"
   },
   {
    "duration": 16,
    "start_time": "2024-09-19T08:47:10.359Z"
   },
   {
    "duration": 20,
    "start_time": "2024-09-19T08:47:10.377Z"
   },
   {
    "duration": 66,
    "start_time": "2024-09-19T08:47:10.399Z"
   },
   {
    "duration": 18,
    "start_time": "2024-09-19T08:47:10.466Z"
   },
   {
    "duration": 18,
    "start_time": "2024-09-19T08:47:10.486Z"
   },
   {
    "duration": 8,
    "start_time": "2024-09-19T08:47:10.531Z"
   },
   {
    "duration": 8,
    "start_time": "2024-09-19T08:47:10.541Z"
   },
   {
    "duration": 8,
    "start_time": "2024-09-19T08:47:10.551Z"
   },
   {
    "duration": 9,
    "start_time": "2024-09-19T08:47:10.560Z"
   },
   {
    "duration": 6,
    "start_time": "2024-09-19T08:47:10.571Z"
   },
   {
    "duration": 13,
    "start_time": "2024-09-19T08:47:10.579Z"
   },
   {
    "duration": 55,
    "start_time": "2024-09-19T08:47:10.594Z"
   },
   {
    "duration": 19,
    "start_time": "2024-09-19T08:47:10.651Z"
   },
   {
    "duration": 6,
    "start_time": "2024-09-19T08:47:10.671Z"
   },
   {
    "duration": 5,
    "start_time": "2024-09-19T08:47:10.679Z"
   },
   {
    "duration": 4,
    "start_time": "2024-09-19T08:47:10.685Z"
   },
   {
    "duration": 42,
    "start_time": "2024-09-19T08:47:10.690Z"
   },
   {
    "duration": 5,
    "start_time": "2024-09-19T08:47:10.733Z"
   },
   {
    "duration": 218,
    "start_time": "2024-09-19T08:47:10.739Z"
   },
   {
    "duration": 9,
    "start_time": "2024-09-19T08:47:10.959Z"
   },
   {
    "duration": 22,
    "start_time": "2024-09-19T08:47:10.970Z"
   },
   {
    "duration": 8,
    "start_time": "2024-09-19T08:47:10.994Z"
   },
   {
    "duration": 32,
    "start_time": "2024-09-19T08:47:11.004Z"
   },
   {
    "duration": 16,
    "start_time": "2024-09-19T08:47:11.038Z"
   },
   {
    "duration": 296,
    "start_time": "2024-09-19T08:47:11.056Z"
   },
   {
    "duration": 125,
    "start_time": "2024-09-19T08:47:11.354Z"
   },
   {
    "duration": 368,
    "start_time": "2024-09-19T08:47:11.480Z"
   },
   {
    "duration": 124,
    "start_time": "2024-09-19T08:47:11.850Z"
   },
   {
    "duration": 737,
    "start_time": "2024-09-19T08:47:11.976Z"
   },
   {
    "duration": 1281,
    "start_time": "2024-09-19T08:47:12.715Z"
   },
   {
    "duration": 4,
    "start_time": "2024-09-19T08:47:13.998Z"
   },
   {
    "duration": 6,
    "start_time": "2024-09-19T08:47:14.004Z"
   },
   {
    "duration": 21,
    "start_time": "2024-09-19T08:47:14.011Z"
   },
   {
    "duration": 8,
    "start_time": "2024-09-19T08:47:14.034Z"
   },
   {
    "duration": 145,
    "start_time": "2024-09-19T08:47:14.044Z"
   },
   {
    "duration": 185,
    "start_time": "2024-09-19T08:47:14.190Z"
   },
   {
    "duration": 107,
    "start_time": "2024-09-19T08:47:14.377Z"
   },
   {
    "duration": 136,
    "start_time": "2024-09-19T08:47:14.485Z"
   },
   {
    "duration": 16,
    "start_time": "2024-09-19T08:47:14.622Z"
   },
   {
    "duration": 10,
    "start_time": "2024-09-19T08:47:14.639Z"
   },
   {
    "duration": 4,
    "start_time": "2024-09-19T08:47:14.651Z"
   },
   {
    "duration": 810,
    "start_time": "2024-09-19T08:47:14.657Z"
   },
   {
    "duration": 140,
    "start_time": "2024-09-19T08:47:15.469Z"
   },
   {
    "duration": 192,
    "start_time": "2024-09-19T08:47:15.610Z"
   },
   {
    "duration": 35,
    "start_time": "2024-09-19T08:47:15.804Z"
   },
   {
    "duration": 9,
    "start_time": "2024-09-19T08:47:15.841Z"
   },
   {
    "duration": 5,
    "start_time": "2024-09-19T08:47:15.851Z"
   },
   {
    "duration": 514,
    "start_time": "2024-09-19T08:47:15.858Z"
   },
   {
    "duration": 897,
    "start_time": "2024-09-19T08:47:16.374Z"
   },
   {
    "duration": 559,
    "start_time": "2024-09-19T08:47:17.273Z"
   },
   {
    "duration": 7,
    "start_time": "2024-09-19T08:50:54.186Z"
   },
   {
    "duration": 8,
    "start_time": "2024-09-19T08:51:38.326Z"
   },
   {
    "duration": 28,
    "start_time": "2024-09-19T08:58:53.624Z"
   },
   {
    "duration": 10,
    "start_time": "2024-09-19T08:59:38.826Z"
   },
   {
    "duration": 7,
    "start_time": "2024-09-19T09:00:21.739Z"
   },
   {
    "duration": 13,
    "start_time": "2024-09-19T09:02:01.954Z"
   },
   {
    "duration": 7,
    "start_time": "2024-09-19T09:02:13.448Z"
   },
   {
    "duration": 6,
    "start_time": "2024-09-19T09:09:16.292Z"
   },
   {
    "duration": 5,
    "start_time": "2024-09-19T09:09:53.013Z"
   },
   {
    "duration": 7,
    "start_time": "2024-09-19T09:14:45.214Z"
   },
   {
    "duration": 49,
    "start_time": "2024-09-19T09:23:39.765Z"
   },
   {
    "duration": 86,
    "start_time": "2024-09-19T09:25:51.632Z"
   },
   {
    "duration": 83,
    "start_time": "2024-09-19T09:31:42.583Z"
   },
   {
    "duration": 52,
    "start_time": "2024-09-19T09:34:01.889Z"
   },
   {
    "duration": 79,
    "start_time": "2024-09-19T09:34:03.598Z"
   },
   {
    "duration": 79,
    "start_time": "2024-09-19T09:38:05.785Z"
   },
   {
    "duration": 6,
    "start_time": "2024-09-19T09:38:09.081Z"
   },
   {
    "duration": 4,
    "start_time": "2024-09-19T09:40:13.739Z"
   },
   {
    "duration": 38,
    "start_time": "2024-09-19T09:44:16.175Z"
   },
   {
    "duration": 38,
    "start_time": "2024-09-19T09:45:14.315Z"
   },
   {
    "duration": 45,
    "start_time": "2024-09-19T09:48:40.331Z"
   },
   {
    "duration": 14,
    "start_time": "2024-09-19T11:05:33.054Z"
   },
   {
    "duration": 6,
    "start_time": "2024-09-19T11:10:06.326Z"
   },
   {
    "duration": 11,
    "start_time": "2024-09-19T11:16:37.910Z"
   },
   {
    "duration": 16,
    "start_time": "2024-09-19T11:22:30.757Z"
   },
   {
    "duration": 13,
    "start_time": "2024-09-19T11:23:07.995Z"
   },
   {
    "duration": 10,
    "start_time": "2024-09-19T11:23:27.416Z"
   },
   {
    "duration": 6,
    "start_time": "2024-09-19T11:23:31.076Z"
   },
   {
    "duration": 5,
    "start_time": "2024-09-19T11:24:03.009Z"
   },
   {
    "duration": 3,
    "start_time": "2024-09-19T11:24:24.805Z"
   },
   {
    "duration": 216,
    "start_time": "2024-09-19T11:24:46.901Z"
   },
   {
    "duration": 10,
    "start_time": "2024-09-19T11:25:24.636Z"
   },
   {
    "duration": 13,
    "start_time": "2024-09-19T11:26:14.242Z"
   },
   {
    "duration": 5,
    "start_time": "2024-09-19T11:26:24.633Z"
   },
   {
    "duration": 3,
    "start_time": "2024-09-19T11:37:42.263Z"
   },
   {
    "duration": 19,
    "start_time": "2024-09-19T11:37:55.471Z"
   },
   {
    "duration": 13,
    "start_time": "2024-09-19T11:39:26.157Z"
   },
   {
    "duration": 11,
    "start_time": "2024-09-19T11:41:00.886Z"
   },
   {
    "duration": 21,
    "start_time": "2024-09-19T11:42:35.469Z"
   },
   {
    "duration": 8,
    "start_time": "2024-09-19T11:43:26.029Z"
   },
   {
    "duration": 13,
    "start_time": "2024-09-19T11:43:50.953Z"
   },
   {
    "duration": 8,
    "start_time": "2024-09-19T11:44:23.892Z"
   },
   {
    "duration": 10,
    "start_time": "2024-09-19T11:46:21.028Z"
   },
   {
    "duration": 5,
    "start_time": "2024-09-19T13:08:46.575Z"
   },
   {
    "duration": 3,
    "start_time": "2024-09-19T13:09:16.677Z"
   },
   {
    "duration": 3,
    "start_time": "2024-09-19T13:10:02.839Z"
   },
   {
    "duration": 10,
    "start_time": "2024-09-19T13:11:22.215Z"
   },
   {
    "duration": 13,
    "start_time": "2024-09-19T13:12:01.187Z"
   },
   {
    "duration": 15,
    "start_time": "2024-09-19T13:12:29.625Z"
   },
   {
    "duration": 13,
    "start_time": "2024-09-19T13:14:40.696Z"
   },
   {
    "duration": 12,
    "start_time": "2024-09-19T13:14:53.183Z"
   },
   {
    "duration": 12,
    "start_time": "2024-09-19T13:16:02.114Z"
   },
   {
    "duration": 14,
    "start_time": "2024-09-19T13:16:23.277Z"
   },
   {
    "duration": 874,
    "start_time": "2024-09-19T13:16:45.433Z"
   },
   {
    "duration": 876,
    "start_time": "2024-09-19T13:16:46.310Z"
   },
   {
    "duration": 18,
    "start_time": "2024-09-19T13:16:47.187Z"
   },
   {
    "duration": 24,
    "start_time": "2024-09-19T13:16:47.207Z"
   },
   {
    "duration": 11,
    "start_time": "2024-09-19T13:16:47.233Z"
   },
   {
    "duration": 12,
    "start_time": "2024-09-19T13:16:47.245Z"
   },
   {
    "duration": 27,
    "start_time": "2024-09-19T13:16:47.259Z"
   },
   {
    "duration": 63,
    "start_time": "2024-09-19T13:16:47.288Z"
   },
   {
    "duration": 11,
    "start_time": "2024-09-19T13:16:47.353Z"
   },
   {
    "duration": 9,
    "start_time": "2024-09-19T13:16:47.368Z"
   },
   {
    "duration": 80,
    "start_time": "2024-09-19T13:16:47.379Z"
   },
   {
    "duration": 90,
    "start_time": "2024-09-19T13:16:47.461Z"
   },
   {
    "duration": 42,
    "start_time": "2024-09-19T13:16:47.553Z"
   },
   {
    "duration": 13,
    "start_time": "2024-09-19T13:16:47.596Z"
   },
   {
    "duration": 24,
    "start_time": "2024-09-19T13:16:47.610Z"
   },
   {
    "duration": 6,
    "start_time": "2024-09-19T13:16:47.635Z"
   },
   {
    "duration": 8,
    "start_time": "2024-09-19T13:16:47.642Z"
   },
   {
    "duration": 30,
    "start_time": "2024-09-19T13:16:47.652Z"
   },
   {
    "duration": 11,
    "start_time": "2024-09-19T13:16:47.684Z"
   },
   {
    "duration": 36,
    "start_time": "2024-09-19T13:16:47.696Z"
   },
   {
    "duration": 4,
    "start_time": "2024-09-19T13:16:47.734Z"
   },
   {
    "duration": 5,
    "start_time": "2024-09-19T13:16:47.739Z"
   },
   {
    "duration": 5,
    "start_time": "2024-09-19T13:16:47.745Z"
   },
   {
    "duration": 5,
    "start_time": "2024-09-19T13:16:47.752Z"
   },
   {
    "duration": 4,
    "start_time": "2024-09-19T13:16:47.759Z"
   },
   {
    "duration": 808,
    "start_time": "2024-09-19T13:16:47.764Z"
   },
   {
    "duration": 272,
    "start_time": "2024-09-19T13:16:48.573Z"
   },
   {
    "duration": 94,
    "start_time": "2024-09-19T13:16:48.851Z"
   },
   {
    "duration": 45,
    "start_time": "2024-09-19T13:16:48.947Z"
   },
   {
    "duration": 40,
    "start_time": "2024-09-19T13:16:48.994Z"
   },
   {
    "duration": 17,
    "start_time": "2024-09-19T13:16:49.035Z"
   },
   {
    "duration": 14,
    "start_time": "2024-09-19T13:16:49.054Z"
   },
   {
    "duration": 6,
    "start_time": "2024-09-19T13:16:49.070Z"
   },
   {
    "duration": 11,
    "start_time": "2024-09-19T13:16:49.078Z"
   },
   {
    "duration": 6,
    "start_time": "2024-09-19T13:16:49.091Z"
   },
   {
    "duration": 17,
    "start_time": "2024-09-19T13:16:49.131Z"
   },
   {
    "duration": 21,
    "start_time": "2024-09-19T13:16:49.150Z"
   },
   {
    "duration": 35,
    "start_time": "2024-09-19T13:16:49.173Z"
   },
   {
    "duration": 38,
    "start_time": "2024-09-19T13:16:49.209Z"
   },
   {
    "duration": 17,
    "start_time": "2024-09-19T13:16:49.249Z"
   },
   {
    "duration": 9,
    "start_time": "2024-09-19T13:16:49.268Z"
   },
   {
    "duration": 8,
    "start_time": "2024-09-19T13:16:49.279Z"
   },
   {
    "duration": 8,
    "start_time": "2024-09-19T13:16:49.289Z"
   },
   {
    "duration": 36,
    "start_time": "2024-09-19T13:16:49.298Z"
   },
   {
    "duration": 5,
    "start_time": "2024-09-19T13:16:49.336Z"
   },
   {
    "duration": 4,
    "start_time": "2024-09-19T13:16:49.342Z"
   },
   {
    "duration": 28,
    "start_time": "2024-09-19T13:16:49.348Z"
   },
   {
    "duration": 18,
    "start_time": "2024-09-19T13:16:49.378Z"
   },
   {
    "duration": 37,
    "start_time": "2024-09-19T13:16:49.398Z"
   },
   {
    "duration": 3,
    "start_time": "2024-09-19T13:16:49.437Z"
   },
   {
    "duration": 5,
    "start_time": "2024-09-19T13:16:49.442Z"
   },
   {
    "duration": 12,
    "start_time": "2024-09-19T13:16:49.449Z"
   },
   {
    "duration": 5,
    "start_time": "2024-09-19T13:16:49.462Z"
   },
   {
    "duration": 242,
    "start_time": "2024-09-19T13:16:49.468Z"
   },
   {
    "duration": 9,
    "start_time": "2024-09-19T13:16:49.712Z"
   },
   {
    "duration": 23,
    "start_time": "2024-09-19T13:16:49.731Z"
   },
   {
    "duration": 12,
    "start_time": "2024-09-19T13:16:49.756Z"
   },
   {
    "duration": 11,
    "start_time": "2024-09-19T13:16:49.771Z"
   },
   {
    "duration": 22,
    "start_time": "2024-09-19T13:16:49.784Z"
   },
   {
    "duration": 356,
    "start_time": "2024-09-19T13:16:49.809Z"
   },
   {
    "duration": 131,
    "start_time": "2024-09-19T13:16:50.167Z"
   },
   {
    "duration": 335,
    "start_time": "2024-09-19T13:16:50.300Z"
   },
   {
    "duration": 123,
    "start_time": "2024-09-19T13:16:50.637Z"
   },
   {
    "duration": 722,
    "start_time": "2024-09-19T13:16:50.761Z"
   },
   {
    "duration": 1244,
    "start_time": "2024-09-19T13:16:51.485Z"
   },
   {
    "duration": 4,
    "start_time": "2024-09-19T13:16:52.731Z"
   },
   {
    "duration": 6,
    "start_time": "2024-09-19T13:16:52.738Z"
   },
   {
    "duration": 4,
    "start_time": "2024-09-19T13:16:52.746Z"
   },
   {
    "duration": 4,
    "start_time": "2024-09-19T13:16:52.751Z"
   },
   {
    "duration": 158,
    "start_time": "2024-09-19T13:16:52.757Z"
   },
   {
    "duration": 189,
    "start_time": "2024-09-19T13:16:52.917Z"
   },
   {
    "duration": 111,
    "start_time": "2024-09-19T13:16:53.108Z"
   },
   {
    "duration": 136,
    "start_time": "2024-09-19T13:16:53.221Z"
   },
   {
    "duration": 16,
    "start_time": "2024-09-19T13:16:53.359Z"
   },
   {
    "duration": 11,
    "start_time": "2024-09-19T13:16:53.376Z"
   },
   {
    "duration": 3,
    "start_time": "2024-09-19T13:16:53.389Z"
   },
   {
    "duration": 849,
    "start_time": "2024-09-19T13:16:53.394Z"
   },
   {
    "duration": 144,
    "start_time": "2024-09-19T13:16:54.244Z"
   },
   {
    "duration": 190,
    "start_time": "2024-09-19T13:16:54.391Z"
   },
   {
    "duration": 28,
    "start_time": "2024-09-19T13:16:54.583Z"
   },
   {
    "duration": 23,
    "start_time": "2024-09-19T13:16:54.613Z"
   },
   {
    "duration": 4,
    "start_time": "2024-09-19T13:16:54.641Z"
   },
   {
    "duration": 730,
    "start_time": "2024-09-19T13:16:54.647Z"
   },
   {
    "duration": 1285,
    "start_time": "2024-09-19T13:16:55.379Z"
   },
   {
    "duration": 550,
    "start_time": "2024-09-19T13:16:56.666Z"
   },
   {
    "duration": 26,
    "start_time": "2024-09-19T13:18:12.565Z"
   },
   {
    "duration": 11,
    "start_time": "2024-09-19T13:18:21.402Z"
   },
   {
    "duration": 7,
    "start_time": "2024-09-19T13:18:53.433Z"
   },
   {
    "duration": 45,
    "start_time": "2024-09-19T13:19:04.877Z"
   },
   {
    "duration": 87,
    "start_time": "2024-09-19T13:19:06.130Z"
   },
   {
    "duration": 56,
    "start_time": "2024-09-19T13:19:11.524Z"
   },
   {
    "duration": 18,
    "start_time": "2024-09-19T13:19:20.707Z"
   },
   {
    "duration": 5,
    "start_time": "2024-09-19T13:19:23.929Z"
   },
   {
    "duration": 7,
    "start_time": "2024-09-19T13:19:31.395Z"
   },
   {
    "duration": 5,
    "start_time": "2024-09-19T13:19:34.572Z"
   },
   {
    "duration": 21,
    "start_time": "2024-09-19T13:19:42.465Z"
   },
   {
    "duration": 11,
    "start_time": "2024-09-19T13:19:51.655Z"
   },
   {
    "duration": 11,
    "start_time": "2024-09-19T13:20:00.688Z"
   },
   {
    "duration": 3,
    "start_time": "2024-09-19T13:20:10.539Z"
   },
   {
    "duration": 19,
    "start_time": "2024-09-19T13:26:32.227Z"
   },
   {
    "duration": 220,
    "start_time": "2024-09-19T13:34:59.006Z"
   },
   {
    "duration": 7,
    "start_time": "2024-09-19T13:35:14.525Z"
   },
   {
    "duration": 4,
    "start_time": "2024-09-19T13:36:37.136Z"
   },
   {
    "duration": 5,
    "start_time": "2024-09-19T13:36:42.103Z"
   },
   {
    "duration": 15,
    "start_time": "2024-09-19T13:37:33.032Z"
   },
   {
    "duration": 5,
    "start_time": "2024-09-19T13:37:50.133Z"
   },
   {
    "duration": 6,
    "start_time": "2024-09-19T13:37:53.874Z"
   },
   {
    "duration": 14,
    "start_time": "2024-09-19T13:46:28.453Z"
   },
   {
    "duration": 5,
    "start_time": "2024-09-19T13:47:00.714Z"
   },
   {
    "duration": 5,
    "start_time": "2024-09-19T13:48:00.856Z"
   },
   {
    "duration": 3,
    "start_time": "2024-09-19T13:50:11.883Z"
   },
   {
    "duration": 7,
    "start_time": "2024-09-19T13:50:43.083Z"
   },
   {
    "duration": 7,
    "start_time": "2024-09-19T13:53:45.729Z"
   },
   {
    "duration": 6,
    "start_time": "2024-09-19T13:54:18.108Z"
   },
   {
    "duration": 5,
    "start_time": "2024-09-19T14:01:14.196Z"
   },
   {
    "duration": 5,
    "start_time": "2024-09-19T14:02:08.087Z"
   },
   {
    "duration": 14,
    "start_time": "2024-09-19T14:05:19.012Z"
   },
   {
    "duration": 5,
    "start_time": "2024-09-19T14:05:40.940Z"
   },
   {
    "duration": 5,
    "start_time": "2024-09-19T14:06:12.458Z"
   },
   {
    "duration": 433,
    "start_time": "2024-09-19T14:08:37.382Z"
   },
   {
    "duration": 40,
    "start_time": "2024-09-19T14:09:37.753Z"
   },
   {
    "duration": 8,
    "start_time": "2024-09-19T14:10:06.375Z"
   },
   {
    "duration": 5,
    "start_time": "2024-09-19T14:13:16.438Z"
   },
   {
    "duration": 755,
    "start_time": "2024-09-19T14:19:43.718Z"
   },
   {
    "duration": 778,
    "start_time": "2024-09-19T14:20:17.710Z"
   },
   {
    "duration": 5,
    "start_time": "2024-09-19T14:20:45.997Z"
   },
   {
    "duration": 300,
    "start_time": "2024-09-19T14:27:42.260Z"
   },
   {
    "duration": 225,
    "start_time": "2024-09-19T14:45:49.866Z"
   },
   {
    "duration": 80,
    "start_time": "2024-09-19T14:46:42.926Z"
   },
   {
    "duration": 34,
    "start_time": "2024-09-19T14:47:50.629Z"
   },
   {
    "duration": 57,
    "start_time": "2024-09-19T14:48:45.515Z"
   },
   {
    "duration": 67,
    "start_time": "2024-09-19T14:49:18.098Z"
   },
   {
    "duration": 42,
    "start_time": "2024-09-19T14:50:04.057Z"
   },
   {
    "duration": 27,
    "start_time": "2024-09-19T14:51:14.611Z"
   },
   {
    "duration": 38,
    "start_time": "2024-09-19T14:51:36.843Z"
   },
   {
    "duration": 8,
    "start_time": "2024-09-19T15:04:42.331Z"
   },
   {
    "duration": 140,
    "start_time": "2024-09-19T15:05:02.225Z"
   },
   {
    "duration": 9,
    "start_time": "2024-09-19T15:06:39.268Z"
   },
   {
    "duration": 8,
    "start_time": "2024-09-19T15:08:46.333Z"
   },
   {
    "duration": 17,
    "start_time": "2024-09-19T15:19:45.433Z"
   },
   {
    "duration": 14,
    "start_time": "2024-09-19T15:20:18.031Z"
   },
   {
    "duration": 10,
    "start_time": "2024-09-19T15:29:39.800Z"
   },
   {
    "duration": 7,
    "start_time": "2024-09-19T15:34:30.881Z"
   },
   {
    "duration": 8,
    "start_time": "2024-09-19T15:38:56.106Z"
   },
   {
    "duration": 7,
    "start_time": "2024-09-19T15:39:26.149Z"
   },
   {
    "duration": 9,
    "start_time": "2024-09-19T15:39:29.829Z"
   },
   {
    "duration": 5,
    "start_time": "2024-09-19T15:42:22.897Z"
   },
   {
    "duration": 9,
    "start_time": "2024-09-19T15:42:26.648Z"
   },
   {
    "duration": 4,
    "start_time": "2024-09-19T15:58:04.891Z"
   },
   {
    "duration": 15,
    "start_time": "2024-09-19T15:58:13.848Z"
   },
   {
    "duration": 4,
    "start_time": "2024-09-19T15:58:16.673Z"
   },
   {
    "duration": 9,
    "start_time": "2024-09-19T15:59:56.939Z"
   },
   {
    "duration": 6,
    "start_time": "2024-09-19T16:03:43.428Z"
   },
   {
    "duration": 19,
    "start_time": "2024-09-19T16:04:28.066Z"
   },
   {
    "duration": 883,
    "start_time": "2024-09-19T16:07:28.034Z"
   },
   {
    "duration": 882,
    "start_time": "2024-09-19T16:07:28.919Z"
   },
   {
    "duration": 17,
    "start_time": "2024-09-19T16:07:29.803Z"
   },
   {
    "duration": 13,
    "start_time": "2024-09-19T16:07:29.832Z"
   },
   {
    "duration": 11,
    "start_time": "2024-09-19T16:07:29.846Z"
   },
   {
    "duration": 10,
    "start_time": "2024-09-19T16:07:29.858Z"
   },
   {
    "duration": 29,
    "start_time": "2024-09-19T16:07:29.870Z"
   },
   {
    "duration": 35,
    "start_time": "2024-09-19T16:07:29.931Z"
   },
   {
    "duration": 12,
    "start_time": "2024-09-19T16:07:29.968Z"
   },
   {
    "duration": 9,
    "start_time": "2024-09-19T16:07:29.984Z"
   },
   {
    "duration": 86,
    "start_time": "2024-09-19T16:07:29.995Z"
   },
   {
    "duration": 98,
    "start_time": "2024-09-19T16:07:30.083Z"
   },
   {
    "duration": 49,
    "start_time": "2024-09-19T16:07:30.183Z"
   },
   {
    "duration": 13,
    "start_time": "2024-09-19T16:07:30.234Z"
   },
   {
    "duration": 5,
    "start_time": "2024-09-19T16:07:30.249Z"
   },
   {
    "duration": 6,
    "start_time": "2024-09-19T16:07:30.256Z"
   },
   {
    "duration": 4,
    "start_time": "2024-09-19T16:07:30.264Z"
   },
   {
    "duration": 21,
    "start_time": "2024-09-19T16:07:30.270Z"
   },
   {
    "duration": 43,
    "start_time": "2024-09-19T16:07:30.293Z"
   },
   {
    "duration": 10,
    "start_time": "2024-09-19T16:07:30.338Z"
   },
   {
    "duration": 3,
    "start_time": "2024-09-19T16:07:30.349Z"
   },
   {
    "duration": 17,
    "start_time": "2024-09-19T16:07:30.353Z"
   },
   {
    "duration": 6,
    "start_time": "2024-09-19T16:07:30.372Z"
   },
   {
    "duration": 5,
    "start_time": "2024-09-19T16:07:30.379Z"
   },
   {
    "duration": 5,
    "start_time": "2024-09-19T16:07:30.386Z"
   },
   {
    "duration": 40,
    "start_time": "2024-09-19T16:07:30.394Z"
   },
   {
    "duration": 7,
    "start_time": "2024-09-19T16:07:30.436Z"
   },
   {
    "duration": 6,
    "start_time": "2024-09-19T16:07:30.449Z"
   },
   {
    "duration": 5,
    "start_time": "2024-09-19T16:07:30.457Z"
   },
   {
    "duration": 5,
    "start_time": "2024-09-19T16:07:30.463Z"
   },
   {
    "duration": 5,
    "start_time": "2024-09-19T16:07:30.471Z"
   },
   {
    "duration": 5,
    "start_time": "2024-09-19T16:07:30.477Z"
   },
   {
    "duration": 48,
    "start_time": "2024-09-19T16:07:30.484Z"
   },
   {
    "duration": 6,
    "start_time": "2024-09-19T16:07:30.534Z"
   },
   {
    "duration": 799,
    "start_time": "2024-09-19T16:07:30.541Z"
   },
   {
    "duration": 5,
    "start_time": "2024-09-19T16:07:31.342Z"
   },
   {
    "duration": 324,
    "start_time": "2024-09-19T16:07:31.349Z"
   },
   {
    "duration": 269,
    "start_time": "2024-09-19T16:07:31.675Z"
   },
   {
    "duration": 130,
    "start_time": "2024-09-19T16:07:31.946Z"
   },
   {
    "duration": 92,
    "start_time": "2024-09-19T16:07:32.078Z"
   },
   {
    "duration": 66,
    "start_time": "2024-09-19T16:07:32.172Z"
   },
   {
    "duration": 46,
    "start_time": "2024-09-19T16:07:32.239Z"
   },
   {
    "duration": 60,
    "start_time": "2024-09-19T16:07:32.287Z"
   },
   {
    "duration": 28,
    "start_time": "2024-09-19T16:07:32.349Z"
   },
   {
    "duration": 56,
    "start_time": "2024-09-19T16:07:32.379Z"
   },
   {
    "duration": 9,
    "start_time": "2024-09-19T16:07:32.437Z"
   },
   {
    "duration": 8,
    "start_time": "2024-09-19T16:07:32.447Z"
   },
   {
    "duration": 8,
    "start_time": "2024-09-19T16:07:32.456Z"
   },
   {
    "duration": 7,
    "start_time": "2024-09-19T16:07:32.466Z"
   },
   {
    "duration": 7,
    "start_time": "2024-09-19T16:07:32.475Z"
   },
   {
    "duration": 5,
    "start_time": "2024-09-19T16:07:32.483Z"
   },
   {
    "duration": 47,
    "start_time": "2024-09-19T16:07:32.489Z"
   },
   {
    "duration": 16,
    "start_time": "2024-09-19T16:07:32.537Z"
   },
   {
    "duration": 7,
    "start_time": "2024-09-19T16:07:32.554Z"
   },
   {
    "duration": 14,
    "start_time": "2024-09-19T16:07:32.563Z"
   },
   {
    "duration": 57,
    "start_time": "2024-09-19T16:07:32.579Z"
   },
   {
    "duration": 19,
    "start_time": "2024-09-19T16:07:32.637Z"
   },
   {
    "duration": 19,
    "start_time": "2024-09-19T16:07:32.658Z"
   },
   {
    "duration": 7,
    "start_time": "2024-09-19T16:07:32.679Z"
   },
   {
    "duration": 8,
    "start_time": "2024-09-19T16:07:32.688Z"
   },
   {
    "duration": 38,
    "start_time": "2024-09-19T16:07:32.698Z"
   },
   {
    "duration": 5,
    "start_time": "2024-09-19T16:07:32.738Z"
   },
   {
    "duration": 4,
    "start_time": "2024-09-19T16:07:32.745Z"
   },
   {
    "duration": 3,
    "start_time": "2024-09-19T16:07:32.752Z"
   },
   {
    "duration": 37,
    "start_time": "2024-09-19T16:07:32.758Z"
   },
   {
    "duration": 46,
    "start_time": "2024-09-19T16:07:32.796Z"
   },
   {
    "duration": 6,
    "start_time": "2024-09-19T16:07:32.843Z"
   },
   {
    "duration": 3,
    "start_time": "2024-09-19T16:07:32.851Z"
   },
   {
    "duration": 4,
    "start_time": "2024-09-19T16:07:32.856Z"
   },
   {
    "duration": 11,
    "start_time": "2024-09-19T16:07:32.861Z"
   },
   {
    "duration": 4,
    "start_time": "2024-09-19T16:07:32.874Z"
   },
   {
    "duration": 238,
    "start_time": "2024-09-19T16:07:32.880Z"
   },
   {
    "duration": 17,
    "start_time": "2024-09-19T16:07:33.120Z"
   },
   {
    "duration": 22,
    "start_time": "2024-09-19T16:07:33.139Z"
   },
   {
    "duration": 9,
    "start_time": "2024-09-19T16:07:33.163Z"
   },
   {
    "duration": 11,
    "start_time": "2024-09-19T16:07:33.173Z"
   },
   {
    "duration": 17,
    "start_time": "2024-09-19T16:07:33.186Z"
   },
   {
    "duration": 325,
    "start_time": "2024-09-19T16:07:33.231Z"
   },
   {
    "duration": 119,
    "start_time": "2024-09-19T16:07:33.558Z"
   },
   {
    "duration": 324,
    "start_time": "2024-09-19T16:07:33.678Z"
   },
   {
    "duration": 101,
    "start_time": "2024-09-19T16:07:34.004Z"
   },
   {
    "duration": 676,
    "start_time": "2024-09-19T16:07:34.111Z"
   },
   {
    "duration": 1260,
    "start_time": "2024-09-19T16:07:34.788Z"
   },
   {
    "duration": 4,
    "start_time": "2024-09-19T16:07:36.050Z"
   },
   {
    "duration": 6,
    "start_time": "2024-09-19T16:07:36.056Z"
   },
   {
    "duration": 3,
    "start_time": "2024-09-19T16:07:36.064Z"
   },
   {
    "duration": 4,
    "start_time": "2024-09-19T16:07:36.069Z"
   },
   {
    "duration": 175,
    "start_time": "2024-09-19T16:07:36.075Z"
   },
   {
    "duration": 185,
    "start_time": "2024-09-19T16:07:36.252Z"
   },
   {
    "duration": 110,
    "start_time": "2024-09-19T16:07:36.439Z"
   },
   {
    "duration": 134,
    "start_time": "2024-09-19T16:07:36.551Z"
   },
   {
    "duration": 16,
    "start_time": "2024-09-19T16:07:36.687Z"
   },
   {
    "duration": 27,
    "start_time": "2024-09-19T16:07:36.704Z"
   },
   {
    "duration": 5,
    "start_time": "2024-09-19T16:07:36.733Z"
   },
   {
    "duration": 850,
    "start_time": "2024-09-19T16:07:36.739Z"
   },
   {
    "duration": 154,
    "start_time": "2024-09-19T16:07:37.591Z"
   },
   {
    "duration": 198,
    "start_time": "2024-09-19T16:07:37.747Z"
   },
   {
    "duration": 29,
    "start_time": "2024-09-19T16:07:37.947Z"
   },
   {
    "duration": 9,
    "start_time": "2024-09-19T16:07:37.978Z"
   },
   {
    "duration": 4,
    "start_time": "2024-09-19T16:07:37.989Z"
   },
   {
    "duration": 745,
    "start_time": "2024-09-19T16:07:37.994Z"
   },
   {
    "duration": 1259,
    "start_time": "2024-09-19T16:07:38.741Z"
   },
   {
    "duration": 536,
    "start_time": "2024-09-19T16:07:40.002Z"
   },
   {
    "duration": 3,
    "start_time": "2024-09-19T16:07:58.477Z"
   },
   {
    "duration": 826,
    "start_time": "2024-09-19T16:07:59.729Z"
   },
   {
    "duration": 14,
    "start_time": "2024-09-19T16:08:00.557Z"
   },
   {
    "duration": 16,
    "start_time": "2024-09-19T16:08:00.862Z"
   },
   {
    "duration": 12,
    "start_time": "2024-09-19T16:08:01.395Z"
   },
   {
    "duration": 11,
    "start_time": "2024-09-19T16:08:01.904Z"
   },
   {
    "duration": 33,
    "start_time": "2024-09-19T16:08:02.461Z"
   },
   {
    "duration": 30,
    "start_time": "2024-09-19T16:08:06.067Z"
   },
   {
    "duration": 10,
    "start_time": "2024-09-19T16:08:07.050Z"
   },
   {
    "duration": 16,
    "start_time": "2024-09-19T16:08:07.638Z"
   },
   {
    "duration": 58,
    "start_time": "2024-09-19T16:08:09.268Z"
   },
   {
    "duration": 76,
    "start_time": "2024-09-19T16:08:09.764Z"
   },
   {
    "duration": 47,
    "start_time": "2024-09-19T16:08:10.296Z"
   },
   {
    "duration": 16,
    "start_time": "2024-09-19T16:08:11.889Z"
   },
   {
    "duration": 5,
    "start_time": "2024-09-19T16:08:12.395Z"
   },
   {
    "duration": 6,
    "start_time": "2024-09-19T16:08:12.964Z"
   },
   {
    "duration": 5,
    "start_time": "2024-09-19T16:08:13.526Z"
   },
   {
    "duration": 21,
    "start_time": "2024-09-19T16:08:14.003Z"
   },
   {
    "duration": 12,
    "start_time": "2024-09-19T16:08:14.588Z"
   },
   {
    "duration": 10,
    "start_time": "2024-09-19T16:08:15.213Z"
   },
   {
    "duration": 3,
    "start_time": "2024-09-19T16:08:15.740Z"
   },
   {
    "duration": 20,
    "start_time": "2024-09-19T16:08:16.734Z"
   },
   {
    "duration": 5,
    "start_time": "2024-09-19T16:08:18.497Z"
   },
   {
    "duration": 5,
    "start_time": "2024-09-19T16:08:19.135Z"
   },
   {
    "duration": 7,
    "start_time": "2024-09-19T16:08:19.758Z"
   },
   {
    "duration": 5,
    "start_time": "2024-09-19T16:08:20.334Z"
   },
   {
    "duration": 9,
    "start_time": "2024-09-19T16:08:20.920Z"
   },
   {
    "duration": 4,
    "start_time": "2024-09-19T16:08:21.524Z"
   },
   {
    "duration": 6,
    "start_time": "2024-09-19T16:08:23.259Z"
   },
   {
    "duration": 7,
    "start_time": "2024-09-19T16:08:23.800Z"
   },
   {
    "duration": 5,
    "start_time": "2024-09-19T16:08:24.426Z"
   },
   {
    "duration": 5,
    "start_time": "2024-09-19T16:08:25.176Z"
   },
   {
    "duration": 8,
    "start_time": "2024-09-19T16:08:25.786Z"
   },
   {
    "duration": 5,
    "start_time": "2024-09-19T16:08:26.332Z"
   },
   {
    "duration": 788,
    "start_time": "2024-09-19T16:08:28.070Z"
   },
   {
    "duration": 6,
    "start_time": "2024-09-19T16:08:28.861Z"
   },
   {
    "duration": 324,
    "start_time": "2024-09-19T16:08:29.184Z"
   },
   {
    "duration": 250,
    "start_time": "2024-09-19T16:08:29.876Z"
   },
   {
    "duration": 69,
    "start_time": "2024-09-19T16:08:30.451Z"
   },
   {
    "duration": 138,
    "start_time": "2024-09-19T16:08:31.233Z"
   },
   {
    "duration": 66,
    "start_time": "2024-09-19T16:08:31.888Z"
   },
   {
    "duration": 45,
    "start_time": "2024-09-19T16:08:32.597Z"
   },
   {
    "duration": 51,
    "start_time": "2024-09-19T16:08:33.326Z"
   },
   {
    "duration": 27,
    "start_time": "2024-09-19T16:08:33.942Z"
   },
   {
    "duration": 46,
    "start_time": "2024-09-19T16:08:34.597Z"
   },
   {
    "duration": 11,
    "start_time": "2024-09-19T16:08:37.935Z"
   },
   {
    "duration": 9,
    "start_time": "2024-09-19T16:08:43.027Z"
   },
   {
    "duration": 9,
    "start_time": "2024-09-19T16:08:45.855Z"
   },
   {
    "duration": 11,
    "start_time": "2024-09-19T16:08:47.614Z"
   },
   {
    "duration": 8,
    "start_time": "2024-09-19T16:08:49.655Z"
   },
   {
    "duration": 6,
    "start_time": "2024-09-19T16:08:51.066Z"
   },
   {
    "duration": 10,
    "start_time": "2024-09-19T16:08:51.654Z"
   },
   {
    "duration": 17,
    "start_time": "2024-09-19T16:08:56.609Z"
   },
   {
    "duration": 7,
    "start_time": "2024-09-19T16:09:12.867Z"
   },
   {
    "duration": 15,
    "start_time": "2024-09-19T16:09:22.300Z"
   },
   {
    "duration": 611,
    "start_time": "2024-09-19T16:12:22.276Z"
   },
   {
    "duration": 787,
    "start_time": "2024-09-19T16:13:42.963Z"
   },
   {
    "duration": 861,
    "start_time": "2024-09-19T16:18:14.395Z"
   },
   {
    "duration": 878,
    "start_time": "2024-09-19T16:18:58.114Z"
   },
   {
    "duration": 910,
    "start_time": "2024-09-19T16:23:38.344Z"
   },
   {
    "duration": 6,
    "start_time": "2024-09-19T16:26:39.137Z"
   },
   {
    "duration": 9,
    "start_time": "2024-09-19T16:26:56.343Z"
   },
   {
    "duration": 5,
    "start_time": "2024-09-19T16:30:42.303Z"
   },
   {
    "duration": 4,
    "start_time": "2024-09-19T16:31:01.730Z"
   },
   {
    "duration": 878,
    "start_time": "2024-09-19T16:31:40.133Z"
   },
   {
    "duration": 4,
    "start_time": "2024-09-19T16:31:45.924Z"
   },
   {
    "duration": 3,
    "start_time": "2024-09-19T16:33:50.364Z"
   },
   {
    "duration": 8,
    "start_time": "2024-09-19T16:34:03.120Z"
   },
   {
    "duration": 867,
    "start_time": "2024-09-19T16:34:05.595Z"
   },
   {
    "duration": 3,
    "start_time": "2024-09-19T16:34:15.919Z"
   },
   {
    "duration": 3,
    "start_time": "2024-09-19T16:35:05.211Z"
   },
   {
    "duration": 4,
    "start_time": "2024-09-19T16:35:21.891Z"
   },
   {
    "duration": 13,
    "start_time": "2024-09-19T16:41:51.674Z"
   },
   {
    "duration": 4,
    "start_time": "2024-09-19T16:42:49.531Z"
   },
   {
    "duration": 16,
    "start_time": "2024-09-19T16:48:40.464Z"
   },
   {
    "duration": 18,
    "start_time": "2024-09-19T16:48:45.901Z"
   },
   {
    "duration": 5,
    "start_time": "2024-09-19T16:53:17.098Z"
   },
   {
    "duration": 16,
    "start_time": "2024-09-19T16:55:33.950Z"
   },
   {
    "duration": 6,
    "start_time": "2024-09-19T16:58:12.570Z"
   },
   {
    "duration": 6,
    "start_time": "2024-09-19T17:23:48.648Z"
   },
   {
    "duration": 10,
    "start_time": "2024-09-19T17:24:58.863Z"
   },
   {
    "duration": 5,
    "start_time": "2024-09-19T17:41:21.408Z"
   },
   {
    "duration": 3,
    "start_time": "2024-09-19T17:41:37.881Z"
   },
   {
    "duration": 4,
    "start_time": "2024-09-19T17:42:54.803Z"
   },
   {
    "duration": 9,
    "start_time": "2024-09-19T17:51:20.430Z"
   },
   {
    "duration": 9,
    "start_time": "2024-09-19T17:52:51.600Z"
   },
   {
    "duration": 15,
    "start_time": "2024-09-19T17:54:04.200Z"
   },
   {
    "duration": 8,
    "start_time": "2024-09-19T17:55:39.707Z"
   },
   {
    "duration": 5,
    "start_time": "2024-09-19T18:00:39.087Z"
   },
   {
    "duration": 14,
    "start_time": "2024-09-19T18:04:14.425Z"
   },
   {
    "duration": 9,
    "start_time": "2024-09-19T18:05:06.129Z"
   },
   {
    "duration": 4,
    "start_time": "2024-09-19T18:06:11.231Z"
   },
   {
    "duration": 3,
    "start_time": "2024-09-19T18:07:05.952Z"
   },
   {
    "duration": 14,
    "start_time": "2024-09-19T18:12:22.569Z"
   },
   {
    "duration": 10,
    "start_time": "2024-09-19T18:12:45.549Z"
   },
   {
    "duration": 8,
    "start_time": "2024-09-19T18:12:49.164Z"
   },
   {
    "duration": 4,
    "start_time": "2024-09-19T18:13:10.293Z"
   },
   {
    "duration": 36,
    "start_time": "2024-09-19T18:15:27.206Z"
   },
   {
    "duration": 26,
    "start_time": "2024-09-19T18:15:54.639Z"
   },
   {
    "duration": 5,
    "start_time": "2024-09-19T18:16:07.203Z"
   },
   {
    "duration": 3,
    "start_time": "2024-09-19T18:16:07.812Z"
   },
   {
    "duration": 4,
    "start_time": "2024-09-19T18:16:08.512Z"
   },
   {
    "duration": 15,
    "start_time": "2024-09-19T18:16:11.344Z"
   },
   {
    "duration": 4,
    "start_time": "2024-09-19T18:16:12.188Z"
   },
   {
    "duration": 312,
    "start_time": "2024-09-19T18:16:13.316Z"
   },
   {
    "duration": 9,
    "start_time": "2024-09-19T18:16:16.998Z"
   },
   {
    "duration": 21,
    "start_time": "2024-09-19T18:16:18.987Z"
   },
   {
    "duration": 9,
    "start_time": "2024-09-19T18:16:21.422Z"
   },
   {
    "duration": 10,
    "start_time": "2024-09-19T18:16:22.064Z"
   },
   {
    "duration": 18,
    "start_time": "2024-09-19T18:16:25.834Z"
   },
   {
    "duration": 274,
    "start_time": "2024-09-19T18:16:26.771Z"
   },
   {
    "duration": 107,
    "start_time": "2024-09-19T18:16:48.066Z"
   },
   {
    "duration": 315,
    "start_time": "2024-09-19T18:16:50.867Z"
   },
   {
    "duration": 92,
    "start_time": "2024-09-19T18:17:04.324Z"
   },
   {
    "duration": 725,
    "start_time": "2024-09-19T18:17:10.117Z"
   },
   {
    "duration": 1236,
    "start_time": "2024-09-19T18:17:11.102Z"
   },
   {
    "duration": 5,
    "start_time": "2024-09-19T18:17:15.515Z"
   },
   {
    "duration": 6,
    "start_time": "2024-09-19T18:17:19.395Z"
   },
   {
    "duration": 4,
    "start_time": "2024-09-19T18:17:20.733Z"
   },
   {
    "duration": 4,
    "start_time": "2024-09-19T18:17:21.764Z"
   },
   {
    "duration": 135,
    "start_time": "2024-09-19T18:17:23.413Z"
   },
   {
    "duration": 164,
    "start_time": "2024-09-19T18:17:26.549Z"
   },
   {
    "duration": 77,
    "start_time": "2024-09-19T18:17:30.358Z"
   },
   {
    "duration": 93,
    "start_time": "2024-09-19T18:17:32.304Z"
   },
   {
    "duration": 15,
    "start_time": "2024-09-19T18:17:34.308Z"
   },
   {
    "duration": 10,
    "start_time": "2024-09-19T18:17:35.825Z"
   },
   {
    "duration": 5,
    "start_time": "2024-09-19T18:17:40.465Z"
   },
   {
    "duration": 813,
    "start_time": "2024-09-19T18:17:48.987Z"
   },
   {
    "duration": 108,
    "start_time": "2024-09-19T18:17:49.957Z"
   },
   {
    "duration": 159,
    "start_time": "2024-09-19T18:17:51.147Z"
   },
   {
    "duration": 26,
    "start_time": "2024-09-19T18:17:51.968Z"
   },
   {
    "duration": 11,
    "start_time": "2024-09-19T18:17:52.794Z"
   },
   {
    "duration": 5,
    "start_time": "2024-09-19T18:17:53.759Z"
   },
   {
    "duration": 705,
    "start_time": "2024-09-19T18:17:57.760Z"
   },
   {
    "duration": 1234,
    "start_time": "2024-09-19T18:17:58.698Z"
   },
   {
    "duration": 491,
    "start_time": "2024-09-19T18:17:59.934Z"
   },
   {
    "duration": 13,
    "start_time": "2024-09-19T18:48:33.742Z"
   },
   {
    "duration": 159,
    "start_time": "2024-09-19T18:49:35.471Z"
   },
   {
    "duration": 915,
    "start_time": "2024-09-19T18:51:18.323Z"
   },
   {
    "duration": 1046,
    "start_time": "2024-09-19T18:51:19.360Z"
   },
   {
    "duration": 28,
    "start_time": "2024-09-19T18:51:20.408Z"
   },
   {
    "duration": 14,
    "start_time": "2024-09-19T18:51:20.438Z"
   },
   {
    "duration": 11,
    "start_time": "2024-09-19T18:51:20.759Z"
   },
   {
    "duration": 11,
    "start_time": "2024-09-19T18:51:21.186Z"
   },
   {
    "duration": 28,
    "start_time": "2024-09-19T18:51:21.610Z"
   },
   {
    "duration": 34,
    "start_time": "2024-09-19T18:51:25.305Z"
   },
   {
    "duration": 11,
    "start_time": "2024-09-19T18:51:26.220Z"
   },
   {
    "duration": 10,
    "start_time": "2024-09-19T18:51:26.705Z"
   },
   {
    "duration": 59,
    "start_time": "2024-09-19T18:51:28.174Z"
   },
   {
    "duration": 89,
    "start_time": "2024-09-19T18:51:28.587Z"
   },
   {
    "duration": 41,
    "start_time": "2024-09-19T18:51:29.064Z"
   },
   {
    "duration": 14,
    "start_time": "2024-09-19T18:51:30.589Z"
   },
   {
    "duration": 5,
    "start_time": "2024-09-19T18:51:31.031Z"
   },
   {
    "duration": 7,
    "start_time": "2024-09-19T18:51:31.449Z"
   },
   {
    "duration": 5,
    "start_time": "2024-09-19T18:51:31.947Z"
   },
   {
    "duration": 21,
    "start_time": "2024-09-19T18:51:32.408Z"
   },
   {
    "duration": 12,
    "start_time": "2024-09-19T18:51:32.907Z"
   },
   {
    "duration": 10,
    "start_time": "2024-09-19T18:51:33.417Z"
   },
   {
    "duration": 4,
    "start_time": "2024-09-19T18:51:33.855Z"
   },
   {
    "duration": 18,
    "start_time": "2024-09-19T18:51:34.848Z"
   },
   {
    "duration": 4,
    "start_time": "2024-09-19T18:51:36.346Z"
   },
   {
    "duration": 6,
    "start_time": "2024-09-19T18:51:36.850Z"
   },
   {
    "duration": 5,
    "start_time": "2024-09-19T18:51:37.291Z"
   },
   {
    "duration": 5,
    "start_time": "2024-09-19T18:51:37.790Z"
   },
   {
    "duration": 8,
    "start_time": "2024-09-19T18:51:38.314Z"
   },
   {
    "duration": 5,
    "start_time": "2024-09-19T18:51:38.862Z"
   },
   {
    "duration": 4,
    "start_time": "2024-09-19T18:51:40.433Z"
   },
   {
    "duration": 5,
    "start_time": "2024-09-19T18:51:41.033Z"
   },
   {
    "duration": 5,
    "start_time": "2024-09-19T18:51:44.883Z"
   },
   {
    "duration": 5,
    "start_time": "2024-09-19T18:51:49.062Z"
   },
   {
    "duration": 8,
    "start_time": "2024-09-19T18:51:52.076Z"
   },
   {
    "duration": 6,
    "start_time": "2024-09-19T18:51:52.562Z"
   },
   {
    "duration": 783,
    "start_time": "2024-09-19T18:51:53.996Z"
   },
   {
    "duration": 5,
    "start_time": "2024-09-19T18:51:54.782Z"
   },
   {
    "duration": 314,
    "start_time": "2024-09-19T18:51:54.881Z"
   },
   {
    "duration": 245,
    "start_time": "2024-09-19T18:51:55.444Z"
   },
   {
    "duration": 115,
    "start_time": "2024-09-19T18:51:55.966Z"
   },
   {
    "duration": 80,
    "start_time": "2024-09-19T18:51:56.522Z"
   },
   {
    "duration": 54,
    "start_time": "2024-09-19T18:51:57.218Z"
   },
   {
    "duration": 46,
    "start_time": "2024-09-19T18:51:57.856Z"
   },
   {
    "duration": 48,
    "start_time": "2024-09-19T18:51:58.477Z"
   },
   {
    "duration": 27,
    "start_time": "2024-09-19T18:51:59.031Z"
   },
   {
    "duration": 44,
    "start_time": "2024-09-19T18:51:59.633Z"
   },
   {
    "duration": 9,
    "start_time": "2024-09-19T18:52:01.766Z"
   },
   {
    "duration": 9,
    "start_time": "2024-09-19T18:52:02.328Z"
   },
   {
    "duration": 10,
    "start_time": "2024-09-19T18:52:03.456Z"
   },
   {
    "duration": 11,
    "start_time": "2024-09-19T18:52:04.549Z"
   },
   {
    "duration": 8,
    "start_time": "2024-09-19T18:52:05.547Z"
   },
   {
    "duration": 5,
    "start_time": "2024-09-19T18:52:06.601Z"
   },
   {
    "duration": 9,
    "start_time": "2024-09-19T18:52:07.092Z"
   },
   {
    "duration": 16,
    "start_time": "2024-09-19T18:52:09.012Z"
   },
   {
    "duration": 7,
    "start_time": "2024-09-19T18:52:09.574Z"
   },
   {
    "duration": 911,
    "start_time": "2024-09-19T18:52:10.102Z"
   },
   {
    "duration": 4,
    "start_time": "2024-09-19T18:52:11.015Z"
   },
   {
    "duration": 17,
    "start_time": "2024-09-19T18:52:12.176Z"
   },
   {
    "duration": 20,
    "start_time": "2024-09-19T18:52:12.704Z"
   },
   {
    "duration": 15,
    "start_time": "2024-09-19T18:52:13.246Z"
   },
   {
    "duration": 15,
    "start_time": "2024-09-19T18:52:13.801Z"
   },
   {
    "duration": 11,
    "start_time": "2024-09-19T18:52:14.893Z"
   },
   {
    "duration": 5,
    "start_time": "2024-09-19T18:52:15.430Z"
   },
   {
    "duration": 5,
    "start_time": "2024-09-19T18:52:15.986Z"
   },
   {
    "duration": 9,
    "start_time": "2024-09-19T18:52:16.503Z"
   },
   {
    "duration": 9,
    "start_time": "2024-09-19T18:52:17.081Z"
   },
   {
    "duration": 7,
    "start_time": "2024-09-19T18:52:17.580Z"
   },
   {
    "duration": 3,
    "start_time": "2024-09-19T18:52:18.704Z"
   },
   {
    "duration": 34,
    "start_time": "2024-09-19T18:52:19.864Z"
   },
   {
    "duration": 22,
    "start_time": "2024-09-19T18:52:20.354Z"
   },
   {
    "duration": 5,
    "start_time": "2024-09-19T18:52:23.329Z"
   },
   {
    "duration": 4,
    "start_time": "2024-09-19T18:52:23.853Z"
   },
   {
    "duration": 4,
    "start_time": "2024-09-19T18:52:24.386Z"
   },
   {
    "duration": 11,
    "start_time": "2024-09-19T18:52:26.387Z"
   },
   {
    "duration": 4,
    "start_time": "2024-09-19T18:52:26.894Z"
   },
   {
    "duration": 221,
    "start_time": "2024-09-19T18:52:27.455Z"
   },
   {
    "duration": 9,
    "start_time": "2024-09-19T18:52:29.411Z"
   },
   {
    "duration": 22,
    "start_time": "2024-09-19T18:52:30.927Z"
   },
   {
    "duration": 9,
    "start_time": "2024-09-19T18:52:32.927Z"
   },
   {
    "duration": 9,
    "start_time": "2024-09-19T18:52:33.379Z"
   },
   {
    "duration": 17,
    "start_time": "2024-09-19T18:52:33.921Z"
   },
   {
    "duration": 269,
    "start_time": "2024-09-19T18:52:34.439Z"
   },
   {
    "duration": 110,
    "start_time": "2024-09-19T18:52:35.978Z"
   },
   {
    "duration": 307,
    "start_time": "2024-09-19T18:52:36.496Z"
   },
   {
    "duration": 101,
    "start_time": "2024-09-19T18:52:38.111Z"
   },
   {
    "duration": 689,
    "start_time": "2024-09-19T18:52:40.677Z"
   },
   {
    "duration": 1401,
    "start_time": "2024-09-19T18:52:41.368Z"
   },
   {
    "duration": 4,
    "start_time": "2024-09-19T18:52:42.772Z"
   },
   {
    "duration": 6,
    "start_time": "2024-09-19T18:52:42.778Z"
   },
   {
    "duration": 3,
    "start_time": "2024-09-19T18:52:42.787Z"
   },
   {
    "duration": 4,
    "start_time": "2024-09-19T18:52:43.254Z"
   },
   {
    "duration": 132,
    "start_time": "2024-09-19T18:52:43.823Z"
   },
   {
    "duration": 174,
    "start_time": "2024-09-19T18:52:45.407Z"
   },
   {
    "duration": 103,
    "start_time": "2024-09-19T18:52:47.013Z"
   },
   {
    "duration": 130,
    "start_time": "2024-09-19T18:52:47.667Z"
   },
   {
    "duration": 16,
    "start_time": "2024-09-19T18:52:48.187Z"
   },
   {
    "duration": 12,
    "start_time": "2024-09-19T18:52:48.751Z"
   },
   {
    "duration": 4,
    "start_time": "2024-09-19T18:52:49.345Z"
   },
   {
    "duration": 853,
    "start_time": "2024-09-19T18:52:51.002Z"
   },
   {
    "duration": 141,
    "start_time": "2024-09-19T18:52:51.857Z"
   },
   {
    "duration": 188,
    "start_time": "2024-09-19T18:52:52.139Z"
   },
   {
    "duration": 25,
    "start_time": "2024-09-19T18:52:52.696Z"
   },
   {
    "duration": 10,
    "start_time": "2024-09-19T18:52:53.264Z"
   },
   {
    "duration": 4,
    "start_time": "2024-09-19T18:52:53.804Z"
   },
   {
    "duration": 726,
    "start_time": "2024-09-19T18:53:08.093Z"
   },
   {
    "duration": 1232,
    "start_time": "2024-09-19T18:53:08.831Z"
   },
   {
    "duration": 532,
    "start_time": "2024-09-19T18:53:10.065Z"
   },
   {
    "duration": 700,
    "start_time": "2024-09-19T18:53:10.599Z"
   },
   {
    "duration": 75,
    "start_time": "2024-09-19T18:54:38.919Z"
   },
   {
    "duration": 8,
    "start_time": "2024-09-19T18:55:14.122Z"
   },
   {
    "duration": 427,
    "start_time": "2024-09-19T19:04:07.369Z"
   },
   {
    "duration": 222,
    "start_time": "2024-09-19T19:05:42.458Z"
   },
   {
    "duration": 68,
    "start_time": "2024-09-19T19:06:35.764Z"
   },
   {
    "duration": 657,
    "start_time": "2024-09-19T19:14:06.102Z"
   },
   {
    "duration": 1522,
    "start_time": "2024-09-19T19:15:02.658Z"
   },
   {
    "duration": 7,
    "start_time": "2024-09-19T19:16:17.107Z"
   },
   {
    "duration": 1699,
    "start_time": "2024-09-19T19:17:31.534Z"
   },
   {
    "duration": 8,
    "start_time": "2024-09-19T19:17:54.204Z"
   },
   {
    "duration": 3,
    "start_time": "2024-09-19T19:25:35.227Z"
   },
   {
    "duration": 442,
    "start_time": "2024-09-19T19:25:58.028Z"
   },
   {
    "duration": 263,
    "start_time": "2024-09-19T19:31:09.934Z"
   },
   {
    "duration": 260,
    "start_time": "2024-09-19T19:31:49.520Z"
   },
   {
    "duration": 7,
    "start_time": "2024-09-19T19:37:20.191Z"
   },
   {
    "duration": 5,
    "start_time": "2024-09-19T19:37:54.146Z"
   },
   {
    "duration": 4,
    "start_time": "2024-09-19T19:45:37.045Z"
   },
   {
    "duration": 251,
    "start_time": "2024-09-19T19:46:23.122Z"
   },
   {
    "duration": 232,
    "start_time": "2024-09-19T19:46:47.085Z"
   },
   {
    "duration": 248,
    "start_time": "2024-09-19T19:47:42.090Z"
   },
   {
    "duration": 267,
    "start_time": "2024-09-19T19:48:17.993Z"
   },
   {
    "duration": 266,
    "start_time": "2024-09-19T19:49:29.821Z"
   },
   {
    "duration": 10,
    "start_time": "2024-09-19T19:51:52.921Z"
   },
   {
    "duration": 238,
    "start_time": "2024-09-19T19:54:14.497Z"
   },
   {
    "duration": 17,
    "start_time": "2024-09-19T19:58:45.929Z"
   },
   {
    "duration": 12,
    "start_time": "2024-09-19T19:59:21.386Z"
   },
   {
    "duration": 6,
    "start_time": "2024-09-19T20:00:48.016Z"
   },
   {
    "duration": 8,
    "start_time": "2024-09-19T20:04:01.669Z"
   },
   {
    "duration": 880,
    "start_time": "2024-09-19T20:43:01.660Z"
   },
   {
    "duration": 891,
    "start_time": "2024-09-19T20:43:02.542Z"
   },
   {
    "duration": 21,
    "start_time": "2024-09-19T20:43:03.435Z"
   },
   {
    "duration": 13,
    "start_time": "2024-09-19T20:43:03.459Z"
   },
   {
    "duration": 11,
    "start_time": "2024-09-19T20:43:03.474Z"
   },
   {
    "duration": 11,
    "start_time": "2024-09-19T20:43:03.487Z"
   },
   {
    "duration": 28,
    "start_time": "2024-09-19T20:43:03.530Z"
   },
   {
    "duration": 34,
    "start_time": "2024-09-19T20:43:03.560Z"
   },
   {
    "duration": 11,
    "start_time": "2024-09-19T20:43:03.596Z"
   },
   {
    "duration": 10,
    "start_time": "2024-09-19T20:43:03.630Z"
   },
   {
    "duration": 60,
    "start_time": "2024-09-19T20:43:03.642Z"
   },
   {
    "duration": 100,
    "start_time": "2024-09-19T20:43:03.703Z"
   },
   {
    "duration": 50,
    "start_time": "2024-09-19T20:43:03.804Z"
   },
   {
    "duration": 12,
    "start_time": "2024-09-19T20:43:03.855Z"
   },
   {
    "duration": 4,
    "start_time": "2024-09-19T20:43:03.869Z"
   },
   {
    "duration": 5,
    "start_time": "2024-09-19T20:43:03.875Z"
   },
   {
    "duration": 4,
    "start_time": "2024-09-19T20:43:03.882Z"
   },
   {
    "duration": 48,
    "start_time": "2024-09-19T20:43:03.888Z"
   },
   {
    "duration": 11,
    "start_time": "2024-09-19T20:43:03.938Z"
   },
   {
    "duration": 10,
    "start_time": "2024-09-19T20:43:03.951Z"
   },
   {
    "duration": 3,
    "start_time": "2024-09-19T20:43:03.963Z"
   },
   {
    "duration": 16,
    "start_time": "2024-09-19T20:43:03.968Z"
   },
   {
    "duration": 4,
    "start_time": "2024-09-19T20:43:03.986Z"
   },
   {
    "duration": 4,
    "start_time": "2024-09-19T20:43:03.992Z"
   },
   {
    "duration": 38,
    "start_time": "2024-09-19T20:43:03.997Z"
   },
   {
    "duration": 5,
    "start_time": "2024-09-19T20:43:04.036Z"
   },
   {
    "duration": 7,
    "start_time": "2024-09-19T20:43:04.043Z"
   },
   {
    "duration": 5,
    "start_time": "2024-09-19T20:43:04.055Z"
   },
   {
    "duration": 4,
    "start_time": "2024-09-19T20:43:04.062Z"
   },
   {
    "duration": 5,
    "start_time": "2024-09-19T20:43:04.067Z"
   },
   {
    "duration": 5,
    "start_time": "2024-09-19T20:43:04.073Z"
   },
   {
    "duration": 53,
    "start_time": "2024-09-19T20:43:04.079Z"
   },
   {
    "duration": 9,
    "start_time": "2024-09-19T20:43:04.134Z"
   },
   {
    "duration": 5,
    "start_time": "2024-09-19T20:43:04.144Z"
   },
   {
    "duration": 806,
    "start_time": "2024-09-19T20:43:04.151Z"
   },
   {
    "duration": 5,
    "start_time": "2024-09-19T20:43:04.959Z"
   },
   {
    "duration": 326,
    "start_time": "2024-09-19T20:43:04.966Z"
   },
   {
    "duration": 293,
    "start_time": "2024-09-19T20:43:05.294Z"
   },
   {
    "duration": 131,
    "start_time": "2024-09-19T20:43:05.590Z"
   },
   {
    "duration": 91,
    "start_time": "2024-09-19T20:43:05.723Z"
   },
   {
    "duration": 67,
    "start_time": "2024-09-19T20:43:05.817Z"
   },
   {
    "duration": 54,
    "start_time": "2024-09-19T20:43:05.886Z"
   },
   {
    "duration": 47,
    "start_time": "2024-09-19T20:43:05.942Z"
   },
   {
    "duration": 44,
    "start_time": "2024-09-19T20:43:05.991Z"
   },
   {
    "duration": 45,
    "start_time": "2024-09-19T20:43:06.038Z"
   },
   {
    "duration": 9,
    "start_time": "2024-09-19T20:43:06.085Z"
   },
   {
    "duration": 9,
    "start_time": "2024-09-19T20:43:06.095Z"
   },
   {
    "duration": 34,
    "start_time": "2024-09-19T20:43:06.106Z"
   },
   {
    "duration": 8,
    "start_time": "2024-09-19T20:43:06.142Z"
   },
   {
    "duration": 7,
    "start_time": "2024-09-19T20:43:06.152Z"
   },
   {
    "duration": 4,
    "start_time": "2024-09-19T20:43:06.161Z"
   },
   {
    "duration": 9,
    "start_time": "2024-09-19T20:43:06.167Z"
   },
   {
    "duration": 17,
    "start_time": "2024-09-19T20:43:06.178Z"
   },
   {
    "duration": 7,
    "start_time": "2024-09-19T20:43:06.231Z"
   },
   {
    "duration": 925,
    "start_time": "2024-09-19T20:43:06.240Z"
   },
   {
    "duration": 4,
    "start_time": "2024-09-19T20:43:07.167Z"
   },
   {
    "duration": 17,
    "start_time": "2024-09-19T20:43:07.173Z"
   },
   {
    "duration": 40,
    "start_time": "2024-09-19T20:43:07.192Z"
   },
   {
    "duration": 15,
    "start_time": "2024-09-19T20:43:07.233Z"
   },
   {
    "duration": 14,
    "start_time": "2024-09-19T20:43:07.250Z"
   },
   {
    "duration": 10,
    "start_time": "2024-09-19T20:43:07.266Z"
   },
   {
    "duration": 4,
    "start_time": "2024-09-19T20:43:07.278Z"
   },
   {
    "duration": 5,
    "start_time": "2024-09-19T20:43:07.284Z"
   },
   {
    "duration": 51,
    "start_time": "2024-09-19T20:43:07.290Z"
   },
   {
    "duration": 8,
    "start_time": "2024-09-19T20:43:07.343Z"
   },
   {
    "duration": 8,
    "start_time": "2024-09-19T20:43:07.353Z"
   },
   {
    "duration": 3,
    "start_time": "2024-09-19T20:43:07.363Z"
   },
   {
    "duration": 27,
    "start_time": "2024-09-19T20:43:07.368Z"
   },
   {
    "duration": 48,
    "start_time": "2024-09-19T20:43:07.397Z"
   },
   {
    "duration": 5,
    "start_time": "2024-09-19T20:43:07.447Z"
   },
   {
    "duration": 4,
    "start_time": "2024-09-19T20:43:07.454Z"
   },
   {
    "duration": 5,
    "start_time": "2024-09-19T20:43:07.459Z"
   },
   {
    "duration": 12,
    "start_time": "2024-09-19T20:43:07.465Z"
   },
   {
    "duration": 4,
    "start_time": "2024-09-19T20:43:07.478Z"
   },
   {
    "duration": 263,
    "start_time": "2024-09-19T20:43:07.483Z"
   },
   {
    "duration": 10,
    "start_time": "2024-09-19T20:43:07.748Z"
   },
   {
    "duration": 25,
    "start_time": "2024-09-19T20:43:07.759Z"
   },
   {
    "duration": 8,
    "start_time": "2024-09-19T20:43:07.786Z"
   },
   {
    "duration": 39,
    "start_time": "2024-09-19T20:43:07.796Z"
   },
   {
    "duration": 18,
    "start_time": "2024-09-19T20:43:07.837Z"
   },
   {
    "duration": 341,
    "start_time": "2024-09-19T20:43:07.857Z"
   },
   {
    "duration": 117,
    "start_time": "2024-09-19T20:43:08.206Z"
   },
   {
    "duration": 336,
    "start_time": "2024-09-19T20:43:08.325Z"
   },
   {
    "duration": 107,
    "start_time": "2024-09-19T20:43:08.663Z"
   },
   {
    "duration": 700,
    "start_time": "2024-09-19T20:43:08.772Z"
   },
   {
    "duration": 1361,
    "start_time": "2024-09-19T20:43:09.474Z"
   },
   {
    "duration": 4,
    "start_time": "2024-09-19T20:43:10.837Z"
   },
   {
    "duration": 6,
    "start_time": "2024-09-19T20:43:10.843Z"
   },
   {
    "duration": 3,
    "start_time": "2024-09-19T20:43:10.851Z"
   },
   {
    "duration": 4,
    "start_time": "2024-09-19T20:43:10.856Z"
   },
   {
    "duration": 160,
    "start_time": "2024-09-19T20:43:10.862Z"
   },
   {
    "duration": 184,
    "start_time": "2024-09-19T20:43:11.024Z"
   },
   {
    "duration": 105,
    "start_time": "2024-09-19T20:43:11.210Z"
   },
   {
    "duration": 139,
    "start_time": "2024-09-19T20:43:11.317Z"
   },
   {
    "duration": 14,
    "start_time": "2024-09-19T20:43:11.458Z"
   },
   {
    "duration": 9,
    "start_time": "2024-09-19T20:43:11.473Z"
   },
   {
    "duration": 4,
    "start_time": "2024-09-19T20:43:11.484Z"
   },
   {
    "duration": 800,
    "start_time": "2024-09-19T20:43:11.489Z"
   },
   {
    "duration": 142,
    "start_time": "2024-09-19T20:43:12.290Z"
   },
   {
    "duration": 186,
    "start_time": "2024-09-19T20:43:12.434Z"
   },
   {
    "duration": 36,
    "start_time": "2024-09-19T20:43:12.622Z"
   },
   {
    "duration": 9,
    "start_time": "2024-09-19T20:43:12.660Z"
   },
   {
    "duration": 4,
    "start_time": "2024-09-19T20:43:12.671Z"
   },
   {
    "duration": 742,
    "start_time": "2024-09-19T20:43:12.677Z"
   },
   {
    "duration": 1184,
    "start_time": "2024-09-19T20:43:13.421Z"
   },
   {
    "duration": 526,
    "start_time": "2024-09-19T20:43:14.606Z"
   },
   {
    "duration": 699,
    "start_time": "2024-09-19T20:43:15.134Z"
   },
   {
    "duration": 7,
    "start_time": "2024-09-19T20:43:15.835Z"
   },
   {
    "duration": 227,
    "start_time": "2024-09-19T20:43:15.844Z"
   },
   {
    "duration": 1653,
    "start_time": "2024-09-19T20:43:16.073Z"
   },
   {
    "duration": 11,
    "start_time": "2024-09-19T20:43:17.727Z"
   },
   {
    "duration": 422,
    "start_time": "2024-09-19T20:43:17.740Z"
   },
   {
    "duration": 277,
    "start_time": "2024-09-19T20:43:18.164Z"
   },
   {
    "duration": 9,
    "start_time": "2024-09-19T20:43:18.444Z"
   },
   {
    "duration": 245,
    "start_time": "2024-09-19T20:43:18.455Z"
   },
   {
    "duration": 3,
    "start_time": "2024-09-19T20:43:59.529Z"
   },
   {
    "duration": 3,
    "start_time": "2024-09-19T20:44:12.250Z"
   },
   {
    "duration": 829,
    "start_time": "2024-09-19T20:44:20.318Z"
   },
   {
    "duration": 14,
    "start_time": "2024-09-19T20:44:32.579Z"
   },
   {
    "duration": 15,
    "start_time": "2024-09-19T20:44:33.417Z"
   },
   {
    "duration": 11,
    "start_time": "2024-09-19T20:44:34.010Z"
   },
   {
    "duration": 11,
    "start_time": "2024-09-19T20:44:34.539Z"
   },
   {
    "duration": 25,
    "start_time": "2024-09-19T20:44:35.045Z"
   },
   {
    "duration": 30,
    "start_time": "2024-09-19T20:44:38.613Z"
   },
   {
    "duration": 12,
    "start_time": "2024-09-19T20:44:39.475Z"
   },
   {
    "duration": 10,
    "start_time": "2024-09-19T20:44:39.938Z"
   },
   {
    "duration": 45,
    "start_time": "2024-09-19T20:44:41.233Z"
   },
   {
    "duration": 79,
    "start_time": "2024-09-19T20:44:41.599Z"
   },
   {
    "duration": 37,
    "start_time": "2024-09-19T20:44:41.985Z"
   },
   {
    "duration": 15,
    "start_time": "2024-09-19T20:44:43.479Z"
   },
   {
    "duration": 6,
    "start_time": "2024-09-19T20:44:44.179Z"
   },
   {
    "duration": 6,
    "start_time": "2024-09-19T20:44:45.229Z"
   },
   {
    "duration": 5,
    "start_time": "2024-09-19T20:44:46.118Z"
   },
   {
    "duration": 21,
    "start_time": "2024-09-19T20:44:50.069Z"
   },
   {
    "duration": 14,
    "start_time": "2024-09-19T20:44:52.737Z"
   },
   {
    "duration": 11,
    "start_time": "2024-09-19T20:44:53.759Z"
   },
   {
    "duration": 3,
    "start_time": "2024-09-19T20:44:55.867Z"
   },
   {
    "duration": 20,
    "start_time": "2024-09-19T20:44:58.310Z"
   },
   {
    "duration": 4,
    "start_time": "2024-09-19T20:45:00.323Z"
   },
   {
    "duration": 5,
    "start_time": "2024-09-19T20:45:00.848Z"
   },
   {
    "duration": 5,
    "start_time": "2024-09-19T20:45:01.511Z"
   },
   {
    "duration": 5,
    "start_time": "2024-09-19T20:45:02.250Z"
   },
   {
    "duration": 10,
    "start_time": "2024-09-19T20:45:03.086Z"
   },
   {
    "duration": 5,
    "start_time": "2024-09-19T20:45:03.780Z"
   },
   {
    "duration": 5,
    "start_time": "2024-09-19T20:45:05.799Z"
   },
   {
    "duration": 4,
    "start_time": "2024-09-19T20:45:06.524Z"
   },
   {
    "duration": 5,
    "start_time": "2024-09-19T20:45:07.192Z"
   },
   {
    "duration": 6,
    "start_time": "2024-09-19T20:45:11.558Z"
   },
   {
    "duration": 7,
    "start_time": "2024-09-19T20:45:12.316Z"
   },
   {
    "duration": 5,
    "start_time": "2024-09-19T20:45:13.045Z"
   },
   {
    "duration": 704,
    "start_time": "2024-09-19T20:45:15.200Z"
   },
   {
    "duration": 5,
    "start_time": "2024-09-19T20:45:15.906Z"
   },
   {
    "duration": 265,
    "start_time": "2024-09-19T20:45:24.944Z"
   },
   {
    "duration": 247,
    "start_time": "2024-09-19T20:45:26.318Z"
   },
   {
    "duration": 78,
    "start_time": "2024-09-19T20:45:27.446Z"
   },
   {
    "duration": 81,
    "start_time": "2024-09-19T20:45:28.238Z"
   },
   {
    "duration": 63,
    "start_time": "2024-09-19T20:45:29.002Z"
   },
   {
    "duration": 45,
    "start_time": "2024-09-19T20:45:29.725Z"
   },
   {
    "duration": 48,
    "start_time": "2024-09-19T20:45:30.471Z"
   },
   {
    "duration": 28,
    "start_time": "2024-09-19T20:45:31.187Z"
   },
   {
    "duration": 45,
    "start_time": "2024-09-19T20:45:31.984Z"
   },
   {
    "duration": 9,
    "start_time": "2024-09-19T20:45:41.789Z"
   },
   {
    "duration": 9,
    "start_time": "2024-09-19T20:45:42.589Z"
   },
   {
    "duration": 10,
    "start_time": "2024-09-19T20:45:44.021Z"
   },
   {
    "duration": 10,
    "start_time": "2024-09-19T20:45:45.561Z"
   },
   {
    "duration": 9,
    "start_time": "2024-09-19T20:45:46.934Z"
   },
   {
    "duration": 6,
    "start_time": "2024-09-19T20:45:48.219Z"
   },
   {
    "duration": 10,
    "start_time": "2024-09-19T20:45:48.760Z"
   },
   {
    "duration": 16,
    "start_time": "2024-09-19T20:45:51.397Z"
   },
   {
    "duration": 7,
    "start_time": "2024-09-19T20:45:55.510Z"
   },
   {
    "duration": 851,
    "start_time": "2024-09-19T20:46:07.776Z"
   },
   {
    "duration": 5,
    "start_time": "2024-09-19T20:46:08.632Z"
   },
   {
    "duration": 15,
    "start_time": "2024-09-19T20:46:13.654Z"
   },
   {
    "duration": 18,
    "start_time": "2024-09-19T20:46:14.362Z"
   },
   {
    "duration": 14,
    "start_time": "2024-09-19T20:46:15.021Z"
   },
   {
    "duration": 14,
    "start_time": "2024-09-19T20:46:15.674Z"
   },
   {
    "duration": 11,
    "start_time": "2024-09-19T20:46:18.300Z"
   },
   {
    "duration": 6,
    "start_time": "2024-09-19T20:46:19.042Z"
   },
   {
    "duration": 6,
    "start_time": "2024-09-19T20:46:21.910Z"
   },
   {
    "duration": 10,
    "start_time": "2024-09-19T20:46:22.708Z"
   },
   {
    "duration": 11,
    "start_time": "2024-09-19T20:46:23.429Z"
   },
   {
    "duration": 8,
    "start_time": "2024-09-19T20:46:24.267Z"
   },
   {
    "duration": 4,
    "start_time": "2024-09-19T20:46:26.781Z"
   },
   {
    "duration": 26,
    "start_time": "2024-09-19T20:46:28.172Z"
   },
   {
    "duration": 16,
    "start_time": "2024-09-19T20:46:28.951Z"
   },
   {
    "duration": 7,
    "start_time": "2024-09-19T20:46:32.958Z"
   },
   {
    "duration": 4,
    "start_time": "2024-09-19T20:46:33.593Z"
   },
   {
    "duration": 4,
    "start_time": "2024-09-19T20:46:34.359Z"
   },
   {
    "duration": 12,
    "start_time": "2024-09-19T20:46:37.810Z"
   },
   {
    "duration": 4,
    "start_time": "2024-09-19T20:46:38.676Z"
   },
   {
    "duration": 197,
    "start_time": "2024-09-19T20:46:39.484Z"
   },
   {
    "duration": 9,
    "start_time": "2024-09-19T20:46:42.507Z"
   },
   {
    "duration": 23,
    "start_time": "2024-09-19T20:46:44.449Z"
   },
   {
    "duration": 9,
    "start_time": "2024-09-19T20:46:46.951Z"
   },
   {
    "duration": 9,
    "start_time": "2024-09-19T20:46:47.566Z"
   },
   {
    "duration": 20,
    "start_time": "2024-09-19T20:46:48.224Z"
   },
   {
    "duration": 263,
    "start_time": "2024-09-19T20:46:49.018Z"
   },
   {
    "duration": 115,
    "start_time": "2024-09-19T20:46:51.900Z"
   },
   {
    "duration": 401,
    "start_time": "2024-09-19T20:46:52.670Z"
   },
   {
    "duration": 80,
    "start_time": "2024-09-19T20:47:07.268Z"
   },
   {
    "duration": 612,
    "start_time": "2024-09-19T20:47:11.122Z"
   },
   {
    "duration": 1177,
    "start_time": "2024-09-19T20:47:11.798Z"
   },
   {
    "duration": 4,
    "start_time": "2024-09-19T20:47:12.978Z"
   },
   {
    "duration": 7,
    "start_time": "2024-09-19T20:47:13.088Z"
   },
   {
    "duration": 4,
    "start_time": "2024-09-19T20:47:29.862Z"
   },
   {
    "duration": 5,
    "start_time": "2024-09-19T20:47:30.694Z"
   },
   {
    "duration": 131,
    "start_time": "2024-09-19T20:47:32.240Z"
   },
   {
    "duration": 160,
    "start_time": "2024-09-19T20:47:35.969Z"
   },
   {
    "duration": 66,
    "start_time": "2024-09-19T20:47:54.686Z"
   },
   {
    "duration": 93,
    "start_time": "2024-09-19T20:47:56.020Z"
   },
   {
    "duration": 15,
    "start_time": "2024-09-19T20:47:56.894Z"
   },
   {
    "duration": 10,
    "start_time": "2024-09-19T20:47:57.739Z"
   },
   {
    "duration": 5,
    "start_time": "2024-09-19T20:47:58.705Z"
   },
   {
    "duration": 157,
    "start_time": "2024-09-19T20:48:07.382Z"
   },
   {
    "duration": 0,
    "start_time": "2024-09-19T20:48:07.542Z"
   },
   {
    "duration": 15,
    "start_time": "2024-09-19T20:48:57.922Z"
   },
   {
    "duration": 12,
    "start_time": "2024-09-19T20:49:08.039Z"
   },
   {
    "duration": 958,
    "start_time": "2024-09-19T20:49:28.030Z"
   },
   {
    "duration": 804,
    "start_time": "2024-09-19T20:49:42.308Z"
   },
   {
    "duration": 1031,
    "start_time": "2024-09-19T20:49:43.114Z"
   },
   {
    "duration": 18,
    "start_time": "2024-09-19T20:49:44.147Z"
   },
   {
    "duration": 14,
    "start_time": "2024-09-19T20:49:44.167Z"
   },
   {
    "duration": 11,
    "start_time": "2024-09-19T20:49:44.182Z"
   },
   {
    "duration": 36,
    "start_time": "2024-09-19T20:49:44.195Z"
   },
   {
    "duration": 37,
    "start_time": "2024-09-19T20:49:44.233Z"
   },
   {
    "duration": 40,
    "start_time": "2024-09-19T20:49:44.272Z"
   },
   {
    "duration": 26,
    "start_time": "2024-09-19T20:49:44.314Z"
   },
   {
    "duration": 8,
    "start_time": "2024-09-19T20:49:44.343Z"
   },
   {
    "duration": 54,
    "start_time": "2024-09-19T20:49:44.353Z"
   },
   {
    "duration": 109,
    "start_time": "2024-09-19T20:49:44.409Z"
   },
   {
    "duration": 47,
    "start_time": "2024-09-19T20:49:44.520Z"
   },
   {
    "duration": 13,
    "start_time": "2024-09-19T20:49:44.569Z"
   },
   {
    "duration": 5,
    "start_time": "2024-09-19T20:49:44.583Z"
   },
   {
    "duration": 6,
    "start_time": "2024-09-19T20:49:44.589Z"
   },
   {
    "duration": 4,
    "start_time": "2024-09-19T20:49:44.598Z"
   },
   {
    "duration": 21,
    "start_time": "2024-09-19T20:49:44.632Z"
   },
   {
    "duration": 11,
    "start_time": "2024-09-19T20:49:44.655Z"
   },
   {
    "duration": 10,
    "start_time": "2024-09-19T20:49:44.667Z"
   },
   {
    "duration": 4,
    "start_time": "2024-09-19T20:49:44.678Z"
   },
   {
    "duration": 17,
    "start_time": "2024-09-19T20:49:44.684Z"
   },
   {
    "duration": 30,
    "start_time": "2024-09-19T20:49:44.703Z"
   },
   {
    "duration": 5,
    "start_time": "2024-09-19T20:49:44.734Z"
   },
   {
    "duration": 5,
    "start_time": "2024-09-19T20:49:44.740Z"
   },
   {
    "duration": 5,
    "start_time": "2024-09-19T20:49:44.746Z"
   },
   {
    "duration": 7,
    "start_time": "2024-09-19T20:49:44.753Z"
   },
   {
    "duration": 4,
    "start_time": "2024-09-19T20:49:44.766Z"
   },
   {
    "duration": 6,
    "start_time": "2024-09-19T20:49:44.772Z"
   },
   {
    "duration": 49,
    "start_time": "2024-09-19T20:49:44.782Z"
   },
   {
    "duration": 13,
    "start_time": "2024-09-19T20:49:44.833Z"
   },
   {
    "duration": 5,
    "start_time": "2024-09-19T20:49:44.848Z"
   },
   {
    "duration": 7,
    "start_time": "2024-09-19T20:49:44.854Z"
   },
   {
    "duration": 4,
    "start_time": "2024-09-19T20:49:44.863Z"
   },
   {
    "duration": 797,
    "start_time": "2024-09-19T20:49:44.869Z"
   },
   {
    "duration": 5,
    "start_time": "2024-09-19T20:49:45.669Z"
   },
   {
    "duration": 304,
    "start_time": "2024-09-19T20:49:45.676Z"
   },
   {
    "duration": 254,
    "start_time": "2024-09-19T20:49:45.982Z"
   },
   {
    "duration": 92,
    "start_time": "2024-09-19T20:49:46.239Z"
   },
   {
    "duration": 88,
    "start_time": "2024-09-19T20:49:46.333Z"
   },
   {
    "duration": 54,
    "start_time": "2024-09-19T20:49:46.431Z"
   },
   {
    "duration": 57,
    "start_time": "2024-09-19T20:49:46.487Z"
   },
   {
    "duration": 48,
    "start_time": "2024-09-19T20:49:46.546Z"
   },
   {
    "duration": 39,
    "start_time": "2024-09-19T20:49:46.596Z"
   },
   {
    "duration": 44,
    "start_time": "2024-09-19T20:49:46.636Z"
   },
   {
    "duration": 8,
    "start_time": "2024-09-19T20:49:46.683Z"
   },
   {
    "duration": 8,
    "start_time": "2024-09-19T20:49:46.692Z"
   },
   {
    "duration": 31,
    "start_time": "2024-09-19T20:49:46.701Z"
   },
   {
    "duration": 9,
    "start_time": "2024-09-19T20:49:46.733Z"
   },
   {
    "duration": 6,
    "start_time": "2024-09-19T20:49:46.744Z"
   },
   {
    "duration": 5,
    "start_time": "2024-09-19T20:49:46.751Z"
   },
   {
    "duration": 8,
    "start_time": "2024-09-19T20:49:46.758Z"
   },
   {
    "duration": 16,
    "start_time": "2024-09-19T20:49:46.768Z"
   },
   {
    "duration": 6,
    "start_time": "2024-09-19T20:49:46.786Z"
   },
   {
    "duration": 939,
    "start_time": "2024-09-19T20:49:46.794Z"
   },
   {
    "duration": 9,
    "start_time": "2024-09-19T20:49:47.735Z"
   },
   {
    "duration": 16,
    "start_time": "2024-09-19T20:49:47.745Z"
   },
   {
    "duration": 18,
    "start_time": "2024-09-19T20:49:47.763Z"
   },
   {
    "duration": 14,
    "start_time": "2024-09-19T20:49:47.783Z"
   },
   {
    "duration": 42,
    "start_time": "2024-09-19T20:49:47.799Z"
   },
   {
    "duration": 11,
    "start_time": "2024-09-19T20:49:47.843Z"
   },
   {
    "duration": 5,
    "start_time": "2024-09-19T20:49:47.856Z"
   },
   {
    "duration": 5,
    "start_time": "2024-09-19T20:49:47.862Z"
   },
   {
    "duration": 10,
    "start_time": "2024-09-19T20:49:47.869Z"
   },
   {
    "duration": 9,
    "start_time": "2024-09-19T20:49:47.881Z"
   },
   {
    "duration": 46,
    "start_time": "2024-09-19T20:49:47.891Z"
   },
   {
    "duration": 5,
    "start_time": "2024-09-19T20:49:47.939Z"
   },
   {
    "duration": 34,
    "start_time": "2024-09-19T20:49:47.946Z"
   },
   {
    "duration": 24,
    "start_time": "2024-09-19T20:49:47.982Z"
   },
   {
    "duration": 28,
    "start_time": "2024-09-19T20:49:48.007Z"
   },
   {
    "duration": 3,
    "start_time": "2024-09-19T20:49:48.037Z"
   },
   {
    "duration": 4,
    "start_time": "2024-09-19T20:49:48.042Z"
   },
   {
    "duration": 13,
    "start_time": "2024-09-19T20:49:48.047Z"
   },
   {
    "duration": 4,
    "start_time": "2024-09-19T20:49:48.061Z"
   },
   {
    "duration": 244,
    "start_time": "2024-09-19T20:49:48.067Z"
   },
   {
    "duration": 8,
    "start_time": "2024-09-19T20:49:48.313Z"
   },
   {
    "duration": 23,
    "start_time": "2024-09-19T20:49:48.330Z"
   },
   {
    "duration": 10,
    "start_time": "2024-09-19T20:49:48.355Z"
   },
   {
    "duration": 8,
    "start_time": "2024-09-19T20:49:48.366Z"
   },
   {
    "duration": 17,
    "start_time": "2024-09-19T20:49:48.376Z"
   },
   {
    "duration": 374,
    "start_time": "2024-09-19T20:49:48.394Z"
   },
   {
    "duration": 117,
    "start_time": "2024-09-19T20:49:48.775Z"
   },
   {
    "duration": 305,
    "start_time": "2024-09-19T20:49:48.894Z"
   },
   {
    "duration": 100,
    "start_time": "2024-09-19T20:49:49.202Z"
   },
   {
    "duration": 699,
    "start_time": "2024-09-19T20:49:49.303Z"
   },
   {
    "duration": 1338,
    "start_time": "2024-09-19T20:49:50.004Z"
   },
   {
    "duration": 4,
    "start_time": "2024-09-19T20:49:51.344Z"
   },
   {
    "duration": 6,
    "start_time": "2024-09-19T20:49:51.350Z"
   },
   {
    "duration": 4,
    "start_time": "2024-09-19T20:49:51.358Z"
   },
   {
    "duration": 3,
    "start_time": "2024-09-19T20:49:51.364Z"
   },
   {
    "duration": 164,
    "start_time": "2024-09-19T20:49:51.369Z"
   },
   {
    "duration": 192,
    "start_time": "2024-09-19T20:49:51.534Z"
   },
   {
    "duration": 111,
    "start_time": "2024-09-19T20:49:51.733Z"
   },
   {
    "duration": 133,
    "start_time": "2024-09-19T20:49:51.846Z"
   },
   {
    "duration": 16,
    "start_time": "2024-09-19T20:49:51.981Z"
   },
   {
    "duration": 10,
    "start_time": "2024-09-19T20:49:51.998Z"
   },
   {
    "duration": 24,
    "start_time": "2024-09-19T20:49:52.010Z"
   },
   {
    "duration": 799,
    "start_time": "2024-09-19T20:49:52.035Z"
   },
   {
    "duration": 135,
    "start_time": "2024-09-19T20:49:52.836Z"
   },
   {
    "duration": 184,
    "start_time": "2024-09-19T20:49:52.973Z"
   },
   {
    "duration": 30,
    "start_time": "2024-09-19T20:49:53.159Z"
   },
   {
    "duration": 9,
    "start_time": "2024-09-19T20:49:53.191Z"
   },
   {
    "duration": 3,
    "start_time": "2024-09-19T20:49:53.203Z"
   },
   {
    "duration": 703,
    "start_time": "2024-09-19T20:49:53.232Z"
   },
   {
    "duration": 1171,
    "start_time": "2024-09-19T20:49:53.936Z"
   },
   {
    "duration": 516,
    "start_time": "2024-09-19T20:49:55.109Z"
   },
   {
    "duration": 684,
    "start_time": "2024-09-19T20:49:55.627Z"
   },
   {
    "duration": 6,
    "start_time": "2024-09-19T20:49:56.313Z"
   },
   {
    "duration": 220,
    "start_time": "2024-09-19T20:49:56.321Z"
   },
   {
    "duration": 1644,
    "start_time": "2024-09-19T20:49:56.543Z"
   },
   {
    "duration": 8,
    "start_time": "2024-09-19T20:49:58.188Z"
   },
   {
    "duration": 409,
    "start_time": "2024-09-19T20:49:58.197Z"
   },
   {
    "duration": 255,
    "start_time": "2024-09-19T20:49:58.608Z"
   },
   {
    "duration": 7,
    "start_time": "2024-09-19T20:49:58.865Z"
   },
   {
    "duration": 248,
    "start_time": "2024-09-19T20:49:58.874Z"
   }
  ],
  "colab": {
   "provenance": []
  },
  "kernelspec": {
   "display_name": "Python 3 (ipykernel)",
   "language": "python",
   "name": "python3"
  },
  "language_info": {
   "codemirror_mode": {
    "name": "ipython",
    "version": 3
   },
   "file_extension": ".py",
   "mimetype": "text/x-python",
   "name": "python",
   "nbconvert_exporter": "python",
   "pygments_lexer": "ipython3",
   "version": "3.9.19"
  },
  "toc": {
   "base_numbering": 1,
   "nav_menu": {},
   "number_sections": true,
   "sideBar": true,
   "skip_h1_title": true,
   "title_cell": "Table of Contents",
   "title_sidebar": "Contents",
   "toc_cell": false,
   "toc_position": {},
   "toc_section_display": true,
   "toc_window_display": false
  },
  "vscode": {
   "interpreter": {
    "hash": "01a7be9ec63e704a62cefc5fe7a4756944464ee731be31632bdf42a4cb4688cf"
   }
  }
 },
 "nbformat": 4,
 "nbformat_minor": 5
}
